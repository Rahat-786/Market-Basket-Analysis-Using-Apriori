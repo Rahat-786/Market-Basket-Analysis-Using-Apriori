{
 "cells": [
  {
   "cell_type": "markdown",
   "id": "cb9cfc11",
   "metadata": {},
   "source": [
    "# Market Basket Analysis Using Apriori Algorithm"
   ]
  },
  {
   "cell_type": "markdown",
   "id": "311e9823",
   "metadata": {},
   "source": [
    "Importing necessary libraries"
   ]
  },
  {
   "cell_type": "code",
   "execution_count": 79,
   "id": "12f3798e",
   "metadata": {},
   "outputs": [
    {
     "name": "stdout",
     "output_type": "stream",
     "text": [
      "Requirement already satisfied: apyori in c:\\users\\user\\anaconda3\\lib\\site-packages (1.1.2)\n"
     ]
    }
   ],
   "source": [
    "!pip install apyori"
   ]
  },
  {
   "cell_type": "code",
   "execution_count": 80,
   "id": "0ed22321",
   "metadata": {},
   "outputs": [],
   "source": [
    "import numpy as np\n",
    "import pandas as pd\n",
    "import plotly.express as px\n",
    "import apyori\n",
    "from apyori import apriori"
   ]
  },
  {
   "cell_type": "markdown",
   "id": "85c82d5e",
   "metadata": {},
   "source": [
    "Loading the dataset"
   ]
  },
  {
   "cell_type": "code",
   "execution_count": 81,
   "id": "9a159c45",
   "metadata": {},
   "outputs": [
    {
     "data": {
      "text/html": [
       "<div>\n",
       "<style scoped>\n",
       "    .dataframe tbody tr th:only-of-type {\n",
       "        vertical-align: middle;\n",
       "    }\n",
       "\n",
       "    .dataframe tbody tr th {\n",
       "        vertical-align: top;\n",
       "    }\n",
       "\n",
       "    .dataframe thead th {\n",
       "        text-align: right;\n",
       "    }\n",
       "</style>\n",
       "<table border=\"1\" class=\"dataframe\">\n",
       "  <thead>\n",
       "    <tr style=\"text-align: right;\">\n",
       "      <th></th>\n",
       "      <th>Member_number</th>\n",
       "      <th>Date</th>\n",
       "      <th>itemDescription</th>\n",
       "    </tr>\n",
       "  </thead>\n",
       "  <tbody>\n",
       "    <tr>\n",
       "      <th>0</th>\n",
       "      <td>1808</td>\n",
       "      <td>21-07-2015</td>\n",
       "      <td>tropical fruit</td>\n",
       "    </tr>\n",
       "    <tr>\n",
       "      <th>1</th>\n",
       "      <td>2552</td>\n",
       "      <td>05-01-2015</td>\n",
       "      <td>whole milk</td>\n",
       "    </tr>\n",
       "    <tr>\n",
       "      <th>2</th>\n",
       "      <td>2300</td>\n",
       "      <td>19-09-2015</td>\n",
       "      <td>pip fruit</td>\n",
       "    </tr>\n",
       "    <tr>\n",
       "      <th>3</th>\n",
       "      <td>1187</td>\n",
       "      <td>12-12-2015</td>\n",
       "      <td>other vegetables</td>\n",
       "    </tr>\n",
       "    <tr>\n",
       "      <th>4</th>\n",
       "      <td>3037</td>\n",
       "      <td>01-02-2015</td>\n",
       "      <td>whole milk</td>\n",
       "    </tr>\n",
       "    <tr>\n",
       "      <th>5</th>\n",
       "      <td>4941</td>\n",
       "      <td>14-02-2015</td>\n",
       "      <td>rolls/buns</td>\n",
       "    </tr>\n",
       "    <tr>\n",
       "      <th>6</th>\n",
       "      <td>4501</td>\n",
       "      <td>08-05-2015</td>\n",
       "      <td>other vegetables</td>\n",
       "    </tr>\n",
       "    <tr>\n",
       "      <th>7</th>\n",
       "      <td>3803</td>\n",
       "      <td>23-12-2015</td>\n",
       "      <td>pot plants</td>\n",
       "    </tr>\n",
       "    <tr>\n",
       "      <th>8</th>\n",
       "      <td>2762</td>\n",
       "      <td>20-03-2015</td>\n",
       "      <td>whole milk</td>\n",
       "    </tr>\n",
       "    <tr>\n",
       "      <th>9</th>\n",
       "      <td>4119</td>\n",
       "      <td>12-02-2015</td>\n",
       "      <td>tropical fruit</td>\n",
       "    </tr>\n",
       "  </tbody>\n",
       "</table>\n",
       "</div>"
      ],
      "text/plain": [
       "   Member_number        Date   itemDescription\n",
       "0           1808  21-07-2015    tropical fruit\n",
       "1           2552  05-01-2015        whole milk\n",
       "2           2300  19-09-2015         pip fruit\n",
       "3           1187  12-12-2015  other vegetables\n",
       "4           3037  01-02-2015        whole milk\n",
       "5           4941  14-02-2015        rolls/buns\n",
       "6           4501  08-05-2015  other vegetables\n",
       "7           3803  23-12-2015        pot plants\n",
       "8           2762  20-03-2015        whole milk\n",
       "9           4119  12-02-2015    tropical fruit"
      ]
     },
     "execution_count": 81,
     "metadata": {},
     "output_type": "execute_result"
    }
   ],
   "source": [
    "df = pd.read_csv('Groceries_dataset.csv')\n",
    "df.head(10)"
   ]
  },
  {
   "cell_type": "markdown",
   "id": "d99c379d",
   "metadata": {},
   "source": [
    "Let's first see the top 10 selling products"
   ]
  },
  {
   "cell_type": "code",
   "execution_count": 82,
   "id": "a97c8681",
   "metadata": {},
   "outputs": [
    {
     "name": "stdout",
     "output_type": "stream",
     "text": [
      "Top 10 Frequent Sold Products\n"
     ]
    },
    {
     "data": {
      "application/vnd.plotly.v1+json": {
       "config": {
        "plotlyServerURL": "https://plot.ly"
       },
       "data": [
        {
         "alignmentgroup": "True",
         "hovertemplate": "x=%{x}<br>y=%{y}<extra></extra>",
         "legendgroup": "",
         "marker": {
          "color": "#636efa",
          "pattern": {
           "shape": ""
          }
         },
         "name": "",
         "offsetgroup": "",
         "orientation": "v",
         "showlegend": false,
         "textposition": "auto",
         "type": "bar",
         "x": [
          "whole milk",
          "other vegetables",
          "rolls/buns",
          "soda",
          "yogurt",
          "root vegetables",
          "tropical fruit",
          "bottled water",
          "sausage",
          "citrus fruit"
         ],
         "xaxis": "x",
         "y": [
          2502,
          1898,
          1716,
          1514,
          1334,
          1071,
          1032,
          933,
          924,
          812
         ],
         "yaxis": "y"
        }
       ],
       "layout": {
        "barmode": "relative",
        "legend": {
         "tracegroupgap": 0
        },
        "margin": {
         "t": 60
        },
        "template": {
         "data": {
          "bar": [
           {
            "error_x": {
             "color": "#2a3f5f"
            },
            "error_y": {
             "color": "#2a3f5f"
            },
            "marker": {
             "line": {
              "color": "#E5ECF6",
              "width": 0.5
             },
             "pattern": {
              "fillmode": "overlay",
              "size": 10,
              "solidity": 0.2
             }
            },
            "type": "bar"
           }
          ],
          "barpolar": [
           {
            "marker": {
             "line": {
              "color": "#E5ECF6",
              "width": 0.5
             },
             "pattern": {
              "fillmode": "overlay",
              "size": 10,
              "solidity": 0.2
             }
            },
            "type": "barpolar"
           }
          ],
          "carpet": [
           {
            "aaxis": {
             "endlinecolor": "#2a3f5f",
             "gridcolor": "white",
             "linecolor": "white",
             "minorgridcolor": "white",
             "startlinecolor": "#2a3f5f"
            },
            "baxis": {
             "endlinecolor": "#2a3f5f",
             "gridcolor": "white",
             "linecolor": "white",
             "minorgridcolor": "white",
             "startlinecolor": "#2a3f5f"
            },
            "type": "carpet"
           }
          ],
          "choropleth": [
           {
            "colorbar": {
             "outlinewidth": 0,
             "ticks": ""
            },
            "type": "choropleth"
           }
          ],
          "contour": [
           {
            "colorbar": {
             "outlinewidth": 0,
             "ticks": ""
            },
            "colorscale": [
             [
              0,
              "#0d0887"
             ],
             [
              0.1111111111111111,
              "#46039f"
             ],
             [
              0.2222222222222222,
              "#7201a8"
             ],
             [
              0.3333333333333333,
              "#9c179e"
             ],
             [
              0.4444444444444444,
              "#bd3786"
             ],
             [
              0.5555555555555556,
              "#d8576b"
             ],
             [
              0.6666666666666666,
              "#ed7953"
             ],
             [
              0.7777777777777778,
              "#fb9f3a"
             ],
             [
              0.8888888888888888,
              "#fdca26"
             ],
             [
              1,
              "#f0f921"
             ]
            ],
            "type": "contour"
           }
          ],
          "contourcarpet": [
           {
            "colorbar": {
             "outlinewidth": 0,
             "ticks": ""
            },
            "type": "contourcarpet"
           }
          ],
          "heatmap": [
           {
            "colorbar": {
             "outlinewidth": 0,
             "ticks": ""
            },
            "colorscale": [
             [
              0,
              "#0d0887"
             ],
             [
              0.1111111111111111,
              "#46039f"
             ],
             [
              0.2222222222222222,
              "#7201a8"
             ],
             [
              0.3333333333333333,
              "#9c179e"
             ],
             [
              0.4444444444444444,
              "#bd3786"
             ],
             [
              0.5555555555555556,
              "#d8576b"
             ],
             [
              0.6666666666666666,
              "#ed7953"
             ],
             [
              0.7777777777777778,
              "#fb9f3a"
             ],
             [
              0.8888888888888888,
              "#fdca26"
             ],
             [
              1,
              "#f0f921"
             ]
            ],
            "type": "heatmap"
           }
          ],
          "heatmapgl": [
           {
            "colorbar": {
             "outlinewidth": 0,
             "ticks": ""
            },
            "colorscale": [
             [
              0,
              "#0d0887"
             ],
             [
              0.1111111111111111,
              "#46039f"
             ],
             [
              0.2222222222222222,
              "#7201a8"
             ],
             [
              0.3333333333333333,
              "#9c179e"
             ],
             [
              0.4444444444444444,
              "#bd3786"
             ],
             [
              0.5555555555555556,
              "#d8576b"
             ],
             [
              0.6666666666666666,
              "#ed7953"
             ],
             [
              0.7777777777777778,
              "#fb9f3a"
             ],
             [
              0.8888888888888888,
              "#fdca26"
             ],
             [
              1,
              "#f0f921"
             ]
            ],
            "type": "heatmapgl"
           }
          ],
          "histogram": [
           {
            "marker": {
             "pattern": {
              "fillmode": "overlay",
              "size": 10,
              "solidity": 0.2
             }
            },
            "type": "histogram"
           }
          ],
          "histogram2d": [
           {
            "colorbar": {
             "outlinewidth": 0,
             "ticks": ""
            },
            "colorscale": [
             [
              0,
              "#0d0887"
             ],
             [
              0.1111111111111111,
              "#46039f"
             ],
             [
              0.2222222222222222,
              "#7201a8"
             ],
             [
              0.3333333333333333,
              "#9c179e"
             ],
             [
              0.4444444444444444,
              "#bd3786"
             ],
             [
              0.5555555555555556,
              "#d8576b"
             ],
             [
              0.6666666666666666,
              "#ed7953"
             ],
             [
              0.7777777777777778,
              "#fb9f3a"
             ],
             [
              0.8888888888888888,
              "#fdca26"
             ],
             [
              1,
              "#f0f921"
             ]
            ],
            "type": "histogram2d"
           }
          ],
          "histogram2dcontour": [
           {
            "colorbar": {
             "outlinewidth": 0,
             "ticks": ""
            },
            "colorscale": [
             [
              0,
              "#0d0887"
             ],
             [
              0.1111111111111111,
              "#46039f"
             ],
             [
              0.2222222222222222,
              "#7201a8"
             ],
             [
              0.3333333333333333,
              "#9c179e"
             ],
             [
              0.4444444444444444,
              "#bd3786"
             ],
             [
              0.5555555555555556,
              "#d8576b"
             ],
             [
              0.6666666666666666,
              "#ed7953"
             ],
             [
              0.7777777777777778,
              "#fb9f3a"
             ],
             [
              0.8888888888888888,
              "#fdca26"
             ],
             [
              1,
              "#f0f921"
             ]
            ],
            "type": "histogram2dcontour"
           }
          ],
          "mesh3d": [
           {
            "colorbar": {
             "outlinewidth": 0,
             "ticks": ""
            },
            "type": "mesh3d"
           }
          ],
          "parcoords": [
           {
            "line": {
             "colorbar": {
              "outlinewidth": 0,
              "ticks": ""
             }
            },
            "type": "parcoords"
           }
          ],
          "pie": [
           {
            "automargin": true,
            "type": "pie"
           }
          ],
          "scatter": [
           {
            "fillpattern": {
             "fillmode": "overlay",
             "size": 10,
             "solidity": 0.2
            },
            "type": "scatter"
           }
          ],
          "scatter3d": [
           {
            "line": {
             "colorbar": {
              "outlinewidth": 0,
              "ticks": ""
             }
            },
            "marker": {
             "colorbar": {
              "outlinewidth": 0,
              "ticks": ""
             }
            },
            "type": "scatter3d"
           }
          ],
          "scattercarpet": [
           {
            "marker": {
             "colorbar": {
              "outlinewidth": 0,
              "ticks": ""
             }
            },
            "type": "scattercarpet"
           }
          ],
          "scattergeo": [
           {
            "marker": {
             "colorbar": {
              "outlinewidth": 0,
              "ticks": ""
             }
            },
            "type": "scattergeo"
           }
          ],
          "scattergl": [
           {
            "marker": {
             "colorbar": {
              "outlinewidth": 0,
              "ticks": ""
             }
            },
            "type": "scattergl"
           }
          ],
          "scattermapbox": [
           {
            "marker": {
             "colorbar": {
              "outlinewidth": 0,
              "ticks": ""
             }
            },
            "type": "scattermapbox"
           }
          ],
          "scatterpolar": [
           {
            "marker": {
             "colorbar": {
              "outlinewidth": 0,
              "ticks": ""
             }
            },
            "type": "scatterpolar"
           }
          ],
          "scatterpolargl": [
           {
            "marker": {
             "colorbar": {
              "outlinewidth": 0,
              "ticks": ""
             }
            },
            "type": "scatterpolargl"
           }
          ],
          "scatterternary": [
           {
            "marker": {
             "colorbar": {
              "outlinewidth": 0,
              "ticks": ""
             }
            },
            "type": "scatterternary"
           }
          ],
          "surface": [
           {
            "colorbar": {
             "outlinewidth": 0,
             "ticks": ""
            },
            "colorscale": [
             [
              0,
              "#0d0887"
             ],
             [
              0.1111111111111111,
              "#46039f"
             ],
             [
              0.2222222222222222,
              "#7201a8"
             ],
             [
              0.3333333333333333,
              "#9c179e"
             ],
             [
              0.4444444444444444,
              "#bd3786"
             ],
             [
              0.5555555555555556,
              "#d8576b"
             ],
             [
              0.6666666666666666,
              "#ed7953"
             ],
             [
              0.7777777777777778,
              "#fb9f3a"
             ],
             [
              0.8888888888888888,
              "#fdca26"
             ],
             [
              1,
              "#f0f921"
             ]
            ],
            "type": "surface"
           }
          ],
          "table": [
           {
            "cells": {
             "fill": {
              "color": "#EBF0F8"
             },
             "line": {
              "color": "white"
             }
            },
            "header": {
             "fill": {
              "color": "#C8D4E3"
             },
             "line": {
              "color": "white"
             }
            },
            "type": "table"
           }
          ]
         },
         "layout": {
          "annotationdefaults": {
           "arrowcolor": "#2a3f5f",
           "arrowhead": 0,
           "arrowwidth": 1
          },
          "autotypenumbers": "strict",
          "coloraxis": {
           "colorbar": {
            "outlinewidth": 0,
            "ticks": ""
           }
          },
          "colorscale": {
           "diverging": [
            [
             0,
             "#8e0152"
            ],
            [
             0.1,
             "#c51b7d"
            ],
            [
             0.2,
             "#de77ae"
            ],
            [
             0.3,
             "#f1b6da"
            ],
            [
             0.4,
             "#fde0ef"
            ],
            [
             0.5,
             "#f7f7f7"
            ],
            [
             0.6,
             "#e6f5d0"
            ],
            [
             0.7,
             "#b8e186"
            ],
            [
             0.8,
             "#7fbc41"
            ],
            [
             0.9,
             "#4d9221"
            ],
            [
             1,
             "#276419"
            ]
           ],
           "sequential": [
            [
             0,
             "#0d0887"
            ],
            [
             0.1111111111111111,
             "#46039f"
            ],
            [
             0.2222222222222222,
             "#7201a8"
            ],
            [
             0.3333333333333333,
             "#9c179e"
            ],
            [
             0.4444444444444444,
             "#bd3786"
            ],
            [
             0.5555555555555556,
             "#d8576b"
            ],
            [
             0.6666666666666666,
             "#ed7953"
            ],
            [
             0.7777777777777778,
             "#fb9f3a"
            ],
            [
             0.8888888888888888,
             "#fdca26"
            ],
            [
             1,
             "#f0f921"
            ]
           ],
           "sequentialminus": [
            [
             0,
             "#0d0887"
            ],
            [
             0.1111111111111111,
             "#46039f"
            ],
            [
             0.2222222222222222,
             "#7201a8"
            ],
            [
             0.3333333333333333,
             "#9c179e"
            ],
            [
             0.4444444444444444,
             "#bd3786"
            ],
            [
             0.5555555555555556,
             "#d8576b"
            ],
            [
             0.6666666666666666,
             "#ed7953"
            ],
            [
             0.7777777777777778,
             "#fb9f3a"
            ],
            [
             0.8888888888888888,
             "#fdca26"
            ],
            [
             1,
             "#f0f921"
            ]
           ]
          },
          "colorway": [
           "#636efa",
           "#EF553B",
           "#00cc96",
           "#ab63fa",
           "#FFA15A",
           "#19d3f3",
           "#FF6692",
           "#B6E880",
           "#FF97FF",
           "#FECB52"
          ],
          "font": {
           "color": "#2a3f5f"
          },
          "geo": {
           "bgcolor": "white",
           "lakecolor": "white",
           "landcolor": "#E5ECF6",
           "showlakes": true,
           "showland": true,
           "subunitcolor": "white"
          },
          "hoverlabel": {
           "align": "left"
          },
          "hovermode": "closest",
          "mapbox": {
           "style": "light"
          },
          "paper_bgcolor": "white",
          "plot_bgcolor": "#E5ECF6",
          "polar": {
           "angularaxis": {
            "gridcolor": "white",
            "linecolor": "white",
            "ticks": ""
           },
           "bgcolor": "#E5ECF6",
           "radialaxis": {
            "gridcolor": "white",
            "linecolor": "white",
            "ticks": ""
           }
          },
          "scene": {
           "xaxis": {
            "backgroundcolor": "#E5ECF6",
            "gridcolor": "white",
            "gridwidth": 2,
            "linecolor": "white",
            "showbackground": true,
            "ticks": "",
            "zerolinecolor": "white"
           },
           "yaxis": {
            "backgroundcolor": "#E5ECF6",
            "gridcolor": "white",
            "gridwidth": 2,
            "linecolor": "white",
            "showbackground": true,
            "ticks": "",
            "zerolinecolor": "white"
           },
           "zaxis": {
            "backgroundcolor": "#E5ECF6",
            "gridcolor": "white",
            "gridwidth": 2,
            "linecolor": "white",
            "showbackground": true,
            "ticks": "",
            "zerolinecolor": "white"
           }
          },
          "shapedefaults": {
           "line": {
            "color": "#2a3f5f"
           }
          },
          "ternary": {
           "aaxis": {
            "gridcolor": "white",
            "linecolor": "white",
            "ticks": ""
           },
           "baxis": {
            "gridcolor": "white",
            "linecolor": "white",
            "ticks": ""
           },
           "bgcolor": "#E5ECF6",
           "caxis": {
            "gridcolor": "white",
            "linecolor": "white",
            "ticks": ""
           }
          },
          "title": {
           "x": 0.05
          },
          "xaxis": {
           "automargin": true,
           "gridcolor": "white",
           "linecolor": "white",
           "ticks": "",
           "title": {
            "standoff": 15
           },
           "zerolinecolor": "white",
           "zerolinewidth": 2
          },
          "yaxis": {
           "automargin": true,
           "gridcolor": "white",
           "linecolor": "white",
           "ticks": "",
           "title": {
            "standoff": 15
           },
           "zerolinecolor": "white",
           "zerolinewidth": 2
          }
         }
        },
        "title": {
         "text": "Top 10 Frequently Sold Products"
        },
        "xaxis": {
         "anchor": "y",
         "domain": [
          0,
          1
         ],
         "title": {
          "text": "Products"
         }
        },
        "yaxis": {
         "anchor": "x",
         "domain": [
          0,
          1
         ],
         "title": {
          "text": "Count"
         }
        }
       }
      },
      "text/html": [
       "<div>                            <div id=\"78e7a3a4-7525-47e8-b405-94f8592d5862\" class=\"plotly-graph-div\" style=\"height:525px; width:100%;\"></div>            <script type=\"text/javascript\">                require([\"plotly\"], function(Plotly) {                    window.PLOTLYENV=window.PLOTLYENV || {};                                    if (document.getElementById(\"78e7a3a4-7525-47e8-b405-94f8592d5862\")) {                    Plotly.newPlot(                        \"78e7a3a4-7525-47e8-b405-94f8592d5862\",                        [{\"alignmentgroup\":\"True\",\"hovertemplate\":\"x=%{x}<br>y=%{y}<extra></extra>\",\"legendgroup\":\"\",\"marker\":{\"color\":\"#636efa\",\"pattern\":{\"shape\":\"\"}},\"name\":\"\",\"offsetgroup\":\"\",\"orientation\":\"v\",\"showlegend\":false,\"textposition\":\"auto\",\"x\":[\"whole milk\",\"other vegetables\",\"rolls/buns\",\"soda\",\"yogurt\",\"root vegetables\",\"tropical fruit\",\"bottled water\",\"sausage\",\"citrus fruit\"],\"xaxis\":\"x\",\"y\":[2502,1898,1716,1514,1334,1071,1032,933,924,812],\"yaxis\":\"y\",\"type\":\"bar\"}],                        {\"template\":{\"data\":{\"histogram2dcontour\":[{\"type\":\"histogram2dcontour\",\"colorbar\":{\"outlinewidth\":0,\"ticks\":\"\"},\"colorscale\":[[0.0,\"#0d0887\"],[0.1111111111111111,\"#46039f\"],[0.2222222222222222,\"#7201a8\"],[0.3333333333333333,\"#9c179e\"],[0.4444444444444444,\"#bd3786\"],[0.5555555555555556,\"#d8576b\"],[0.6666666666666666,\"#ed7953\"],[0.7777777777777778,\"#fb9f3a\"],[0.8888888888888888,\"#fdca26\"],[1.0,\"#f0f921\"]]}],\"choropleth\":[{\"type\":\"choropleth\",\"colorbar\":{\"outlinewidth\":0,\"ticks\":\"\"}}],\"histogram2d\":[{\"type\":\"histogram2d\",\"colorbar\":{\"outlinewidth\":0,\"ticks\":\"\"},\"colorscale\":[[0.0,\"#0d0887\"],[0.1111111111111111,\"#46039f\"],[0.2222222222222222,\"#7201a8\"],[0.3333333333333333,\"#9c179e\"],[0.4444444444444444,\"#bd3786\"],[0.5555555555555556,\"#d8576b\"],[0.6666666666666666,\"#ed7953\"],[0.7777777777777778,\"#fb9f3a\"],[0.8888888888888888,\"#fdca26\"],[1.0,\"#f0f921\"]]}],\"heatmap\":[{\"type\":\"heatmap\",\"colorbar\":{\"outlinewidth\":0,\"ticks\":\"\"},\"colorscale\":[[0.0,\"#0d0887\"],[0.1111111111111111,\"#46039f\"],[0.2222222222222222,\"#7201a8\"],[0.3333333333333333,\"#9c179e\"],[0.4444444444444444,\"#bd3786\"],[0.5555555555555556,\"#d8576b\"],[0.6666666666666666,\"#ed7953\"],[0.7777777777777778,\"#fb9f3a\"],[0.8888888888888888,\"#fdca26\"],[1.0,\"#f0f921\"]]}],\"heatmapgl\":[{\"type\":\"heatmapgl\",\"colorbar\":{\"outlinewidth\":0,\"ticks\":\"\"},\"colorscale\":[[0.0,\"#0d0887\"],[0.1111111111111111,\"#46039f\"],[0.2222222222222222,\"#7201a8\"],[0.3333333333333333,\"#9c179e\"],[0.4444444444444444,\"#bd3786\"],[0.5555555555555556,\"#d8576b\"],[0.6666666666666666,\"#ed7953\"],[0.7777777777777778,\"#fb9f3a\"],[0.8888888888888888,\"#fdca26\"],[1.0,\"#f0f921\"]]}],\"contourcarpet\":[{\"type\":\"contourcarpet\",\"colorbar\":{\"outlinewidth\":0,\"ticks\":\"\"}}],\"contour\":[{\"type\":\"contour\",\"colorbar\":{\"outlinewidth\":0,\"ticks\":\"\"},\"colorscale\":[[0.0,\"#0d0887\"],[0.1111111111111111,\"#46039f\"],[0.2222222222222222,\"#7201a8\"],[0.3333333333333333,\"#9c179e\"],[0.4444444444444444,\"#bd3786\"],[0.5555555555555556,\"#d8576b\"],[0.6666666666666666,\"#ed7953\"],[0.7777777777777778,\"#fb9f3a\"],[0.8888888888888888,\"#fdca26\"],[1.0,\"#f0f921\"]]}],\"surface\":[{\"type\":\"surface\",\"colorbar\":{\"outlinewidth\":0,\"ticks\":\"\"},\"colorscale\":[[0.0,\"#0d0887\"],[0.1111111111111111,\"#46039f\"],[0.2222222222222222,\"#7201a8\"],[0.3333333333333333,\"#9c179e\"],[0.4444444444444444,\"#bd3786\"],[0.5555555555555556,\"#d8576b\"],[0.6666666666666666,\"#ed7953\"],[0.7777777777777778,\"#fb9f3a\"],[0.8888888888888888,\"#fdca26\"],[1.0,\"#f0f921\"]]}],\"mesh3d\":[{\"type\":\"mesh3d\",\"colorbar\":{\"outlinewidth\":0,\"ticks\":\"\"}}],\"scatter\":[{\"fillpattern\":{\"fillmode\":\"overlay\",\"size\":10,\"solidity\":0.2},\"type\":\"scatter\"}],\"parcoords\":[{\"type\":\"parcoords\",\"line\":{\"colorbar\":{\"outlinewidth\":0,\"ticks\":\"\"}}}],\"scatterpolargl\":[{\"type\":\"scatterpolargl\",\"marker\":{\"colorbar\":{\"outlinewidth\":0,\"ticks\":\"\"}}}],\"bar\":[{\"error_x\":{\"color\":\"#2a3f5f\"},\"error_y\":{\"color\":\"#2a3f5f\"},\"marker\":{\"line\":{\"color\":\"#E5ECF6\",\"width\":0.5},\"pattern\":{\"fillmode\":\"overlay\",\"size\":10,\"solidity\":0.2}},\"type\":\"bar\"}],\"scattergeo\":[{\"type\":\"scattergeo\",\"marker\":{\"colorbar\":{\"outlinewidth\":0,\"ticks\":\"\"}}}],\"scatterpolar\":[{\"type\":\"scatterpolar\",\"marker\":{\"colorbar\":{\"outlinewidth\":0,\"ticks\":\"\"}}}],\"histogram\":[{\"marker\":{\"pattern\":{\"fillmode\":\"overlay\",\"size\":10,\"solidity\":0.2}},\"type\":\"histogram\"}],\"scattergl\":[{\"type\":\"scattergl\",\"marker\":{\"colorbar\":{\"outlinewidth\":0,\"ticks\":\"\"}}}],\"scatter3d\":[{\"type\":\"scatter3d\",\"line\":{\"colorbar\":{\"outlinewidth\":0,\"ticks\":\"\"}},\"marker\":{\"colorbar\":{\"outlinewidth\":0,\"ticks\":\"\"}}}],\"scattermapbox\":[{\"type\":\"scattermapbox\",\"marker\":{\"colorbar\":{\"outlinewidth\":0,\"ticks\":\"\"}}}],\"scatterternary\":[{\"type\":\"scatterternary\",\"marker\":{\"colorbar\":{\"outlinewidth\":0,\"ticks\":\"\"}}}],\"scattercarpet\":[{\"type\":\"scattercarpet\",\"marker\":{\"colorbar\":{\"outlinewidth\":0,\"ticks\":\"\"}}}],\"carpet\":[{\"aaxis\":{\"endlinecolor\":\"#2a3f5f\",\"gridcolor\":\"white\",\"linecolor\":\"white\",\"minorgridcolor\":\"white\",\"startlinecolor\":\"#2a3f5f\"},\"baxis\":{\"endlinecolor\":\"#2a3f5f\",\"gridcolor\":\"white\",\"linecolor\":\"white\",\"minorgridcolor\":\"white\",\"startlinecolor\":\"#2a3f5f\"},\"type\":\"carpet\"}],\"table\":[{\"cells\":{\"fill\":{\"color\":\"#EBF0F8\"},\"line\":{\"color\":\"white\"}},\"header\":{\"fill\":{\"color\":\"#C8D4E3\"},\"line\":{\"color\":\"white\"}},\"type\":\"table\"}],\"barpolar\":[{\"marker\":{\"line\":{\"color\":\"#E5ECF6\",\"width\":0.5},\"pattern\":{\"fillmode\":\"overlay\",\"size\":10,\"solidity\":0.2}},\"type\":\"barpolar\"}],\"pie\":[{\"automargin\":true,\"type\":\"pie\"}]},\"layout\":{\"autotypenumbers\":\"strict\",\"colorway\":[\"#636efa\",\"#EF553B\",\"#00cc96\",\"#ab63fa\",\"#FFA15A\",\"#19d3f3\",\"#FF6692\",\"#B6E880\",\"#FF97FF\",\"#FECB52\"],\"font\":{\"color\":\"#2a3f5f\"},\"hovermode\":\"closest\",\"hoverlabel\":{\"align\":\"left\"},\"paper_bgcolor\":\"white\",\"plot_bgcolor\":\"#E5ECF6\",\"polar\":{\"bgcolor\":\"#E5ECF6\",\"angularaxis\":{\"gridcolor\":\"white\",\"linecolor\":\"white\",\"ticks\":\"\"},\"radialaxis\":{\"gridcolor\":\"white\",\"linecolor\":\"white\",\"ticks\":\"\"}},\"ternary\":{\"bgcolor\":\"#E5ECF6\",\"aaxis\":{\"gridcolor\":\"white\",\"linecolor\":\"white\",\"ticks\":\"\"},\"baxis\":{\"gridcolor\":\"white\",\"linecolor\":\"white\",\"ticks\":\"\"},\"caxis\":{\"gridcolor\":\"white\",\"linecolor\":\"white\",\"ticks\":\"\"}},\"coloraxis\":{\"colorbar\":{\"outlinewidth\":0,\"ticks\":\"\"}},\"colorscale\":{\"sequential\":[[0.0,\"#0d0887\"],[0.1111111111111111,\"#46039f\"],[0.2222222222222222,\"#7201a8\"],[0.3333333333333333,\"#9c179e\"],[0.4444444444444444,\"#bd3786\"],[0.5555555555555556,\"#d8576b\"],[0.6666666666666666,\"#ed7953\"],[0.7777777777777778,\"#fb9f3a\"],[0.8888888888888888,\"#fdca26\"],[1.0,\"#f0f921\"]],\"sequentialminus\":[[0.0,\"#0d0887\"],[0.1111111111111111,\"#46039f\"],[0.2222222222222222,\"#7201a8\"],[0.3333333333333333,\"#9c179e\"],[0.4444444444444444,\"#bd3786\"],[0.5555555555555556,\"#d8576b\"],[0.6666666666666666,\"#ed7953\"],[0.7777777777777778,\"#fb9f3a\"],[0.8888888888888888,\"#fdca26\"],[1.0,\"#f0f921\"]],\"diverging\":[[0,\"#8e0152\"],[0.1,\"#c51b7d\"],[0.2,\"#de77ae\"],[0.3,\"#f1b6da\"],[0.4,\"#fde0ef\"],[0.5,\"#f7f7f7\"],[0.6,\"#e6f5d0\"],[0.7,\"#b8e186\"],[0.8,\"#7fbc41\"],[0.9,\"#4d9221\"],[1,\"#276419\"]]},\"xaxis\":{\"gridcolor\":\"white\",\"linecolor\":\"white\",\"ticks\":\"\",\"title\":{\"standoff\":15},\"zerolinecolor\":\"white\",\"automargin\":true,\"zerolinewidth\":2},\"yaxis\":{\"gridcolor\":\"white\",\"linecolor\":\"white\",\"ticks\":\"\",\"title\":{\"standoff\":15},\"zerolinecolor\":\"white\",\"automargin\":true,\"zerolinewidth\":2},\"scene\":{\"xaxis\":{\"backgroundcolor\":\"#E5ECF6\",\"gridcolor\":\"white\",\"linecolor\":\"white\",\"showbackground\":true,\"ticks\":\"\",\"zerolinecolor\":\"white\",\"gridwidth\":2},\"yaxis\":{\"backgroundcolor\":\"#E5ECF6\",\"gridcolor\":\"white\",\"linecolor\":\"white\",\"showbackground\":true,\"ticks\":\"\",\"zerolinecolor\":\"white\",\"gridwidth\":2},\"zaxis\":{\"backgroundcolor\":\"#E5ECF6\",\"gridcolor\":\"white\",\"linecolor\":\"white\",\"showbackground\":true,\"ticks\":\"\",\"zerolinecolor\":\"white\",\"gridwidth\":2}},\"shapedefaults\":{\"line\":{\"color\":\"#2a3f5f\"}},\"annotationdefaults\":{\"arrowcolor\":\"#2a3f5f\",\"arrowhead\":0,\"arrowwidth\":1},\"geo\":{\"bgcolor\":\"white\",\"landcolor\":\"#E5ECF6\",\"subunitcolor\":\"white\",\"showland\":true,\"showlakes\":true,\"lakecolor\":\"white\"},\"title\":{\"x\":0.05},\"mapbox\":{\"style\":\"light\"}}},\"xaxis\":{\"anchor\":\"y\",\"domain\":[0.0,1.0],\"title\":{\"text\":\"Products\"}},\"yaxis\":{\"anchor\":\"x\",\"domain\":[0.0,1.0],\"title\":{\"text\":\"Count\"}},\"legend\":{\"tracegroupgap\":0},\"margin\":{\"t\":60},\"barmode\":\"relative\",\"title\":{\"text\":\"Top 10 Frequently Sold Products\"}},                        {\"responsive\": true}                    ).then(function(){\n",
       "                            \n",
       "var gd = document.getElementById('78e7a3a4-7525-47e8-b405-94f8592d5862');\n",
       "var x = new MutationObserver(function (mutations, observer) {{\n",
       "        var display = window.getComputedStyle(gd).display;\n",
       "        if (!display || display === 'none') {{\n",
       "            console.log([gd, 'removed!']);\n",
       "            Plotly.purge(gd);\n",
       "            observer.disconnect();\n",
       "        }}\n",
       "}});\n",
       "\n",
       "// Listen for the removal of the full notebook cells\n",
       "var notebookContainer = gd.closest('#notebook-container');\n",
       "if (notebookContainer) {{\n",
       "    x.observe(notebookContainer, {childList: true});\n",
       "}}\n",
       "\n",
       "// Listen for the clearing of the current output cell\n",
       "var outputEl = gd.closest('.output');\n",
       "if (outputEl) {{\n",
       "    x.observe(outputEl, {childList: true});\n",
       "}}\n",
       "\n",
       "                        })                };                });            </script>        </div>"
      ]
     },
     "metadata": {},
     "output_type": "display_data"
    }
   ],
   "source": [
    "print(\"Top 10 Frequent Sold Products\")\n",
    "x = df['itemDescription'].value_counts().sort_values(ascending=False)[:10]\n",
    "fig = px.bar(x=x.index, y=x.values)\n",
    "fig.update_layout(title_text='Top 10 Frequently Sold Products', xaxis_title='Products', yaxis_title='Count')\n",
    "fig.show()"
   ]
  },
  {
   "cell_type": "code",
   "execution_count": 83,
   "id": "2de990af",
   "metadata": {},
   "outputs": [
    {
     "data": {
      "text/html": [
       "<div>\n",
       "<style scoped>\n",
       "    .dataframe tbody tr th:only-of-type {\n",
       "        vertical-align: middle;\n",
       "    }\n",
       "\n",
       "    .dataframe tbody tr th {\n",
       "        vertical-align: top;\n",
       "    }\n",
       "\n",
       "    .dataframe thead th {\n",
       "        text-align: right;\n",
       "    }\n",
       "</style>\n",
       "<table border=\"1\" class=\"dataframe\">\n",
       "  <thead>\n",
       "    <tr style=\"text-align: right;\">\n",
       "      <th></th>\n",
       "      <th>Member_number</th>\n",
       "      <th>Date</th>\n",
       "      <th>itemDescription</th>\n",
       "      <th>Year</th>\n",
       "      <th>Month-Year</th>\n",
       "    </tr>\n",
       "  </thead>\n",
       "  <tbody>\n",
       "    <tr>\n",
       "      <th>0</th>\n",
       "      <td>1808</td>\n",
       "      <td>21-07-2015</td>\n",
       "      <td>tropical fruit</td>\n",
       "      <td>2015</td>\n",
       "      <td>07-2015</td>\n",
       "    </tr>\n",
       "    <tr>\n",
       "      <th>1</th>\n",
       "      <td>2552</td>\n",
       "      <td>05-01-2015</td>\n",
       "      <td>whole milk</td>\n",
       "      <td>2015</td>\n",
       "      <td>01-2015</td>\n",
       "    </tr>\n",
       "    <tr>\n",
       "      <th>2</th>\n",
       "      <td>2300</td>\n",
       "      <td>19-09-2015</td>\n",
       "      <td>pip fruit</td>\n",
       "      <td>2015</td>\n",
       "      <td>09-2015</td>\n",
       "    </tr>\n",
       "    <tr>\n",
       "      <th>3</th>\n",
       "      <td>1187</td>\n",
       "      <td>12-12-2015</td>\n",
       "      <td>other vegetables</td>\n",
       "      <td>2015</td>\n",
       "      <td>12-2015</td>\n",
       "    </tr>\n",
       "    <tr>\n",
       "      <th>4</th>\n",
       "      <td>3037</td>\n",
       "      <td>01-02-2015</td>\n",
       "      <td>whole milk</td>\n",
       "      <td>2015</td>\n",
       "      <td>02-2015</td>\n",
       "    </tr>\n",
       "  </tbody>\n",
       "</table>\n",
       "</div>"
      ],
      "text/plain": [
       "   Member_number        Date   itemDescription  Year Month-Year\n",
       "0           1808  21-07-2015    tropical fruit  2015    07-2015\n",
       "1           2552  05-01-2015        whole milk  2015    01-2015\n",
       "2           2300  19-09-2015         pip fruit  2015    09-2015\n",
       "3           1187  12-12-2015  other vegetables  2015    12-2015\n",
       "4           3037  01-02-2015        whole milk  2015    02-2015"
      ]
     },
     "execution_count": 83,
     "metadata": {},
     "output_type": "execute_result"
    }
   ],
   "source": [
    "df['Year'] = df['Date'].str.split(\"-\").str[-1]\n",
    "df['Month-Year'] = df['Date'].str.split(\"-\").str[1] + \"-\" + df['Date'].str.split(\"-\").str[-1]\n",
    "df.head()"
   ]
  },
  {
   "cell_type": "code",
   "execution_count": 84,
   "id": "732503b5",
   "metadata": {},
   "outputs": [
    {
     "data": {
      "application/vnd.plotly.v1+json": {
       "config": {
        "plotlyServerURL": "https://plot.ly"
       },
       "data": [
        {
         "alignmentgroup": "True",
         "hovertemplate": "Date=%{x}<br>Count=%{y}<br>Meter=%{marker.color}<extra></extra>",
         "legendgroup": "",
         "marker": {
          "color": [
           1921,
           1797,
           1793,
           1785,
           1724,
           1722,
           1699,
           1694,
           1670,
           1615,
           1591,
           1587,
           1576,
           1575,
           1570,
           1561,
           1560,
           1536,
           1527,
           1473,
           1472,
           1469,
           1437,
           1411
          ],
          "coloraxis": "coloraxis",
          "pattern": {
           "shape": ""
          }
         },
         "name": "",
         "offsetgroup": "",
         "orientation": "v",
         "showlegend": false,
         "textposition": "auto",
         "type": "bar",
         "x": [
          "08-2015",
          "01-2015",
          "05-2015",
          "11-2015",
          "07-2015",
          "03-2015",
          "04-2015",
          "06-2015",
          "10-2015",
          "05-2014",
          "10-2014",
          "09-2015",
          "07-2014",
          "08-2014",
          "06-2014",
          "04-2014",
          "02-2015",
          "12-2015",
          "01-2014",
          "12-2014",
          "09-2014",
          "11-2014",
          "02-2014",
          "03-2014"
         ],
         "xaxis": "x",
         "y": [
          1921,
          1797,
          1793,
          1785,
          1724,
          1722,
          1699,
          1694,
          1670,
          1615,
          1591,
          1587,
          1576,
          1575,
          1570,
          1561,
          1560,
          1536,
          1527,
          1473,
          1472,
          1469,
          1437,
          1411
         ],
         "yaxis": "y"
        }
       ],
       "layout": {
        "barmode": "relative",
        "coloraxis": {
         "colorbar": {
          "title": {
           "text": "Meter"
          }
         },
         "colorscale": [
          [
           0,
           "#0d0887"
          ],
          [
           0.1111111111111111,
           "#46039f"
          ],
          [
           0.2222222222222222,
           "#7201a8"
          ],
          [
           0.3333333333333333,
           "#9c179e"
          ],
          [
           0.4444444444444444,
           "#bd3786"
          ],
          [
           0.5555555555555556,
           "#d8576b"
          ],
          [
           0.6666666666666666,
           "#ed7953"
          ],
          [
           0.7777777777777778,
           "#fb9f3a"
          ],
          [
           0.8888888888888888,
           "#fdca26"
          ],
          [
           1,
           "#f0f921"
          ]
         ]
        },
        "legend": {
         "tracegroupgap": 0
        },
        "margin": {
         "t": 60
        },
        "template": {
         "data": {
          "bar": [
           {
            "error_x": {
             "color": "#2a3f5f"
            },
            "error_y": {
             "color": "#2a3f5f"
            },
            "marker": {
             "line": {
              "color": "#E5ECF6",
              "width": 0.5
             },
             "pattern": {
              "fillmode": "overlay",
              "size": 10,
              "solidity": 0.2
             }
            },
            "type": "bar"
           }
          ],
          "barpolar": [
           {
            "marker": {
             "line": {
              "color": "#E5ECF6",
              "width": 0.5
             },
             "pattern": {
              "fillmode": "overlay",
              "size": 10,
              "solidity": 0.2
             }
            },
            "type": "barpolar"
           }
          ],
          "carpet": [
           {
            "aaxis": {
             "endlinecolor": "#2a3f5f",
             "gridcolor": "white",
             "linecolor": "white",
             "minorgridcolor": "white",
             "startlinecolor": "#2a3f5f"
            },
            "baxis": {
             "endlinecolor": "#2a3f5f",
             "gridcolor": "white",
             "linecolor": "white",
             "minorgridcolor": "white",
             "startlinecolor": "#2a3f5f"
            },
            "type": "carpet"
           }
          ],
          "choropleth": [
           {
            "colorbar": {
             "outlinewidth": 0,
             "ticks": ""
            },
            "type": "choropleth"
           }
          ],
          "contour": [
           {
            "colorbar": {
             "outlinewidth": 0,
             "ticks": ""
            },
            "colorscale": [
             [
              0,
              "#0d0887"
             ],
             [
              0.1111111111111111,
              "#46039f"
             ],
             [
              0.2222222222222222,
              "#7201a8"
             ],
             [
              0.3333333333333333,
              "#9c179e"
             ],
             [
              0.4444444444444444,
              "#bd3786"
             ],
             [
              0.5555555555555556,
              "#d8576b"
             ],
             [
              0.6666666666666666,
              "#ed7953"
             ],
             [
              0.7777777777777778,
              "#fb9f3a"
             ],
             [
              0.8888888888888888,
              "#fdca26"
             ],
             [
              1,
              "#f0f921"
             ]
            ],
            "type": "contour"
           }
          ],
          "contourcarpet": [
           {
            "colorbar": {
             "outlinewidth": 0,
             "ticks": ""
            },
            "type": "contourcarpet"
           }
          ],
          "heatmap": [
           {
            "colorbar": {
             "outlinewidth": 0,
             "ticks": ""
            },
            "colorscale": [
             [
              0,
              "#0d0887"
             ],
             [
              0.1111111111111111,
              "#46039f"
             ],
             [
              0.2222222222222222,
              "#7201a8"
             ],
             [
              0.3333333333333333,
              "#9c179e"
             ],
             [
              0.4444444444444444,
              "#bd3786"
             ],
             [
              0.5555555555555556,
              "#d8576b"
             ],
             [
              0.6666666666666666,
              "#ed7953"
             ],
             [
              0.7777777777777778,
              "#fb9f3a"
             ],
             [
              0.8888888888888888,
              "#fdca26"
             ],
             [
              1,
              "#f0f921"
             ]
            ],
            "type": "heatmap"
           }
          ],
          "heatmapgl": [
           {
            "colorbar": {
             "outlinewidth": 0,
             "ticks": ""
            },
            "colorscale": [
             [
              0,
              "#0d0887"
             ],
             [
              0.1111111111111111,
              "#46039f"
             ],
             [
              0.2222222222222222,
              "#7201a8"
             ],
             [
              0.3333333333333333,
              "#9c179e"
             ],
             [
              0.4444444444444444,
              "#bd3786"
             ],
             [
              0.5555555555555556,
              "#d8576b"
             ],
             [
              0.6666666666666666,
              "#ed7953"
             ],
             [
              0.7777777777777778,
              "#fb9f3a"
             ],
             [
              0.8888888888888888,
              "#fdca26"
             ],
             [
              1,
              "#f0f921"
             ]
            ],
            "type": "heatmapgl"
           }
          ],
          "histogram": [
           {
            "marker": {
             "pattern": {
              "fillmode": "overlay",
              "size": 10,
              "solidity": 0.2
             }
            },
            "type": "histogram"
           }
          ],
          "histogram2d": [
           {
            "colorbar": {
             "outlinewidth": 0,
             "ticks": ""
            },
            "colorscale": [
             [
              0,
              "#0d0887"
             ],
             [
              0.1111111111111111,
              "#46039f"
             ],
             [
              0.2222222222222222,
              "#7201a8"
             ],
             [
              0.3333333333333333,
              "#9c179e"
             ],
             [
              0.4444444444444444,
              "#bd3786"
             ],
             [
              0.5555555555555556,
              "#d8576b"
             ],
             [
              0.6666666666666666,
              "#ed7953"
             ],
             [
              0.7777777777777778,
              "#fb9f3a"
             ],
             [
              0.8888888888888888,
              "#fdca26"
             ],
             [
              1,
              "#f0f921"
             ]
            ],
            "type": "histogram2d"
           }
          ],
          "histogram2dcontour": [
           {
            "colorbar": {
             "outlinewidth": 0,
             "ticks": ""
            },
            "colorscale": [
             [
              0,
              "#0d0887"
             ],
             [
              0.1111111111111111,
              "#46039f"
             ],
             [
              0.2222222222222222,
              "#7201a8"
             ],
             [
              0.3333333333333333,
              "#9c179e"
             ],
             [
              0.4444444444444444,
              "#bd3786"
             ],
             [
              0.5555555555555556,
              "#d8576b"
             ],
             [
              0.6666666666666666,
              "#ed7953"
             ],
             [
              0.7777777777777778,
              "#fb9f3a"
             ],
             [
              0.8888888888888888,
              "#fdca26"
             ],
             [
              1,
              "#f0f921"
             ]
            ],
            "type": "histogram2dcontour"
           }
          ],
          "mesh3d": [
           {
            "colorbar": {
             "outlinewidth": 0,
             "ticks": ""
            },
            "type": "mesh3d"
           }
          ],
          "parcoords": [
           {
            "line": {
             "colorbar": {
              "outlinewidth": 0,
              "ticks": ""
             }
            },
            "type": "parcoords"
           }
          ],
          "pie": [
           {
            "automargin": true,
            "type": "pie"
           }
          ],
          "scatter": [
           {
            "fillpattern": {
             "fillmode": "overlay",
             "size": 10,
             "solidity": 0.2
            },
            "type": "scatter"
           }
          ],
          "scatter3d": [
           {
            "line": {
             "colorbar": {
              "outlinewidth": 0,
              "ticks": ""
             }
            },
            "marker": {
             "colorbar": {
              "outlinewidth": 0,
              "ticks": ""
             }
            },
            "type": "scatter3d"
           }
          ],
          "scattercarpet": [
           {
            "marker": {
             "colorbar": {
              "outlinewidth": 0,
              "ticks": ""
             }
            },
            "type": "scattercarpet"
           }
          ],
          "scattergeo": [
           {
            "marker": {
             "colorbar": {
              "outlinewidth": 0,
              "ticks": ""
             }
            },
            "type": "scattergeo"
           }
          ],
          "scattergl": [
           {
            "marker": {
             "colorbar": {
              "outlinewidth": 0,
              "ticks": ""
             }
            },
            "type": "scattergl"
           }
          ],
          "scattermapbox": [
           {
            "marker": {
             "colorbar": {
              "outlinewidth": 0,
              "ticks": ""
             }
            },
            "type": "scattermapbox"
           }
          ],
          "scatterpolar": [
           {
            "marker": {
             "colorbar": {
              "outlinewidth": 0,
              "ticks": ""
             }
            },
            "type": "scatterpolar"
           }
          ],
          "scatterpolargl": [
           {
            "marker": {
             "colorbar": {
              "outlinewidth": 0,
              "ticks": ""
             }
            },
            "type": "scatterpolargl"
           }
          ],
          "scatterternary": [
           {
            "marker": {
             "colorbar": {
              "outlinewidth": 0,
              "ticks": ""
             }
            },
            "type": "scatterternary"
           }
          ],
          "surface": [
           {
            "colorbar": {
             "outlinewidth": 0,
             "ticks": ""
            },
            "colorscale": [
             [
              0,
              "#0d0887"
             ],
             [
              0.1111111111111111,
              "#46039f"
             ],
             [
              0.2222222222222222,
              "#7201a8"
             ],
             [
              0.3333333333333333,
              "#9c179e"
             ],
             [
              0.4444444444444444,
              "#bd3786"
             ],
             [
              0.5555555555555556,
              "#d8576b"
             ],
             [
              0.6666666666666666,
              "#ed7953"
             ],
             [
              0.7777777777777778,
              "#fb9f3a"
             ],
             [
              0.8888888888888888,
              "#fdca26"
             ],
             [
              1,
              "#f0f921"
             ]
            ],
            "type": "surface"
           }
          ],
          "table": [
           {
            "cells": {
             "fill": {
              "color": "#EBF0F8"
             },
             "line": {
              "color": "white"
             }
            },
            "header": {
             "fill": {
              "color": "#C8D4E3"
             },
             "line": {
              "color": "white"
             }
            },
            "type": "table"
           }
          ]
         },
         "layout": {
          "annotationdefaults": {
           "arrowcolor": "#2a3f5f",
           "arrowhead": 0,
           "arrowwidth": 1
          },
          "autotypenumbers": "strict",
          "coloraxis": {
           "colorbar": {
            "outlinewidth": 0,
            "ticks": ""
           }
          },
          "colorscale": {
           "diverging": [
            [
             0,
             "#8e0152"
            ],
            [
             0.1,
             "#c51b7d"
            ],
            [
             0.2,
             "#de77ae"
            ],
            [
             0.3,
             "#f1b6da"
            ],
            [
             0.4,
             "#fde0ef"
            ],
            [
             0.5,
             "#f7f7f7"
            ],
            [
             0.6,
             "#e6f5d0"
            ],
            [
             0.7,
             "#b8e186"
            ],
            [
             0.8,
             "#7fbc41"
            ],
            [
             0.9,
             "#4d9221"
            ],
            [
             1,
             "#276419"
            ]
           ],
           "sequential": [
            [
             0,
             "#0d0887"
            ],
            [
             0.1111111111111111,
             "#46039f"
            ],
            [
             0.2222222222222222,
             "#7201a8"
            ],
            [
             0.3333333333333333,
             "#9c179e"
            ],
            [
             0.4444444444444444,
             "#bd3786"
            ],
            [
             0.5555555555555556,
             "#d8576b"
            ],
            [
             0.6666666666666666,
             "#ed7953"
            ],
            [
             0.7777777777777778,
             "#fb9f3a"
            ],
            [
             0.8888888888888888,
             "#fdca26"
            ],
            [
             1,
             "#f0f921"
            ]
           ],
           "sequentialminus": [
            [
             0,
             "#0d0887"
            ],
            [
             0.1111111111111111,
             "#46039f"
            ],
            [
             0.2222222222222222,
             "#7201a8"
            ],
            [
             0.3333333333333333,
             "#9c179e"
            ],
            [
             0.4444444444444444,
             "#bd3786"
            ],
            [
             0.5555555555555556,
             "#d8576b"
            ],
            [
             0.6666666666666666,
             "#ed7953"
            ],
            [
             0.7777777777777778,
             "#fb9f3a"
            ],
            [
             0.8888888888888888,
             "#fdca26"
            ],
            [
             1,
             "#f0f921"
            ]
           ]
          },
          "colorway": [
           "#636efa",
           "#EF553B",
           "#00cc96",
           "#ab63fa",
           "#FFA15A",
           "#19d3f3",
           "#FF6692",
           "#B6E880",
           "#FF97FF",
           "#FECB52"
          ],
          "font": {
           "color": "#2a3f5f"
          },
          "geo": {
           "bgcolor": "white",
           "lakecolor": "white",
           "landcolor": "#E5ECF6",
           "showlakes": true,
           "showland": true,
           "subunitcolor": "white"
          },
          "hoverlabel": {
           "align": "left"
          },
          "hovermode": "closest",
          "mapbox": {
           "style": "light"
          },
          "paper_bgcolor": "white",
          "plot_bgcolor": "#E5ECF6",
          "polar": {
           "angularaxis": {
            "gridcolor": "white",
            "linecolor": "white",
            "ticks": ""
           },
           "bgcolor": "#E5ECF6",
           "radialaxis": {
            "gridcolor": "white",
            "linecolor": "white",
            "ticks": ""
           }
          },
          "scene": {
           "xaxis": {
            "backgroundcolor": "#E5ECF6",
            "gridcolor": "white",
            "gridwidth": 2,
            "linecolor": "white",
            "showbackground": true,
            "ticks": "",
            "zerolinecolor": "white"
           },
           "yaxis": {
            "backgroundcolor": "#E5ECF6",
            "gridcolor": "white",
            "gridwidth": 2,
            "linecolor": "white",
            "showbackground": true,
            "ticks": "",
            "zerolinecolor": "white"
           },
           "zaxis": {
            "backgroundcolor": "#E5ECF6",
            "gridcolor": "white",
            "gridwidth": 2,
            "linecolor": "white",
            "showbackground": true,
            "ticks": "",
            "zerolinecolor": "white"
           }
          },
          "shapedefaults": {
           "line": {
            "color": "#2a3f5f"
           }
          },
          "ternary": {
           "aaxis": {
            "gridcolor": "white",
            "linecolor": "white",
            "ticks": ""
           },
           "baxis": {
            "gridcolor": "white",
            "linecolor": "white",
            "ticks": ""
           },
           "bgcolor": "#E5ECF6",
           "caxis": {
            "gridcolor": "white",
            "linecolor": "white",
            "ticks": ""
           }
          },
          "title": {
           "x": 0.05
          },
          "xaxis": {
           "automargin": true,
           "gridcolor": "white",
           "linecolor": "white",
           "ticks": "",
           "title": {
            "standoff": 15
           },
           "zerolinecolor": "white",
           "zerolinewidth": 2
          },
          "yaxis": {
           "automargin": true,
           "gridcolor": "white",
           "linecolor": "white",
           "ticks": "",
           "title": {
            "standoff": 15
           },
           "zerolinecolor": "white",
           "zerolinewidth": 2
          }
         }
        },
        "title": {
         "text": "Higher Sales by Date"
        },
        "xaxis": {
         "anchor": "y",
         "domain": [
          0,
          1
         ],
         "title": {
          "text": "Date"
         }
        },
        "yaxis": {
         "anchor": "x",
         "domain": [
          0,
          1
         ],
         "title": {
          "text": "Count"
         }
        }
       }
      },
      "text/html": [
       "<div>                            <div id=\"b474e60c-0ea0-42f2-a9c3-b9c78a33bcd3\" class=\"plotly-graph-div\" style=\"height:525px; width:100%;\"></div>            <script type=\"text/javascript\">                require([\"plotly\"], function(Plotly) {                    window.PLOTLYENV=window.PLOTLYENV || {};                                    if (document.getElementById(\"b474e60c-0ea0-42f2-a9c3-b9c78a33bcd3\")) {                    Plotly.newPlot(                        \"b474e60c-0ea0-42f2-a9c3-b9c78a33bcd3\",                        [{\"alignmentgroup\":\"True\",\"hovertemplate\":\"Date=%{x}<br>Count=%{y}<br>Meter=%{marker.color}<extra></extra>\",\"legendgroup\":\"\",\"marker\":{\"color\":[1921,1797,1793,1785,1724,1722,1699,1694,1670,1615,1591,1587,1576,1575,1570,1561,1560,1536,1527,1473,1472,1469,1437,1411],\"coloraxis\":\"coloraxis\",\"pattern\":{\"shape\":\"\"}},\"name\":\"\",\"offsetgroup\":\"\",\"orientation\":\"v\",\"showlegend\":false,\"textposition\":\"auto\",\"x\":[\"08-2015\",\"01-2015\",\"05-2015\",\"11-2015\",\"07-2015\",\"03-2015\",\"04-2015\",\"06-2015\",\"10-2015\",\"05-2014\",\"10-2014\",\"09-2015\",\"07-2014\",\"08-2014\",\"06-2014\",\"04-2014\",\"02-2015\",\"12-2015\",\"01-2014\",\"12-2014\",\"09-2014\",\"11-2014\",\"02-2014\",\"03-2014\"],\"xaxis\":\"x\",\"y\":[1921,1797,1793,1785,1724,1722,1699,1694,1670,1615,1591,1587,1576,1575,1570,1561,1560,1536,1527,1473,1472,1469,1437,1411],\"yaxis\":\"y\",\"type\":\"bar\"}],                        {\"template\":{\"data\":{\"histogram2dcontour\":[{\"type\":\"histogram2dcontour\",\"colorbar\":{\"outlinewidth\":0,\"ticks\":\"\"},\"colorscale\":[[0.0,\"#0d0887\"],[0.1111111111111111,\"#46039f\"],[0.2222222222222222,\"#7201a8\"],[0.3333333333333333,\"#9c179e\"],[0.4444444444444444,\"#bd3786\"],[0.5555555555555556,\"#d8576b\"],[0.6666666666666666,\"#ed7953\"],[0.7777777777777778,\"#fb9f3a\"],[0.8888888888888888,\"#fdca26\"],[1.0,\"#f0f921\"]]}],\"choropleth\":[{\"type\":\"choropleth\",\"colorbar\":{\"outlinewidth\":0,\"ticks\":\"\"}}],\"histogram2d\":[{\"type\":\"histogram2d\",\"colorbar\":{\"outlinewidth\":0,\"ticks\":\"\"},\"colorscale\":[[0.0,\"#0d0887\"],[0.1111111111111111,\"#46039f\"],[0.2222222222222222,\"#7201a8\"],[0.3333333333333333,\"#9c179e\"],[0.4444444444444444,\"#bd3786\"],[0.5555555555555556,\"#d8576b\"],[0.6666666666666666,\"#ed7953\"],[0.7777777777777778,\"#fb9f3a\"],[0.8888888888888888,\"#fdca26\"],[1.0,\"#f0f921\"]]}],\"heatmap\":[{\"type\":\"heatmap\",\"colorbar\":{\"outlinewidth\":0,\"ticks\":\"\"},\"colorscale\":[[0.0,\"#0d0887\"],[0.1111111111111111,\"#46039f\"],[0.2222222222222222,\"#7201a8\"],[0.3333333333333333,\"#9c179e\"],[0.4444444444444444,\"#bd3786\"],[0.5555555555555556,\"#d8576b\"],[0.6666666666666666,\"#ed7953\"],[0.7777777777777778,\"#fb9f3a\"],[0.8888888888888888,\"#fdca26\"],[1.0,\"#f0f921\"]]}],\"heatmapgl\":[{\"type\":\"heatmapgl\",\"colorbar\":{\"outlinewidth\":0,\"ticks\":\"\"},\"colorscale\":[[0.0,\"#0d0887\"],[0.1111111111111111,\"#46039f\"],[0.2222222222222222,\"#7201a8\"],[0.3333333333333333,\"#9c179e\"],[0.4444444444444444,\"#bd3786\"],[0.5555555555555556,\"#d8576b\"],[0.6666666666666666,\"#ed7953\"],[0.7777777777777778,\"#fb9f3a\"],[0.8888888888888888,\"#fdca26\"],[1.0,\"#f0f921\"]]}],\"contourcarpet\":[{\"type\":\"contourcarpet\",\"colorbar\":{\"outlinewidth\":0,\"ticks\":\"\"}}],\"contour\":[{\"type\":\"contour\",\"colorbar\":{\"outlinewidth\":0,\"ticks\":\"\"},\"colorscale\":[[0.0,\"#0d0887\"],[0.1111111111111111,\"#46039f\"],[0.2222222222222222,\"#7201a8\"],[0.3333333333333333,\"#9c179e\"],[0.4444444444444444,\"#bd3786\"],[0.5555555555555556,\"#d8576b\"],[0.6666666666666666,\"#ed7953\"],[0.7777777777777778,\"#fb9f3a\"],[0.8888888888888888,\"#fdca26\"],[1.0,\"#f0f921\"]]}],\"surface\":[{\"type\":\"surface\",\"colorbar\":{\"outlinewidth\":0,\"ticks\":\"\"},\"colorscale\":[[0.0,\"#0d0887\"],[0.1111111111111111,\"#46039f\"],[0.2222222222222222,\"#7201a8\"],[0.3333333333333333,\"#9c179e\"],[0.4444444444444444,\"#bd3786\"],[0.5555555555555556,\"#d8576b\"],[0.6666666666666666,\"#ed7953\"],[0.7777777777777778,\"#fb9f3a\"],[0.8888888888888888,\"#fdca26\"],[1.0,\"#f0f921\"]]}],\"mesh3d\":[{\"type\":\"mesh3d\",\"colorbar\":{\"outlinewidth\":0,\"ticks\":\"\"}}],\"scatter\":[{\"fillpattern\":{\"fillmode\":\"overlay\",\"size\":10,\"solidity\":0.2},\"type\":\"scatter\"}],\"parcoords\":[{\"type\":\"parcoords\",\"line\":{\"colorbar\":{\"outlinewidth\":0,\"ticks\":\"\"}}}],\"scatterpolargl\":[{\"type\":\"scatterpolargl\",\"marker\":{\"colorbar\":{\"outlinewidth\":0,\"ticks\":\"\"}}}],\"bar\":[{\"error_x\":{\"color\":\"#2a3f5f\"},\"error_y\":{\"color\":\"#2a3f5f\"},\"marker\":{\"line\":{\"color\":\"#E5ECF6\",\"width\":0.5},\"pattern\":{\"fillmode\":\"overlay\",\"size\":10,\"solidity\":0.2}},\"type\":\"bar\"}],\"scattergeo\":[{\"type\":\"scattergeo\",\"marker\":{\"colorbar\":{\"outlinewidth\":0,\"ticks\":\"\"}}}],\"scatterpolar\":[{\"type\":\"scatterpolar\",\"marker\":{\"colorbar\":{\"outlinewidth\":0,\"ticks\":\"\"}}}],\"histogram\":[{\"marker\":{\"pattern\":{\"fillmode\":\"overlay\",\"size\":10,\"solidity\":0.2}},\"type\":\"histogram\"}],\"scattergl\":[{\"type\":\"scattergl\",\"marker\":{\"colorbar\":{\"outlinewidth\":0,\"ticks\":\"\"}}}],\"scatter3d\":[{\"type\":\"scatter3d\",\"line\":{\"colorbar\":{\"outlinewidth\":0,\"ticks\":\"\"}},\"marker\":{\"colorbar\":{\"outlinewidth\":0,\"ticks\":\"\"}}}],\"scattermapbox\":[{\"type\":\"scattermapbox\",\"marker\":{\"colorbar\":{\"outlinewidth\":0,\"ticks\":\"\"}}}],\"scatterternary\":[{\"type\":\"scatterternary\",\"marker\":{\"colorbar\":{\"outlinewidth\":0,\"ticks\":\"\"}}}],\"scattercarpet\":[{\"type\":\"scattercarpet\",\"marker\":{\"colorbar\":{\"outlinewidth\":0,\"ticks\":\"\"}}}],\"carpet\":[{\"aaxis\":{\"endlinecolor\":\"#2a3f5f\",\"gridcolor\":\"white\",\"linecolor\":\"white\",\"minorgridcolor\":\"white\",\"startlinecolor\":\"#2a3f5f\"},\"baxis\":{\"endlinecolor\":\"#2a3f5f\",\"gridcolor\":\"white\",\"linecolor\":\"white\",\"minorgridcolor\":\"white\",\"startlinecolor\":\"#2a3f5f\"},\"type\":\"carpet\"}],\"table\":[{\"cells\":{\"fill\":{\"color\":\"#EBF0F8\"},\"line\":{\"color\":\"white\"}},\"header\":{\"fill\":{\"color\":\"#C8D4E3\"},\"line\":{\"color\":\"white\"}},\"type\":\"table\"}],\"barpolar\":[{\"marker\":{\"line\":{\"color\":\"#E5ECF6\",\"width\":0.5},\"pattern\":{\"fillmode\":\"overlay\",\"size\":10,\"solidity\":0.2}},\"type\":\"barpolar\"}],\"pie\":[{\"automargin\":true,\"type\":\"pie\"}]},\"layout\":{\"autotypenumbers\":\"strict\",\"colorway\":[\"#636efa\",\"#EF553B\",\"#00cc96\",\"#ab63fa\",\"#FFA15A\",\"#19d3f3\",\"#FF6692\",\"#B6E880\",\"#FF97FF\",\"#FECB52\"],\"font\":{\"color\":\"#2a3f5f\"},\"hovermode\":\"closest\",\"hoverlabel\":{\"align\":\"left\"},\"paper_bgcolor\":\"white\",\"plot_bgcolor\":\"#E5ECF6\",\"polar\":{\"bgcolor\":\"#E5ECF6\",\"angularaxis\":{\"gridcolor\":\"white\",\"linecolor\":\"white\",\"ticks\":\"\"},\"radialaxis\":{\"gridcolor\":\"white\",\"linecolor\":\"white\",\"ticks\":\"\"}},\"ternary\":{\"bgcolor\":\"#E5ECF6\",\"aaxis\":{\"gridcolor\":\"white\",\"linecolor\":\"white\",\"ticks\":\"\"},\"baxis\":{\"gridcolor\":\"white\",\"linecolor\":\"white\",\"ticks\":\"\"},\"caxis\":{\"gridcolor\":\"white\",\"linecolor\":\"white\",\"ticks\":\"\"}},\"coloraxis\":{\"colorbar\":{\"outlinewidth\":0,\"ticks\":\"\"}},\"colorscale\":{\"sequential\":[[0.0,\"#0d0887\"],[0.1111111111111111,\"#46039f\"],[0.2222222222222222,\"#7201a8\"],[0.3333333333333333,\"#9c179e\"],[0.4444444444444444,\"#bd3786\"],[0.5555555555555556,\"#d8576b\"],[0.6666666666666666,\"#ed7953\"],[0.7777777777777778,\"#fb9f3a\"],[0.8888888888888888,\"#fdca26\"],[1.0,\"#f0f921\"]],\"sequentialminus\":[[0.0,\"#0d0887\"],[0.1111111111111111,\"#46039f\"],[0.2222222222222222,\"#7201a8\"],[0.3333333333333333,\"#9c179e\"],[0.4444444444444444,\"#bd3786\"],[0.5555555555555556,\"#d8576b\"],[0.6666666666666666,\"#ed7953\"],[0.7777777777777778,\"#fb9f3a\"],[0.8888888888888888,\"#fdca26\"],[1.0,\"#f0f921\"]],\"diverging\":[[0,\"#8e0152\"],[0.1,\"#c51b7d\"],[0.2,\"#de77ae\"],[0.3,\"#f1b6da\"],[0.4,\"#fde0ef\"],[0.5,\"#f7f7f7\"],[0.6,\"#e6f5d0\"],[0.7,\"#b8e186\"],[0.8,\"#7fbc41\"],[0.9,\"#4d9221\"],[1,\"#276419\"]]},\"xaxis\":{\"gridcolor\":\"white\",\"linecolor\":\"white\",\"ticks\":\"\",\"title\":{\"standoff\":15},\"zerolinecolor\":\"white\",\"automargin\":true,\"zerolinewidth\":2},\"yaxis\":{\"gridcolor\":\"white\",\"linecolor\":\"white\",\"ticks\":\"\",\"title\":{\"standoff\":15},\"zerolinecolor\":\"white\",\"automargin\":true,\"zerolinewidth\":2},\"scene\":{\"xaxis\":{\"backgroundcolor\":\"#E5ECF6\",\"gridcolor\":\"white\",\"linecolor\":\"white\",\"showbackground\":true,\"ticks\":\"\",\"zerolinecolor\":\"white\",\"gridwidth\":2},\"yaxis\":{\"backgroundcolor\":\"#E5ECF6\",\"gridcolor\":\"white\",\"linecolor\":\"white\",\"showbackground\":true,\"ticks\":\"\",\"zerolinecolor\":\"white\",\"gridwidth\":2},\"zaxis\":{\"backgroundcolor\":\"#E5ECF6\",\"gridcolor\":\"white\",\"linecolor\":\"white\",\"showbackground\":true,\"ticks\":\"\",\"zerolinecolor\":\"white\",\"gridwidth\":2}},\"shapedefaults\":{\"line\":{\"color\":\"#2a3f5f\"}},\"annotationdefaults\":{\"arrowcolor\":\"#2a3f5f\",\"arrowhead\":0,\"arrowwidth\":1},\"geo\":{\"bgcolor\":\"white\",\"landcolor\":\"#E5ECF6\",\"subunitcolor\":\"white\",\"showland\":true,\"showlakes\":true,\"lakecolor\":\"white\"},\"title\":{\"x\":0.05},\"mapbox\":{\"style\":\"light\"}}},\"xaxis\":{\"anchor\":\"y\",\"domain\":[0.0,1.0],\"title\":{\"text\":\"Date\"}},\"yaxis\":{\"anchor\":\"x\",\"domain\":[0.0,1.0],\"title\":{\"text\":\"Count\"}},\"coloraxis\":{\"colorbar\":{\"title\":{\"text\":\"Meter\"}},\"colorscale\":[[0.0,\"#0d0887\"],[0.1111111111111111,\"#46039f\"],[0.2222222222222222,\"#7201a8\"],[0.3333333333333333,\"#9c179e\"],[0.4444444444444444,\"#bd3786\"],[0.5555555555555556,\"#d8576b\"],[0.6666666666666666,\"#ed7953\"],[0.7777777777777778,\"#fb9f3a\"],[0.8888888888888888,\"#fdca26\"],[1.0,\"#f0f921\"]]},\"legend\":{\"tracegroupgap\":0},\"margin\":{\"t\":60},\"barmode\":\"relative\",\"title\":{\"text\":\"Higher Sales by Date\"}},                        {\"responsive\": true}                    ).then(function(){\n",
       "                            \n",
       "var gd = document.getElementById('b474e60c-0ea0-42f2-a9c3-b9c78a33bcd3');\n",
       "var x = new MutationObserver(function (mutations, observer) {{\n",
       "        var display = window.getComputedStyle(gd).display;\n",
       "        if (!display || display === 'none') {{\n",
       "            console.log([gd, 'removed!']);\n",
       "            Plotly.purge(gd);\n",
       "            observer.disconnect();\n",
       "        }}\n",
       "}});\n",
       "\n",
       "// Listen for the removal of the full notebook cells\n",
       "var notebookContainer = gd.closest('#notebook-container');\n",
       "if (notebookContainer) {{\n",
       "    x.observe(notebookContainer, {childList: true});\n",
       "}}\n",
       "\n",
       "// Listen for the clearing of the current output cell\n",
       "var outputEl = gd.closest('.output');\n",
       "if (outputEl) {{\n",
       "    x.observe(outputEl, {childList: true});\n",
       "}}\n",
       "\n",
       "                        })                };                });            </script>        </div>"
      ]
     },
     "metadata": {},
     "output_type": "display_data"
    }
   ],
   "source": [
    "# Making a new column nd extracting Year\n",
    "\n",
    "df['Year'] = df['Date'].str.split(\"-\").str[-1]\n",
    "\n",
    "df['Month-Year'] = df['Date'].str.split(\"-\").str[1] + \"-\" + df['Date'].str.split(\"-\").str[-1]\n",
    "\n",
    "fig_1 = px.bar(df['Month-Year'].value_counts(ascending=False),\n",
    "    orientation =\"v\",\n",
    "    color = df['Month-Year'].value_counts(ascending=False),\n",
    "    labels = {'value' : 'Count', 'index' : 'Date', 'color' : 'Meter'})\n",
    "    \n",
    "\n",
    "fig_1.update_layout(title_text='Higher Sales by Date')\n",
    "fig_1.show()"
   ]
  },
  {
   "cell_type": "markdown",
   "id": "1d088b54",
   "metadata": {},
   "source": [
    "From the observation above. we could see that:\n",
    "   - Milk and other vegetables have been bought the most.\n",
    "   - Most shopping takes place in August and September meanwhile least shopping has done in February and March."
   ]
  },
  {
   "cell_type": "markdown",
   "id": "3f16008b",
   "metadata": {},
   "source": [
    "One hot encoding the products"
   ]
  },
  {
   "cell_type": "code",
   "execution_count": 85,
   "id": "f2ad1605",
   "metadata": {},
   "outputs": [
    {
     "data": {
      "text/plain": [
       "Member_number      False\n",
       "Date               False\n",
       "itemDescription    False\n",
       "Year               False\n",
       "Month-Year         False\n",
       "dtype: bool"
      ]
     },
     "execution_count": 85,
     "metadata": {},
     "output_type": "execute_result"
    }
   ],
   "source": [
    "df.isnull().any()"
   ]
  },
  {
   "cell_type": "code",
   "execution_count": 86,
   "id": "f63e4242",
   "metadata": {},
   "outputs": [],
   "source": [
    "products = df['itemDescription'].unique()"
   ]
  },
  {
   "cell_type": "code",
   "execution_count": 87,
   "id": "bb79c986",
   "metadata": {},
   "outputs": [
    {
     "data": {
      "text/html": [
       "<div>\n",
       "<style scoped>\n",
       "    .dataframe tbody tr th:only-of-type {\n",
       "        vertical-align: middle;\n",
       "    }\n",
       "\n",
       "    .dataframe tbody tr th {\n",
       "        vertical-align: top;\n",
       "    }\n",
       "\n",
       "    .dataframe thead th {\n",
       "        text-align: right;\n",
       "    }\n",
       "</style>\n",
       "<table border=\"1\" class=\"dataframe\">\n",
       "  <thead>\n",
       "    <tr style=\"text-align: right;\">\n",
       "      <th></th>\n",
       "      <th>Member_number</th>\n",
       "      <th>Date</th>\n",
       "      <th>Year</th>\n",
       "      <th>Month-Year</th>\n",
       "      <th>Instant food products</th>\n",
       "      <th>UHT-milk</th>\n",
       "      <th>abrasive cleaner</th>\n",
       "      <th>artif. sweetener</th>\n",
       "      <th>baby cosmetics</th>\n",
       "      <th>bags</th>\n",
       "      <th>...</th>\n",
       "      <th>turkey</th>\n",
       "      <th>vinegar</th>\n",
       "      <th>waffles</th>\n",
       "      <th>whipped/sour cream</th>\n",
       "      <th>whisky</th>\n",
       "      <th>white bread</th>\n",
       "      <th>white wine</th>\n",
       "      <th>whole milk</th>\n",
       "      <th>yogurt</th>\n",
       "      <th>zwieback</th>\n",
       "    </tr>\n",
       "  </thead>\n",
       "  <tbody>\n",
       "    <tr>\n",
       "      <th>0</th>\n",
       "      <td>1808</td>\n",
       "      <td>21-07-2015</td>\n",
       "      <td>2015</td>\n",
       "      <td>07-2015</td>\n",
       "      <td>0</td>\n",
       "      <td>0</td>\n",
       "      <td>0</td>\n",
       "      <td>0</td>\n",
       "      <td>0</td>\n",
       "      <td>0</td>\n",
       "      <td>...</td>\n",
       "      <td>0</td>\n",
       "      <td>0</td>\n",
       "      <td>0</td>\n",
       "      <td>0</td>\n",
       "      <td>0</td>\n",
       "      <td>0</td>\n",
       "      <td>0</td>\n",
       "      <td>0</td>\n",
       "      <td>0</td>\n",
       "      <td>0</td>\n",
       "    </tr>\n",
       "    <tr>\n",
       "      <th>1</th>\n",
       "      <td>2552</td>\n",
       "      <td>05-01-2015</td>\n",
       "      <td>2015</td>\n",
       "      <td>01-2015</td>\n",
       "      <td>0</td>\n",
       "      <td>0</td>\n",
       "      <td>0</td>\n",
       "      <td>0</td>\n",
       "      <td>0</td>\n",
       "      <td>0</td>\n",
       "      <td>...</td>\n",
       "      <td>0</td>\n",
       "      <td>0</td>\n",
       "      <td>0</td>\n",
       "      <td>0</td>\n",
       "      <td>0</td>\n",
       "      <td>0</td>\n",
       "      <td>0</td>\n",
       "      <td>1</td>\n",
       "      <td>0</td>\n",
       "      <td>0</td>\n",
       "    </tr>\n",
       "    <tr>\n",
       "      <th>2</th>\n",
       "      <td>2300</td>\n",
       "      <td>19-09-2015</td>\n",
       "      <td>2015</td>\n",
       "      <td>09-2015</td>\n",
       "      <td>0</td>\n",
       "      <td>0</td>\n",
       "      <td>0</td>\n",
       "      <td>0</td>\n",
       "      <td>0</td>\n",
       "      <td>0</td>\n",
       "      <td>...</td>\n",
       "      <td>0</td>\n",
       "      <td>0</td>\n",
       "      <td>0</td>\n",
       "      <td>0</td>\n",
       "      <td>0</td>\n",
       "      <td>0</td>\n",
       "      <td>0</td>\n",
       "      <td>0</td>\n",
       "      <td>0</td>\n",
       "      <td>0</td>\n",
       "    </tr>\n",
       "    <tr>\n",
       "      <th>3</th>\n",
       "      <td>1187</td>\n",
       "      <td>12-12-2015</td>\n",
       "      <td>2015</td>\n",
       "      <td>12-2015</td>\n",
       "      <td>0</td>\n",
       "      <td>0</td>\n",
       "      <td>0</td>\n",
       "      <td>0</td>\n",
       "      <td>0</td>\n",
       "      <td>0</td>\n",
       "      <td>...</td>\n",
       "      <td>0</td>\n",
       "      <td>0</td>\n",
       "      <td>0</td>\n",
       "      <td>0</td>\n",
       "      <td>0</td>\n",
       "      <td>0</td>\n",
       "      <td>0</td>\n",
       "      <td>0</td>\n",
       "      <td>0</td>\n",
       "      <td>0</td>\n",
       "    </tr>\n",
       "    <tr>\n",
       "      <th>4</th>\n",
       "      <td>3037</td>\n",
       "      <td>01-02-2015</td>\n",
       "      <td>2015</td>\n",
       "      <td>02-2015</td>\n",
       "      <td>0</td>\n",
       "      <td>0</td>\n",
       "      <td>0</td>\n",
       "      <td>0</td>\n",
       "      <td>0</td>\n",
       "      <td>0</td>\n",
       "      <td>...</td>\n",
       "      <td>0</td>\n",
       "      <td>0</td>\n",
       "      <td>0</td>\n",
       "      <td>0</td>\n",
       "      <td>0</td>\n",
       "      <td>0</td>\n",
       "      <td>0</td>\n",
       "      <td>1</td>\n",
       "      <td>0</td>\n",
       "      <td>0</td>\n",
       "    </tr>\n",
       "  </tbody>\n",
       "</table>\n",
       "<p>5 rows × 171 columns</p>\n",
       "</div>"
      ],
      "text/plain": [
       "   Member_number        Date  Year Month-Year  Instant food products  \\\n",
       "0           1808  21-07-2015  2015    07-2015                      0   \n",
       "1           2552  05-01-2015  2015    01-2015                      0   \n",
       "2           2300  19-09-2015  2015    09-2015                      0   \n",
       "3           1187  12-12-2015  2015    12-2015                      0   \n",
       "4           3037  01-02-2015  2015    02-2015                      0   \n",
       "\n",
       "   UHT-milk  abrasive cleaner  artif. sweetener  baby cosmetics  bags  ...  \\\n",
       "0         0                 0                 0               0     0  ...   \n",
       "1         0                 0                 0               0     0  ...   \n",
       "2         0                 0                 0               0     0  ...   \n",
       "3         0                 0                 0               0     0  ...   \n",
       "4         0                 0                 0               0     0  ...   \n",
       "\n",
       "   turkey  vinegar  waffles  whipped/sour cream  whisky  white bread  \\\n",
       "0       0        0        0                   0       0            0   \n",
       "1       0        0        0                   0       0            0   \n",
       "2       0        0        0                   0       0            0   \n",
       "3       0        0        0                   0       0            0   \n",
       "4       0        0        0                   0       0            0   \n",
       "\n",
       "   white wine  whole milk  yogurt  zwieback  \n",
       "0           0           0       0         0  \n",
       "1           0           1       0         0  \n",
       "2           0           0       0         0  \n",
       "3           0           0       0         0  \n",
       "4           0           1       0         0  \n",
       "\n",
       "[5 rows x 171 columns]"
      ]
     },
     "execution_count": 87,
     "metadata": {},
     "output_type": "execute_result"
    }
   ],
   "source": [
    "dummy = pd.get_dummies(df['itemDescription'])\n",
    "df.drop(['itemDescription'], inplace=True, axis=1)\n",
    "\n",
    "df = df.join(dummy)\n",
    "\n",
    "df.head()"
   ]
  },
  {
   "cell_type": "code",
   "execution_count": 88,
   "id": "24184868",
   "metadata": {},
   "outputs": [
    {
     "data": {
      "text/plain": [
       "(38765, 171)"
      ]
     },
     "execution_count": 88,
     "metadata": {},
     "output_type": "execute_result"
    }
   ],
   "source": [
    "df.shape"
   ]
  },
  {
   "cell_type": "markdown",
   "id": "d8011248",
   "metadata": {},
   "source": [
    "If a customer has bought multiple items in one day"
   ]
  },
  {
   "cell_type": "code",
   "execution_count": 89,
   "id": "fef5e7ce",
   "metadata": {},
   "outputs": [
    {
     "name": "stdout",
     "output_type": "stream",
     "text": [
      "New Dimension (14963, 167)\n"
     ]
    },
    {
     "data": {
      "text/html": [
       "<div>\n",
       "<style scoped>\n",
       "    .dataframe tbody tr th:only-of-type {\n",
       "        vertical-align: middle;\n",
       "    }\n",
       "\n",
       "    .dataframe tbody tr th {\n",
       "        vertical-align: top;\n",
       "    }\n",
       "\n",
       "    .dataframe thead th {\n",
       "        text-align: right;\n",
       "    }\n",
       "</style>\n",
       "<table border=\"1\" class=\"dataframe\">\n",
       "  <thead>\n",
       "    <tr style=\"text-align: right;\">\n",
       "      <th></th>\n",
       "      <th>tropical fruit</th>\n",
       "      <th>whole milk</th>\n",
       "      <th>pip fruit</th>\n",
       "      <th>other vegetables</th>\n",
       "      <th>rolls/buns</th>\n",
       "      <th>pot plants</th>\n",
       "      <th>citrus fruit</th>\n",
       "      <th>beef</th>\n",
       "      <th>frankfurter</th>\n",
       "      <th>chicken</th>\n",
       "      <th>...</th>\n",
       "      <th>flower (seeds)</th>\n",
       "      <th>rice</th>\n",
       "      <th>tea</th>\n",
       "      <th>salad dressing</th>\n",
       "      <th>specialty vegetables</th>\n",
       "      <th>pudding powder</th>\n",
       "      <th>ready soups</th>\n",
       "      <th>make up remover</th>\n",
       "      <th>toilet cleaner</th>\n",
       "      <th>preservation products</th>\n",
       "    </tr>\n",
       "  </thead>\n",
       "  <tbody>\n",
       "    <tr>\n",
       "      <th>0</th>\n",
       "      <td>0</td>\n",
       "      <td>1</td>\n",
       "      <td>0</td>\n",
       "      <td>0</td>\n",
       "      <td>0</td>\n",
       "      <td>0</td>\n",
       "      <td>0</td>\n",
       "      <td>0</td>\n",
       "      <td>0</td>\n",
       "      <td>0</td>\n",
       "      <td>...</td>\n",
       "      <td>0</td>\n",
       "      <td>0</td>\n",
       "      <td>0</td>\n",
       "      <td>0</td>\n",
       "      <td>0</td>\n",
       "      <td>0</td>\n",
       "      <td>0</td>\n",
       "      <td>0</td>\n",
       "      <td>0</td>\n",
       "      <td>0</td>\n",
       "    </tr>\n",
       "    <tr>\n",
       "      <th>1</th>\n",
       "      <td>0</td>\n",
       "      <td>1</td>\n",
       "      <td>0</td>\n",
       "      <td>0</td>\n",
       "      <td>0</td>\n",
       "      <td>0</td>\n",
       "      <td>0</td>\n",
       "      <td>0</td>\n",
       "      <td>0</td>\n",
       "      <td>0</td>\n",
       "      <td>...</td>\n",
       "      <td>0</td>\n",
       "      <td>0</td>\n",
       "      <td>0</td>\n",
       "      <td>0</td>\n",
       "      <td>0</td>\n",
       "      <td>0</td>\n",
       "      <td>0</td>\n",
       "      <td>0</td>\n",
       "      <td>0</td>\n",
       "      <td>0</td>\n",
       "    </tr>\n",
       "    <tr>\n",
       "      <th>2</th>\n",
       "      <td>0</td>\n",
       "      <td>0</td>\n",
       "      <td>0</td>\n",
       "      <td>0</td>\n",
       "      <td>0</td>\n",
       "      <td>0</td>\n",
       "      <td>0</td>\n",
       "      <td>0</td>\n",
       "      <td>0</td>\n",
       "      <td>0</td>\n",
       "      <td>...</td>\n",
       "      <td>0</td>\n",
       "      <td>0</td>\n",
       "      <td>0</td>\n",
       "      <td>0</td>\n",
       "      <td>0</td>\n",
       "      <td>0</td>\n",
       "      <td>0</td>\n",
       "      <td>0</td>\n",
       "      <td>0</td>\n",
       "      <td>0</td>\n",
       "    </tr>\n",
       "    <tr>\n",
       "      <th>3</th>\n",
       "      <td>0</td>\n",
       "      <td>0</td>\n",
       "      <td>0</td>\n",
       "      <td>0</td>\n",
       "      <td>0</td>\n",
       "      <td>0</td>\n",
       "      <td>0</td>\n",
       "      <td>0</td>\n",
       "      <td>0</td>\n",
       "      <td>0</td>\n",
       "      <td>...</td>\n",
       "      <td>0</td>\n",
       "      <td>0</td>\n",
       "      <td>0</td>\n",
       "      <td>0</td>\n",
       "      <td>0</td>\n",
       "      <td>0</td>\n",
       "      <td>0</td>\n",
       "      <td>0</td>\n",
       "      <td>0</td>\n",
       "      <td>0</td>\n",
       "    </tr>\n",
       "    <tr>\n",
       "      <th>4</th>\n",
       "      <td>0</td>\n",
       "      <td>0</td>\n",
       "      <td>0</td>\n",
       "      <td>0</td>\n",
       "      <td>0</td>\n",
       "      <td>0</td>\n",
       "      <td>0</td>\n",
       "      <td>0</td>\n",
       "      <td>0</td>\n",
       "      <td>0</td>\n",
       "      <td>...</td>\n",
       "      <td>0</td>\n",
       "      <td>0</td>\n",
       "      <td>0</td>\n",
       "      <td>0</td>\n",
       "      <td>0</td>\n",
       "      <td>0</td>\n",
       "      <td>0</td>\n",
       "      <td>0</td>\n",
       "      <td>0</td>\n",
       "      <td>0</td>\n",
       "    </tr>\n",
       "  </tbody>\n",
       "</table>\n",
       "<p>5 rows × 167 columns</p>\n",
       "</div>"
      ],
      "text/plain": [
       "   tropical fruit  whole milk  pip fruit  other vegetables  rolls/buns  \\\n",
       "0               0           1          0                 0           0   \n",
       "1               0           1          0                 0           0   \n",
       "2               0           0          0                 0           0   \n",
       "3               0           0          0                 0           0   \n",
       "4               0           0          0                 0           0   \n",
       "\n",
       "   pot plants  citrus fruit  beef  frankfurter  chicken  ...  flower (seeds)  \\\n",
       "0           0             0     0            0        0  ...               0   \n",
       "1           0             0     0            0        0  ...               0   \n",
       "2           0             0     0            0        0  ...               0   \n",
       "3           0             0     0            0        0  ...               0   \n",
       "4           0             0     0            0        0  ...               0   \n",
       "\n",
       "   rice  tea  salad dressing  specialty vegetables  pudding powder  \\\n",
       "0     0    0               0                     0               0   \n",
       "1     0    0               0                     0               0   \n",
       "2     0    0               0                     0               0   \n",
       "3     0    0               0                     0               0   \n",
       "4     0    0               0                     0               0   \n",
       "\n",
       "   ready soups  make up remover  toilet cleaner  preservation products  \n",
       "0            0                0               0                      0  \n",
       "1            0                0               0                      0  \n",
       "2            0                0               0                      0  \n",
       "3            0                0               0                      0  \n",
       "4            0                0               0                      0  \n",
       "\n",
       "[5 rows x 167 columns]"
      ]
     },
     "execution_count": 89,
     "metadata": {},
     "output_type": "execute_result"
    }
   ],
   "source": [
    "df1 = df.groupby(['Member_number', 'Date'])[products[:]].sum()\n",
    "df1 = df1.reset_index()[products]\n",
    "\n",
    "print(\"New Dimension\", df1.shape)\n",
    "df1.head()"
   ]
  },
  {
   "cell_type": "code",
   "execution_count": 90,
   "id": "e2981ec1",
   "metadata": {},
   "outputs": [
    {
     "data": {
      "text/html": [
       "<div>\n",
       "<style scoped>\n",
       "    .dataframe tbody tr th:only-of-type {\n",
       "        vertical-align: middle;\n",
       "    }\n",
       "\n",
       "    .dataframe tbody tr th {\n",
       "        vertical-align: top;\n",
       "    }\n",
       "\n",
       "    .dataframe thead th {\n",
       "        text-align: right;\n",
       "    }\n",
       "</style>\n",
       "<table border=\"1\" class=\"dataframe\">\n",
       "  <thead>\n",
       "    <tr style=\"text-align: right;\">\n",
       "      <th></th>\n",
       "      <th>tropical fruit</th>\n",
       "      <th>whole milk</th>\n",
       "      <th>pip fruit</th>\n",
       "      <th>other vegetables</th>\n",
       "      <th>rolls/buns</th>\n",
       "      <th>pot plants</th>\n",
       "      <th>citrus fruit</th>\n",
       "      <th>beef</th>\n",
       "      <th>frankfurter</th>\n",
       "      <th>chicken</th>\n",
       "      <th>...</th>\n",
       "      <th>flower (seeds)</th>\n",
       "      <th>rice</th>\n",
       "      <th>tea</th>\n",
       "      <th>salad dressing</th>\n",
       "      <th>specialty vegetables</th>\n",
       "      <th>pudding powder</th>\n",
       "      <th>ready soups</th>\n",
       "      <th>make up remover</th>\n",
       "      <th>toilet cleaner</th>\n",
       "      <th>preservation products</th>\n",
       "    </tr>\n",
       "  </thead>\n",
       "  <tbody>\n",
       "    <tr>\n",
       "      <th>0</th>\n",
       "      <td>0</td>\n",
       "      <td>whole milk</td>\n",
       "      <td>0</td>\n",
       "      <td>0</td>\n",
       "      <td>0</td>\n",
       "      <td>0</td>\n",
       "      <td>0</td>\n",
       "      <td>0</td>\n",
       "      <td>0</td>\n",
       "      <td>0</td>\n",
       "      <td>...</td>\n",
       "      <td>0</td>\n",
       "      <td>0</td>\n",
       "      <td>0</td>\n",
       "      <td>0</td>\n",
       "      <td>0</td>\n",
       "      <td>0</td>\n",
       "      <td>0</td>\n",
       "      <td>0</td>\n",
       "      <td>0</td>\n",
       "      <td>0</td>\n",
       "    </tr>\n",
       "    <tr>\n",
       "      <th>1</th>\n",
       "      <td>0</td>\n",
       "      <td>whole milk</td>\n",
       "      <td>0</td>\n",
       "      <td>0</td>\n",
       "      <td>0</td>\n",
       "      <td>0</td>\n",
       "      <td>0</td>\n",
       "      <td>0</td>\n",
       "      <td>0</td>\n",
       "      <td>0</td>\n",
       "      <td>...</td>\n",
       "      <td>0</td>\n",
       "      <td>0</td>\n",
       "      <td>0</td>\n",
       "      <td>0</td>\n",
       "      <td>0</td>\n",
       "      <td>0</td>\n",
       "      <td>0</td>\n",
       "      <td>0</td>\n",
       "      <td>0</td>\n",
       "      <td>0</td>\n",
       "    </tr>\n",
       "    <tr>\n",
       "      <th>2</th>\n",
       "      <td>0</td>\n",
       "      <td>0</td>\n",
       "      <td>0</td>\n",
       "      <td>0</td>\n",
       "      <td>0</td>\n",
       "      <td>0</td>\n",
       "      <td>0</td>\n",
       "      <td>0</td>\n",
       "      <td>0</td>\n",
       "      <td>0</td>\n",
       "      <td>...</td>\n",
       "      <td>0</td>\n",
       "      <td>0</td>\n",
       "      <td>0</td>\n",
       "      <td>0</td>\n",
       "      <td>0</td>\n",
       "      <td>0</td>\n",
       "      <td>0</td>\n",
       "      <td>0</td>\n",
       "      <td>0</td>\n",
       "      <td>0</td>\n",
       "    </tr>\n",
       "    <tr>\n",
       "      <th>3</th>\n",
       "      <td>0</td>\n",
       "      <td>0</td>\n",
       "      <td>0</td>\n",
       "      <td>0</td>\n",
       "      <td>0</td>\n",
       "      <td>0</td>\n",
       "      <td>0</td>\n",
       "      <td>0</td>\n",
       "      <td>0</td>\n",
       "      <td>0</td>\n",
       "      <td>...</td>\n",
       "      <td>0</td>\n",
       "      <td>0</td>\n",
       "      <td>0</td>\n",
       "      <td>0</td>\n",
       "      <td>0</td>\n",
       "      <td>0</td>\n",
       "      <td>0</td>\n",
       "      <td>0</td>\n",
       "      <td>0</td>\n",
       "      <td>0</td>\n",
       "    </tr>\n",
       "    <tr>\n",
       "      <th>4</th>\n",
       "      <td>0</td>\n",
       "      <td>0</td>\n",
       "      <td>0</td>\n",
       "      <td>0</td>\n",
       "      <td>0</td>\n",
       "      <td>0</td>\n",
       "      <td>0</td>\n",
       "      <td>0</td>\n",
       "      <td>0</td>\n",
       "      <td>0</td>\n",
       "      <td>...</td>\n",
       "      <td>0</td>\n",
       "      <td>0</td>\n",
       "      <td>0</td>\n",
       "      <td>0</td>\n",
       "      <td>0</td>\n",
       "      <td>0</td>\n",
       "      <td>0</td>\n",
       "      <td>0</td>\n",
       "      <td>0</td>\n",
       "      <td>0</td>\n",
       "    </tr>\n",
       "  </tbody>\n",
       "</table>\n",
       "<p>5 rows × 167 columns</p>\n",
       "</div>"
      ],
      "text/plain": [
       "  tropical fruit  whole milk pip fruit other vegetables rolls/buns pot plants  \\\n",
       "0              0  whole milk         0                0          0          0   \n",
       "1              0  whole milk         0                0          0          0   \n",
       "2              0           0         0                0          0          0   \n",
       "3              0           0         0                0          0          0   \n",
       "4              0           0         0                0          0          0   \n",
       "\n",
       "  citrus fruit beef frankfurter chicken  ... flower (seeds) rice tea  \\\n",
       "0            0    0           0       0  ...              0    0   0   \n",
       "1            0    0           0       0  ...              0    0   0   \n",
       "2            0    0           0       0  ...              0    0   0   \n",
       "3            0    0           0       0  ...              0    0   0   \n",
       "4            0    0           0       0  ...              0    0   0   \n",
       "\n",
       "  salad dressing specialty vegetables pudding powder ready soups  \\\n",
       "0              0                    0              0           0   \n",
       "1              0                    0              0           0   \n",
       "2              0                    0              0           0   \n",
       "3              0                    0              0           0   \n",
       "4              0                    0              0           0   \n",
       "\n",
       "  make up remover toilet cleaner preservation products  \n",
       "0               0              0                     0  \n",
       "1               0              0                     0  \n",
       "2               0              0                     0  \n",
       "3               0              0                     0  \n",
       "4               0              0                     0  \n",
       "\n",
       "[5 rows x 167 columns]"
      ]
     },
     "execution_count": 90,
     "metadata": {},
     "output_type": "execute_result"
    }
   ],
   "source": [
    "# Replacing all non-zero values with the name of products\n",
    "\n",
    "def product_names(x):\n",
    "    for product in products:\n",
    "        if x[product] > 0:\n",
    "            x[product] = product\n",
    "    return x\n",
    "\n",
    "df1 = df1.apply(product_names, axis=1)\n",
    "df1.head()"
   ]
  },
  {
   "cell_type": "code",
   "execution_count": 91,
   "id": "c0374015",
   "metadata": {},
   "outputs": [
    {
     "name": "stdout",
     "output_type": "stream",
     "text": [
      "Total number of Transactions: 14963\n"
     ]
    }
   ],
   "source": [
    "print('Total number of Transactions:', len(df1))"
   ]
  },
  {
   "cell_type": "code",
   "execution_count": 92,
   "id": "8d8e49ab",
   "metadata": {},
   "outputs": [
    {
     "data": {
      "text/plain": [
       "[['whole milk', 'yogurt', 'sausage', 'semi-finished bread'],\n",
       " ['whole milk', 'pastry', 'salty snack'],\n",
       " ['canned beer', 'misc. beverages'],\n",
       " ['sausage', 'hygiene articles'],\n",
       " ['soda', 'pickled vegetables'],\n",
       " ['frankfurter', 'curd'],\n",
       " ['whole milk', 'rolls/buns', 'sausage'],\n",
       " ['whole milk', 'soda'],\n",
       " ['beef', 'white bread'],\n",
       " ['frankfurter', 'soda', 'whipped/sour cream']]"
      ]
     },
     "execution_count": 92,
     "metadata": {},
     "output_type": "execute_result"
    }
   ],
   "source": [
    "# Removing zeros, extracting the list of items bought per customer\n",
    "\n",
    "x = df1.values\n",
    "x = [sub[~(sub==0)].tolist() for sub in x if sub [sub != 0].tolist()]\n",
    "transactions = x\n",
    "transactions[0:10]"
   ]
  },
  {
   "cell_type": "markdown",
   "id": "e6ec79f1",
   "metadata": {},
   "source": [
    "# Implementing Apriori Algorithm"
   ]
  },
  {
   "cell_type": "code",
   "execution_count": 137,
   "id": "7d1f88e3",
   "metadata": {},
   "outputs": [
    {
     "name": "stdout",
     "output_type": "stream",
     "text": [
      "[OrderedStatistic(items_base=frozenset(), items_add=frozenset({'bottled water'}), confidence=0.06068301811134131, lift=1.0)]\n"
     ]
    }
   ],
   "source": [
    "rules = apriori(transactions, min_support=0.00030, min_confidence=0.05, min_left=3, max_length=2, target='rules')\n",
    "\n",
    "association_result = list(rules)\n",
    "\n",
    "print(association_result[0][2])\n"
   ]
  },
  {
   "cell_type": "code",
   "execution_count": 143,
   "id": "94265aca",
   "metadata": {},
   "outputs": [
    {
     "name": "stdout",
     "output_type": "stream",
     "text": [
      "Item [frozenset({'bottled water'}), 0.06068301811134131, [OrderedStatistic(items_base=frozenset(), items_add=frozenset({'bottled water'}), confidence=0.06068301811134131, lift=1.0)]]\n",
      "Confidence 0.06068301811134131\n",
      "Statistics [OrderedStatistic(items_base=frozenset(), items_add=frozenset({'bottled water'}), confidence=0.06068301811134131, lift=1.0)]\n",
      "Item [frozenset({'citrus fruit'}), 0.05313105660629553, [OrderedStatistic(items_base=frozenset(), items_add=frozenset({'citrus fruit'}), confidence=0.05313105660629553, lift=1.0)]]\n",
      "Confidence 0.05313105660629553\n",
      "Statistics [OrderedStatistic(items_base=frozenset(), items_add=frozenset({'citrus fruit'}), confidence=0.05313105660629553, lift=1.0)]\n",
      "Item [frozenset({'other vegetables'}), 0.12210118291786407, [OrderedStatistic(items_base=frozenset(), items_add=frozenset({'other vegetables'}), confidence=0.12210118291786407, lift=1.0)]]\n",
      "Confidence 0.12210118291786407\n",
      "Statistics [OrderedStatistic(items_base=frozenset(), items_add=frozenset({'other vegetables'}), confidence=0.12210118291786407, lift=1.0)]\n",
      "Item [frozenset({'pastry'}), 0.0517275947336764, [OrderedStatistic(items_base=frozenset(), items_add=frozenset({'pastry'}), confidence=0.0517275947336764, lift=1.0)]]\n",
      "Confidence 0.0517275947336764\n",
      "Statistics [OrderedStatistic(items_base=frozenset(), items_add=frozenset({'pastry'}), confidence=0.0517275947336764, lift=1.0)]\n",
      "Item [frozenset({'rolls/buns'}), 0.11000467820624206, [OrderedStatistic(items_base=frozenset(), items_add=frozenset({'rolls/buns'}), confidence=0.11000467820624206, lift=1.0)]]\n",
      "Confidence 0.11000467820624206\n",
      "Statistics [OrderedStatistic(items_base=frozenset(), items_add=frozenset({'rolls/buns'}), confidence=0.11000467820624206, lift=1.0)]\n",
      "Item [frozenset({'root vegetables'}), 0.06957160997126245, [OrderedStatistic(items_base=frozenset(), items_add=frozenset({'root vegetables'}), confidence=0.06957160997126245, lift=1.0)]]\n",
      "Confidence 0.06957160997126245\n",
      "Statistics [OrderedStatistic(items_base=frozenset(), items_add=frozenset({'root vegetables'}), confidence=0.06957160997126245, lift=1.0)]\n",
      "Item [frozenset({'sausage'}), 0.06034886052262247, [OrderedStatistic(items_base=frozenset(), items_add=frozenset({'sausage'}), confidence=0.06034886052262247, lift=1.0)]]\n",
      "Confidence 0.06034886052262247\n",
      "Statistics [OrderedStatistic(items_base=frozenset(), items_add=frozenset({'sausage'}), confidence=0.06034886052262247, lift=1.0)]\n",
      "Item [frozenset({'soda'}), 0.09710619528169484, [OrderedStatistic(items_base=frozenset(), items_add=frozenset({'soda'}), confidence=0.09710619528169484, lift=1.0)]]\n",
      "Confidence 0.09710619528169484\n",
      "Statistics [OrderedStatistic(items_base=frozenset(), items_add=frozenset({'soda'}), confidence=0.09710619528169484, lift=1.0)]\n",
      "Item [frozenset({'tropical fruit'}), 0.0677671589921807, [OrderedStatistic(items_base=frozenset(), items_add=frozenset({'tropical fruit'}), confidence=0.0677671589921807, lift=1.0)]]\n",
      "Confidence 0.0677671589921807\n",
      "Statistics [OrderedStatistic(items_base=frozenset(), items_add=frozenset({'tropical fruit'}), confidence=0.0677671589921807, lift=1.0)]\n",
      "Item [frozenset({'whole milk'}), 0.15792287642852368, [OrderedStatistic(items_base=frozenset(), items_add=frozenset({'whole milk'}), confidence=0.15792287642852368, lift=1.0)]]\n",
      "Confidence 0.15792287642852368\n",
      "Statistics [OrderedStatistic(items_base=frozenset(), items_add=frozenset({'whole milk'}), confidence=0.15792287642852368, lift=1.0)]\n",
      "Item [frozenset({'yogurt'}), 0.08587850030074183, [OrderedStatistic(items_base=frozenset(), items_add=frozenset({'yogurt'}), confidence=0.08587850030074183, lift=1.0)]]\n",
      "Confidence 0.08587850030074183\n",
      "Statistics [OrderedStatistic(items_base=frozenset(), items_add=frozenset({'yogurt'}), confidence=0.08587850030074183, lift=1.0)]\n",
      "Item [frozenset({'Instant food products', 'rolls/buns'}), 0.00040098910646260775, [OrderedStatistic(items_base=frozenset({'Instant food products'}), items_add=frozenset({'rolls/buns'}), confidence=0.09999999999999999, lift=0.909052247873633)]]\n",
      "Confidence 0.00040098910646260775\n",
      "Statistics [OrderedStatistic(items_base=frozenset({'Instant food products'}), items_add=frozenset({'rolls/buns'}), confidence=0.09999999999999999, lift=0.909052247873633)]\n",
      "Item [frozenset({'Instant food products', 'root vegetables'}), 0.00040098910646260775, [OrderedStatistic(items_base=frozenset({'Instant food products'}), items_add=frozenset({'root vegetables'}), confidence=0.09999999999999999, lift=1.437367915465898)]]\n",
      "Confidence 0.00040098910646260775\n",
      "Statistics [OrderedStatistic(items_base=frozenset({'Instant food products'}), items_add=frozenset({'root vegetables'}), confidence=0.09999999999999999, lift=1.437367915465898)]\n",
      "Item [frozenset({'Instant food products', 'whole milk'}), 0.0005346521419501437, [OrderedStatistic(items_base=frozenset({'Instant food products'}), items_add=frozenset({'whole milk'}), confidence=0.13333333333333333, lift=0.8442939765834392)]]\n",
      "Confidence 0.0005346521419501437\n",
      "Statistics [OrderedStatistic(items_base=frozenset({'Instant food products'}), items_add=frozenset({'whole milk'}), confidence=0.13333333333333333, lift=0.8442939765834392)]\n",
      "Item [frozenset({'yogurt', 'Instant food products'}), 0.0003341575887188398, [OrderedStatistic(items_base=frozenset({'Instant food products'}), items_add=frozenset({'yogurt'}), confidence=0.08333333333333333, lift=0.9703631647211413)]]\n",
      "Confidence 0.0003341575887188398\n",
      "Statistics [OrderedStatistic(items_base=frozenset({'Instant food products'}), items_add=frozenset({'yogurt'}), confidence=0.08333333333333333, lift=0.9703631647211413)]\n",
      "Item [frozenset({'bottled water', 'UHT-milk'}), 0.0010693042839002875, [OrderedStatistic(items_base=frozenset({'UHT-milk'}), items_add=frozenset({'bottled water'}), confidence=0.05, lift=0.8239537444933921)]]\n",
      "Confidence 0.0010693042839002875\n",
      "Statistics [OrderedStatistic(items_base=frozenset({'UHT-milk'}), items_add=frozenset({'bottled water'}), confidence=0.05, lift=0.8239537444933921)]\n",
      "Item [frozenset({'other vegetables', 'UHT-milk'}), 0.002138608567800575, [OrderedStatistic(items_base=frozenset({'UHT-milk'}), items_add=frozenset({'other vegetables'}), confidence=0.1, lift=0.818992884510126)]]\n",
      "Confidence 0.002138608567800575\n",
      "Statistics [OrderedStatistic(items_base=frozenset({'UHT-milk'}), items_add=frozenset({'other vegetables'}), confidence=0.1, lift=0.818992884510126)]\n",
      "Item [frozenset({'rolls/buns', 'UHT-milk'}), 0.001804450979081735, [OrderedStatistic(items_base=frozenset({'UHT-milk'}), items_add=frozenset({'rolls/buns'}), confidence=0.08437499999999999, lift=0.7670128341433778)]]\n",
      "Confidence 0.001804450979081735\n",
      "Statistics [OrderedStatistic(items_base=frozenset({'UHT-milk'}), items_add=frozenset({'rolls/buns'}), confidence=0.08437499999999999, lift=0.7670128341433778)]\n",
      "Item [frozenset({'sausage', 'UHT-milk'}), 0.0011361358016440553, [OrderedStatistic(items_base=frozenset({'UHT-milk'}), items_add=frozenset({'sausage'}), confidence=0.053125, lift=0.8802983111849391)]]\n",
      "Confidence 0.0011361358016440553\n",
      "Statistics [OrderedStatistic(items_base=frozenset({'UHT-milk'}), items_add=frozenset({'sausage'}), confidence=0.053125, lift=0.8802983111849391)]\n",
      "Item [frozenset({'soda', 'UHT-milk'}), 0.0012697988371315912, [OrderedStatistic(items_base=frozenset({'UHT-milk'}), items_add=frozenset({'soda'}), confidence=0.059375, lift=0.6114439951823814)]]\n",
      "Confidence 0.0012697988371315912\n",
      "Statistics [OrderedStatistic(items_base=frozenset({'UHT-milk'}), items_add=frozenset({'soda'}), confidence=0.059375, lift=0.6114439951823814)]\n",
      "Item [frozenset({'tropical fruit', 'UHT-milk'}), 0.0015371249081066632, [OrderedStatistic(items_base=frozenset({'UHT-milk'}), items_add=frozenset({'tropical fruit'}), confidence=0.07187500000000001, lift=1.0606169871794875)]]\n",
      "Confidence 0.0015371249081066632\n",
      "Statistics [OrderedStatistic(items_base=frozenset({'UHT-milk'}), items_add=frozenset({'tropical fruit'}), confidence=0.07187500000000001, lift=1.0606169871794875)]\n",
      "Item [frozenset({'whole milk', 'UHT-milk'}), 0.0025395976742631824, [OrderedStatistic(items_base=frozenset({'UHT-milk'}), items_add=frozenset({'whole milk'}), confidence=0.11875, lift=0.7519493228946255)]]\n",
      "Confidence 0.0025395976742631824\n",
      "Statistics [OrderedStatistic(items_base=frozenset({'UHT-milk'}), items_add=frozenset({'whole milk'}), confidence=0.11875, lift=0.7519493228946255)]\n",
      "Item [frozenset({'yogurt', 'UHT-milk'}), 0.0011361358016440553, [OrderedStatistic(items_base=frozenset({'UHT-milk'}), items_add=frozenset({'yogurt'}), confidence=0.053125, lift=0.6186065175097276)]]\n",
      "Confidence 0.0011361358016440553\n",
      "Statistics [OrderedStatistic(items_base=frozenset({'UHT-milk'}), items_add=frozenset({'yogurt'}), confidence=0.053125, lift=0.6186065175097276)]\n",
      "Item [frozenset({'soda', 'artif. sweetener'}), 0.00046782062420637575, [OrderedStatistic(items_base=frozenset({'artif. sweetener'}), items_add=frozenset({'soda'}), confidence=0.2413793103448276, lift=2.4857251346797353)]]\n",
      "Confidence 0.00046782062420637575\n",
      "Statistics [OrderedStatistic(items_base=frozenset({'artif. sweetener'}), items_add=frozenset({'soda'}), confidence=0.2413793103448276, lift=2.4857251346797353)]\n",
      "Item [frozenset({'whole milk', 'artif. sweetener'}), 0.0005346521419501437, [OrderedStatistic(items_base=frozenset({'artif. sweetener'}), items_add=frozenset({'whole milk'}), confidence=0.2758620689655173, lift=1.7468151239657366)]]\n",
      "Confidence 0.0005346521419501437\n",
      "Statistics [OrderedStatistic(items_base=frozenset({'artif. sweetener'}), items_add=frozenset({'whole milk'}), confidence=0.2758620689655173, lift=1.7468151239657366)]\n",
      "Item [frozenset({'baking powder', 'bottled beer'}), 0.0005346521419501437, [OrderedStatistic(items_base=frozenset({'baking powder'}), items_add=frozenset({'bottled beer'}), confidence=0.06611570247933884, lift=1.459128696457739)]]\n",
      "Confidence 0.0005346521419501437\n",
      "Statistics [OrderedStatistic(items_base=frozenset({'baking powder'}), items_add=frozenset({'bottled beer'}), confidence=0.06611570247933884, lift=1.459128696457739)]\n",
      "Item [frozenset({'baking powder', 'bottled water'}), 0.00046782062420637575, [OrderedStatistic(items_base=frozenset({'baking powder'}), items_add=frozenset({'bottled water'}), confidence=0.05785123966942149, lift=0.95333491098409)]]\n",
      "Confidence 0.00046782062420637575\n",
      "Statistics [OrderedStatistic(items_base=frozenset({'baking powder'}), items_add=frozenset({'bottled water'}), confidence=0.05785123966942149, lift=0.95333491098409)]\n",
      "Item [frozenset({'baking powder', 'canned beer'}), 0.0006014836596939117, [OrderedStatistic(items_base=frozenset({'baking powder'}), items_add=frozenset({'canned beer'}), confidence=0.0743801652892562, lift=1.5853994490358128)]]\n",
      "Confidence 0.0006014836596939117\n",
      "Statistics [OrderedStatistic(items_base=frozenset({'baking powder'}), items_add=frozenset({'canned beer'}), confidence=0.0743801652892562, lift=1.5853994490358128)]\n",
      "Item [frozenset({'baking powder', 'other vegetables'}), 0.0005346521419501437, [OrderedStatistic(items_base=frozenset({'baking powder'}), items_add=frozenset({'other vegetables'}), confidence=0.06611570247933884, lift=0.54148289884967)]]\n",
      "Confidence 0.0005346521419501437\n",
      "Statistics [OrderedStatistic(items_base=frozenset({'baking powder'}), items_add=frozenset({'other vegetables'}), confidence=0.06611570247933884, lift=0.54148289884967)]\n",
      "Item [frozenset({'baking powder', 'pastry'}), 0.0005346521419501437, [OrderedStatistic(items_base=frozenset({'baking powder'}), items_add=frozenset({'pastry'}), confidence=0.06611570247933884, lift=1.278151493796314)]]\n",
      "Confidence 0.0005346521419501437\n",
      "Statistics [OrderedStatistic(items_base=frozenset({'baking powder'}), items_add=frozenset({'pastry'}), confidence=0.06611570247933884, lift=1.278151493796314)]\n",
      "Item [frozenset({'baking powder', 'rolls/buns'}), 0.00046782062420637575, [OrderedStatistic(items_base=frozenset({'baking powder'}), items_add=frozenset({'rolls/buns'}), confidence=0.05785123966942149, lift=0.525897994637639)]]\n",
      "Confidence 0.00046782062420637575\n",
      "Statistics [OrderedStatistic(items_base=frozenset({'baking powder'}), items_add=frozenset({'rolls/buns'}), confidence=0.05785123966942149, lift=0.525897994637639)]\n",
      "Item [frozenset({'baking powder', 'sausage'}), 0.0005346521419501437, [OrderedStatistic(items_base=frozenset({'baking powder'}), items_add=frozenset({'sausage'}), confidence=0.06611570247933884, lift=1.0955584232539834)]]\n",
      "Confidence 0.0005346521419501437\n",
      "Statistics [OrderedStatistic(items_base=frozenset({'baking powder'}), items_add=frozenset({'sausage'}), confidence=0.06611570247933884, lift=1.0955584232539834)]\n",
      "Item [frozenset({'baking powder', 'whole milk'}), 0.0008688097306689834, [OrderedStatistic(items_base=frozenset({'baking powder'}), items_add=frozenset({'whole milk'}), confidence=0.10743801652892561, lift=0.6803195265858291)]]\n",
      "Confidence 0.0008688097306689834\n",
      "Statistics [OrderedStatistic(items_base=frozenset({'baking powder'}), items_add=frozenset({'whole milk'}), confidence=0.10743801652892561, lift=0.6803195265858291)]\n",
      "Item [frozenset({'baking powder', 'yogurt'}), 0.0006683151774376796, [OrderedStatistic(items_base=frozenset({'baking powder'}), items_add=frozenset({'yogurt'}), confidence=0.08264462809917356, lift=0.9623436344341898)]]\n",
      "Confidence 0.0006683151774376796\n",
      "Statistics [OrderedStatistic(items_base=frozenset({'baking powder'}), items_add=frozenset({'yogurt'}), confidence=0.08264462809917356, lift=0.9623436344341898)]\n",
      "Item [frozenset({'beef', 'citrus fruit'}), 0.001804450979081735, [OrderedStatistic(items_base=frozenset({'beef'}), items_add=frozenset({'citrus fruit'}), confidence=0.0531496062992126, lift=1.000349130886941)]]\n",
      "Confidence 0.001804450979081735\n",
      "Statistics [OrderedStatistic(items_base=frozenset({'beef'}), items_add=frozenset({'citrus fruit'}), confidence=0.0531496062992126, lift=1.000349130886941)]\n",
      "Item [frozenset({'beef', 'other vegetables'}), 0.002806923745238254, [OrderedStatistic(items_base=frozenset({'beef'}), items_add=frozenset({'other vegetables'}), confidence=0.08267716535433071, lift=0.6771201013666396)]]\n",
      "Confidence 0.002806923745238254\n",
      "Statistics [OrderedStatistic(items_base=frozenset({'beef'}), items_add=frozenset({'other vegetables'}), confidence=0.08267716535433071, lift=0.6771201013666396)]\n",
      "Item [frozenset({'beef', 'pasta'}), 0.00046782062420637575, [OrderedStatistic(items_base=frozenset({'pasta'}), items_add=frozenset({'beef'}), confidence=0.05785123966942149, lift=1.7039923212077832)]]\n",
      "Confidence 0.00046782062420637575\n",
      "Statistics [OrderedStatistic(items_base=frozenset({'pasta'}), items_add=frozenset({'beef'}), confidence=0.05785123966942149, lift=1.7039923212077832)]\n",
      "Item [frozenset({'beef', 'pet care'}), 0.0003341575887188398, [OrderedStatistic(items_base=frozenset({'pet care'}), items_add=frozenset({'beef'}), confidence=0.058823529411764705, lift=1.7326308476146366)]]\n",
      "Confidence 0.0003341575887188398\n",
      "Statistics [OrderedStatistic(items_base=frozenset({'pet care'}), items_add=frozenset({'beef'}), confidence=0.058823529411764705, lift=1.7326308476146366)]\n",
      "Item [frozenset({'beef', 'processed cheese'}), 0.0005346521419501437, [OrderedStatistic(items_base=frozenset({'processed cheese'}), items_add=frozenset({'beef'}), confidence=0.05263157894736843, lift=1.5502486531288857)]]\n",
      "Confidence 0.0005346521419501437\n",
      "Statistics [OrderedStatistic(items_base=frozenset({'processed cheese'}), items_add=frozenset({'beef'}), confidence=0.05263157894736843, lift=1.5502486531288857)]\n",
      "Item [frozenset({'beef', 'soda'}), 0.001804450979081735, [OrderedStatistic(items_base=frozenset({'beef'}), items_add=frozenset({'soda'}), confidence=0.0531496062992126, lift=0.5473348651446099)]]\n",
      "Confidence 0.001804450979081735\n",
      "Statistics [OrderedStatistic(items_base=frozenset({'beef'}), items_add=frozenset({'soda'}), confidence=0.0531496062992126, lift=0.5473348651446099)]\n",
      "Item [frozenset({'beef', 'white wine'}), 0.0006014836596939117, [OrderedStatistic(items_base=frozenset({'white wine'}), items_add=frozenset({'beef'}), confidence=0.051428571428571435, lift=1.5148143982002253)]]\n",
      "Confidence 0.0006014836596939117\n",
      "Statistics [OrderedStatistic(items_base=frozenset({'white wine'}), items_add=frozenset({'beef'}), confidence=0.051428571428571435, lift=1.5148143982002253)]\n",
      "Item [frozenset({'beef', 'whole milk'}), 0.004678206242063757, [OrderedStatistic(items_base=frozenset({'beef'}), items_add=frozenset({'whole milk'}), confidence=0.1377952755905512, lift=0.8725479088706803)]]\n",
      "Confidence 0.004678206242063757\n",
      "Statistics [OrderedStatistic(items_base=frozenset({'beef'}), items_add=frozenset({'whole milk'}), confidence=0.1377952755905512, lift=0.8725479088706803)]\n",
      "Item [frozenset({'yogurt', 'beef'}), 0.002205440085544343, [OrderedStatistic(items_base=frozenset({'beef'}), items_add=frozenset({'yogurt'}), confidence=0.06496062992125985, lift=0.756424829192071)]]\n",
      "Confidence 0.002205440085544343\n",
      "Statistics [OrderedStatistic(items_base=frozenset({'beef'}), items_add=frozenset({'yogurt'}), confidence=0.06496062992125985, lift=0.756424829192071)]\n",
      "Item [frozenset({'condensed milk', 'berries'}), 0.0003341575887188398, [OrderedStatistic(items_base=frozenset({'condensed milk'}), items_add=frozenset({'berries'}), confidence=0.05102040816326531, lift=2.34177413296607)]]\n",
      "Confidence 0.0003341575887188398\n",
      "Statistics [OrderedStatistic(items_base=frozenset({'condensed milk'}), items_add=frozenset({'berries'}), confidence=0.05102040816326531, lift=2.34177413296607)]\n",
      "Item [frozenset({'other vegetables', 'berries'}), 0.0026732607097507185, [OrderedStatistic(items_base=frozenset({'berries'}), items_add=frozenset({'other vegetables'}), confidence=0.12269938650306748, lift=1.0048992447977005)]]\n",
      "Confidence 0.0026732607097507185\n",
      "Statistics [OrderedStatistic(items_base=frozenset({'berries'}), items_add=frozenset({'other vegetables'}), confidence=0.12269938650306748, lift=1.0048992447977005)]\n",
      "Item [frozenset({'pip fruit', 'berries'}), 0.0011361358016440553, [OrderedStatistic(items_base=frozenset({'berries'}), items_add=frozenset({'pip fruit'}), confidence=0.05214723926380368, lift=1.063050600959529)]]\n",
      "Confidence 0.0011361358016440553\n",
      "Statistics [OrderedStatistic(items_base=frozenset({'berries'}), items_add=frozenset({'pip fruit'}), confidence=0.05214723926380368, lift=1.063050600959529)]\n",
      "Item [frozenset({'rolls/buns', 'berries'}), 0.001670787943594199, [OrderedStatistic(items_base=frozenset({'berries'}), items_add=frozenset({'rolls/buns'}), confidence=0.07668711656441718, lift=0.6971259569583076)]]\n",
      "Confidence 0.001670787943594199\n",
      "Statistics [OrderedStatistic(items_base=frozenset({'berries'}), items_add=frozenset({'rolls/buns'}), confidence=0.07668711656441718, lift=0.6971259569583076)]\n",
      "Item [frozenset({'soda', 'berries'}), 0.0014702933903628951, [OrderedStatistic(items_base=frozenset({'berries'}), items_add=frozenset({'soda'}), confidence=0.06748466257668712, lift=0.6949573338850443)]]\n",
      "Confidence 0.0014702933903628951\n",
      "Statistics [OrderedStatistic(items_base=frozenset({'berries'}), items_add=frozenset({'soda'}), confidence=0.06748466257668712, lift=0.6949573338850443)]\n",
      "Item [frozenset({'tropical fruit', 'berries'}), 0.0012697988371315912, [OrderedStatistic(items_base=frozenset({'berries'}), items_add=frozenset({'tropical fruit'}), confidence=0.05828220858895705, lift=0.8600361805883279)]]\n",
      "Confidence 0.0012697988371315912\n",
      "Statistics [OrderedStatistic(items_base=frozenset({'berries'}), items_add=frozenset({'tropical fruit'}), confidence=0.05828220858895705, lift=0.8600361805883279)]\n",
      "Item [frozenset({'whole milk', 'berries'}), 0.0022722716032881106, [OrderedStatistic(items_base=frozenset({'berries'}), items_add=frozenset({'whole milk'}), confidence=0.10429447852760736, lift=0.660414000088273)]]\n",
      "Confidence 0.0022722716032881106\n",
      "Statistics [OrderedStatistic(items_base=frozenset({'berries'}), items_add=frozenset({'whole milk'}), confidence=0.10429447852760736, lift=0.660414000088273)]\n",
      "Item [frozenset({'yogurt', 'berries'}), 0.001403461872619127, [OrderedStatistic(items_base=frozenset({'berries'}), items_add=frozenset({'yogurt'}), confidence=0.06441717791411043, lift=0.7500966794776921)]]\n",
      "Confidence 0.001403461872619127\n",
      "Statistics [OrderedStatistic(items_base=frozenset({'berries'}), items_add=frozenset({'yogurt'}), confidence=0.06441717791411043, lift=0.7500966794776921)]\n",
      "Item [frozenset({'bottled water', 'beverages'}), 0.0010693042839002875, [OrderedStatistic(items_base=frozenset({'beverages'}), items_add=frozenset({'bottled water'}), confidence=0.06451612903225808, lift=1.0631661219269577)]]\n",
      "Confidence 0.0010693042839002875\n",
      "Statistics [OrderedStatistic(items_base=frozenset({'beverages'}), items_add=frozenset({'bottled water'}), confidence=0.06451612903225808, lift=1.0631661219269577)]\n",
      "Item [frozenset({'beverages', 'other vegetables'}), 0.0017376194613379669, [OrderedStatistic(items_base=frozenset({'beverages'}), items_add=frozenset({'other vegetables'}), confidence=0.10483870967741936, lift=0.8586215724702932)]]\n",
      "Confidence 0.0017376194613379669\n",
      "Statistics [OrderedStatistic(items_base=frozenset({'beverages'}), items_add=frozenset({'other vegetables'}), confidence=0.10483870967741936, lift=0.8586215724702932)]\n",
      "Item [frozenset({'beverages', 'rolls/buns'}), 0.0012029673193878234, [OrderedStatistic(items_base=frozenset({'beverages'}), items_add=frozenset({'rolls/buns'}), confidence=0.07258064516129033, lift=0.659795986359895)]]\n",
      "Confidence 0.0012029673193878234\n",
      "Statistics [OrderedStatistic(items_base=frozenset({'beverages'}), items_add=frozenset({'rolls/buns'}), confidence=0.07258064516129033, lift=0.659795986359895)]\n",
      "Item [frozenset({'sausage', 'beverages'}), 0.0015371249081066632, [OrderedStatistic(items_base=frozenset({'beverages'}), items_add=frozenset({'sausage'}), confidence=0.09274193548387098, lift=1.5367636551995143)]]\n",
      "Confidence 0.0015371249081066632\n",
      "Statistics [OrderedStatistic(items_base=frozenset({'beverages'}), items_add=frozenset({'sausage'}), confidence=0.09274193548387098, lift=1.5367636551995143)]\n",
      "Item [frozenset({'beverages', 'soda'}), 0.001871282496825503, [OrderedStatistic(items_base=frozenset({'beverages'}), items_add=frozenset({'soda'}), confidence=0.11290322580645162, lift=1.1626778855760054)]]\n",
      "Confidence 0.001871282496825503\n",
      "Statistics [OrderedStatistic(items_base=frozenset({'beverages'}), items_add=frozenset({'soda'}), confidence=0.11290322580645162, lift=1.1626778855760054)]\n",
      "Item [frozenset({'beverages', 'whole milk'}), 0.0019381140145692708, [OrderedStatistic(items_base=frozenset({'beverages'}), items_add=frozenset({'whole milk'}), confidence=0.11693548387096775, lift=0.7404594351084598)]]\n",
      "Confidence 0.0019381140145692708\n",
      "Statistics [OrderedStatistic(items_base=frozenset({'beverages'}), items_add=frozenset({'whole milk'}), confidence=0.11693548387096775, lift=0.7404594351084598)]\n",
      "Item [frozenset({'yogurt', 'beverages'}), 0.0009356412484127515, [OrderedStatistic(items_base=frozenset({'beverages'}), items_add=frozenset({'yogurt'}), confidence=0.05645161290322581, lift=0.6573427890046443)]]\n",
      "Confidence 0.0009356412484127515\n",
      "Statistics [OrderedStatistic(items_base=frozenset({'beverages'}), items_add=frozenset({'yogurt'}), confidence=0.05645161290322581, lift=0.6573427890046443)]\n",
      "Item [frozenset({'bottled beer', 'bottled water'}), 0.0025395976742631824, [OrderedStatistic(items_base=frozenset({'bottled beer'}), items_add=frozenset({'bottled water'}), confidence=0.056047197640117986, lift=0.9236059672787285)]]\n",
      "Confidence 0.0025395976742631824\n",
      "Statistics [OrderedStatistic(items_base=frozenset({'bottled beer'}), items_add=frozenset({'bottled water'}), confidence=0.056047197640117986, lift=0.9236059672787285)]\n",
      "Item [frozenset({'bottled beer', 'canned fish'}), 0.00040098910646260775, [OrderedStatistic(items_base=frozenset({'canned fish'}), items_add=frozenset({'bottled beer'}), confidence=0.05217391304347826, lift=1.1514428626394766)]]\n",
      "Confidence 0.00040098910646260775\n",
      "Statistics [OrderedStatistic(items_base=frozenset({'canned fish'}), items_add=frozenset({'bottled beer'}), confidence=0.05217391304347826, lift=1.1514428626394766)]\n",
      "Item [frozenset({'bottled beer', 'cat food'}), 0.0008019782129252155, [OrderedStatistic(items_base=frozenset({'cat food'}), items_add=frozenset({'bottled beer'}), confidence=0.06779661016949153, lift=1.4962251887405629)]]\n",
      "Confidence 0.0008019782129252155\n",
      "Statistics [OrderedStatistic(items_base=frozenset({'cat food'}), items_add=frozenset({'bottled beer'}), confidence=0.06779661016949153, lift=1.4962251887405629)]\n",
      "Item [frozenset({'bottled beer', 'frozen meals'}), 0.0008688097306689834, [OrderedStatistic(items_base=frozenset({'frozen meals'}), items_add=frozenset({'bottled beer'}), confidence=0.05179282868525897, lift=1.1430325894063862)]]\n",
      "Confidence 0.0008688097306689834\n",
      "Statistics [OrderedStatistic(items_base=frozenset({'frozen meals'}), items_add=frozenset({'bottled beer'}), confidence=0.05179282868525897, lift=1.1430325894063862)]\n",
      "Item [frozenset({'bottled beer', 'frozen vegetables'}), 0.001403461872619127, [OrderedStatistic(items_base=frozenset({'frozen vegetables'}), items_add=frozenset({'bottled beer'}), confidence=0.05011933174224343, lift=1.1060996472849387)]]\n",
      "Confidence 0.001403461872619127\n",
      "Statistics [OrderedStatistic(items_base=frozenset({'frozen vegetables'}), items_add=frozenset({'bottled beer'}), confidence=0.05011933174224343, lift=1.1060996472849387)]\n",
      "Item [frozenset({'hard cheese', 'bottled beer'}), 0.0007351466951814476, [OrderedStatistic(items_base=frozenset({'hard cheese'}), items_add=frozenset({'bottled beer'}), confidence=0.05, lift=1.1034660766961653)]]\n",
      "Confidence 0.0007351466951814476\n",
      "Statistics [OrderedStatistic(items_base=frozenset({'hard cheese'}), items_add=frozenset({'bottled beer'}), confidence=0.05, lift=1.1034660766961653)]\n",
      "Item [frozenset({'bottled beer', 'hygiene articles'}), 0.0007351466951814476, [OrderedStatistic(items_base=frozenset({'hygiene articles'}), items_add=frozenset({'bottled beer'}), confidence=0.05365853658536585, lift=1.184207496942226)]]\n",
      "Confidence 0.0007351466951814476\n",
      "Statistics [OrderedStatistic(items_base=frozenset({'hygiene articles'}), items_add=frozenset({'bottled beer'}), confidence=0.05365853658536585, lift=1.184207496942226)]\n",
      "Item [frozenset({'mustard', 'bottled beer'}), 0.0003341575887188398, [OrderedStatistic(items_base=frozenset({'mustard'}), items_add=frozenset({'bottled beer'}), confidence=0.05434782608695652, lift=1.1994196485827882)]]\n",
      "Confidence 0.0003341575887188398\n",
      "Statistics [OrderedStatistic(items_base=frozenset({'mustard'}), items_add=frozenset({'bottled beer'}), confidence=0.05434782608695652, lift=1.1994196485827882)]\n",
      "Item [frozenset({'bottled beer', 'oil'}), 0.0009356412484127515, [OrderedStatistic(items_base=frozenset({'oil'}), items_add=frozenset({'bottled beer'}), confidence=0.06278026905829596, lift=1.38551794383375)]]\n",
      "Confidence 0.0009356412484127515\n",
      "Statistics [OrderedStatistic(items_base=frozenset({'oil'}), items_add=frozenset({'bottled beer'}), confidence=0.06278026905829596, lift=1.38551794383375)]\n",
      "Item [frozenset({'bottled beer', 'other vegetables'}), 0.004678206242063757, [OrderedStatistic(items_base=frozenset({'bottled beer'}), items_add=frozenset({'other vegetables'}), confidence=0.10324483775811208, lift=0.8455678748629617)]]\n",
      "Confidence 0.004678206242063757\n",
      "Statistics [OrderedStatistic(items_base=frozenset({'bottled beer'}), items_add=frozenset({'other vegetables'}), confidence=0.10324483775811208, lift=0.8455678748629617)]\n",
      "Item [frozenset({'bottled beer', 'rolls/buns'}), 0.004009891064626078, [OrderedStatistic(items_base=frozenset({'bottled beer'}), items_add=frozenset({'rolls/buns'}), confidence=0.08849557522123894, lift=0.8044710158173743)]]\n",
      "Confidence 0.004009891064626078\n",
      "Statistics [OrderedStatistic(items_base=frozenset({'bottled beer'}), items_add=frozenset({'rolls/buns'}), confidence=0.08849557522123894, lift=0.8044710158173743)]\n",
      "Item [frozenset({'bottled beer', 'root vegetables'}), 0.0024727661565194146, [OrderedStatistic(items_base=frozenset({'bottled beer'}), items_add=frozenset({'root vegetables'}), confidence=0.05457227138643068, lift=0.7844043196495314)]]\n",
      "Confidence 0.0024727661565194146\n",
      "Statistics [OrderedStatistic(items_base=frozenset({'bottled beer'}), items_add=frozenset({'root vegetables'}), confidence=0.05457227138643068, lift=0.7844043196495314)]\n",
      "Item [frozenset({'sausage', 'bottled beer'}), 0.003341575887188398, [OrderedStatistic(items_base=frozenset({'bottled beer'}), items_add=frozenset({'sausage'}), confidence=0.07374631268436578, lift=1.2220000849348451), OrderedStatistic(items_base=frozenset({'sausage'}), items_add=frozenset({'bottled beer'}), confidence=0.05537098560354374, lift=1.2220000849348451)]]\n",
      "Confidence 0.003341575887188398\n",
      "Statistics [OrderedStatistic(items_base=frozenset({'bottled beer'}), items_add=frozenset({'sausage'}), confidence=0.07374631268436578, lift=1.2220000849348451), OrderedStatistic(items_base=frozenset({'sausage'}), items_add=frozenset({'bottled beer'}), confidence=0.05537098560354374, lift=1.2220000849348451)]\n",
      "Item [frozenset({'seasonal products', 'bottled beer'}), 0.00046782062420637575, [OrderedStatistic(items_base=frozenset({'seasonal products'}), items_add=frozenset({'bottled beer'}), confidence=0.0660377358490566, lift=1.4574080258251236)]]\n",
      "Confidence 0.00046782062420637575\n",
      "Statistics [OrderedStatistic(items_base=frozenset({'seasonal products'}), items_add=frozenset({'bottled beer'}), confidence=0.0660377358490566, lift=1.4574080258251236)]\n",
      "Item [frozenset({'bottled beer', 'soda'}), 0.0029405867807257902, [OrderedStatistic(items_base=frozenset({'bottled beer'}), items_add=frozenset({'soda'}), confidence=0.06489675516224189, lift=0.6683070526446149)]]\n",
      "Confidence 0.0029405867807257902\n",
      "Statistics [OrderedStatistic(items_base=frozenset({'bottled beer'}), items_add=frozenset({'soda'}), confidence=0.06489675516224189, lift=0.6683070526446149)]\n",
      "Item [frozenset({'bottled beer', 'tropical fruit'}), 0.0025395976742631824, [OrderedStatistic(items_base=frozenset({'bottled beer'}), items_add=frozenset({'tropical fruit'}), confidence=0.056047197640117986, lift=0.8270554420996898)]]\n",
      "Confidence 0.0025395976742631824\n",
      "Statistics [OrderedStatistic(items_base=frozenset({'bottled beer'}), items_add=frozenset({'tropical fruit'}), confidence=0.056047197640117986, lift=0.8270554420996898)]\n",
      "Item [frozenset({'bottled beer', 'whole milk'}), 0.007150972398583172, [OrderedStatistic(items_base=frozenset({'bottled beer'}), items_add=frozenset({'whole milk'}), confidence=0.15781710914454278, lift=0.9993302598941151)]]\n",
      "Confidence 0.007150972398583172\n",
      "Statistics [OrderedStatistic(items_base=frozenset({'bottled beer'}), items_add=frozenset({'whole milk'}), confidence=0.15781710914454278, lift=0.9993302598941151)]\n",
      "Item [frozenset({'yogurt', 'bottled beer'}), 0.003408407404932166, [OrderedStatistic(items_base=frozenset({'bottled beer'}), items_add=frozenset({'yogurt'}), confidence=0.07522123893805309, lift=0.8759030336420921)]]\n",
      "Confidence 0.003408407404932166\n",
      "Statistics [OrderedStatistic(items_base=frozenset({'bottled beer'}), items_add=frozenset({'yogurt'}), confidence=0.07522123893805309, lift=0.8759030336420921)]\n",
      "Item [frozenset({'bottled water', 'butter'}), 0.001804450979081735, [OrderedStatistic(items_base=frozenset({'butter'}), items_add=frozenset({'bottled water'}), confidence=0.051233396584440226, lift=0.8442789791772898)]]\n",
      "Confidence 0.001804450979081735\n",
      "Statistics [OrderedStatistic(items_base=frozenset({'butter'}), items_add=frozenset({'bottled water'}), confidence=0.051233396584440226, lift=0.8442789791772898)]\n",
      "Item [frozenset({'bottled water', 'chocolate'}), 0.001403461872619127, [OrderedStatistic(items_base=frozenset({'chocolate'}), items_add=frozenset({'bottled water'}), confidence=0.05949008498583569, lift=0.9803415656861888)]]\n",
      "Confidence 0.001403461872619127\n",
      "Statistics [OrderedStatistic(items_base=frozenset({'chocolate'}), items_add=frozenset({'bottled water'}), confidence=0.05949008498583569, lift=0.9803415656861888)]\n",
      "Item [frozenset({'bottled water', 'cling film/bags'}), 0.0003341575887188398, [OrderedStatistic(items_base=frozenset({'cling film/bags'}), items_add=frozenset({'bottled water'}), confidence=0.06756756756756757, lift=1.1134510060721514)]]\n",
      "Confidence 0.0003341575887188398\n",
      "Statistics [OrderedStatistic(items_base=frozenset({'cling film/bags'}), items_add=frozenset({'bottled water'}), confidence=0.06756756756756757, lift=1.1134510060721514)]\n",
      "Item [frozenset({'bottled water', 'curd'}), 0.0019381140145692708, [OrderedStatistic(items_base=frozenset({'curd'}), items_add=frozenset({'bottled water'}), confidence=0.05753968253968254, lift=0.9482007377106496)]]\n",
      "Confidence 0.0019381140145692708\n",
      "Statistics [OrderedStatistic(items_base=frozenset({'curd'}), items_add=frozenset({'bottled water'}), confidence=0.05753968253968254, lift=0.9482007377106496)]\n",
      "Item [frozenset({'bottled water', 'dishes'}), 0.00046782062420637575, [OrderedStatistic(items_base=frozenset({'dishes'}), items_add=frozenset({'bottled water'}), confidence=0.05185185185185186, lift=0.8544705498449993)]]\n",
      "Confidence 0.00046782062420637575\n",
      "Statistics [OrderedStatistic(items_base=frozenset({'dishes'}), items_add=frozenset({'bottled water'}), confidence=0.05185185185185186, lift=0.8544705498449993)]\n",
      "Item [frozenset({'bottled water', 'dog food'}), 0.0003341575887188398, [OrderedStatistic(items_base=frozenset({'dog food'}), items_add=frozenset({'bottled water'}), confidence=0.0746268656716418, lift=1.2297817081990927)]]\n",
      "Confidence 0.0003341575887188398\n",
      "Statistics [OrderedStatistic(items_base=frozenset({'dog food'}), items_add=frozenset({'bottled water'}), confidence=0.0746268656716418, lift=1.2297817081990927)]\n",
      "Item [frozenset({'bottled water', 'domestic eggs'}), 0.002138608567800575, [OrderedStatistic(items_base=frozenset({'domestic eggs'}), items_add=frozenset({'bottled water'}), confidence=0.057657657657657665, lift=0.9501448585149027)]]\n",
      "Confidence 0.002138608567800575\n",
      "Statistics [OrderedStatistic(items_base=frozenset({'domestic eggs'}), items_add=frozenset({'bottled water'}), confidence=0.057657657657657665, lift=0.9501448585149027)]\n",
      "Item [frozenset({'bottled water', 'flour'}), 0.0007351466951814476, [OrderedStatistic(items_base=frozenset({'flour'}), items_add=frozenset({'bottled water'}), confidence=0.07534246575342465, lift=1.241574135537988)]]\n",
      "Confidence 0.0007351466951814476\n",
      "Statistics [OrderedStatistic(items_base=frozenset({'flour'}), items_add=frozenset({'bottled water'}), confidence=0.07534246575342465, lift=1.241574135537988)]\n",
      "Item [frozenset({'bottled water', 'frankfurter'}), 0.002205440085544343, [OrderedStatistic(items_base=frozenset({'frankfurter'}), items_add=frozenset({'bottled water'}), confidence=0.058407079646017705, lift=0.9624946395852014)]]\n",
      "Confidence 0.002205440085544343\n",
      "Statistics [OrderedStatistic(items_base=frozenset({'frankfurter'}), items_add=frozenset({'bottled water'}), confidence=0.058407079646017705, lift=0.9624946395852014)]\n",
      "Item [frozenset({'frozen dessert', 'bottled water'}), 0.00046782062420637575, [OrderedStatistic(items_base=frozenset({'frozen dessert'}), items_add=frozenset({'bottled water'}), confidence=0.07608695652173914, lift=1.2538426546638575)]]\n",
      "Confidence 0.00046782062420637575\n",
      "Statistics [OrderedStatistic(items_base=frozenset({'frozen dessert'}), items_add=frozenset({'bottled water'}), confidence=0.07608695652173914, lift=1.2538426546638575)]\n",
      "Item [frozenset({'bottled water', 'grapes'}), 0.0007351466951814476, [OrderedStatistic(items_base=frozenset({'grapes'}), items_add=frozenset({'bottled water'}), confidence=0.05092592592592592, lift=0.8392121471691956)]]\n",
      "Confidence 0.0007351466951814476\n",
      "Statistics [OrderedStatistic(items_base=frozenset({'grapes'}), items_add=frozenset({'bottled water'}), confidence=0.05092592592592592, lift=0.8392121471691956)]\n",
      "Item [frozenset({'hard cheese', 'bottled water'}), 0.0009356412484127515, [OrderedStatistic(items_base=frozenset({'hard cheese'}), items_add=frozenset({'bottled water'}), confidence=0.06363636363636364, lift=1.048668402082499)]]\n",
      "Confidence 0.0009356412484127515\n",
      "Statistics [OrderedStatistic(items_base=frozenset({'hard cheese'}), items_add=frozenset({'bottled water'}), confidence=0.06363636363636364, lift=1.048668402082499)]\n",
      "Item [frozenset({'mustard', 'bottled water'}), 0.00046782062420637575, [OrderedStatistic(items_base=frozenset({'mustard'}), items_add=frozenset({'bottled water'}), confidence=0.07608695652173914, lift=1.2538426546638575)]]\n",
      "Confidence 0.00046782062420637575\n",
      "Statistics [OrderedStatistic(items_base=frozenset({'mustard'}), items_add=frozenset({'bottled water'}), confidence=0.07608695652173914, lift=1.2538426546638575)]\n",
      "Item [frozenset({'bottled water', 'other vegetables'}), 0.005480184454988973, [OrderedStatistic(items_base=frozenset({'bottled water'}), items_add=frozenset({'other vegetables'}), confidence=0.09030837004405286, lift=0.739619124777867)]]\n",
      "Confidence 0.005480184454988973\n",
      "Statistics [OrderedStatistic(items_base=frozenset({'bottled water'}), items_add=frozenset({'other vegetables'}), confidence=0.09030837004405286, lift=0.739619124777867)]\n",
      "Item [frozenset({'bottled water', 'pastry'}), 0.0028737552629820224, [OrderedStatistic(items_base=frozenset({'pastry'}), items_add=frozenset({'bottled water'}), confidence=0.05555555555555556, lift=0.9155041605482135)]]\n",
      "Confidence 0.0028737552629820224\n",
      "Statistics [OrderedStatistic(items_base=frozenset({'pastry'}), items_add=frozenset({'bottled water'}), confidence=0.05555555555555556, lift=0.9155041605482135)]\n",
      "Item [frozenset({'bottled water', 'pet care'}), 0.0003341575887188398, [OrderedStatistic(items_base=frozenset({'pet care'}), items_add=frozenset({'bottled water'}), confidence=0.058823529411764705, lift=0.9693573464628141)]]\n",
      "Confidence 0.0003341575887188398\n",
      "Statistics [OrderedStatistic(items_base=frozenset({'pet care'}), items_add=frozenset({'bottled water'}), confidence=0.058823529411764705, lift=0.9693573464628141)]\n",
      "Item [frozenset({'bottled water', 'pickled vegetables'}), 0.0005346521419501437, [OrderedStatistic(items_base=frozenset({'pickled vegetables'}), items_add=frozenset({'bottled water'}), confidence=0.05970149253731344, lift=0.9838253665592742)]]\n",
      "Confidence 0.0005346521419501437\n",
      "Statistics [OrderedStatistic(items_base=frozenset({'pickled vegetables'}), items_add=frozenset({'bottled water'}), confidence=0.05970149253731344, lift=0.9838253665592742)]\n",
      "Item [frozenset({'bottled water', 'processed cheese'}), 0.0007351466951814476, [OrderedStatistic(items_base=frozenset({'processed cheese'}), items_add=frozenset({'bottled water'}), confidence=0.07236842105263158, lift=1.1925646301878043)]]\n",
      "Confidence 0.0007351466951814476\n",
      "Statistics [OrderedStatistic(items_base=frozenset({'processed cheese'}), items_add=frozenset({'bottled water'}), confidence=0.07236842105263158, lift=1.1925646301878043)]\n",
      "Item [frozenset({'bottled water', 'red/blush wine'}), 0.0005346521419501437, [OrderedStatistic(items_base=frozenset({'red/blush wine'}), items_add=frozenset({'bottled water'}), confidence=0.050955414012738856, lift=0.8396980835601449)]]\n",
      "Confidence 0.0005346521419501437\n",
      "Statistics [OrderedStatistic(items_base=frozenset({'red/blush wine'}), items_add=frozenset({'bottled water'}), confidence=0.050955414012738856, lift=0.8396980835601449)]\n",
      "Item [frozenset({'bottled water', 'rolls/buns'}), 0.004678206242063757, [OrderedStatistic(items_base=frozenset({'bottled water'}), items_add=frozenset({'rolls/buns'}), confidence=0.07709251101321585, lift=0.7008112043078668)]]\n",
      "Confidence 0.004678206242063757\n",
      "Statistics [OrderedStatistic(items_base=frozenset({'bottled water'}), items_add=frozenset({'rolls/buns'}), confidence=0.07709251101321585, lift=0.7008112043078668)]\n",
      "Item [frozenset({'bottled water', 'root vegetables'}), 0.0034752389226759338, [OrderedStatistic(items_base=frozenset({'bottled water'}), items_add=frozenset({'root vegetables'}), confidence=0.057268722466960346, lift=0.8231622423372984)]]\n",
      "Confidence 0.0034752389226759338\n",
      "Statistics [OrderedStatistic(items_base=frozenset({'bottled water'}), items_add=frozenset({'root vegetables'}), confidence=0.057268722466960346, lift=0.8231622423372984)]\n",
      "Item [frozenset({'sausage', 'bottled water'}), 0.003141081333957094, [OrderedStatistic(items_base=frozenset({'bottled water'}), items_add=frozenset({'sausage'}), confidence=0.051762114537444934, lift=0.8577148613773959), OrderedStatistic(items_base=frozenset({'sausage'}), items_add=frozenset({'bottled water'}), confidence=0.052048726467331115, lift=0.8577148613773958)]]\n",
      "Confidence 0.003141081333957094\n",
      "Statistics [OrderedStatistic(items_base=frozenset({'bottled water'}), items_add=frozenset({'sausage'}), confidence=0.051762114537444934, lift=0.8577148613773959), OrderedStatistic(items_base=frozenset({'sausage'}), items_add=frozenset({'bottled water'}), confidence=0.052048726467331115, lift=0.8577148613773958)]\n",
      "Item [frozenset({'seasonal products', 'bottled water'}), 0.00046782062420637575, [OrderedStatistic(items_base=frozenset({'seasonal products'}), items_add=frozenset({'bottled water'}), confidence=0.0660377358490566, lift=1.088240794613914)]]\n",
      "Confidence 0.00046782062420637575\n",
      "Statistics [OrderedStatistic(items_base=frozenset({'seasonal products'}), items_add=frozenset({'bottled water'}), confidence=0.0660377358490566, lift=1.088240794613914)]\n",
      "Item [frozenset({'bottled water', 'soda'}), 0.0048118692775512934, [OrderedStatistic(items_base=frozenset({'bottled water'}), items_add=frozenset({'soda'}), confidence=0.07929515418502203, lift=0.8165818252377735)]]\n",
      "Confidence 0.0048118692775512934\n",
      "Statistics [OrderedStatistic(items_base=frozenset({'bottled water'}), items_add=frozenset({'soda'}), confidence=0.07929515418502203, lift=0.8165818252377735)]\n",
      "Item [frozenset({'specialty bar', 'bottled water'}), 0.0009356412484127515, [OrderedStatistic(items_base=frozenset({'specialty bar'}), items_add=frozenset({'bottled water'}), confidence=0.06698564593301436, lift=1.1038614758763148)]]\n",
      "Confidence 0.0009356412484127515\n",
      "Statistics [OrderedStatistic(items_base=frozenset({'specialty bar'}), items_add=frozenset({'bottled water'}), confidence=0.06698564593301436, lift=1.1038614758763148)]\n",
      "Item [frozenset({'bottled water', 'spread cheese'}), 0.00046782062420637575, [OrderedStatistic(items_base=frozenset({'spread cheese'}), items_add=frozenset({'bottled water'}), confidence=0.07, lift=1.153535242290749)]]\n",
      "Confidence 0.00046782062420637575\n",
      "Statistics [OrderedStatistic(items_base=frozenset({'spread cheese'}), items_add=frozenset({'bottled water'}), confidence=0.07, lift=1.153535242290749)]\n",
      "Item [frozenset({'bottled water', 'sugar'}), 0.0014702933903628951, [OrderedStatistic(items_base=frozenset({'sugar'}), items_add=frozenset({'bottled water'}), confidence=0.0830188679245283, lift=1.368074141800349)]]\n",
      "Confidence 0.0014702933903628951\n",
      "Statistics [OrderedStatistic(items_base=frozenset({'sugar'}), items_add=frozenset({'bottled water'}), confidence=0.0830188679245283, lift=1.368074141800349)]\n",
      "Item [frozenset({'bottled water', 'sweet spreads'}), 0.0003341575887188398, [OrderedStatistic(items_base=frozenset({'sweet spreads'}), items_add=frozenset({'bottled water'}), confidence=0.07352941176470588, lift=1.2116966830785179)]]\n",
      "Confidence 0.0003341575887188398\n",
      "Statistics [OrderedStatistic(items_base=frozenset({'sweet spreads'}), items_add=frozenset({'bottled water'}), confidence=0.07352941176470588, lift=1.2116966830785179)]\n",
      "Item [frozenset({'bottled water', 'tropical fruit'}), 0.003542070440419702, [OrderedStatistic(items_base=frozenset({'bottled water'}), items_add=frozenset({'tropical fruit'}), confidence=0.05837004405286344, lift=0.8613323167287926), OrderedStatistic(items_base=frozenset({'tropical fruit'}), items_add=frozenset({'bottled water'}), confidence=0.05226824457593689, lift=0.8613323167287925)]]\n",
      "Confidence 0.003542070440419702\n",
      "Statistics [OrderedStatistic(items_base=frozenset({'bottled water'}), items_add=frozenset({'tropical fruit'}), confidence=0.05837004405286344, lift=0.8613323167287926), OrderedStatistic(items_base=frozenset({'tropical fruit'}), items_add=frozenset({'bottled water'}), confidence=0.05226824457593689, lift=0.8613323167287925)]\n",
      "Item [frozenset({'bottled water', 'turkey'}), 0.0006014836596939117, [OrderedStatistic(items_base=frozenset({'turkey'}), items_add=frozenset({'bottled water'}), confidence=0.1125, lift=1.8538959251101321)]]\n",
      "Confidence 0.0006014836596939117\n",
      "Statistics [OrderedStatistic(items_base=frozenset({'turkey'}), items_add=frozenset({'bottled water'}), confidence=0.1125, lift=1.8538959251101321)]\n",
      "Item [frozenset({'bottled water', 'white bread'}), 0.0012697988371315912, [OrderedStatistic(items_base=frozenset({'white bread'}), items_add=frozenset({'bottled water'}), confidence=0.052924791086350974, lift=0.8721515958425877)]]\n",
      "Confidence 0.0012697988371315912\n",
      "Statistics [OrderedStatistic(items_base=frozenset({'white bread'}), items_add=frozenset({'bottled water'}), confidence=0.052924791086350974, lift=0.8721515958425877)]\n",
      "Item [frozenset({'bottled water', 'whole milk'}), 0.007150972398583172, [OrderedStatistic(items_base=frozenset({'bottled water'}), items_add=frozenset({'whole milk'}), confidence=0.11784140969162996, lift=0.7461959429605837)]]\n",
      "Confidence 0.007150972398583172\n",
      "Statistics [OrderedStatistic(items_base=frozenset({'bottled water'}), items_add=frozenset({'whole milk'}), confidence=0.11784140969162996, lift=0.7461959429605837)]\n",
      "Item [frozenset({'yogurt', 'bottled water'}), 0.003809396511394774, [OrderedStatistic(items_base=frozenset({'bottled water'}), items_add=frozenset({'yogurt'}), confidence=0.06277533039647577, lift=0.7309784192392739)]]\n",
      "Confidence 0.003809396511394774\n",
      "Statistics [OrderedStatistic(items_base=frozenset({'bottled water'}), items_add=frozenset({'yogurt'}), confidence=0.06277533039647577, lift=0.7309784192392739)]\n",
      "Item [frozenset({'whole milk', 'brandy'}), 0.0008688097306689834, [OrderedStatistic(items_base=frozenset({'brandy'}), items_add=frozenset({'whole milk'}), confidence=0.34210526315789475, lift=2.1662805978127717)]]\n",
      "Confidence 0.0008688097306689834\n",
      "Statistics [OrderedStatistic(items_base=frozenset({'brandy'}), items_add=frozenset({'whole milk'}), confidence=0.34210526315789475, lift=2.1662805978127717)]\n",
      "Item [frozenset({'canned beer', 'brown bread'}), 0.0024059346387756467, [OrderedStatistic(items_base=frozenset({'brown bread'}), items_add=frozenset({'canned beer'}), confidence=0.06394316163410303, lift=1.3629366489046777), OrderedStatistic(items_base=frozenset({'canned beer'}), items_add=frozenset({'brown bread'}), confidence=0.05128205128205129, lift=1.3629366489046775)]]\n",
      "Confidence 0.0024059346387756467\n",
      "Statistics [OrderedStatistic(items_base=frozenset({'brown bread'}), items_add=frozenset({'canned beer'}), confidence=0.06394316163410303, lift=1.3629366489046777), OrderedStatistic(items_base=frozenset({'canned beer'}), items_add=frozenset({'brown bread'}), confidence=0.05128205128205129, lift=1.3629366489046775)]\n",
      "Item [frozenset({'dishes', 'brown bread'}), 0.0005346521419501437, [OrderedStatistic(items_base=frozenset({'dishes'}), items_add=frozenset({'brown bread'}), confidence=0.05925925925925927, lift=1.5749490165120719)]]\n",
      "Confidence 0.0005346521419501437\n",
      "Statistics [OrderedStatistic(items_base=frozenset({'dishes'}), items_add=frozenset({'brown bread'}), confidence=0.05925925925925927, lift=1.5749490165120719)]\n",
      "Item [frozenset({'ham', 'brown bread'}), 0.0008688097306689834, [OrderedStatistic(items_base=frozenset({'ham'}), items_add=frozenset({'brown bread'}), confidence=0.05078124999999999, lift=1.3496267206927175)]]\n",
      "Confidence 0.0008688097306689834\n",
      "Statistics [OrderedStatistic(items_base=frozenset({'ham'}), items_add=frozenset({'brown bread'}), confidence=0.05078124999999999, lift=1.3496267206927175)]\n",
      "Item [frozenset({'herbs', 'brown bread'}), 0.0005346521419501437, [OrderedStatistic(items_base=frozenset({'herbs'}), items_add=frozenset({'brown bread'}), confidence=0.05063291139240507, lift=1.3456842862603147)]]\n",
      "Confidence 0.0005346521419501437\n",
      "Statistics [OrderedStatistic(items_base=frozenset({'herbs'}), items_add=frozenset({'brown bread'}), confidence=0.05063291139240507, lift=1.3456842862603147)]\n",
      "Item [frozenset({'other vegetables', 'brown bread'}), 0.0030742498162133263, [OrderedStatistic(items_base=frozenset({'brown bread'}), items_add=frozenset({'other vegetables'}), confidence=0.08170515097690942, lift=0.6691593727791437)]]\n",
      "Confidence 0.0030742498162133263\n",
      "Statistics [OrderedStatistic(items_base=frozenset({'brown bread'}), items_add=frozenset({'other vegetables'}), confidence=0.08170515097690942, lift=0.6691593727791437)]\n",
      "Item [frozenset({'pastry', 'brown bread'}), 0.002004945532313039, [OrderedStatistic(items_base=frozenset({'brown bread'}), items_add=frozenset({'pastry'}), confidence=0.05328596802841919, lift=1.0301265369628376)]]\n",
      "Confidence 0.002004945532313039\n",
      "Statistics [OrderedStatistic(items_base=frozenset({'brown bread'}), items_add=frozenset({'pastry'}), confidence=0.05328596802841919, lift=1.0301265369628376)]\n",
      "Item [frozenset({'pet care', 'brown bread'}), 0.00040098910646260775, [OrderedStatistic(items_base=frozenset({'pet care'}), items_add=frozenset({'brown bread'}), confidence=0.07058823529411765, lift=1.876042210845262)]]\n",
      "Confidence 0.00040098910646260775\n",
      "Statistics [OrderedStatistic(items_base=frozenset({'pet care'}), items_add=frozenset({'brown bread'}), confidence=0.07058823529411765, lift=1.876042210845262)]\n",
      "Item [frozenset({'roll products ', 'brown bread'}), 0.00040098910646260775, [OrderedStatistic(items_base=frozenset({'roll products '}), items_add=frozenset({'brown bread'}), confidence=0.07317073170731707, lift=1.944677901485942)]]\n",
      "Confidence 0.00040098910646260775\n",
      "Statistics [OrderedStatistic(items_base=frozenset({'roll products '}), items_add=frozenset({'brown bread'}), confidence=0.07317073170731707, lift=1.944677901485942)]\n",
      "Item [frozenset({'rolls/buns', 'brown bread'}), 0.003341575887188398, [OrderedStatistic(items_base=frozenset({'brown bread'}), items_add=frozenset({'rolls/buns'}), confidence=0.08880994671403199, lift=0.8073288169392835)]]\n",
      "Confidence 0.003341575887188398\n",
      "Statistics [OrderedStatistic(items_base=frozenset({'brown bread'}), items_add=frozenset({'rolls/buns'}), confidence=0.08880994671403199, lift=0.8073288169392835)]\n",
      "Item [frozenset({'soda', 'brown bread'}), 0.0028737552629820224, [OrderedStatistic(items_base=frozenset({'brown bread'}), items_add=frozenset({'soda'}), confidence=0.07637655417406751, lift=0.7865260702729334)]]\n",
      "Confidence 0.0028737552629820224\n",
      "Statistics [OrderedStatistic(items_base=frozenset({'brown bread'}), items_add=frozenset({'soda'}), confidence=0.07637655417406751, lift=0.7865260702729334)]\n",
      "Item [frozenset({'whole milk', 'brown bread'}), 0.004477711688832453, [OrderedStatistic(items_base=frozenset({'brown bread'}), items_add=frozenset({'whole milk'}), confidence=0.11900532859680285, lift=0.7535661158671016)]]\n",
      "Confidence 0.004477711688832453\n",
      "Statistics [OrderedStatistic(items_base=frozenset({'brown bread'}), items_add=frozenset({'whole milk'}), confidence=0.11900532859680285, lift=0.7535661158671016)]\n",
      "Item [frozenset({'yogurt', 'brown bread'}), 0.0023391031210318785, [OrderedStatistic(items_base=frozenset({'brown bread'}), items_add=frozenset({'yogurt'}), confidence=0.06216696269982238, lift=0.7238943679980095)]]\n",
      "Confidence 0.0023391031210318785\n",
      "Statistics [OrderedStatistic(items_base=frozenset({'brown bread'}), items_add=frozenset({'yogurt'}), confidence=0.06216696269982238, lift=0.7238943679980095)]\n",
      "Item [frozenset({'cake bar', 'butter'}), 0.0003341575887188398, [OrderedStatistic(items_base=frozenset({'cake bar'}), items_add=frozenset({'butter'}), confidence=0.05434782608695652, lift=1.5430863790116327)]]\n",
      "Confidence 0.0003341575887188398\n",
      "Statistics [OrderedStatistic(items_base=frozenset({'cake bar'}), items_add=frozenset({'butter'}), confidence=0.05434782608695652, lift=1.5430863790116327)]\n",
      "Item [frozenset({'butter', 'citrus fruit'}), 0.0019381140145692708, [OrderedStatistic(items_base=frozenset({'butter'}), items_add=frozenset({'citrus fruit'}), confidence=0.05502846299810246, lift=1.0357118136359837)]]\n",
      "Confidence 0.0019381140145692708\n",
      "Statistics [OrderedStatistic(items_base=frozenset({'butter'}), items_add=frozenset({'citrus fruit'}), confidence=0.05502846299810246, lift=1.0357118136359837)]\n",
      "Item [frozenset({'butter', 'other vegetables'}), 0.0028737552629820224, [OrderedStatistic(items_base=frozenset({'butter'}), items_add=frozenset({'other vegetables'}), confidence=0.08159392789373814, lift=0.6682484636420382)]]\n",
      "Confidence 0.0028737552629820224\n",
      "Statistics [OrderedStatistic(items_base=frozenset({'butter'}), items_add=frozenset({'other vegetables'}), confidence=0.08159392789373814, lift=0.6682484636420382)]\n",
      "Item [frozenset({'rolls/buns', 'butter'}), 0.0028737552629820224, [OrderedStatistic(items_base=frozenset({'butter'}), items_add=frozenset({'rolls/buns'}), confidence=0.08159392789373814, lift=0.7417314356464179)]]\n",
      "Confidence 0.0028737552629820224\n",
      "Statistics [OrderedStatistic(items_base=frozenset({'butter'}), items_add=frozenset({'rolls/buns'}), confidence=0.08159392789373814, lift=0.7417314356464179)]\n",
      "Item [frozenset({'butter', 'root vegetables'}), 0.002004945532313039, [OrderedStatistic(items_base=frozenset({'butter'}), items_add=frozenset({'root vegetables'}), confidence=0.056925996204933584, lift=0.8182360050090501)]]\n",
      "Confidence 0.002004945532313039\n",
      "Statistics [OrderedStatistic(items_base=frozenset({'butter'}), items_add=frozenset({'root vegetables'}), confidence=0.056925996204933584, lift=0.8182360050090501)]\n",
      "Item [frozenset({'sausage', 'butter'}), 0.0019381140145692708, [OrderedStatistic(items_base=frozenset({'butter'}), items_add=frozenset({'sausage'}), confidence=0.05502846299810246, lift=0.911839304363906)]]\n",
      "Confidence 0.0019381140145692708\n",
      "Statistics [OrderedStatistic(items_base=frozenset({'butter'}), items_add=frozenset({'sausage'}), confidence=0.05502846299810246, lift=0.911839304363906)]\n",
      "Item [frozenset({'seasonal products', 'butter'}), 0.00046782062420637575, [OrderedStatistic(items_base=frozenset({'seasonal products'}), items_add=frozenset({'butter'}), confidence=0.0660377358490566, lift=1.8749955246858327)]]\n",
      "Confidence 0.00046782062420637575\n",
      "Statistics [OrderedStatistic(items_base=frozenset({'seasonal products'}), items_add=frozenset({'butter'}), confidence=0.0660377358490566, lift=1.8749955246858327)]\n",
      "Item [frozenset({'soda', 'butter'}), 0.003141081333957094, [OrderedStatistic(items_base=frozenset({'butter'}), items_add=frozenset({'soda'}), confidence=0.08918406072106262, lift=0.9184178255810462)]]\n",
      "Confidence 0.003141081333957094\n",
      "Statistics [OrderedStatistic(items_base=frozenset({'butter'}), items_add=frozenset({'soda'}), confidence=0.08918406072106262, lift=0.9184178255810462)]\n",
      "Item [frozenset({'butter', 'sweet spreads'}), 0.0003341575887188398, [OrderedStatistic(items_base=frozenset({'sweet spreads'}), items_add=frozenset({'butter'}), confidence=0.07352941176470588, lift=2.087705101015738)]]\n",
      "Confidence 0.0003341575887188398\n",
      "Statistics [OrderedStatistic(items_base=frozenset({'sweet spreads'}), items_add=frozenset({'butter'}), confidence=0.07352941176470588, lift=2.087705101015738)]\n",
      "Item [frozenset({'whole milk', 'butter'}), 0.004678206242063757, [OrderedStatistic(items_base=frozenset({'butter'}), items_add=frozenset({'whole milk'}), confidence=0.13282732447817835, lift=0.84108982486965)]]\n",
      "Confidence 0.004678206242063757\n",
      "Statistics [OrderedStatistic(items_base=frozenset({'butter'}), items_add=frozenset({'whole milk'}), confidence=0.13282732447817835, lift=0.84108982486965)]\n",
      "Item [frozenset({'yogurt', 'butter'}), 0.002205440085544343, [OrderedStatistic(items_base=frozenset({'butter'}), items_add=frozenset({'yogurt'}), confidence=0.06261859582542695, lift=0.7291533457866641)]]\n",
      "Confidence 0.002205440085544343\n",
      "Statistics [OrderedStatistic(items_base=frozenset({'butter'}), items_add=frozenset({'yogurt'}), confidence=0.06261859582542695, lift=0.7291533457866641)]\n",
      "Item [frozenset({'butter milk', 'citrus fruit'}), 0.0009356412484127515, [OrderedStatistic(items_base=frozenset({'butter milk'}), items_add=frozenset({'citrus fruit'}), confidence=0.053231939163498096, lift=1.0018987493124805)]]\n",
      "Confidence 0.0009356412484127515\n",
      "Statistics [OrderedStatistic(items_base=frozenset({'butter milk'}), items_add=frozenset({'citrus fruit'}), confidence=0.053231939163498096, lift=1.0018987493124805)]\n",
      "Item [frozenset({'butter milk', 'other vegetables'}), 0.0012697988371315912, [OrderedStatistic(items_base=frozenset({'butter milk'}), items_add=frozenset({'other vegetables'}), confidence=0.07224334600760456, lift=0.5916678633343114)]]\n",
      "Confidence 0.0012697988371315912\n",
      "Statistics [OrderedStatistic(items_base=frozenset({'butter milk'}), items_add=frozenset({'other vegetables'}), confidence=0.07224334600760456, lift=0.5916678633343114)]\n",
      "Item [frozenset({'butter milk', 'rolls/buns'}), 0.0012697988371315912, [OrderedStatistic(items_base=frozenset({'butter milk'}), items_add=frozenset({'rolls/buns'}), confidence=0.07224334600760456, lift=0.6567297608212558)]]\n",
      "Confidence 0.0012697988371315912\n",
      "Statistics [OrderedStatistic(items_base=frozenset({'butter milk'}), items_add=frozenset({'rolls/buns'}), confidence=0.07224334600760456, lift=0.6567297608212558)]\n",
      "Item [frozenset({'butter milk', 'root vegetables'}), 0.0010024727661565194, [OrderedStatistic(items_base=frozenset({'butter milk'}), items_add=frozenset({'root vegetables'}), confidence=0.057034220532319393, lift=0.8197915867676225)]]\n",
      "Confidence 0.0010024727661565194\n",
      "Statistics [OrderedStatistic(items_base=frozenset({'butter milk'}), items_add=frozenset({'root vegetables'}), confidence=0.057034220532319393, lift=0.8197915867676225)]\n",
      "Item [frozenset({'butter milk', 'shopping bags'}), 0.0010024727661565194, [OrderedStatistic(items_base=frozenset({'butter milk'}), items_add=frozenset({'shopping bags'}), confidence=0.057034220532319393, lift=1.1985997778442348)]]\n",
      "Confidence 0.0010024727661565194\n",
      "Statistics [OrderedStatistic(items_base=frozenset({'butter milk'}), items_add=frozenset({'shopping bags'}), confidence=0.057034220532319393, lift=1.1985997778442348)]\n",
      "Item [frozenset({'soda', 'butter milk'}), 0.001403461872619127, [OrderedStatistic(items_base=frozenset({'butter milk'}), items_add=frozenset({'soda'}), confidence=0.07984790874524714, lift=0.8222740939815093)]]\n",
      "Confidence 0.001403461872619127\n",
      "Statistics [OrderedStatistic(items_base=frozenset({'butter milk'}), items_add=frozenset({'soda'}), confidence=0.07984790874524714, lift=0.8222740939815093)]\n",
      "Item [frozenset({'butter milk', 'tropical fruit'}), 0.0010024727661565194, [OrderedStatistic(items_base=frozenset({'butter milk'}), items_add=frozenset({'tropical fruit'}), confidence=0.057034220532319393, lift=0.8416203568294824)]]\n",
      "Confidence 0.0010024727661565194\n",
      "Statistics [OrderedStatistic(items_base=frozenset({'butter milk'}), items_add=frozenset({'tropical fruit'}), confidence=0.057034220532319393, lift=0.8416203568294824)]\n",
      "Item [frozenset({'butter milk', 'whole milk'}), 0.001670787943594199, [OrderedStatistic(items_base=frozenset({'butter milk'}), items_add=frozenset({'whole milk'}), confidence=0.09505703422053231, lift=0.6019206106821097)]]\n",
      "Confidence 0.001670787943594199\n",
      "Statistics [OrderedStatistic(items_base=frozenset({'butter milk'}), items_add=frozenset({'whole milk'}), confidence=0.09505703422053231, lift=0.6019206106821097)]\n",
      "Item [frozenset({'yogurt', 'butter milk'}), 0.0012697988371315912, [OrderedStatistic(items_base=frozenset({'butter milk'}), items_add=frozenset({'yogurt'}), confidence=0.07224334600760456, lift=0.8412273823438031)]]\n",
      "Confidence 0.0012697988371315912\n",
      "Statistics [OrderedStatistic(items_base=frozenset({'butter milk'}), items_add=frozenset({'yogurt'}), confidence=0.07224334600760456, lift=0.8412273823438031)]\n",
      "Item [frozenset({'canned beer', 'cake bar'}), 0.0005346521419501437, [OrderedStatistic(items_base=frozenset({'cake bar'}), items_add=frozenset({'canned beer'}), confidence=0.08695652173913045, lift=1.8534621578099841)]]\n",
      "Confidence 0.0005346521419501437\n",
      "Statistics [OrderedStatistic(items_base=frozenset({'cake bar'}), items_add=frozenset({'canned beer'}), confidence=0.08695652173913045, lift=1.8534621578099841)]\n",
      "Item [frozenset({'curd', 'cake bar'}), 0.0003341575887188398, [OrderedStatistic(items_base=frozenset({'cake bar'}), items_add=frozenset({'curd'}), confidence=0.05434782608695652, lift=1.6135050034506557)]]\n",
      "Confidence 0.0003341575887188398\n",
      "Statistics [OrderedStatistic(items_base=frozenset({'cake bar'}), items_add=frozenset({'curd'}), confidence=0.05434782608695652, lift=1.6135050034506557)]\n",
      "Item [frozenset({'cake bar', 'other vegetables'}), 0.00040098910646260775, [OrderedStatistic(items_base=frozenset({'cake bar'}), items_add=frozenset({'other vegetables'}), confidence=0.06521739130434782, lift=0.5341257942457343)]]\n",
      "Confidence 0.00040098910646260775\n",
      "Statistics [OrderedStatistic(items_base=frozenset({'cake bar'}), items_add=frozenset({'other vegetables'}), confidence=0.06521739130434782, lift=0.5341257942457343)]\n",
      "Item [frozenset({'cake bar', 'pastry'}), 0.0003341575887188398, [OrderedStatistic(items_base=frozenset({'cake bar'}), items_add=frozenset({'pastry'}), confidence=0.05434782608695652, lift=1.0506544208515898)]]\n",
      "Confidence 0.0003341575887188398\n",
      "Statistics [OrderedStatistic(items_base=frozenset({'cake bar'}), items_add=frozenset({'pastry'}), confidence=0.05434782608695652, lift=1.0506544208515898)]\n",
      "Item [frozenset({'cake bar', 'pip fruit'}), 0.0003341575887188398, [OrderedStatistic(items_base=frozenset({'cake bar'}), items_add=frozenset({'pip fruit'}), confidence=0.05434782608695652, lift=1.107910792560123)]]\n",
      "Confidence 0.0003341575887188398\n",
      "Statistics [OrderedStatistic(items_base=frozenset({'cake bar'}), items_add=frozenset({'pip fruit'}), confidence=0.05434782608695652, lift=1.107910792560123)]\n",
      "Item [frozenset({'cake bar', 'rolls/buns'}), 0.0005346521419501437, [OrderedStatistic(items_base=frozenset({'cake bar'}), items_add=frozenset({'rolls/buns'}), confidence=0.08695652173913045, lift=0.7904802155422898)]]\n",
      "Confidence 0.0005346521419501437\n",
      "Statistics [OrderedStatistic(items_base=frozenset({'cake bar'}), items_add=frozenset({'rolls/buns'}), confidence=0.08695652173913045, lift=0.7904802155422898)]\n",
      "Item [frozenset({'cake bar', 'root vegetables'}), 0.00040098910646260775, [OrderedStatistic(items_base=frozenset({'cake bar'}), items_add=frozenset({'root vegetables'}), confidence=0.06521739130434782, lift=0.9374138579125422)]]\n",
      "Confidence 0.00040098910646260775\n",
      "Statistics [OrderedStatistic(items_base=frozenset({'cake bar'}), items_add=frozenset({'root vegetables'}), confidence=0.06521739130434782, lift=0.9374138579125422)]\n",
      "Item [frozenset({'sausage', 'cake bar'}), 0.0006683151774376796, [OrderedStatistic(items_base=frozenset({'cake bar'}), items_add=frozenset({'sausage'}), confidence=0.10869565217391304, lift=1.8011218643170108)]]\n",
      "Confidence 0.0006683151774376796\n",
      "Statistics [OrderedStatistic(items_base=frozenset({'cake bar'}), items_add=frozenset({'sausage'}), confidence=0.10869565217391304, lift=1.8011218643170108)]\n",
      "Item [frozenset({'cake bar', 'shopping bags'}), 0.00046782062420637575, [OrderedStatistic(items_base=frozenset({'cake bar'}), items_add=frozenset({'shopping bags'}), confidence=0.07608695652173914, lift=1.5990015876893016)]]\n",
      "Confidence 0.00046782062420637575\n",
      "Statistics [OrderedStatistic(items_base=frozenset({'cake bar'}), items_add=frozenset({'shopping bags'}), confidence=0.07608695652173914, lift=1.5990015876893016)]\n",
      "Item [frozenset({'soda', 'cake bar'}), 0.00046782062420637575, [OrderedStatistic(items_base=frozenset({'cake bar'}), items_add=frozenset({'soda'}), confidence=0.07608695652173914, lift=0.7835437924533949)]]\n",
      "Confidence 0.00046782062420637575\n",
      "Statistics [OrderedStatistic(items_base=frozenset({'cake bar'}), items_add=frozenset({'soda'}), confidence=0.07608695652173914, lift=0.7835437924533949)]\n",
      "Item [frozenset({'cake bar', 'tropical fruit'}), 0.00046782062420637575, [OrderedStatistic(items_base=frozenset({'cake bar'}), items_add=frozenset({'tropical fruit'}), confidence=0.07608695652173914, lift=1.1227703455964326)]]\n",
      "Confidence 0.00046782062420637575\n",
      "Statistics [OrderedStatistic(items_base=frozenset({'cake bar'}), items_add=frozenset({'tropical fruit'}), confidence=0.07608695652173914, lift=1.1227703455964326)]\n",
      "Item [frozenset({'cake bar', 'whipped/sour cream'}), 0.0003341575887188398, [OrderedStatistic(items_base=frozenset({'cake bar'}), items_add=frozenset({'whipped/sour cream'}), confidence=0.05434782608695652, lift=1.2434350485307806)]]\n",
      "Confidence 0.0003341575887188398\n",
      "Statistics [OrderedStatistic(items_base=frozenset({'cake bar'}), items_add=frozenset({'whipped/sour cream'}), confidence=0.05434782608695652, lift=1.2434350485307806)]\n",
      "Item [frozenset({'cake bar', 'whole milk'}), 0.0007351466951814476, [OrderedStatistic(items_base=frozenset({'cake bar'}), items_add=frozenset({'whole milk'}), confidence=0.11956521739130434, lift=0.757111446392758)]]\n",
      "Confidence 0.0007351466951814476\n",
      "Statistics [OrderedStatistic(items_base=frozenset({'cake bar'}), items_add=frozenset({'whole milk'}), confidence=0.11956521739130434, lift=0.757111446392758)]\n",
      "Item [frozenset({'yogurt', 'cake bar'}), 0.00046782062420637575, [OrderedStatistic(items_base=frozenset({'cake bar'}), items_add=frozenset({'yogurt'}), confidence=0.07608695652173914, lift=0.8859837590932161)]]\n",
      "Confidence 0.00046782062420637575\n",
      "Statistics [OrderedStatistic(items_base=frozenset({'cake bar'}), items_add=frozenset({'yogurt'}), confidence=0.07608695652173914, lift=0.8859837590932161)]\n",
      "Item [frozenset({'candles', 'other vegetables'}), 0.0003341575887188398, [OrderedStatistic(items_base=frozenset({'candles'}), items_add=frozenset({'other vegetables'}), confidence=0.07575757575757576, lift=0.6204491549319135)]]\n",
      "Confidence 0.0003341575887188398\n",
      "Statistics [OrderedStatistic(items_base=frozenset({'candles'}), items_add=frozenset({'other vegetables'}), confidence=0.07575757575757576, lift=0.6204491549319135)]\n",
      "Item [frozenset({'candles', 'pastry'}), 0.0003341575887188398, [OrderedStatistic(items_base=frozenset({'candles'}), items_add=frozenset({'pastry'}), confidence=0.07575757575757576, lift=1.46454858664161)]]\n",
      "Confidence 0.0003341575887188398\n",
      "Statistics [OrderedStatistic(items_base=frozenset({'candles'}), items_add=frozenset({'pastry'}), confidence=0.07575757575757576, lift=1.46454858664161)]\n",
      "Item [frozenset({'candles', 'rolls/buns'}), 0.00040098910646260775, [OrderedStatistic(items_base=frozenset({'candles'}), items_add=frozenset({'rolls/buns'}), confidence=0.0909090909090909, lift=0.8264111344305755)]]\n",
      "Confidence 0.00040098910646260775\n",
      "Statistics [OrderedStatistic(items_base=frozenset({'candles'}), items_add=frozenset({'rolls/buns'}), confidence=0.0909090909090909, lift=0.8264111344305755)]\n",
      "Item [frozenset({'candles', 'sausage'}), 0.00040098910646260775, [OrderedStatistic(items_base=frozenset({'candles'}), items_add=frozenset({'sausage'}), confidence=0.0909090909090909, lift=1.506392831974227)]]\n",
      "Confidence 0.00040098910646260775\n",
      "Statistics [OrderedStatistic(items_base=frozenset({'candles'}), items_add=frozenset({'sausage'}), confidence=0.0909090909090909, lift=1.506392831974227)]\n",
      "Item [frozenset({'candles', 'soda'}), 0.0003341575887188398, [OrderedStatistic(items_base=frozenset({'candles'}), items_add=frozenset({'soda'}), confidence=0.07575757575757576, lift=0.7801518279838996)]]\n",
      "Confidence 0.0003341575887188398\n",
      "Statistics [OrderedStatistic(items_base=frozenset({'candles'}), items_add=frozenset({'soda'}), confidence=0.07575757575757576, lift=0.7801518279838996)]\n",
      "Item [frozenset({'candles', 'tropical fruit'}), 0.0003341575887188398, [OrderedStatistic(items_base=frozenset({'candles'}), items_add=frozenset({'tropical fruit'}), confidence=0.07575757575757576, lift=1.117909867909868)]]\n",
      "Confidence 0.0003341575887188398\n",
      "Statistics [OrderedStatistic(items_base=frozenset({'candles'}), items_add=frozenset({'tropical fruit'}), confidence=0.07575757575757576, lift=1.117909867909868)]\n",
      "Item [frozenset({'candles', 'whole milk'}), 0.0007351466951814476, [OrderedStatistic(items_base=frozenset({'candles'}), items_add=frozenset({'whole milk'}), confidence=0.16666666666666666, lift=1.055367470729299)]]\n",
      "Confidence 0.0007351466951814476\n",
      "Statistics [OrderedStatistic(items_base=frozenset({'candles'}), items_add=frozenset({'whole milk'}), confidence=0.16666666666666666, lift=1.055367470729299)]\n",
      "Item [frozenset({'candles', 'yogurt'}), 0.00046782062420637575, [OrderedStatistic(items_base=frozenset({'candles'}), items_add=frozenset({'yogurt'}), confidence=0.10606060606060606, lift=1.2350076641905436)]]\n",
      "Confidence 0.00046782062420637575\n",
      "Statistics [OrderedStatistic(items_base=frozenset({'candles'}), items_add=frozenset({'yogurt'}), confidence=0.10606060606060606, lift=1.2350076641905436)]\n",
      "Item [frozenset({'candy', 'citrus fruit'}), 0.0010024727661565194, [OrderedStatistic(items_base=frozenset({'candy'}), items_add=frozenset({'citrus fruit'}), confidence=0.06976744186046512, lift=1.3131197893813076)]]\n",
      "Confidence 0.0010024727661565194\n",
      "Statistics [OrderedStatistic(items_base=frozenset({'candy'}), items_add=frozenset({'citrus fruit'}), confidence=0.06976744186046512, lift=1.3131197893813076)]\n",
      "Item [frozenset({'candy', 'other vegetables'}), 0.0011361358016440553, [OrderedStatistic(items_base=frozenset({'candy'}), items_add=frozenset({'other vegetables'}), confidence=0.07906976744186046, lift=0.6475757691475413)]]\n",
      "Confidence 0.0011361358016440553\n",
      "Statistics [OrderedStatistic(items_base=frozenset({'candy'}), items_add=frozenset({'other vegetables'}), confidence=0.07906976744186046, lift=0.6475757691475413)]\n",
      "Item [frozenset({'rolls/buns', 'candy'}), 0.0014702933903628951, [OrderedStatistic(items_base=frozenset({'candy'}), items_add=frozenset({'rolls/buns'}), confidence=0.10232558139534884, lift=0.9301929978241826)]]\n",
      "Confidence 0.0014702933903628951\n",
      "Statistics [OrderedStatistic(items_base=frozenset({'candy'}), items_add=frozenset({'rolls/buns'}), confidence=0.10232558139534884, lift=0.9301929978241826)]\n",
      "Item [frozenset({'soda', 'candy'}), 0.0012697988371315912, [OrderedStatistic(items_base=frozenset({'candy'}), items_add=frozenset({'soda'}), confidence=0.08837209302325581, lift=0.9100561788761025)]]\n",
      "Confidence 0.0012697988371315912\n",
      "Statistics [OrderedStatistic(items_base=frozenset({'candy'}), items_add=frozenset({'soda'}), confidence=0.08837209302325581, lift=0.9100561788761025)]\n",
      "Item [frozenset({'candy', 'tropical fruit'}), 0.0008019782129252155, [OrderedStatistic(items_base=frozenset({'candy'}), items_add=frozenset({'tropical fruit'}), confidence=0.05581395348837209, lift=0.8236135957066191)]]\n",
      "Confidence 0.0008019782129252155\n",
      "Statistics [OrderedStatistic(items_base=frozenset({'candy'}), items_add=frozenset({'tropical fruit'}), confidence=0.05581395348837209, lift=0.8236135957066191)]\n",
      "Item [frozenset({'whole milk', 'candy'}), 0.002138608567800575, [OrderedStatistic(items_base=frozenset({'candy'}), items_add=frozenset({'whole milk'}), confidence=0.1488372093023256, lift=0.942467694790816)]]\n",
      "Confidence 0.002138608567800575\n",
      "Statistics [OrderedStatistic(items_base=frozenset({'candy'}), items_add=frozenset({'whole milk'}), confidence=0.1488372093023256, lift=0.942467694790816)]\n",
      "Item [frozenset({'yogurt', 'candy'}), 0.0012029673193878234, [OrderedStatistic(items_base=frozenset({'candy'}), items_add=frozenset({'yogurt'}), confidence=0.08372093023255814, lift=0.974876481766356)]]\n",
      "Confidence 0.0012029673193878234\n",
      "Statistics [OrderedStatistic(items_base=frozenset({'candy'}), items_add=frozenset({'yogurt'}), confidence=0.08372093023255814, lift=0.974876481766356)]\n",
      "Item [frozenset({'canned beer', 'canned vegetables'}), 0.00040098910646260775, [OrderedStatistic(items_base=frozenset({'canned vegetables'}), items_add=frozenset({'canned beer'}), confidence=0.07317073170731707, lift=1.559620596205962)]]\n",
      "Confidence 0.00040098910646260775\n",
      "Statistics [OrderedStatistic(items_base=frozenset({'canned vegetables'}), items_add=frozenset({'canned beer'}), confidence=0.07317073170731707, lift=1.559620596205962)]\n",
      "Item [frozenset({'detergent', 'canned beer'}), 0.00046782062420637575, [OrderedStatistic(items_base=frozenset({'detergent'}), items_add=frozenset({'canned beer'}), confidence=0.05426356589147287, lift=1.1566178581682458)]]\n",
      "Confidence 0.00046782062420637575\n",
      "Statistics [OrderedStatistic(items_base=frozenset({'detergent'}), items_add=frozenset({'canned beer'}), confidence=0.05426356589147287, lift=1.1566178581682458)]\n",
      "Item [frozenset({'dish cleaner', 'canned beer'}), 0.0003341575887188398, [OrderedStatistic(items_base=frozenset({'dish cleaner'}), items_add=frozenset({'canned beer'}), confidence=0.0684931506849315, lift=1.4599188229325215)]]\n",
      "Confidence 0.0003341575887188398\n",
      "Statistics [OrderedStatistic(items_base=frozenset({'dish cleaner'}), items_add=frozenset({'canned beer'}), confidence=0.0684931506849315, lift=1.4599188229325215)]\n",
      "Item [frozenset({'canned beer', 'dishes'}), 0.0007351466951814476, [OrderedStatistic(items_base=frozenset({'dishes'}), items_add=frozenset({'canned beer'}), confidence=0.08148148148148147, lift=1.7367626886145404)]]\n",
      "Confidence 0.0007351466951814476\n",
      "Statistics [OrderedStatistic(items_base=frozenset({'dishes'}), items_add=frozenset({'canned beer'}), confidence=0.08148148148148147, lift=1.7367626886145404)]\n",
      "Item [frozenset({'frozen dessert', 'canned beer'}), 0.00046782062420637575, [OrderedStatistic(items_base=frozenset({'frozen dessert'}), items_add=frozenset({'canned beer'}), confidence=0.07608695652173914, lift=1.6217793880837361)]]\n",
      "Confidence 0.00046782062420637575\n",
      "Statistics [OrderedStatistic(items_base=frozenset({'frozen dessert'}), items_add=frozenset({'canned beer'}), confidence=0.07608695652173914, lift=1.6217793880837361)]\n",
      "Item [frozenset({'frozen fish', 'canned beer'}), 0.00040098910646260775, [OrderedStatistic(items_base=frozenset({'frozen fish'}), items_add=frozenset({'canned beer'}), confidence=0.058823529411764705, lift=1.2538126361655773)]]\n",
      "Confidence 0.00040098910646260775\n",
      "Statistics [OrderedStatistic(items_base=frozenset({'frozen fish'}), items_add=frozenset({'canned beer'}), confidence=0.058823529411764705, lift=1.2538126361655773)]\n",
      "Item [frozenset({'canned beer', 'hygiene articles'}), 0.0007351466951814476, [OrderedStatistic(items_base=frozenset({'hygiene articles'}), items_add=frozenset({'canned beer'}), confidence=0.05365853658536585, lift=1.1437217705510387)]]\n",
      "Confidence 0.0007351466951814476\n",
      "Statistics [OrderedStatistic(items_base=frozenset({'hygiene articles'}), items_add=frozenset({'canned beer'}), confidence=0.05365853658536585, lift=1.1437217705510387)]\n",
      "Item [frozenset({'canned beer', 'ice cream'}), 0.0008019782129252155, [OrderedStatistic(items_base=frozenset({'ice cream'}), items_add=frozenset({'canned beer'}), confidence=0.05286343612334801, lift=1.1267743514439548)]]\n",
      "Confidence 0.0008019782129252155\n",
      "Statistics [OrderedStatistic(items_base=frozenset({'ice cream'}), items_add=frozenset({'canned beer'}), confidence=0.05286343612334801, lift=1.1267743514439548)]\n",
      "Item [frozenset({'canned beer', 'liver loaf'}), 0.00040098910646260775, [OrderedStatistic(items_base=frozenset({'liver loaf'}), items_add=frozenset({'canned beer'}), confidence=0.12, lift=2.5577777777777775)]]\n",
      "Confidence 0.00040098910646260775\n",
      "Statistics [OrderedStatistic(items_base=frozenset({'liver loaf'}), items_add=frozenset({'canned beer'}), confidence=0.12, lift=2.5577777777777775)]\n",
      "Item [frozenset({'canned beer', 'other vegetables'}), 0.004009891064626078, [OrderedStatistic(items_base=frozenset({'canned beer'}), items_add=frozenset({'other vegetables'}), confidence=0.08547008547008547, lift=0.699993918384723)]]\n",
      "Confidence 0.004009891064626078\n",
      "Statistics [OrderedStatistic(items_base=frozenset({'canned beer'}), items_add=frozenset({'other vegetables'}), confidence=0.08547008547008547, lift=0.699993918384723)]\n",
      "Item [frozenset({'canned beer', 'rolls/buns'}), 0.004210385617857381, [OrderedStatistic(items_base=frozenset({'canned beer'}), items_add=frozenset({'rolls/buns'}), confidence=0.08974358974358974, lift=0.8158161198865937)]]\n",
      "Confidence 0.004210385617857381\n",
      "Statistics [OrderedStatistic(items_base=frozenset({'canned beer'}), items_add=frozenset({'rolls/buns'}), confidence=0.08974358974358974, lift=0.8158161198865937)]\n",
      "Item [frozenset({'salty snack', 'canned beer'}), 0.0010024727661565194, [OrderedStatistic(items_base=frozenset({'salty snack'}), items_add=frozenset({'canned beer'}), confidence=0.053380782918149475, lift=1.137801502570186)]]\n",
      "Confidence 0.0010024727661565194\n",
      "Statistics [OrderedStatistic(items_base=frozenset({'salty snack'}), items_add=frozenset({'canned beer'}), confidence=0.053380782918149475, lift=1.137801502570186)]\n",
      "Item [frozenset({'sausage', 'canned beer'}), 0.0024727661565194146, [OrderedStatistic(items_base=frozenset({'canned beer'}), items_add=frozenset({'sausage'}), confidence=0.05270655270655271, lift=0.8733645051474509)]]\n",
      "Confidence 0.0024727661565194146\n",
      "Statistics [OrderedStatistic(items_base=frozenset({'canned beer'}), items_add=frozenset({'sausage'}), confidence=0.05270655270655271, lift=0.8733645051474509)]\n",
      "Item [frozenset({'canned beer', 'soda'}), 0.003141081333957094, [OrderedStatistic(items_base=frozenset({'canned beer'}), items_add=frozenset({'soda'}), confidence=0.06695156695156695, lift=0.6894675129361985)]]\n",
      "Confidence 0.003141081333957094\n",
      "Statistics [OrderedStatistic(items_base=frozenset({'canned beer'}), items_add=frozenset({'soda'}), confidence=0.06695156695156695, lift=0.6894675129361985)]\n",
      "Item [frozenset({'canned beer', 'specialty chocolate'}), 0.0008019782129252155, [OrderedStatistic(items_base=frozenset({'specialty chocolate'}), items_add=frozenset({'canned beer'}), confidence=0.0502092050209205, lift=1.0701999070199908)]]\n",
      "Confidence 0.0008019782129252155\n",
      "Statistics [OrderedStatistic(items_base=frozenset({'specialty chocolate'}), items_add=frozenset({'canned beer'}), confidence=0.0502092050209205, lift=1.0701999070199908)]\n",
      "Item [frozenset({'canned beer', 'tropical fruit'}), 0.0025395976742631824, [OrderedStatistic(items_base=frozenset({'canned beer'}), items_add=frozenset({'tropical fruit'}), confidence=0.05413105413105413, lift=0.7987800423697861)]]\n",
      "Confidence 0.0025395976742631824\n",
      "Statistics [OrderedStatistic(items_base=frozenset({'canned beer'}), items_add=frozenset({'tropical fruit'}), confidence=0.05413105413105413, lift=0.7987800423697861)]\n",
      "Item [frozenset({'canned beer', 'turkey'}), 0.00040098910646260775, [OrderedStatistic(items_base=frozenset({'turkey'}), items_add=frozenset({'canned beer'}), confidence=0.075, lift=1.598611111111111)]]\n",
      "Confidence 0.00040098910646260775\n",
      "Statistics [OrderedStatistic(items_base=frozenset({'turkey'}), items_add=frozenset({'canned beer'}), confidence=0.075, lift=1.598611111111111)]\n",
      "Item [frozenset({'canned beer', 'white bread'}), 0.0015371249081066632, [OrderedStatistic(items_base=frozenset({'white bread'}), items_add=frozenset({'canned beer'}), confidence=0.06406685236768803, lift=1.3655730939853503)]]\n",
      "Confidence 0.0015371249081066632\n",
      "Statistics [OrderedStatistic(items_base=frozenset({'white bread'}), items_add=frozenset({'canned beer'}), confidence=0.06406685236768803, lift=1.3655730939853503)]\n",
      "Item [frozenset({'canned beer', 'whole milk'}), 0.006014836596939116, [OrderedStatistic(items_base=frozenset({'canned beer'}), items_add=frozenset({'whole milk'}), confidence=0.1282051282051282, lift=0.8118211313302299)]]\n",
      "Confidence 0.006014836596939116\n",
      "Statistics [OrderedStatistic(items_base=frozenset({'canned beer'}), items_add=frozenset({'whole milk'}), confidence=0.1282051282051282, lift=0.8118211313302299)]\n",
      "Item [frozenset({'yogurt', 'canned beer'}), 0.0038762280291385416, [OrderedStatistic(items_base=frozenset({'canned beer'}), items_add=frozenset({'yogurt'}), confidence=0.08262108262108261, lift=0.9620694624585674)]]\n",
      "Confidence 0.0038762280291385416\n",
      "Statistics [OrderedStatistic(items_base=frozenset({'canned beer'}), items_add=frozenset({'yogurt'}), confidence=0.08262108262108261, lift=0.9620694624585674)]\n",
      "Item [frozenset({'canned fish', 'citrus fruit'}), 0.00040098910646260775, [OrderedStatistic(items_base=frozenset({'canned fish'}), items_add=frozenset({'citrus fruit'}), confidence=0.05217391304347826, lift=0.9819852337981951)]]\n",
      "Confidence 0.00040098910646260775\n",
      "Statistics [OrderedStatistic(items_base=frozenset({'canned fish'}), items_add=frozenset({'citrus fruit'}), confidence=0.05217391304347826, lift=0.9819852337981951)]\n",
      "Item [frozenset({'canned fish', 'frankfurter'}), 0.00046782062420637575, [OrderedStatistic(items_base=frozenset({'canned fish'}), items_add=frozenset({'frankfurter'}), confidence=0.06086956521739131, lift=1.6120200076952675)]]\n",
      "Confidence 0.00046782062420637575\n",
      "Statistics [OrderedStatistic(items_base=frozenset({'canned fish'}), items_add=frozenset({'frankfurter'}), confidence=0.06086956521739131, lift=1.6120200076952675)]\n",
      "Item [frozenset({'canned fish', 'other vegetables'}), 0.00046782062420637575, [OrderedStatistic(items_base=frozenset({'canned fish'}), items_add=frozenset({'other vegetables'}), confidence=0.06086956521739131, lift=0.49851740796268534)]]\n",
      "Confidence 0.00046782062420637575\n",
      "Statistics [OrderedStatistic(items_base=frozenset({'canned fish'}), items_add=frozenset({'other vegetables'}), confidence=0.06086956521739131, lift=0.49851740796268534)]\n",
      "Item [frozenset({'canned fish', 'pork'}), 0.00040098910646260775, [OrderedStatistic(items_base=frozenset({'canned fish'}), items_add=frozenset({'pork'}), confidence=0.05217391304347826, lift=1.4066274970622796)]]\n",
      "Confidence 0.00040098910646260775\n",
      "Statistics [OrderedStatistic(items_base=frozenset({'canned fish'}), items_add=frozenset({'pork'}), confidence=0.05217391304347826, lift=1.4066274970622796)]\n",
      "Item [frozenset({'canned fish', 'rolls/buns'}), 0.0009356412484127515, [OrderedStatistic(items_base=frozenset({'canned fish'}), items_add=frozenset({'rolls/buns'}), confidence=0.12173913043478261, lift=1.1066723017592055)]]\n",
      "Confidence 0.0009356412484127515\n",
      "Statistics [OrderedStatistic(items_base=frozenset({'canned fish'}), items_add=frozenset({'rolls/buns'}), confidence=0.12173913043478261, lift=1.1066723017592055)]\n",
      "Item [frozenset({'canned fish', 'root vegetables'}), 0.0005346521419501437, [OrderedStatistic(items_base=frozenset({'canned fish'}), items_add=frozenset({'root vegetables'}), confidence=0.06956521739130435, lift=0.9999081151067117)]]\n",
      "Confidence 0.0005346521419501437\n",
      "Statistics [OrderedStatistic(items_base=frozenset({'canned fish'}), items_add=frozenset({'root vegetables'}), confidence=0.06956521739130435, lift=0.9999081151067117)]\n",
      "Item [frozenset({'canned fish', 'soda'}), 0.0006014836596939117, [OrderedStatistic(items_base=frozenset({'canned fish'}), items_add=frozenset({'soda'}), confidence=0.0782608695652174, lift=0.8059307579520634)]]\n",
      "Confidence 0.0006014836596939117\n",
      "Statistics [OrderedStatistic(items_base=frozenset({'canned fish'}), items_add=frozenset({'soda'}), confidence=0.0782608695652174, lift=0.8059307579520634)]\n",
      "Item [frozenset({'canned fish', 'whole milk'}), 0.0009356412484127515, [OrderedStatistic(items_base=frozenset({'canned fish'}), items_add=frozenset({'whole milk'}), confidence=0.12173913043478261, lift=0.7708771090544445)]]\n",
      "Confidence 0.0009356412484127515\n",
      "Statistics [OrderedStatistic(items_base=frozenset({'canned fish'}), items_add=frozenset({'whole milk'}), confidence=0.12173913043478261, lift=0.7708771090544445)]\n",
      "Item [frozenset({'yogurt', 'canned fish'}), 0.0007351466951814476, [OrderedStatistic(items_base=frozenset({'canned fish'}), items_add=frozenset({'yogurt'}), confidence=0.09565217391304348, lift=1.1138081542886145)]]\n",
      "Confidence 0.0007351466951814476\n",
      "Statistics [OrderedStatistic(items_base=frozenset({'canned fish'}), items_add=frozenset({'yogurt'}), confidence=0.09565217391304348, lift=1.1138081542886145)]\n",
      "Item [frozenset({'whole milk', 'canned fruit'}), 0.00040098910646260775, [OrderedStatistic(items_base=frozenset({'canned fruit'}), items_add=frozenset({'whole milk'}), confidence=0.2857142857142857, lift=1.8092013783930838)]]\n",
      "Confidence 0.00040098910646260775\n",
      "Statistics [OrderedStatistic(items_base=frozenset({'canned fruit'}), items_add=frozenset({'whole milk'}), confidence=0.2857142857142857, lift=1.8092013783930838)]\n",
      "Item [frozenset({'canned vegetables', 'frankfurter'}), 0.0003341575887188398, [OrderedStatistic(items_base=frozenset({'canned vegetables'}), items_add=frozenset({'frankfurter'}), confidence=0.06097560975609757, lift=1.6148284049212176)]]\n",
      "Confidence 0.0003341575887188398\n",
      "Statistics [OrderedStatistic(items_base=frozenset({'canned vegetables'}), items_add=frozenset({'frankfurter'}), confidence=0.06097560975609757, lift=1.6148284049212176)]\n",
      "Item [frozenset({'canned vegetables', 'other vegetables'}), 0.00040098910646260775, [OrderedStatistic(items_base=frozenset({'canned vegetables'}), items_add=frozenset({'other vegetables'}), confidence=0.07317073170731707, lift=0.5992630862269214)]]\n",
      "Confidence 0.00040098910646260775\n",
      "Statistics [OrderedStatistic(items_base=frozenset({'canned vegetables'}), items_add=frozenset({'other vegetables'}), confidence=0.07317073170731707, lift=0.5992630862269214)]\n",
      "Item [frozenset({'canned vegetables', 'rolls/buns'}), 0.00040098910646260775, [OrderedStatistic(items_base=frozenset({'canned vegetables'}), items_add=frozenset({'rolls/buns'}), confidence=0.07317073170731707, lift=0.665160181370951)]]\n",
      "Confidence 0.00040098910646260775\n",
      "Statistics [OrderedStatistic(items_base=frozenset({'canned vegetables'}), items_add=frozenset({'rolls/buns'}), confidence=0.07317073170731707, lift=0.665160181370951)]\n",
      "Item [frozenset({'canned vegetables', 'root vegetables'}), 0.0003341575887188398, [OrderedStatistic(items_base=frozenset({'canned vegetables'}), items_add=frozenset({'root vegetables'}), confidence=0.06097560975609757, lift=0.8764438508938404)]]\n",
      "Confidence 0.0003341575887188398\n",
      "Statistics [OrderedStatistic(items_base=frozenset({'canned vegetables'}), items_add=frozenset({'root vegetables'}), confidence=0.06097560975609757, lift=0.8764438508938404)]\n",
      "Item [frozenset({'canned vegetables', 'soda'}), 0.00040098910646260775, [OrderedStatistic(items_base=frozenset({'canned vegetables'}), items_add=frozenset({'soda'}), confidence=0.07317073170731707, lift=0.7535124972722542)]]\n",
      "Confidence 0.00040098910646260775\n",
      "Statistics [OrderedStatistic(items_base=frozenset({'canned vegetables'}), items_add=frozenset({'soda'}), confidence=0.07317073170731707, lift=0.7535124972722542)]\n",
      "Item [frozenset({'canned vegetables', 'tropical fruit'}), 0.00040098910646260775, [OrderedStatistic(items_base=frozenset({'canned vegetables'}), items_add=frozenset({'tropical fruit'}), confidence=0.07317073170731707, lift=1.0797373358348967)]]\n",
      "Confidence 0.00040098910646260775\n",
      "Statistics [OrderedStatistic(items_base=frozenset({'canned vegetables'}), items_add=frozenset({'tropical fruit'}), confidence=0.07317073170731707, lift=1.0797373358348967)]\n",
      "Item [frozenset({'canned vegetables', 'whole milk'}), 0.0009356412484127515, [OrderedStatistic(items_base=frozenset({'canned vegetables'}), items_add=frozenset({'whole milk'}), confidence=0.17073170731707318, lift=1.0811081407470868)]]\n",
      "Confidence 0.0009356412484127515\n",
      "Statistics [OrderedStatistic(items_base=frozenset({'canned vegetables'}), items_add=frozenset({'whole milk'}), confidence=0.17073170731707318, lift=1.0811081407470868)]\n",
      "Item [frozenset({'cat food', 'citrus fruit'}), 0.0007351466951814476, [OrderedStatistic(items_base=frozenset({'cat food'}), items_add=frozenset({'citrus fruit'}), confidence=0.062146892655367235, lift=1.1696905091852325)]]\n",
      "Confidence 0.0007351466951814476\n",
      "Statistics [OrderedStatistic(items_base=frozenset({'cat food'}), items_add=frozenset({'citrus fruit'}), confidence=0.062146892655367235, lift=1.1696905091852325)]\n",
      "Item [frozenset({'fruit/vegetable juice', 'cat food'}), 0.0007351466951814476, [OrderedStatistic(items_base=frozenset({'cat food'}), items_add=frozenset({'fruit/vegetable juice'}), confidence=0.062146892655367235, lift=1.826923290377721)]]\n",
      "Confidence 0.0007351466951814476\n",
      "Statistics [OrderedStatistic(items_base=frozenset({'cat food'}), items_add=frozenset({'fruit/vegetable juice'}), confidence=0.062146892655367235, lift=1.826923290377721)]\n",
      "Item [frozenset({'newspapers', 'cat food'}), 0.0006014836596939117, [OrderedStatistic(items_base=frozenset({'cat food'}), items_add=frozenset({'newspapers'}), confidence=0.05084745762711865, lift=1.3072689149047703)]]\n",
      "Confidence 0.0006014836596939117\n",
      "Statistics [OrderedStatistic(items_base=frozenset({'cat food'}), items_add=frozenset({'newspapers'}), confidence=0.05084745762711865, lift=1.3072689149047703)]\n",
      "Item [frozenset({'cat food', 'other vegetables'}), 0.0007351466951814476, [OrderedStatistic(items_base=frozenset({'cat food'}), items_add=frozenset({'other vegetables'}), confidence=0.062146892655367235, lift=0.5089786287916037)]]\n",
      "Confidence 0.0007351466951814476\n",
      "Statistics [OrderedStatistic(items_base=frozenset({'cat food'}), items_add=frozenset({'other vegetables'}), confidence=0.062146892655367235, lift=0.5089786287916037)]\n",
      "Item [frozenset({'cat food', 'rolls/buns'}), 0.0010693042839002875, [OrderedStatistic(items_base=frozenset({'cat food'}), items_add=frozenset({'rolls/buns'}), confidence=0.09039548022598871, lift=0.8217421449705159)]]\n",
      "Confidence 0.0010693042839002875\n",
      "Statistics [OrderedStatistic(items_base=frozenset({'cat food'}), items_add=frozenset({'rolls/buns'}), confidence=0.09039548022598871, lift=0.8217421449705159)]\n",
      "Item [frozenset({'cat food', 'soda'}), 0.0008019782129252155, [OrderedStatistic(items_base=frozenset({'cat food'}), items_add=frozenset({'soda'}), confidence=0.06779661016949153, lift=0.6981697714838966)]]\n",
      "Confidence 0.0008019782129252155\n",
      "Statistics [OrderedStatistic(items_base=frozenset({'cat food'}), items_add=frozenset({'soda'}), confidence=0.06779661016949153, lift=0.6981697714838966)]\n",
      "Item [frozenset({'cat food', 'tropical fruit'}), 0.0010024727661565194, [OrderedStatistic(items_base=frozenset({'cat food'}), items_add=frozenset({'tropical fruit'}), confidence=0.08474576271186442, lift=1.250543242068666)]]\n",
      "Confidence 0.0010024727661565194\n",
      "Statistics [OrderedStatistic(items_base=frozenset({'cat food'}), items_add=frozenset({'tropical fruit'}), confidence=0.08474576271186442, lift=1.250543242068666)]\n",
      "Item [frozenset({'cat food', 'whole milk'}), 0.001670787943594199, [OrderedStatistic(items_base=frozenset({'cat food'}), items_add=frozenset({'whole milk'}), confidence=0.14124293785310735, lift=0.8943792124824568)]]\n",
      "Confidence 0.001670787943594199\n",
      "Statistics [OrderedStatistic(items_base=frozenset({'cat food'}), items_add=frozenset({'whole milk'}), confidence=0.14124293785310735, lift=0.8943792124824568)]\n",
      "Item [frozenset({'cereals', 'other vegetables'}), 0.0003341575887188398, [OrderedStatistic(items_base=frozenset({'cereals'}), items_add=frozenset({'other vegetables'}), confidence=0.11904761904761905, lift=0.9749915291787213)]]\n",
      "Confidence 0.0003341575887188398\n",
      "Statistics [OrderedStatistic(items_base=frozenset({'cereals'}), items_add=frozenset({'other vegetables'}), confidence=0.11904761904761905, lift=0.9749915291787213)]\n",
      "Item [frozenset({'cereals', 'rolls/buns'}), 0.0003341575887188398, [OrderedStatistic(items_base=frozenset({'cereals'}), items_add=frozenset({'rolls/buns'}), confidence=0.11904761904761905, lift=1.0822050569924204)]]\n",
      "Confidence 0.0003341575887188398\n",
      "Statistics [OrderedStatistic(items_base=frozenset({'cereals'}), items_add=frozenset({'rolls/buns'}), confidence=0.11904761904761905, lift=1.0822050569924204)]\n",
      "Item [frozenset({'chewing gum', 'citrus fruit'}), 0.0006683151774376796, [OrderedStatistic(items_base=frozenset({'chewing gum'}), items_add=frozenset({'citrus fruit'}), confidence=0.05555555555555556, lift=1.045632424877708)]]\n",
      "Confidence 0.0006683151774376796\n",
      "Statistics [OrderedStatistic(items_base=frozenset({'chewing gum'}), items_add=frozenset({'citrus fruit'}), confidence=0.05555555555555556, lift=1.045632424877708)]\n",
      "Item [frozenset({'chewing gum', 'coffee'}), 0.0006683151774376796, [OrderedStatistic(items_base=frozenset({'chewing gum'}), items_add=frozenset({'coffee'}), confidence=0.05555555555555556, lift=1.7574583039699319)]]\n",
      "Confidence 0.0006683151774376796\n",
      "Statistics [OrderedStatistic(items_base=frozenset({'chewing gum'}), items_add=frozenset({'coffee'}), confidence=0.05555555555555556, lift=1.7574583039699319)]\n",
      "Item [frozenset({'newspapers', 'chewing gum'}), 0.0008019782129252155, [OrderedStatistic(items_base=frozenset({'chewing gum'}), items_add=frozenset({'newspapers'}), confidence=0.06666666666666667, lift=1.7139747995418098)]]\n",
      "Confidence 0.0008019782129252155\n",
      "Statistics [OrderedStatistic(items_base=frozenset({'chewing gum'}), items_add=frozenset({'newspapers'}), confidence=0.06666666666666667, lift=1.7139747995418098)]\n",
      "Item [frozenset({'chewing gum', 'other vegetables'}), 0.0010693042839002875, [OrderedStatistic(items_base=frozenset({'chewing gum'}), items_add=frozenset({'other vegetables'}), confidence=0.0888888888888889, lift=0.727993675120112)]]\n",
      "Confidence 0.0010693042839002875\n",
      "Statistics [OrderedStatistic(items_base=frozenset({'chewing gum'}), items_add=frozenset({'other vegetables'}), confidence=0.0888888888888889, lift=0.727993675120112)]\n",
      "Item [frozenset({'chewing gum', 'pastry'}), 0.0008688097306689834, [OrderedStatistic(items_base=frozenset({'chewing gum'}), items_add=frozenset({'pastry'}), confidence=0.07222222222222222, lift=1.396202985931668)]]\n",
      "Confidence 0.0008688097306689834\n",
      "Statistics [OrderedStatistic(items_base=frozenset({'chewing gum'}), items_add=frozenset({'pastry'}), confidence=0.07222222222222222, lift=1.396202985931668)]\n",
      "Item [frozenset({'chewing gum', 'rolls/buns'}), 0.0008688097306689834, [OrderedStatistic(items_base=frozenset({'chewing gum'}), items_add=frozenset({'rolls/buns'}), confidence=0.07222222222222222, lift=0.6565377345754017)]]\n",
      "Confidence 0.0008688097306689834\n",
      "Statistics [OrderedStatistic(items_base=frozenset({'chewing gum'}), items_add=frozenset({'rolls/buns'}), confidence=0.07222222222222222, lift=0.6565377345754017)]\n",
      "Item [frozenset({'chewing gum', 'root vegetables'}), 0.0006683151774376796, [OrderedStatistic(items_base=frozenset({'chewing gum'}), items_add=frozenset({'root vegetables'}), confidence=0.05555555555555556, lift=0.7985377308143878)]]\n",
      "Confidence 0.0006683151774376796\n",
      "Statistics [OrderedStatistic(items_base=frozenset({'chewing gum'}), items_add=frozenset({'root vegetables'}), confidence=0.05555555555555556, lift=0.7985377308143878)]\n",
      "Item [frozenset({'sausage', 'chewing gum'}), 0.0007351466951814476, [OrderedStatistic(items_base=frozenset({'chewing gum'}), items_add=frozenset({'sausage'}), confidence=0.061111111111111116, lift=1.0126307370493417)]]\n",
      "Confidence 0.0007351466951814476\n",
      "Statistics [OrderedStatistic(items_base=frozenset({'chewing gum'}), items_add=frozenset({'sausage'}), confidence=0.061111111111111116, lift=1.0126307370493417)]\n",
      "Item [frozenset({'soda', 'chewing gum'}), 0.0010024727661565194, [OrderedStatistic(items_base=frozenset({'chewing gum'}), items_add=frozenset({'soda'}), confidence=0.08333333333333334, lift=0.8581670107822896)]]\n",
      "Confidence 0.0010024727661565194\n",
      "Statistics [OrderedStatistic(items_base=frozenset({'chewing gum'}), items_add=frozenset({'soda'}), confidence=0.08333333333333334, lift=0.8581670107822896)]\n",
      "Item [frozenset({'chewing gum', 'whole milk'}), 0.001670787943594199, [OrderedStatistic(items_base=frozenset({'chewing gum'}), items_add=frozenset({'whole milk'}), confidence=0.1388888888888889, lift=0.8794728922744158)]]\n",
      "Confidence 0.001670787943594199\n",
      "Statistics [OrderedStatistic(items_base=frozenset({'chewing gum'}), items_add=frozenset({'whole milk'}), confidence=0.1388888888888889, lift=0.8794728922744158)]\n",
      "Item [frozenset({'yogurt', 'chewing gum'}), 0.001403461872619127, [OrderedStatistic(items_base=frozenset({'chewing gum'}), items_add=frozenset({'yogurt'}), confidence=0.11666666666666667, lift=1.358508430609598)]]\n",
      "Confidence 0.001403461872619127\n",
      "Statistics [OrderedStatistic(items_base=frozenset({'chewing gum'}), items_add=frozenset({'yogurt'}), confidence=0.11666666666666667, lift=1.358508430609598)]\n",
      "Item [frozenset({'condensed milk', 'chicken'}), 0.0003341575887188398, [OrderedStatistic(items_base=frozenset({'condensed milk'}), items_add=frozenset({'chicken'}), confidence=0.05102040816326531, lift=1.8307394900406206)]]\n",
      "Confidence 0.0003341575887188398\n",
      "Statistics [OrderedStatistic(items_base=frozenset({'condensed milk'}), items_add=frozenset({'chicken'}), confidence=0.05102040816326531, lift=1.8307394900406206)]\n",
      "Item [frozenset({'chicken', 'other vegetables'}), 0.002205440085544343, [OrderedStatistic(items_base=frozenset({'chicken'}), items_add=frozenset({'other vegetables'}), confidence=0.07913669064748202, lift=0.648123865439668)]]\n",
      "Confidence 0.002205440085544343\n",
      "Statistics [OrderedStatistic(items_base=frozenset({'chicken'}), items_add=frozenset({'other vegetables'}), confidence=0.07913669064748202, lift=0.648123865439668)]\n",
      "Item [frozenset({'rolls/buns', 'chicken'}), 0.0028737552629820224, [OrderedStatistic(items_base=frozenset({'chicken'}), items_add=frozenset({'rolls/buns'}), confidence=0.10311750599520385, lift=0.9373920062006289)]]\n",
      "Confidence 0.0028737552629820224\n",
      "Statistics [OrderedStatistic(items_base=frozenset({'chicken'}), items_add=frozenset({'rolls/buns'}), confidence=0.10311750599520385, lift=0.9373920062006289)]\n",
      "Item [frozenset({'soda', 'chicken'}), 0.002138608567800575, [OrderedStatistic(items_base=frozenset({'chicken'}), items_add=frozenset({'soda'}), confidence=0.07673860911270984, lift=0.7902545135261373)]]\n",
      "Confidence 0.002138608567800575\n",
      "Statistics [OrderedStatistic(items_base=frozenset({'chicken'}), items_add=frozenset({'soda'}), confidence=0.07673860911270984, lift=0.7902545135261373)]\n",
      "Item [frozenset({'tropical fruit', 'chicken'}), 0.001403461872619127, [OrderedStatistic(items_base=frozenset({'chicken'}), items_add=frozenset({'tropical fruit'}), confidence=0.050359712230215826, lift=0.7431285740638259)]]\n",
      "Confidence 0.001403461872619127\n",
      "Statistics [OrderedStatistic(items_base=frozenset({'chicken'}), items_add=frozenset({'tropical fruit'}), confidence=0.050359712230215826, lift=0.7431285740638259)]\n",
      "Item [frozenset({'whole milk', 'chicken'}), 0.003408407404932166, [OrderedStatistic(items_base=frozenset({'chicken'}), items_add=frozenset({'whole milk'}), confidence=0.1223021582733813, lift=0.774442316650277)]]\n",
      "Confidence 0.003408407404932166\n",
      "Statistics [OrderedStatistic(items_base=frozenset({'chicken'}), items_add=frozenset({'whole milk'}), confidence=0.1223021582733813, lift=0.774442316650277)]\n",
      "Item [frozenset({'yogurt', 'chicken'}), 0.001804450979081735, [OrderedStatistic(items_base=frozenset({'chicken'}), items_add=frozenset({'yogurt'}), confidence=0.06474820143884892, lift=0.7539512358984408)]]\n",
      "Confidence 0.001804450979081735\n",
      "Statistics [OrderedStatistic(items_base=frozenset({'chicken'}), items_add=frozenset({'yogurt'}), confidence=0.06474820143884892, lift=0.7539512358984408)]\n",
      "Item [frozenset({'frozen fish', 'chocolate'}), 0.00040098910646260775, [OrderedStatistic(items_base=frozenset({'frozen fish'}), items_add=frozenset({'chocolate'}), confidence=0.058823529411764705, lift=2.493417763706049)]]\n",
      "Confidence 0.00040098910646260775\n",
      "Statistics [OrderedStatistic(items_base=frozenset({'frozen fish'}), items_add=frozenset({'chocolate'}), confidence=0.058823529411764705, lift=2.493417763706049)]\n",
      "Item [frozenset({'chocolate', 'other vegetables'}), 0.001871282496825503, [OrderedStatistic(items_base=frozenset({'chocolate'}), items_add=frozenset({'other vegetables'}), confidence=0.07932011331444759, lift=0.6496260840306948)]]\n",
      "Confidence 0.001871282496825503\n",
      "Statistics [OrderedStatistic(items_base=frozenset({'chocolate'}), items_add=frozenset({'other vegetables'}), confidence=0.07932011331444759, lift=0.6496260840306948)]\n",
      "Item [frozenset({'pip fruit', 'chocolate'}), 0.0013366303548753592, [OrderedStatistic(items_base=frozenset({'chocolate'}), items_add=frozenset({'pip fruit'}), confidence=0.056657223796033995, lift=1.1549891548502134)]]\n",
      "Confidence 0.0013366303548753592\n",
      "Statistics [OrderedStatistic(items_base=frozenset({'chocolate'}), items_add=frozenset({'pip fruit'}), confidence=0.056657223796033995, lift=1.1549891548502134)]\n",
      "Item [frozenset({'rolls/buns', 'chocolate'}), 0.002806923745238254, [OrderedStatistic(items_base=frozenset({'chocolate'}), items_add=frozenset({'rolls/buns'}), confidence=0.11898016997167138, lift=1.081591909651348)]]\n",
      "Confidence 0.002806923745238254\n",
      "Statistics [OrderedStatistic(items_base=frozenset({'chocolate'}), items_add=frozenset({'rolls/buns'}), confidence=0.11898016997167138, lift=1.081591909651348)]\n",
      "Item [frozenset({'chocolate', 'root vegetables'}), 0.0012029673193878234, [OrderedStatistic(items_base=frozenset({'chocolate'}), items_add=frozenset({'root vegetables'}), confidence=0.0509915014164306, lift=0.7329354809741124)]]\n",
      "Confidence 0.0012029673193878234\n",
      "Statistics [OrderedStatistic(items_base=frozenset({'chocolate'}), items_add=frozenset({'root vegetables'}), confidence=0.0509915014164306, lift=0.7329354809741124)]\n",
      "Item [frozenset({'sausage', 'chocolate'}), 0.001403461872619127, [OrderedStatistic(items_base=frozenset({'chocolate'}), items_add=frozenset({'sausage'}), confidence=0.05949008498583569, lift=0.9857698135582054)]]\n",
      "Confidence 0.001403461872619127\n",
      "Statistics [OrderedStatistic(items_base=frozenset({'chocolate'}), items_add=frozenset({'sausage'}), confidence=0.05949008498583569, lift=0.9857698135582054)]\n",
      "Item [frozenset({'soda', 'chocolate'}), 0.001670787943594199, [OrderedStatistic(items_base=frozenset({'chocolate'}), items_add=frozenset({'soda'}), confidence=0.0708215297450425, lift=0.7293204057639855)]]\n",
      "Confidence 0.001670787943594199\n",
      "Statistics [OrderedStatistic(items_base=frozenset({'chocolate'}), items_add=frozenset({'soda'}), confidence=0.0708215297450425, lift=0.7293204057639855)]\n",
      "Item [frozenset({'tropical fruit', 'chocolate'}), 0.001403461872619127, [OrderedStatistic(items_base=frozenset({'chocolate'}), items_add=frozenset({'tropical fruit'}), confidence=0.05949008498583569, lift=0.8778601002397036)]]\n",
      "Confidence 0.001403461872619127\n",
      "Statistics [OrderedStatistic(items_base=frozenset({'chocolate'}), items_add=frozenset({'tropical fruit'}), confidence=0.05949008498583569, lift=0.8778601002397036)]\n",
      "Item [frozenset({'whole milk', 'chocolate'}), 0.0029405867807257902, [OrderedStatistic(items_base=frozenset({'chocolate'}), items_add=frozenset({'whole milk'}), confidence=0.12464589235127478, lift=0.789283320885368)]]\n",
      "Confidence 0.0029405867807257902\n",
      "Statistics [OrderedStatistic(items_base=frozenset({'chocolate'}), items_add=frozenset({'whole milk'}), confidence=0.12464589235127478, lift=0.789283320885368)]\n",
      "Item [frozenset({'yogurt', 'chocolate'}), 0.001603956425850431, [OrderedStatistic(items_base=frozenset({'chocolate'}), items_add=frozenset({'yogurt'}), confidence=0.06798866855524079, lift=0.7916843950132824)]]\n",
      "Confidence 0.001603956425850431\n",
      "Statistics [OrderedStatistic(items_base=frozenset({'chocolate'}), items_add=frozenset({'yogurt'}), confidence=0.06798866855524079, lift=0.7916843950132824)]\n",
      "Item [frozenset({'chocolate marshmallow', 'other vegetables'}), 0.0003341575887188398, [OrderedStatistic(items_base=frozenset({'chocolate marshmallow'}), items_add=frozenset({'other vegetables'}), confidence=0.08333333333333333, lift=0.6824940704251049)]]\n",
      "Confidence 0.0003341575887188398\n",
      "Statistics [OrderedStatistic(items_base=frozenset({'chocolate marshmallow'}), items_add=frozenset({'other vegetables'}), confidence=0.08333333333333333, lift=0.6824940704251049)]\n",
      "Item [frozenset({'soda', 'chocolate marshmallow'}), 0.0003341575887188398, [OrderedStatistic(items_base=frozenset({'chocolate marshmallow'}), items_add=frozenset({'soda'}), confidence=0.08333333333333333, lift=0.8581670107822895)]]\n",
      "Confidence 0.0003341575887188398\n",
      "Statistics [OrderedStatistic(items_base=frozenset({'chocolate marshmallow'}), items_add=frozenset({'soda'}), confidence=0.08333333333333333, lift=0.8581670107822895)]\n",
      "Item [frozenset({'whole milk', 'chocolate marshmallow'}), 0.0006683151774376796, [OrderedStatistic(items_base=frozenset({'chocolate marshmallow'}), items_add=frozenset({'whole milk'}), confidence=0.16666666666666666, lift=1.055367470729299)]]\n",
      "Confidence 0.0006683151774376796\n",
      "Statistics [OrderedStatistic(items_base=frozenset({'chocolate marshmallow'}), items_add=frozenset({'whole milk'}), confidence=0.16666666666666666, lift=1.055367470729299)]\n",
      "Item [frozenset({'yogurt', 'chocolate marshmallow'}), 0.0003341575887188398, [OrderedStatistic(items_base=frozenset({'chocolate marshmallow'}), items_add=frozenset({'yogurt'}), confidence=0.08333333333333333, lift=0.9703631647211413)]]\n",
      "Confidence 0.0003341575887188398\n",
      "Statistics [OrderedStatistic(items_base=frozenset({'chocolate marshmallow'}), items_add=frozenset({'yogurt'}), confidence=0.08333333333333333, lift=0.9703631647211413)]\n",
      "Item [frozenset({'citrus fruit', 'dishes'}), 0.00046782062420637575, [OrderedStatistic(items_base=frozenset({'dishes'}), items_add=frozenset({'citrus fruit'}), confidence=0.05185185185185186, lift=0.9759235965525275)]]\n",
      "Confidence 0.00046782062420637575\n",
      "Statistics [OrderedStatistic(items_base=frozenset({'dishes'}), items_add=frozenset({'citrus fruit'}), confidence=0.05185185185185186, lift=0.9759235965525275)]\n",
      "Item [frozenset({'frozen vegetables', 'citrus fruit'}), 0.001603956425850431, [OrderedStatistic(items_base=frozenset({'frozen vegetables'}), items_add=frozenset({'citrus fruit'}), confidence=0.05727923627684964, lift=1.0780744810194982)]]\n",
      "Confidence 0.001603956425850431\n",
      "Statistics [OrderedStatistic(items_base=frozenset({'frozen vegetables'}), items_add=frozenset({'citrus fruit'}), confidence=0.05727923627684964, lift=1.0780744810194982)]\n",
      "Item [frozenset({'ham', 'citrus fruit'}), 0.0008688097306689834, [OrderedStatistic(items_base=frozenset({'ham'}), items_add=frozenset({'citrus fruit'}), confidence=0.05078124999999999, lift=0.9557733883647798)]]\n",
      "Confidence 0.0008688097306689834\n",
      "Statistics [OrderedStatistic(items_base=frozenset({'ham'}), items_add=frozenset({'citrus fruit'}), confidence=0.05078124999999999, lift=0.9557733883647798)]\n",
      "Item [frozenset({'hard cheese', 'citrus fruit'}), 0.0007351466951814476, [OrderedStatistic(items_base=frozenset({'hard cheese'}), items_add=frozenset({'citrus fruit'}), confidence=0.05, lift=0.9410691823899371)]]\n",
      "Confidence 0.0007351466951814476\n",
      "Statistics [OrderedStatistic(items_base=frozenset({'hard cheese'}), items_add=frozenset({'citrus fruit'}), confidence=0.05, lift=0.9410691823899371)]\n",
      "Item [frozenset({'napkins', 'citrus fruit'}), 0.001403461872619127, [OrderedStatistic(items_base=frozenset({'napkins'}), items_add=frozenset({'citrus fruit'}), confidence=0.0634441087613293, lift=1.1941059111896482)]]\n",
      "Confidence 0.001403461872619127\n",
      "Statistics [OrderedStatistic(items_base=frozenset({'napkins'}), items_add=frozenset({'citrus fruit'}), confidence=0.0634441087613293, lift=1.1941059111896482)]\n",
      "Item [frozenset({'citrus fruit', 'other vegetables'}), 0.0048118692775512934, [OrderedStatistic(items_base=frozenset({'citrus fruit'}), items_add=frozenset({'other vegetables'}), confidence=0.09056603773584906, lift=0.7417294048393593)]]\n",
      "Confidence 0.0048118692775512934\n",
      "Statistics [OrderedStatistic(items_base=frozenset({'citrus fruit'}), items_add=frozenset({'other vegetables'}), confidence=0.09056603773584906, lift=0.7417294048393593)]\n",
      "Item [frozenset({'pickled vegetables', 'citrus fruit'}), 0.00046782062420637575, [OrderedStatistic(items_base=frozenset({'pickled vegetables'}), items_add=frozenset({'citrus fruit'}), confidence=0.05223880597014926, lift=0.9832066084670985)]]\n",
      "Confidence 0.00046782062420637575\n",
      "Statistics [OrderedStatistic(items_base=frozenset({'pickled vegetables'}), items_add=frozenset({'citrus fruit'}), confidence=0.05223880597014926, lift=0.9832066084670985)]\n",
      "Item [frozenset({'pot plants', 'citrus fruit'}), 0.00046782062420637575, [OrderedStatistic(items_base=frozenset({'pot plants'}), items_add=frozenset({'citrus fruit'}), confidence=0.059829059829059825, lift=1.1260656883298392)]]\n",
      "Confidence 0.00046782062420637575\n",
      "Statistics [OrderedStatistic(items_base=frozenset({'pot plants'}), items_add=frozenset({'citrus fruit'}), confidence=0.059829059829059825, lift=1.1260656883298392)]\n",
      "Item [frozenset({'citrus fruit', 'red/blush wine'}), 0.0005346521419501437, [OrderedStatistic(items_base=frozenset({'red/blush wine'}), items_add=frozenset({'citrus fruit'}), confidence=0.050955414012738856, lift=0.959051396066178)]]\n",
      "Confidence 0.0005346521419501437\n",
      "Statistics [OrderedStatistic(items_base=frozenset({'red/blush wine'}), items_add=frozenset({'citrus fruit'}), confidence=0.050955414012738856, lift=0.959051396066178)]\n",
      "Item [frozenset({'roll products ', 'citrus fruit'}), 0.0005346521419501437, [OrderedStatistic(items_base=frozenset({'roll products '}), items_add=frozenset({'citrus fruit'}), confidence=0.09756097560975611, lift=1.8362325510047557)]]\n",
      "Confidence 0.0005346521419501437\n",
      "Statistics [OrderedStatistic(items_base=frozenset({'roll products '}), items_add=frozenset({'citrus fruit'}), confidence=0.09756097560975611, lift=1.8362325510047557)]\n",
      "Item [frozenset({'rolls/buns', 'citrus fruit'}), 0.004678206242063757, [OrderedStatistic(items_base=frozenset({'citrus fruit'}), items_add=frozenset({'rolls/buns'}), confidence=0.0880503144654088, lift=0.8004233629076014)]]\n",
      "Confidence 0.004678206242063757\n",
      "Statistics [OrderedStatistic(items_base=frozenset({'citrus fruit'}), items_add=frozenset({'rolls/buns'}), confidence=0.0880503144654088, lift=0.8004233629076014)]\n",
      "Item [frozenset({'salt', 'citrus fruit'}), 0.0003341575887188398, [OrderedStatistic(items_base=frozenset({'salt'}), items_add=frozenset({'citrus fruit'}), confidence=0.05617977528089888, lift=1.0573811038089183)]]\n",
      "Confidence 0.0003341575887188398\n",
      "Statistics [OrderedStatistic(items_base=frozenset({'salt'}), items_add=frozenset({'citrus fruit'}), confidence=0.05617977528089888, lift=1.0573811038089183)]\n",
      "Item [frozenset({'sauces', 'citrus fruit'}), 0.0003341575887188398, [OrderedStatistic(items_base=frozenset({'sauces'}), items_add=frozenset({'citrus fruit'}), confidence=0.11363636363636365, lift=2.1387935963407663)]]\n",
      "Confidence 0.0003341575887188398\n",
      "Statistics [OrderedStatistic(items_base=frozenset({'sauces'}), items_add=frozenset({'citrus fruit'}), confidence=0.11363636363636365, lift=2.1387935963407663)]\n",
      "Item [frozenset({'soda', 'citrus fruit'}), 0.003742564993651006, [OrderedStatistic(items_base=frozenset({'citrus fruit'}), items_add=frozenset({'soda'}), confidence=0.07044025157232704, lift=0.7253940015669165)]]\n",
      "Confidence 0.003742564993651006\n",
      "Statistics [OrderedStatistic(items_base=frozenset({'citrus fruit'}), items_add=frozenset({'soda'}), confidence=0.07044025157232704, lift=0.7253940015669165)]\n",
      "Item [frozenset({'specialty bar', 'citrus fruit'}), 0.0009356412484127515, [OrderedStatistic(items_base=frozenset({'specialty bar'}), items_add=frozenset({'citrus fruit'}), confidence=0.06698564593301436, lift=1.2607625410008727)]]\n",
      "Confidence 0.0009356412484127515\n",
      "Statistics [OrderedStatistic(items_base=frozenset({'specialty bar'}), items_add=frozenset({'citrus fruit'}), confidence=0.06698564593301436, lift=1.2607625410008727)]\n",
      "Item [frozenset({'specialty chocolate', 'citrus fruit'}), 0.001403461872619127, [OrderedStatistic(items_base=frozenset({'specialty chocolate'}), items_add=frozenset({'citrus fruit'}), confidence=0.08786610878661087, lift=1.6537617431120233)]]\n",
      "Confidence 0.001403461872619127\n",
      "Statistics [OrderedStatistic(items_base=frozenset({'specialty chocolate'}), items_add=frozenset({'citrus fruit'}), confidence=0.08786610878661087, lift=1.6537617431120233)]\n",
      "Item [frozenset({'tropical fruit', 'citrus fruit'}), 0.0028737552629820224, [OrderedStatistic(items_base=frozenset({'citrus fruit'}), items_add=frozenset({'tropical fruit'}), confidence=0.05408805031446541, lift=0.7981454604096114)]]\n",
      "Confidence 0.0028737552629820224\n",
      "Statistics [OrderedStatistic(items_base=frozenset({'citrus fruit'}), items_add=frozenset({'tropical fruit'}), confidence=0.05408805031446541, lift=0.7981454604096114)]\n",
      "Item [frozenset({'waffles', 'citrus fruit'}), 0.0009356412484127515, [OrderedStatistic(items_base=frozenset({'waffles'}), items_add=frozenset({'citrus fruit'}), confidence=0.05054151624548737, lift=0.9512612673977704)]]\n",
      "Confidence 0.0009356412484127515\n",
      "Statistics [OrderedStatistic(items_base=frozenset({'waffles'}), items_add=frozenset({'citrus fruit'}), confidence=0.05054151624548737, lift=0.9512612673977704)]\n",
      "Item [frozenset({'citrus fruit', 'white wine'}), 0.0006683151774376796, [OrderedStatistic(items_base=frozenset({'white wine'}), items_add=frozenset({'citrus fruit'}), confidence=0.05714285714285714, lift=1.0755076370170709)]]\n",
      "Confidence 0.0006683151774376796\n",
      "Statistics [OrderedStatistic(items_base=frozenset({'white wine'}), items_add=frozenset({'citrus fruit'}), confidence=0.05714285714285714, lift=1.0755076370170709)]\n",
      "Item [frozenset({'whole milk', 'citrus fruit'}), 0.007150972398583172, [OrderedStatistic(items_base=frozenset({'citrus fruit'}), items_add=frozenset({'whole milk'}), confidence=0.13459119496855346, lift=0.8522590140983773)]]\n",
      "Confidence 0.007150972398583172\n",
      "Statistics [OrderedStatistic(items_base=frozenset({'citrus fruit'}), items_add=frozenset({'whole milk'}), confidence=0.13459119496855346, lift=0.8522590140983773)]\n",
      "Item [frozenset({'yogurt', 'citrus fruit'}), 0.004611374724319989, [OrderedStatistic(items_base=frozenset({'citrus fruit'}), items_add=frozenset({'yogurt'}), confidence=0.08679245283018867, lift=1.0106423904265471), OrderedStatistic(items_base=frozenset({'yogurt'}), items_add=frozenset({'citrus fruit'}), confidence=0.053696498054474705, lift=1.0106423904265471)]]\n",
      "Confidence 0.004611374724319989\n",
      "Statistics [OrderedStatistic(items_base=frozenset({'citrus fruit'}), items_add=frozenset({'yogurt'}), confidence=0.08679245283018867, lift=1.0106423904265471), OrderedStatistic(items_base=frozenset({'yogurt'}), items_add=frozenset({'citrus fruit'}), confidence=0.053696498054474705, lift=1.0106423904265471)]\n",
      "Item [frozenset({'curd', 'cling film/bags'}), 0.0003341575887188398, [OrderedStatistic(items_base=frozenset({'cling film/bags'}), items_add=frozenset({'curd'}), confidence=0.06756756756756757, lift=2.005979193479194)]]\n",
      "Confidence 0.0003341575887188398\n",
      "Statistics [OrderedStatistic(items_base=frozenset({'cling film/bags'}), items_add=frozenset({'curd'}), confidence=0.06756756756756757, lift=2.005979193479194)]\n",
      "Item [frozenset({'other vegetables', 'cling film/bags'}), 0.00046782062420637575, [OrderedStatistic(items_base=frozenset({'cling film/bags'}), items_add=frozenset({'other vegetables'}), confidence=0.0945945945945946, lift=0.77472299886093)]]\n",
      "Confidence 0.00046782062420637575\n",
      "Statistics [OrderedStatistic(items_base=frozenset({'cling film/bags'}), items_add=frozenset({'other vegetables'}), confidence=0.0945945945945946, lift=0.77472299886093)]\n",
      "Item [frozenset({'pip fruit', 'cling film/bags'}), 0.00046782062420637575, [OrderedStatistic(items_base=frozenset({'cling film/bags'}), items_add=frozenset({'pip fruit'}), confidence=0.0945945945945946, lift=1.9283636497532954)]]\n",
      "Confidence 0.00046782062420637575\n",
      "Statistics [OrderedStatistic(items_base=frozenset({'cling film/bags'}), items_add=frozenset({'pip fruit'}), confidence=0.0945945945945946, lift=1.9283636497532954)]\n",
      "Item [frozenset({'rolls/buns', 'cling film/bags'}), 0.0006014836596939117, [OrderedStatistic(items_base=frozenset({'cling film/bags'}), items_add=frozenset({'rolls/buns'}), confidence=0.12162162162162163, lift=1.105604085251716)]]\n",
      "Confidence 0.0006014836596939117\n",
      "Statistics [OrderedStatistic(items_base=frozenset({'cling film/bags'}), items_add=frozenset({'rolls/buns'}), confidence=0.12162162162162163, lift=1.105604085251716)]\n",
      "Item [frozenset({'soda', 'cling film/bags'}), 0.0006014836596939117, [OrderedStatistic(items_base=frozenset({'cling film/bags'}), items_add=frozenset({'soda'}), confidence=0.12162162162162163, lift=1.2524599616822605)]]\n",
      "Confidence 0.0006014836596939117\n",
      "Statistics [OrderedStatistic(items_base=frozenset({'cling film/bags'}), items_add=frozenset({'soda'}), confidence=0.12162162162162163, lift=1.2524599616822605)]\n",
      "Item [frozenset({'whole milk', 'cling film/bags'}), 0.0006683151774376796, [OrderedStatistic(items_base=frozenset({'cling film/bags'}), items_add=frozenset({'whole milk'}), confidence=0.13513513513513514, lift=0.8557033546453776)]]\n",
      "Confidence 0.0006683151774376796\n",
      "Statistics [OrderedStatistic(items_base=frozenset({'cling film/bags'}), items_add=frozenset({'whole milk'}), confidence=0.13513513513513514, lift=0.8557033546453776)]\n",
      "Item [frozenset({'other vegetables', 'coffee'}), 0.0026064291920069507, [OrderedStatistic(items_base=frozenset({'coffee'}), items_add=frozenset({'other vegetables'}), confidence=0.0824524312896406, lift=0.6752795453677571)]]\n",
      "Confidence 0.0026064291920069507\n",
      "Statistics [OrderedStatistic(items_base=frozenset({'coffee'}), items_add=frozenset({'other vegetables'}), confidence=0.0824524312896406, lift=0.6752795453677571)]\n",
      "Item [frozenset({'pot plants', 'coffee'}), 0.00040098910646260775, [OrderedStatistic(items_base=frozenset({'pot plants'}), items_add=frozenset({'coffee'}), confidence=0.05128205128205127, lift=1.622269203664552)]]\n",
      "Confidence 0.00040098910646260775\n",
      "Statistics [OrderedStatistic(items_base=frozenset({'pot plants'}), items_add=frozenset({'coffee'}), confidence=0.05128205128205127, lift=1.622269203664552)]\n",
      "Item [frozenset({'rolls/buns', 'coffee'}), 0.0024059346387756467, [OrderedStatistic(items_base=frozenset({'coffee'}), items_add=frozenset({'rolls/buns'}), confidence=0.07610993657505286, lift=0.6918790892907144)]]\n",
      "Confidence 0.0024059346387756467\n",
      "Statistics [OrderedStatistic(items_base=frozenset({'coffee'}), items_add=frozenset({'rolls/buns'}), confidence=0.07610993657505286, lift=0.6918790892907144)]\n",
      "Item [frozenset({'root vegetables', 'coffee'}), 0.002004945532313039, [OrderedStatistic(items_base=frozenset({'coffee'}), items_add=frozenset({'root vegetables'}), confidence=0.06342494714587738, lift=0.9116498406760453)]]\n",
      "Confidence 0.002004945532313039\n",
      "Statistics [OrderedStatistic(items_base=frozenset({'coffee'}), items_add=frozenset({'root vegetables'}), confidence=0.06342494714587738, lift=0.9116498406760453)]\n",
      "Item [frozenset({'soda', 'coffee'}), 0.0024727661565194146, [OrderedStatistic(items_base=frozenset({'coffee'}), items_add=frozenset({'soda'}), confidence=0.07822410147991543, lift=0.805552120057794)]]\n",
      "Confidence 0.0024727661565194146\n",
      "Statistics [OrderedStatistic(items_base=frozenset({'coffee'}), items_add=frozenset({'soda'}), confidence=0.07822410147991543, lift=0.805552120057794)]\n",
      "Item [frozenset({'whole milk', 'coffee'}), 0.003809396511394774, [OrderedStatistic(items_base=frozenset({'coffee'}), items_add=frozenset({'whole milk'}), confidence=0.12050739957716701, lift=0.7630775369755185)]]\n",
      "Confidence 0.003809396511394774\n",
      "Statistics [OrderedStatistic(items_base=frozenset({'coffee'}), items_add=frozenset({'whole milk'}), confidence=0.12050739957716701, lift=0.7630775369755185)]\n",
      "Item [frozenset({'yogurt', 'coffee'}), 0.0020717770500568067, [OrderedStatistic(items_base=frozenset({'coffee'}), items_add=frozenset({'yogurt'}), confidence=0.06553911205073995, lift=0.7631608821908341)]]\n",
      "Confidence 0.0020717770500568067\n",
      "Statistics [OrderedStatistic(items_base=frozenset({'coffee'}), items_add=frozenset({'yogurt'}), confidence=0.06553911205073995, lift=0.7631608821908341)]\n",
      "Item [frozenset({'curd', 'condensed milk'}), 0.0003341575887188398, [OrderedStatistic(items_base=frozenset({'condensed milk'}), items_add=frozenset({'curd'}), confidence=0.05102040816326531, lift=1.514718982831228)]]\n",
      "Confidence 0.0003341575887188398\n",
      "Statistics [OrderedStatistic(items_base=frozenset({'condensed milk'}), items_add=frozenset({'curd'}), confidence=0.05102040816326531, lift=1.514718982831228)]\n",
      "Item [frozenset({'frankfurter', 'condensed milk'}), 0.00040098910646260775, [OrderedStatistic(items_base=frozenset({'condensed milk'}), items_add=frozenset({'frankfurter'}), confidence=0.06122448979591836, lift=1.6214195412678345)]]\n",
      "Confidence 0.00040098910646260775\n",
      "Statistics [OrderedStatistic(items_base=frozenset({'condensed milk'}), items_add=frozenset({'frankfurter'}), confidence=0.06122448979591836, lift=1.6214195412678345)]\n",
      "Item [frozenset({'condensed milk', 'other vegetables'}), 0.0007351466951814476, [OrderedStatistic(items_base=frozenset({'condensed milk'}), items_add=frozenset({'other vegetables'}), confidence=0.11224489795918366, lift=0.9192777275113657)]]\n",
      "Confidence 0.0007351466951814476\n",
      "Statistics [OrderedStatistic(items_base=frozenset({'condensed milk'}), items_add=frozenset({'other vegetables'}), confidence=0.11224489795918366, lift=0.9192777275113657)]\n",
      "Item [frozenset({'pastry', 'condensed milk'}), 0.0005346521419501437, [OrderedStatistic(items_base=frozenset({'condensed milk'}), items_add=frozenset({'pastry'}), confidence=0.0816326530612245, lift=1.5781258239730003)]]\n",
      "Confidence 0.0005346521419501437\n",
      "Statistics [OrderedStatistic(items_base=frozenset({'condensed milk'}), items_add=frozenset({'pastry'}), confidence=0.0816326530612245, lift=1.5781258239730003)]\n",
      "Item [frozenset({'rolls/buns', 'condensed milk'}), 0.0007351466951814476, [OrderedStatistic(items_base=frozenset({'condensed milk'}), items_add=frozenset({'rolls/buns'}), confidence=0.11224489795918366, lift=1.0203647680214247)]]\n",
      "Confidence 0.0007351466951814476\n",
      "Statistics [OrderedStatistic(items_base=frozenset({'condensed milk'}), items_add=frozenset({'rolls/buns'}), confidence=0.11224489795918366, lift=1.0203647680214247)]\n",
      "Item [frozenset({'shopping bags', 'condensed milk'}), 0.0003341575887188398, [OrderedStatistic(items_base=frozenset({'condensed milk'}), items_add=frozenset({'shopping bags'}), confidence=0.05102040816326531, lift=1.0722168080715433)]]\n",
      "Confidence 0.0003341575887188398\n",
      "Statistics [OrderedStatistic(items_base=frozenset({'condensed milk'}), items_add=frozenset({'shopping bags'}), confidence=0.05102040816326531, lift=1.0722168080715433)]\n",
      "Item [frozenset({'soda', 'condensed milk'}), 0.00040098910646260775, [OrderedStatistic(items_base=frozenset({'condensed milk'}), items_add=frozenset({'soda'}), confidence=0.06122448979591836, lift=0.6304900487380086)]]\n",
      "Confidence 0.00040098910646260775\n",
      "Statistics [OrderedStatistic(items_base=frozenset({'condensed milk'}), items_add=frozenset({'soda'}), confidence=0.06122448979591836, lift=0.6304900487380086)]\n",
      "Item [frozenset({'tropical fruit', 'condensed milk'}), 0.0005346521419501437, [OrderedStatistic(items_base=frozenset({'condensed milk'}), items_add=frozenset({'tropical fruit'}), confidence=0.0816326530612245, lift=1.2046049188906334)]]\n",
      "Confidence 0.0005346521419501437\n",
      "Statistics [OrderedStatistic(items_base=frozenset({'condensed milk'}), items_add=frozenset({'tropical fruit'}), confidence=0.0816326530612245, lift=1.2046049188906334)]\n",
      "Item [frozenset({'waffles', 'condensed milk'}), 0.0003341575887188398, [OrderedStatistic(items_base=frozenset({'condensed milk'}), items_add=frozenset({'waffles'}), confidence=0.05102040816326531, lift=2.7560229868120536)]]\n",
      "Confidence 0.0003341575887188398\n",
      "Statistics [OrderedStatistic(items_base=frozenset({'condensed milk'}), items_add=frozenset({'waffles'}), confidence=0.05102040816326531, lift=2.7560229868120536)]\n",
      "Item [frozenset({'whole milk', 'condensed milk'}), 0.0008688097306689834, [OrderedStatistic(items_base=frozenset({'condensed milk'}), items_add=frozenset({'whole milk'}), confidence=0.13265306122448978, lift=0.8399863542539318)]]\n",
      "Confidence 0.0008688097306689834\n",
      "Statistics [OrderedStatistic(items_base=frozenset({'condensed milk'}), items_add=frozenset({'whole milk'}), confidence=0.13265306122448978, lift=0.8399863542539318)]\n",
      "Item [frozenset({'yogurt', 'condensed milk'}), 0.00046782062420637575, [OrderedStatistic(items_base=frozenset({'condensed milk'}), items_add=frozenset({'yogurt'}), confidence=0.07142857142857142, lift=0.831739855475264)]]\n",
      "Confidence 0.00046782062420637575\n",
      "Statistics [OrderedStatistic(items_base=frozenset({'condensed milk'}), items_add=frozenset({'yogurt'}), confidence=0.07142857142857142, lift=0.831739855475264)]\n",
      "Item [frozenset({'cream cheese ', 'other vegetables'}), 0.002138608567800575, [OrderedStatistic(items_base=frozenset({'cream cheese '}), items_add=frozenset({'other vegetables'}), confidence=0.09039548022598871, lift=0.7403325509696055)]]\n",
      "Confidence 0.002138608567800575\n",
      "Statistics [OrderedStatistic(items_base=frozenset({'cream cheese '}), items_add=frozenset({'other vegetables'}), confidence=0.09039548022598871, lift=0.7403325509696055)]\n",
      "Item [frozenset({'cream cheese ', 'rolls/buns'}), 0.001871282496825503, [OrderedStatistic(items_base=frozenset({'cream cheese '}), items_add=frozenset({'rolls/buns'}), confidence=0.07909604519774012, lift=0.7190243768492014)]]\n",
      "Confidence 0.001871282496825503\n",
      "Statistics [OrderedStatistic(items_base=frozenset({'cream cheese '}), items_add=frozenset({'rolls/buns'}), confidence=0.07909604519774012, lift=0.7190243768492014)]\n",
      "Item [frozenset({'cream cheese ', 'root vegetables'}), 0.001603956425850431, [OrderedStatistic(items_base=frozenset({'cream cheese '}), items_add=frozenset({'root vegetables'}), confidence=0.06779661016949153, lift=0.9744867223497614)]]\n",
      "Confidence 0.001603956425850431\n",
      "Statistics [OrderedStatistic(items_base=frozenset({'cream cheese '}), items_add=frozenset({'root vegetables'}), confidence=0.06779661016949153, lift=0.9744867223497614)]\n",
      "Item [frozenset({'sausage', 'cream cheese '}), 0.0012029673193878234, [OrderedStatistic(items_base=frozenset({'cream cheese '}), items_add=frozenset({'sausage'}), confidence=0.05084745762711865, lift=0.8425587026296526)]]\n",
      "Confidence 0.0012029673193878234\n",
      "Statistics [OrderedStatistic(items_base=frozenset({'cream cheese '}), items_add=frozenset({'sausage'}), confidence=0.05084745762711865, lift=0.8425587026296526)]\n",
      "Item [frozenset({'cream cheese ', 'shopping bags'}), 0.0012029673193878234, [OrderedStatistic(items_base=frozenset({'cream cheese '}), items_add=frozenset({'shopping bags'}), confidence=0.05084745762711865, lift=1.068582174823843)]]\n",
      "Confidence 0.0012029673193878234\n",
      "Statistics [OrderedStatistic(items_base=frozenset({'cream cheese '}), items_add=frozenset({'shopping bags'}), confidence=0.05084745762711865, lift=1.068582174823843)]\n",
      "Item [frozenset({'cream cheese ', 'soda'}), 0.0014702933903628951, [OrderedStatistic(items_base=frozenset({'cream cheese '}), items_add=frozenset({'soda'}), confidence=0.062146892655367235, lift=0.639988957193572)]]\n",
      "Confidence 0.0014702933903628951\n",
      "Statistics [OrderedStatistic(items_base=frozenset({'cream cheese '}), items_add=frozenset({'soda'}), confidence=0.062146892655367235, lift=0.639988957193572)]\n",
      "Item [frozenset({'cream cheese ', 'tropical fruit'}), 0.001403461872619127, [OrderedStatistic(items_base=frozenset({'cream cheese '}), items_add=frozenset({'tropical fruit'}), confidence=0.05932203389830508, lift=0.875380269448066)]]\n",
      "Confidence 0.001403461872619127\n",
      "Statistics [OrderedStatistic(items_base=frozenset({'cream cheese '}), items_add=frozenset({'tropical fruit'}), confidence=0.05932203389830508, lift=0.875380269448066)]\n",
      "Item [frozenset({'cream cheese ', 'whole milk'}), 0.0028737552629820224, [OrderedStatistic(items_base=frozenset({'cream cheese '}), items_add=frozenset({'whole milk'}), confidence=0.12146892655367232, lift=0.7691661227349129)]]\n",
      "Confidence 0.0028737552629820224\n",
      "Statistics [OrderedStatistic(items_base=frozenset({'cream cheese '}), items_add=frozenset({'whole milk'}), confidence=0.12146892655367232, lift=0.7691661227349129)]\n",
      "Item [frozenset({'yogurt', 'cream cheese '}), 0.001603956425850431, [OrderedStatistic(items_base=frozenset({'cream cheese '}), items_add=frozenset({'yogurt'}), confidence=0.06779661016949153, lift=0.7894479984171997)]]\n",
      "Confidence 0.001603956425850431\n",
      "Statistics [OrderedStatistic(items_base=frozenset({'cream cheese '}), items_add=frozenset({'yogurt'}), confidence=0.06779661016949153, lift=0.7894479984171997)]\n",
      "Item [frozenset({'curd', 'other vegetables'}), 0.003542070440419702, [OrderedStatistic(items_base=frozenset({'curd'}), items_add=frozenset({'other vegetables'}), confidence=0.10515873015873017, lift=0.861242517441204)]]\n",
      "Confidence 0.003542070440419702\n",
      "Statistics [OrderedStatistic(items_base=frozenset({'curd'}), items_add=frozenset({'other vegetables'}), confidence=0.10515873015873017, lift=0.861242517441204)]\n",
      "Item [frozenset({'curd', 'rolls/buns'}), 0.0027400922274944863, [OrderedStatistic(items_base=frozenset({'curd'}), items_add=frozenset({'rolls/buns'}), confidence=0.08134920634920635, lift=0.7395067889448206)]]\n",
      "Confidence 0.0027400922274944863\n",
      "Statistics [OrderedStatistic(items_base=frozenset({'curd'}), items_add=frozenset({'rolls/buns'}), confidence=0.08134920634920635, lift=0.7395067889448206)]\n",
      "Item [frozenset({'sausage', 'curd'}), 0.0029405867807257902, [OrderedStatistic(items_base=frozenset({'curd'}), items_add=frozenset({'sausage'}), confidence=0.08730158730158731, lift=1.446615338641917)]]\n",
      "Confidence 0.0029405867807257902\n",
      "Statistics [OrderedStatistic(items_base=frozenset({'curd'}), items_add=frozenset({'sausage'}), confidence=0.08730158730158731, lift=1.446615338641917)]\n",
      "Item [frozenset({'curd', 'soda'}), 0.002806923745238254, [OrderedStatistic(items_base=frozenset({'curd'}), items_add=frozenset({'soda'}), confidence=0.08333333333333333, lift=0.8581670107822895)]]\n",
      "Confidence 0.002806923745238254\n",
      "Statistics [OrderedStatistic(items_base=frozenset({'curd'}), items_add=frozenset({'soda'}), confidence=0.08333333333333333, lift=0.8581670107822895)]\n",
      "Item [frozenset({'curd', 'tropical fruit'}), 0.001871282496825503, [OrderedStatistic(items_base=frozenset({'curd'}), items_add=frozenset({'tropical fruit'}), confidence=0.05555555555555556, lift=0.8198005698005699)]]\n",
      "Confidence 0.001871282496825503\n",
      "Statistics [OrderedStatistic(items_base=frozenset({'curd'}), items_add=frozenset({'tropical fruit'}), confidence=0.05555555555555556, lift=0.8198005698005699)]\n",
      "Item [frozenset({'curd', 'whole milk'}), 0.004143554100113613, [OrderedStatistic(items_base=frozenset({'curd'}), items_add=frozenset({'whole milk'}), confidence=0.12301587301587302, lift=0.7789617045859112)]]\n",
      "Confidence 0.004143554100113613\n",
      "Statistics [OrderedStatistic(items_base=frozenset({'curd'}), items_add=frozenset({'whole milk'}), confidence=0.12301587301587302, lift=0.7789617045859112)]\n",
      "Item [frozenset({'yogurt', 'curd'}), 0.0022722716032881106, [OrderedStatistic(items_base=frozenset({'curd'}), items_add=frozenset({'yogurt'}), confidence=0.06746031746031747, lift=0.7855320857266384)]]\n",
      "Confidence 0.0022722716032881106\n",
      "Statistics [OrderedStatistic(items_base=frozenset({'curd'}), items_add=frozenset({'yogurt'}), confidence=0.06746031746031747, lift=0.7855320857266384)]\n",
      "Item [frozenset({'rolls/buns', 'curd cheese'}), 0.0003341575887188398, [OrderedStatistic(items_base=frozenset({'curd cheese'}), items_add=frozenset({'rolls/buns'}), confidence=0.10869565217391304, lift=0.988100269427862)]]\n",
      "Confidence 0.0003341575887188398\n",
      "Statistics [OrderedStatistic(items_base=frozenset({'curd cheese'}), items_add=frozenset({'rolls/buns'}), confidence=0.10869565217391304, lift=0.988100269427862)]\n",
      "Item [frozenset({'soda', 'curd cheese'}), 0.0003341575887188398, [OrderedStatistic(items_base=frozenset({'curd cheese'}), items_add=frozenset({'soda'}), confidence=0.10869565217391304, lift=1.1193482749334212)]]\n",
      "Confidence 0.0003341575887188398\n",
      "Statistics [OrderedStatistic(items_base=frozenset({'curd cheese'}), items_add=frozenset({'soda'}), confidence=0.10869565217391304, lift=1.1193482749334212)]\n",
      "Item [frozenset({'dental care', 'whole milk'}), 0.0003341575887188398, [OrderedStatistic(items_base=frozenset({'dental care'}), items_add=frozenset({'whole milk'}), confidence=0.15151515151515152, lift=0.9594249733902719)]]\n",
      "Confidence 0.0003341575887188398\n",
      "Statistics [OrderedStatistic(items_base=frozenset({'dental care'}), items_add=frozenset({'whole milk'}), confidence=0.15151515151515152, lift=0.9594249733902719)]\n",
      "Item [frozenset({'dessert', 'other vegetables'}), 0.0020717770500568067, [OrderedStatistic(items_base=frozenset({'dessert'}), items_add=frozenset({'other vegetables'}), confidence=0.08781869688385269, lift=0.7192288787482691)]]\n",
      "Confidence 0.0020717770500568067\n",
      "Statistics [OrderedStatistic(items_base=frozenset({'dessert'}), items_add=frozenset({'other vegetables'}), confidence=0.08781869688385269, lift=0.7192288787482691)]\n",
      "Item [frozenset({'rolls/buns', 'dessert'}), 0.002004945532313039, [OrderedStatistic(items_base=frozenset({'dessert'}), items_add=frozenset({'rolls/buns'}), confidence=0.08498583569405099, lift=0.772565649750963)]]\n",
      "Confidence 0.002004945532313039\n",
      "Statistics [OrderedStatistic(items_base=frozenset({'dessert'}), items_add=frozenset({'rolls/buns'}), confidence=0.08498583569405099, lift=0.772565649750963)]\n",
      "Item [frozenset({'sausage', 'dessert'}), 0.0014702933903628951, [OrderedStatistic(items_base=frozenset({'dessert'}), items_add=frozenset({'sausage'}), confidence=0.06232294617563739, lift=1.0327112332514532)]]\n",
      "Confidence 0.0014702933903628951\n",
      "Statistics [OrderedStatistic(items_base=frozenset({'dessert'}), items_add=frozenset({'sausage'}), confidence=0.06232294617563739, lift=1.0327112332514532)]\n",
      "Item [frozenset({'shopping bags', 'dessert'}), 0.0012029673193878234, [OrderedStatistic(items_base=frozenset({'dessert'}), items_add=frozenset({'shopping bags'}), confidence=0.0509915014164306, lift=1.0716093197950156)]]\n",
      "Confidence 0.0012029673193878234\n",
      "Statistics [OrderedStatistic(items_base=frozenset({'dessert'}), items_add=frozenset({'shopping bags'}), confidence=0.0509915014164306, lift=1.0716093197950156)]\n",
      "Item [frozenset({'soda', 'dessert'}), 0.0014702933903628951, [OrderedStatistic(items_base=frozenset({'dessert'}), items_add=frozenset({'soda'}), confidence=0.06232294617563739, lift=0.6418019570723071)]]\n",
      "Confidence 0.0014702933903628951\n",
      "Statistics [OrderedStatistic(items_base=frozenset({'dessert'}), items_add=frozenset({'soda'}), confidence=0.06232294617563739, lift=0.6418019570723071)]\n",
      "Item [frozenset({'whole milk', 'dessert'}), 0.0024059346387756467, [OrderedStatistic(items_base=frozenset({'dessert'}), items_add=frozenset({'whole milk'}), confidence=0.1019830028328612, lift=0.645777262542574)]]\n",
      "Confidence 0.0024059346387756467\n",
      "Statistics [OrderedStatistic(items_base=frozenset({'dessert'}), items_add=frozenset({'whole milk'}), confidence=0.1019830028328612, lift=0.645777262542574)]\n",
      "Item [frozenset({'yogurt', 'dessert'}), 0.0012029673193878234, [OrderedStatistic(items_base=frozenset({'dessert'}), items_add=frozenset({'yogurt'}), confidence=0.0509915014164306, lift=0.5937632962599619)]]\n",
      "Confidence 0.0012029673193878234\n",
      "Statistics [OrderedStatistic(items_base=frozenset({'dessert'}), items_add=frozenset({'yogurt'}), confidence=0.0509915014164306, lift=0.5937632962599619)]\n",
      "Item [frozenset({'fruit/vegetable juice', 'detergent'}), 0.00046782062420637575, [OrderedStatistic(items_base=frozenset({'detergent'}), items_add=frozenset({'fruit/vegetable juice'}), confidence=0.05426356589147287, lift=1.5951782641141623)]]\n",
      "Confidence 0.00046782062420637575\n",
      "Statistics [OrderedStatistic(items_base=frozenset({'detergent'}), items_add=frozenset({'fruit/vegetable juice'}), confidence=0.05426356589147287, lift=1.5951782641141623)]\n",
      "Item [frozenset({'newspapers', 'detergent'}), 0.00046782062420637575, [OrderedStatistic(items_base=frozenset({'detergent'}), items_add=frozenset({'newspapers'}), confidence=0.05426356589147287, lift=1.395095767068915)]]\n",
      "Confidence 0.00046782062420637575\n",
      "Statistics [OrderedStatistic(items_base=frozenset({'detergent'}), items_add=frozenset({'newspapers'}), confidence=0.05426356589147287, lift=1.395095767068915)]\n",
      "Item [frozenset({'detergent', 'other vegetables'}), 0.0006014836596939117, [OrderedStatistic(items_base=frozenset({'detergent'}), items_add=frozenset({'other vegetables'}), confidence=0.06976744186046512, lift=0.5713903845419482)]]\n",
      "Confidence 0.0006014836596939117\n",
      "Statistics [OrderedStatistic(items_base=frozenset({'detergent'}), items_add=frozenset({'other vegetables'}), confidence=0.06976744186046512, lift=0.5713903845419482)]\n",
      "Item [frozenset({'detergent', 'pastry'}), 0.00046782062420637575, [OrderedStatistic(items_base=frozenset({'detergent'}), items_add=frozenset({'pastry'}), confidence=0.05426356589147287, lift=1.0490254992688741)]]\n",
      "Confidence 0.00046782062420637575\n",
      "Statistics [OrderedStatistic(items_base=frozenset({'detergent'}), items_add=frozenset({'pastry'}), confidence=0.05426356589147287, lift=1.0490254992688741)]\n",
      "Item [frozenset({'detergent', 'rolls/buns'}), 0.0010024727661565194, [OrderedStatistic(items_base=frozenset({'detergent'}), items_add=frozenset({'rolls/buns'}), confidence=0.11627906976744186, lift=1.0570374975274803)]]\n",
      "Confidence 0.0010024727661565194\n",
      "Statistics [OrderedStatistic(items_base=frozenset({'detergent'}), items_add=frozenset({'rolls/buns'}), confidence=0.11627906976744186, lift=1.0570374975274803)]\n",
      "Item [frozenset({'detergent', 'root vegetables'}), 0.00046782062420637575, [OrderedStatistic(items_base=frozenset({'detergent'}), items_add=frozenset({'root vegetables'}), confidence=0.05426356589147287, lift=0.7799670859117276)]]\n",
      "Confidence 0.00046782062420637575\n",
      "Statistics [OrderedStatistic(items_base=frozenset({'detergent'}), items_add=frozenset({'root vegetables'}), confidence=0.05426356589147287, lift=0.7799670859117276)]\n",
      "Item [frozenset({'sausage', 'detergent'}), 0.0007351466951814476, [OrderedStatistic(items_base=frozenset({'detergent'}), items_add=frozenset({'sausage'}), confidence=0.08527131782945736, lift=1.4129731214641976)]]\n",
      "Confidence 0.0007351466951814476\n",
      "Statistics [OrderedStatistic(items_base=frozenset({'detergent'}), items_add=frozenset({'sausage'}), confidence=0.08527131782945736, lift=1.4129731214641976)]\n",
      "Item [frozenset({'detergent', 'shopping bags'}), 0.00046782062420637575, [OrderedStatistic(items_base=frozenset({'detergent'}), items_add=frozenset({'shopping bags'}), confidence=0.05426356589147287, lift=1.1403732253288041)]]\n",
      "Confidence 0.00046782062420637575\n",
      "Statistics [OrderedStatistic(items_base=frozenset({'detergent'}), items_add=frozenset({'shopping bags'}), confidence=0.05426356589147287, lift=1.1403732253288041)]\n",
      "Item [frozenset({'detergent', 'soda'}), 0.0006683151774376796, [OrderedStatistic(items_base=frozenset({'detergent'}), items_add=frozenset({'soda'}), confidence=0.07751937984496124, lift=0.7982948937509671)]]\n",
      "Confidence 0.0006683151774376796\n",
      "Statistics [OrderedStatistic(items_base=frozenset({'detergent'}), items_add=frozenset({'soda'}), confidence=0.07751937984496124, lift=0.7982948937509671)]\n",
      "Item [frozenset({'detergent', 'tropical fruit'}), 0.0007351466951814476, [OrderedStatistic(items_base=frozenset({'detergent'}), items_add=frozenset({'tropical fruit'}), confidence=0.08527131782945736, lift=1.2582985489962235)]]\n",
      "Confidence 0.0007351466951814476\n",
      "Statistics [OrderedStatistic(items_base=frozenset({'detergent'}), items_add=frozenset({'tropical fruit'}), confidence=0.08527131782945736, lift=1.2582985489962235)]\n",
      "Item [frozenset({'detergent', 'whole milk'}), 0.001403461872619127, [OrderedStatistic(items_base=frozenset({'detergent'}), items_add=frozenset({'whole milk'}), confidence=0.1627906976744186, lift=1.0308240411774547)]]\n",
      "Confidence 0.001403461872619127\n",
      "Statistics [OrderedStatistic(items_base=frozenset({'detergent'}), items_add=frozenset({'whole milk'}), confidence=0.1627906976744186, lift=1.0308240411774547)]\n",
      "Item [frozenset({'yogurt', 'detergent'}), 0.0010693042839002875, [OrderedStatistic(items_base=frozenset({'detergent'}), items_add=frozenset({'yogurt'}), confidence=0.12403100775193798, lift=1.4442614544686756)]]\n",
      "Confidence 0.0010693042839002875\n",
      "Statistics [OrderedStatistic(items_base=frozenset({'detergent'}), items_add=frozenset({'yogurt'}), confidence=0.12403100775193798, lift=1.4442614544686756)]\n",
      "Item [frozenset({'dish cleaner', 'other vegetables'}), 0.00040098910646260775, [OrderedStatistic(items_base=frozenset({'dish cleaner'}), items_add=frozenset({'other vegetables'}), confidence=0.0821917808219178, lift=0.6731448365836651)]]\n",
      "Confidence 0.00040098910646260775\n",
      "Statistics [OrderedStatistic(items_base=frozenset({'dish cleaner'}), items_add=frozenset({'other vegetables'}), confidence=0.0821917808219178, lift=0.6731448365836651)]\n",
      "Item [frozenset({'dish cleaner', 'pastry'}), 0.00040098910646260775, [OrderedStatistic(items_base=frozenset({'dish cleaner'}), items_add=frozenset({'pastry'}), confidence=0.0821917808219178, lift=1.5889349049591164)]]\n",
      "Confidence 0.00040098910646260775\n",
      "Statistics [OrderedStatistic(items_base=frozenset({'dish cleaner'}), items_add=frozenset({'pastry'}), confidence=0.0821917808219178, lift=1.5889349049591164)]\n",
      "Item [frozenset({'dish cleaner', 'sausage'}), 0.0003341575887188398, [OrderedStatistic(items_base=frozenset({'dish cleaner'}), items_add=frozenset({'sausage'}), confidence=0.0684931506849315, lift=1.134953503542226)]]\n",
      "Confidence 0.0003341575887188398\n",
      "Statistics [OrderedStatistic(items_base=frozenset({'dish cleaner'}), items_add=frozenset({'sausage'}), confidence=0.0684931506849315, lift=1.134953503542226)]\n",
      "Item [frozenset({'dish cleaner', 'soda'}), 0.0003341575887188398, [OrderedStatistic(items_base=frozenset({'dish cleaner'}), items_add=frozenset({'soda'}), confidence=0.0684931506849315, lift=0.7053427485881831)]]\n",
      "Confidence 0.0003341575887188398\n",
      "Statistics [OrderedStatistic(items_base=frozenset({'dish cleaner'}), items_add=frozenset({'soda'}), confidence=0.0684931506849315, lift=0.7053427485881831)]\n",
      "Item [frozenset({'dish cleaner', 'whole milk'}), 0.0008688097306689834, [OrderedStatistic(items_base=frozenset({'dish cleaner'}), items_add=frozenset({'whole milk'}), confidence=0.1780821917808219, lift=1.1276529139299358)]]\n",
      "Confidence 0.0008688097306689834\n",
      "Statistics [OrderedStatistic(items_base=frozenset({'dish cleaner'}), items_add=frozenset({'whole milk'}), confidence=0.1780821917808219, lift=1.1276529139299358)]\n",
      "Item [frozenset({'frankfurter', 'dishes'}), 0.0005346521419501437, [OrderedStatistic(items_base=frozenset({'dishes'}), items_add=frozenset({'frankfurter'}), confidence=0.05925925925925927, lift=1.5693739757456575)]]\n",
      "Confidence 0.0005346521419501437\n",
      "Statistics [OrderedStatistic(items_base=frozenset({'dishes'}), items_add=frozenset({'frankfurter'}), confidence=0.05925925925925927, lift=1.5693739757456575)]\n",
      "Item [frozenset({'other vegetables', 'dishes'}), 0.0009356412484127515, [OrderedStatistic(items_base=frozenset({'dishes'}), items_add=frozenset({'other vegetables'}), confidence=0.10370370370370371, lift=0.8493259543067974)]]\n",
      "Confidence 0.0009356412484127515\n",
      "Statistics [OrderedStatistic(items_base=frozenset({'dishes'}), items_add=frozenset({'other vegetables'}), confidence=0.10370370370370371, lift=0.8493259543067974)]\n",
      "Item [frozenset({'pastry', 'dishes'}), 0.0006683151774376796, [OrderedStatistic(items_base=frozenset({'dishes'}), items_add=frozenset({'pastry'}), confidence=0.07407407407407407, lift=1.4320030624940185)]]\n",
      "Confidence 0.0006683151774376796\n",
      "Statistics [OrderedStatistic(items_base=frozenset({'dishes'}), items_add=frozenset({'pastry'}), confidence=0.07407407407407407, lift=1.4320030624940185)]\n",
      "Item [frozenset({'pip fruit', 'dishes'}), 0.00046782062420637575, [OrderedStatistic(items_base=frozenset({'dishes'}), items_add=frozenset({'pip fruit'}), confidence=0.05185185185185186, lift=1.057028963568473)]]\n",
      "Confidence 0.00046782062420637575\n",
      "Statistics [OrderedStatistic(items_base=frozenset({'dishes'}), items_add=frozenset({'pip fruit'}), confidence=0.05185185185185186, lift=1.057028963568473)]\n",
      "Item [frozenset({'rolls/buns', 'dishes'}), 0.0007351466951814476, [OrderedStatistic(items_base=frozenset({'dishes'}), items_add=frozenset({'rolls/buns'}), confidence=0.08148148148148147, lift=0.7407092390081454)]]\n",
      "Confidence 0.0007351466951814476\n",
      "Statistics [OrderedStatistic(items_base=frozenset({'dishes'}), items_add=frozenset({'rolls/buns'}), confidence=0.08148148148148147, lift=0.7407092390081454)]\n",
      "Item [frozenset({'soda', 'dishes'}), 0.0006683151774376796, [OrderedStatistic(items_base=frozenset({'dishes'}), items_add=frozenset({'soda'}), confidence=0.07407407407407407, lift=0.7628151206953685)]]\n",
      "Confidence 0.0006683151774376796\n",
      "Statistics [OrderedStatistic(items_base=frozenset({'dishes'}), items_add=frozenset({'soda'}), confidence=0.07407407407407407, lift=0.7628151206953685)]\n",
      "Item [frozenset({'whipped/sour cream', 'dishes'}), 0.0005346521419501437, [OrderedStatistic(items_base=frozenset({'dishes'}), items_add=frozenset({'whipped/sour cream'}), confidence=0.05925925925925927, lift=1.3558047343980069)]]\n",
      "Confidence 0.0005346521419501437\n",
      "Statistics [OrderedStatistic(items_base=frozenset({'dishes'}), items_add=frozenset({'whipped/sour cream'}), confidence=0.05925925925925927, lift=1.3558047343980069)]\n",
      "Item [frozenset({'whole milk', 'dishes'}), 0.0009356412484127515, [OrderedStatistic(items_base=frozenset({'dishes'}), items_add=frozenset({'whole milk'}), confidence=0.10370370370370371, lift=0.6566730928982305)]]\n",
      "Confidence 0.0009356412484127515\n",
      "Statistics [OrderedStatistic(items_base=frozenset({'dishes'}), items_add=frozenset({'whole milk'}), confidence=0.10370370370370371, lift=0.6566730928982305)]\n",
      "Item [frozenset({'yogurt', 'dishes'}), 0.00046782062420637575, [OrderedStatistic(items_base=frozenset({'dishes'}), items_add=frozenset({'yogurt'}), confidence=0.05185185185185186, lift=0.6037815247153769)]]\n",
      "Confidence 0.00046782062420637575\n",
      "Statistics [OrderedStatistic(items_base=frozenset({'dishes'}), items_add=frozenset({'yogurt'}), confidence=0.05185185185185186, lift=0.6037815247153769)]\n",
      "Item [frozenset({'newspapers', 'dog food'}), 0.0003341575887188398, [OrderedStatistic(items_base=frozenset({'dog food'}), items_add=frozenset({'newspapers'}), confidence=0.0746268656716418, lift=1.9186285069497873)]]\n",
      "Confidence 0.0003341575887188398\n",
      "Statistics [OrderedStatistic(items_base=frozenset({'dog food'}), items_add=frozenset({'newspapers'}), confidence=0.0746268656716418, lift=1.9186285069497873)]\n",
      "Item [frozenset({'rolls/buns', 'dog food'}), 0.0003341575887188398, [OrderedStatistic(items_base=frozenset({'dog food'}), items_add=frozenset({'rolls/buns'}), confidence=0.0746268656716418, lift=0.6783971999056964)]]\n",
      "Confidence 0.0003341575887188398\n",
      "Statistics [OrderedStatistic(items_base=frozenset({'dog food'}), items_add=frozenset({'rolls/buns'}), confidence=0.0746268656716418, lift=0.6783971999056964)]\n",
      "Item [frozenset({'dog food', 'root vegetables'}), 0.0003341575887188398, [OrderedStatistic(items_base=frozenset({'dog food'}), items_add=frozenset({'root vegetables'}), confidence=0.0746268656716418, lift=1.0726626234820136)]]\n",
      "Confidence 0.0003341575887188398\n",
      "Statistics [OrderedStatistic(items_base=frozenset({'dog food'}), items_add=frozenset({'root vegetables'}), confidence=0.0746268656716418, lift=1.0726626234820136)]\n",
      "Item [frozenset({'sausage', 'dog food'}), 0.00046782062420637575, [OrderedStatistic(items_base=frozenset({'dog food'}), items_add=frozenset({'sausage'}), confidence=0.10447761194029852, lift=1.731227583015157)]]\n",
      "Confidence 0.00046782062420637575\n",
      "Statistics [OrderedStatistic(items_base=frozenset({'dog food'}), items_add=frozenset({'sausage'}), confidence=0.10447761194029852, lift=1.731227583015157)]\n",
      "Item [frozenset({'whole milk', 'dog food'}), 0.0006683151774376796, [OrderedStatistic(items_base=frozenset({'dog food'}), items_add=frozenset({'whole milk'}), confidence=0.1492537313432836, lift=0.945105197668029)]]\n",
      "Confidence 0.0006683151774376796\n",
      "Statistics [OrderedStatistic(items_base=frozenset({'dog food'}), items_add=frozenset({'whole milk'}), confidence=0.1492537313432836, lift=0.945105197668029)]\n",
      "Item [frozenset({'yogurt', 'dog food'}), 0.0005346521419501437, [OrderedStatistic(items_base=frozenset({'dog food'}), items_add=frozenset({'yogurt'}), confidence=0.11940298507462688, lift=1.3903711016899938)]]\n",
      "Confidence 0.0005346521419501437\n",
      "Statistics [OrderedStatistic(items_base=frozenset({'dog food'}), items_add=frozenset({'yogurt'}), confidence=0.11940298507462688, lift=1.3903711016899938)]\n",
      "Item [frozenset({'other vegetables', 'domestic eggs'}), 0.003542070440419702, [OrderedStatistic(items_base=frozenset({'domestic eggs'}), items_add=frozenset({'other vegetables'}), confidence=0.0954954954954955, lift=0.782101313135796)]]\n",
      "Confidence 0.003542070440419702\n",
      "Statistics [OrderedStatistic(items_base=frozenset({'domestic eggs'}), items_add=frozenset({'other vegetables'}), confidence=0.0954954954954955, lift=0.782101313135796)]\n",
      "Item [frozenset({'rolls/buns', 'domestic eggs'}), 0.003408407404932166, [OrderedStatistic(items_base=frozenset({'domestic eggs'}), items_add=frozenset({'rolls/buns'}), confidence=0.0918918918918919, lift=0.8353453088568521)]]\n",
      "Confidence 0.003408407404932166\n",
      "Statistics [OrderedStatistic(items_base=frozenset({'domestic eggs'}), items_add=frozenset({'rolls/buns'}), confidence=0.0918918918918919, lift=0.8353453088568521)]\n",
      "Item [frozenset({'root vegetables', 'domestic eggs'}), 0.002004945532313039, [OrderedStatistic(items_base=frozenset({'domestic eggs'}), items_add=frozenset({'root vegetables'}), confidence=0.05405405405405406, lift=0.7769556299815665)]]\n",
      "Confidence 0.002004945532313039\n",
      "Statistics [OrderedStatistic(items_base=frozenset({'domestic eggs'}), items_add=frozenset({'root vegetables'}), confidence=0.05405405405405406, lift=0.7769556299815665)]\n",
      "Item [frozenset({'soda', 'domestic eggs'}), 0.0025395976742631824, [OrderedStatistic(items_base=frozenset({'domestic eggs'}), items_add=frozenset({'soda'}), confidence=0.06846846846846846, lift=0.7050885710211243)]]\n",
      "Confidence 0.0025395976742631824\n",
      "Statistics [OrderedStatistic(items_base=frozenset({'domestic eggs'}), items_add=frozenset({'soda'}), confidence=0.06846846846846846, lift=0.7050885710211243)]\n",
      "Item [frozenset({'tropical fruit', 'domestic eggs'}), 0.002138608567800575, [OrderedStatistic(items_base=frozenset({'domestic eggs'}), items_add=frozenset({'tropical fruit'}), confidence=0.057657657657657665, lift=0.850820050820051)]]\n",
      "Confidence 0.002138608567800575\n",
      "Statistics [OrderedStatistic(items_base=frozenset({'domestic eggs'}), items_add=frozenset({'tropical fruit'}), confidence=0.057657657657657665, lift=0.850820050820051)]\n",
      "Item [frozenset({'whole milk', 'domestic eggs'}), 0.005279689901757669, [OrderedStatistic(items_base=frozenset({'domestic eggs'}), items_add=frozenset({'whole milk'}), confidence=0.14234234234234236, lift=0.9013408668931312)]]\n",
      "Confidence 0.005279689901757669\n",
      "Statistics [OrderedStatistic(items_base=frozenset({'domestic eggs'}), items_add=frozenset({'whole milk'}), confidence=0.14234234234234236, lift=0.9013408668931312)]\n",
      "Item [frozenset({'yogurt', 'domestic eggs'}), 0.0020717770500568067, [OrderedStatistic(items_base=frozenset({'domestic eggs'}), items_add=frozenset({'yogurt'}), confidence=0.055855855855855854, lift=0.6504055806779542)]]\n",
      "Confidence 0.0020717770500568067\n",
      "Statistics [OrderedStatistic(items_base=frozenset({'domestic eggs'}), items_add=frozenset({'yogurt'}), confidence=0.055855855855855854, lift=0.6504055806779542)]\n",
      "Item [frozenset({'female sanitary products', 'rolls/buns'}), 0.0003341575887188398, [OrderedStatistic(items_base=frozenset({'female sanitary products'}), items_add=frozenset({'rolls/buns'}), confidence=0.125, lift=1.1363153098420413)]]\n",
      "Confidence 0.0003341575887188398\n",
      "Statistics [OrderedStatistic(items_base=frozenset({'female sanitary products'}), items_add=frozenset({'rolls/buns'}), confidence=0.125, lift=1.1363153098420413)]\n",
      "Item [frozenset({'finished products', 'other vegetables'}), 0.0006014836596939117, [OrderedStatistic(items_base=frozenset({'finished products'}), items_add=frozenset({'other vegetables'}), confidence=0.140625, lift=1.1517087438423645)]]\n",
      "Confidence 0.0006014836596939117\n",
      "Statistics [OrderedStatistic(items_base=frozenset({'finished products'}), items_add=frozenset({'other vegetables'}), confidence=0.140625, lift=1.1517087438423645)]\n",
      "Item [frozenset({'finished products', 'rolls/buns'}), 0.0006014836596939117, [OrderedStatistic(items_base=frozenset({'finished products'}), items_add=frozenset({'rolls/buns'}), confidence=0.140625, lift=1.2783547235722965)]]\n",
      "Confidence 0.0006014836596939117\n",
      "Statistics [OrderedStatistic(items_base=frozenset({'finished products'}), items_add=frozenset({'rolls/buns'}), confidence=0.140625, lift=1.2783547235722965)]\n",
      "Item [frozenset({'finished products', 'whipped/sour cream'}), 0.0003341575887188398, [OrderedStatistic(items_base=frozenset({'finished products'}), items_add=frozenset({'whipped/sour cream'}), confidence=0.078125, lift=1.787437882262997)]]\n",
      "Confidence 0.0003341575887188398\n",
      "Statistics [OrderedStatistic(items_base=frozenset({'finished products'}), items_add=frozenset({'whipped/sour cream'}), confidence=0.078125, lift=1.787437882262997)]\n",
      "Item [frozenset({'finished products', 'whole milk'}), 0.0008688097306689834, [OrderedStatistic(items_base=frozenset({'finished products'}), items_add=frozenset({'whole milk'}), confidence=0.20312499999999997, lift=1.286229104951333)]]\n",
      "Confidence 0.0008688097306689834\n",
      "Statistics [OrderedStatistic(items_base=frozenset({'finished products'}), items_add=frozenset({'whole milk'}), confidence=0.20312499999999997, lift=1.286229104951333)]\n",
      "Item [frozenset({'yogurt', 'finished products'}), 0.0003341575887188398, [OrderedStatistic(items_base=frozenset({'finished products'}), items_add=frozenset({'yogurt'}), confidence=0.078125, lift=0.9097154669260701)]]\n",
      "Confidence 0.0003341575887188398\n",
      "Statistics [OrderedStatistic(items_base=frozenset({'finished products'}), items_add=frozenset({'yogurt'}), confidence=0.078125, lift=0.9097154669260701)]\n",
      "Item [frozenset({'flour', 'other vegetables'}), 0.0005346521419501437, [OrderedStatistic(items_base=frozenset({'flour'}), items_add=frozenset({'other vegetables'}), confidence=0.05479452054794521, lift=0.4487632243891101)]]\n",
      "Confidence 0.0005346521419501437\n",
      "Statistics [OrderedStatistic(items_base=frozenset({'flour'}), items_add=frozenset({'other vegetables'}), confidence=0.05479452054794521, lift=0.4487632243891101)]\n",
      "Item [frozenset({'rolls/buns', 'flour'}), 0.0007351466951814476, [OrderedStatistic(items_base=frozenset({'flour'}), items_add=frozenset({'rolls/buns'}), confidence=0.07534246575342465, lift=0.684902378534929)]]\n",
      "Confidence 0.0007351466951814476\n",
      "Statistics [OrderedStatistic(items_base=frozenset({'flour'}), items_add=frozenset({'rolls/buns'}), confidence=0.07534246575342465, lift=0.684902378534929)]\n",
      "Item [frozenset({'soda', 'flour'}), 0.0008688097306689834, [OrderedStatistic(items_base=frozenset({'flour'}), items_add=frozenset({'soda'}), confidence=0.08904109589041095, lift=0.9169455731646381)]]\n",
      "Confidence 0.0008688097306689834\n",
      "Statistics [OrderedStatistic(items_base=frozenset({'flour'}), items_add=frozenset({'soda'}), confidence=0.08904109589041095, lift=0.9169455731646381)]\n",
      "Item [frozenset({'flour', 'tropical fruit'}), 0.0010693042839002875, [OrderedStatistic(items_base=frozenset({'flour'}), items_add=frozenset({'tropical fruit'}), confidence=0.10958904109589042, lift=1.6171408500175626)]]\n",
      "Confidence 0.0010693042839002875\n",
      "Statistics [OrderedStatistic(items_base=frozenset({'flour'}), items_add=frozenset({'tropical fruit'}), confidence=0.10958904109589042, lift=1.6171408500175626)]\n",
      "Item [frozenset({'whipped/sour cream', 'flour'}), 0.0006683151774376796, [OrderedStatistic(items_base=frozenset({'flour'}), items_add=frozenset({'whipped/sour cream'}), confidence=0.0684931506849315, lift=1.567068828285367)]]\n",
      "Confidence 0.0006683151774376796\n",
      "Statistics [OrderedStatistic(items_base=frozenset({'flour'}), items_add=frozenset({'whipped/sour cream'}), confidence=0.0684931506849315, lift=1.567068828285367)]\n",
      "Item [frozenset({'whole milk', 'flour'}), 0.0013366303548753592, [OrderedStatistic(items_base=frozenset({'flour'}), items_add=frozenset({'whole milk'}), confidence=0.136986301369863, lift=0.8674253184076429)]]\n",
      "Confidence 0.0013366303548753592\n",
      "Statistics [OrderedStatistic(items_base=frozenset({'flour'}), items_add=frozenset({'whole milk'}), confidence=0.136986301369863, lift=0.8674253184076429)]\n",
      "Item [frozenset({'yogurt', 'flour'}), 0.0006014836596939117, [OrderedStatistic(items_base=frozenset({'flour'}), items_add=frozenset({'yogurt'}), confidence=0.06164383561643836, lift=0.7178028889718032)]]\n",
      "Confidence 0.0006014836596939117\n",
      "Statistics [OrderedStatistic(items_base=frozenset({'flour'}), items_add=frozenset({'yogurt'}), confidence=0.06164383561643836, lift=0.7178028889718032)]\n",
      "Item [frozenset({'rolls/buns', 'flower (seeds)'}), 0.00046782062420637575, [OrderedStatistic(items_base=frozenset({'flower (seeds)'}), items_add=frozenset({'rolls/buns'}), confidence=0.10144927536231885, lift=0.9222269181326713)]]\n",
      "Confidence 0.00046782062420637575\n",
      "Statistics [OrderedStatistic(items_base=frozenset({'flower (seeds)'}), items_add=frozenset({'rolls/buns'}), confidence=0.10144927536231885, lift=0.9222269181326713)]\n",
      "Item [frozenset({'flower (seeds)', 'root vegetables'}), 0.0003341575887188398, [OrderedStatistic(items_base=frozenset({'flower (seeds)'}), items_add=frozenset({'root vegetables'}), confidence=0.07246376811594203, lift=1.0415709532361581)]]\n",
      "Confidence 0.0003341575887188398\n",
      "Statistics [OrderedStatistic(items_base=frozenset({'flower (seeds)'}), items_add=frozenset({'root vegetables'}), confidence=0.07246376811594203, lift=1.0415709532361581)]\n",
      "Item [frozenset({'sausage', 'flower (seeds)'}), 0.0003341575887188398, [OrderedStatistic(items_base=frozenset({'flower (seeds)'}), items_add=frozenset({'sausage'}), confidence=0.07246376811594203, lift=1.200747909544674)]]\n",
      "Confidence 0.0003341575887188398\n",
      "Statistics [OrderedStatistic(items_base=frozenset({'flower (seeds)'}), items_add=frozenset({'sausage'}), confidence=0.07246376811594203, lift=1.200747909544674)]\n",
      "Item [frozenset({'soda', 'flower (seeds)'}), 0.00046782062420637575, [OrderedStatistic(items_base=frozenset({'flower (seeds)'}), items_add=frozenset({'soda'}), confidence=0.10144927536231885, lift=1.0447250566045265)]]\n",
      "Confidence 0.00046782062420637575\n",
      "Statistics [OrderedStatistic(items_base=frozenset({'flower (seeds)'}), items_add=frozenset({'soda'}), confidence=0.10144927536231885, lift=1.0447250566045265)]\n",
      "Item [frozenset({'whole milk', 'flower (seeds)'}), 0.0006014836596939117, [OrderedStatistic(items_base=frozenset({'flower (seeds)'}), items_add=frozenset({'whole milk'}), confidence=0.13043478260869568, lift=0.8259397597011907)]]\n",
      "Confidence 0.0006014836596939117\n",
      "Statistics [OrderedStatistic(items_base=frozenset({'flower (seeds)'}), items_add=frozenset({'whole milk'}), confidence=0.13043478260869568, lift=0.8259397597011907)]\n",
      "Item [frozenset({'yogurt', 'flower (seeds)'}), 0.0003341575887188398, [OrderedStatistic(items_base=frozenset({'flower (seeds)'}), items_add=frozenset({'yogurt'}), confidence=0.07246376811594203, lift=0.8437940562792534)]]\n",
      "Confidence 0.0003341575887188398\n",
      "Statistics [OrderedStatistic(items_base=frozenset({'flower (seeds)'}), items_add=frozenset({'yogurt'}), confidence=0.07246376811594203, lift=0.8437940562792534)]\n",
      "Item [frozenset({'mustard', 'frankfurter'}), 0.0005346521419501437, [OrderedStatistic(items_base=frozenset({'mustard'}), items_add=frozenset({'frankfurter'}), confidence=0.08695652173913045, lift=2.302885725278954)]]\n",
      "Confidence 0.0005346521419501437\n",
      "Statistics [OrderedStatistic(items_base=frozenset({'mustard'}), items_add=frozenset({'frankfurter'}), confidence=0.08695652173913045, lift=2.302885725278954)]\n",
      "Item [frozenset({'frankfurter', 'other vegetables'}), 0.005146026866270133, [OrderedStatistic(items_base=frozenset({'frankfurter'}), items_add=frozenset({'other vegetables'}), confidence=0.13628318584070798, lift=1.1161495948191098)]]\n",
      "Confidence 0.005146026866270133\n",
      "Statistics [OrderedStatistic(items_base=frozenset({'frankfurter'}), items_add=frozenset({'other vegetables'}), confidence=0.13628318584070798, lift=1.1161495948191098)]\n",
      "Item [frozenset({'packaged fruit/vegetables', 'frankfurter'}), 0.0005346521419501437, [OrderedStatistic(items_base=frozenset({'packaged fruit/vegetables'}), items_add=frozenset({'frankfurter'}), confidence=0.06299212598425198, lift=1.6682321789422345)]]\n",
      "Confidence 0.0005346521419501437\n",
      "Statistics [OrderedStatistic(items_base=frozenset({'packaged fruit/vegetables'}), items_add=frozenset({'frankfurter'}), confidence=0.06299212598425198, lift=1.6682321789422345)]\n",
      "Item [frozenset({'frankfurter', 'red/blush wine'}), 0.0006014836596939117, [OrderedStatistic(items_base=frozenset({'red/blush wine'}), items_add=frozenset({'frankfurter'}), confidence=0.05732484076433121, lift=1.5181444112507751)]]\n",
      "Confidence 0.0006014836596939117\n",
      "Statistics [OrderedStatistic(items_base=frozenset({'red/blush wine'}), items_add=frozenset({'frankfurter'}), confidence=0.05732484076433121, lift=1.5181444112507751)]\n",
      "Item [frozenset({'rolls/buns', 'frankfurter'}), 0.0036757334759072377, [OrderedStatistic(items_base=frozenset({'frankfurter'}), items_add=frozenset({'rolls/buns'}), confidence=0.09734513274336283, lift=0.8849181173991119)]]\n",
      "Confidence 0.0036757334759072377\n",
      "Statistics [OrderedStatistic(items_base=frozenset({'frankfurter'}), items_add=frozenset({'rolls/buns'}), confidence=0.09734513274336283, lift=0.8849181173991119)]\n",
      "Item [frozenset({'frankfurter', 'root vegetables'}), 0.002205440085544343, [OrderedStatistic(items_base=frozenset({'frankfurter'}), items_add=frozenset({'root vegetables'}), confidence=0.058407079646017705, lift=0.8395246231924716)]]\n",
      "Confidence 0.002205440085544343\n",
      "Statistics [OrderedStatistic(items_base=frozenset({'frankfurter'}), items_add=frozenset({'root vegetables'}), confidence=0.058407079646017705, lift=0.8395246231924716)]\n",
      "Item [frozenset({'salt', 'frankfurter'}), 0.00040098910646260775, [OrderedStatistic(items_base=frozenset({'salt'}), items_add=frozenset({'frankfurter'}), confidence=0.06741573033707865, lift=1.7853833151039078)]]\n",
      "Confidence 0.00040098910646260775\n",
      "Statistics [OrderedStatistic(items_base=frozenset({'salt'}), items_add=frozenset({'frankfurter'}), confidence=0.06741573033707865, lift=1.7853833151039078)]\n",
      "Item [frozenset({'soda', 'frankfurter'}), 0.0030742498162133263, [OrderedStatistic(items_base=frozenset({'frankfurter'}), items_add=frozenset({'soda'}), confidence=0.08141592920353984, lift=0.8384215751359715)]]\n",
      "Confidence 0.0030742498162133263\n",
      "Statistics [OrderedStatistic(items_base=frozenset({'frankfurter'}), items_add=frozenset({'soda'}), confidence=0.08141592920353984, lift=0.8384215751359715)]\n",
      "Item [frozenset({'whole milk', 'frankfurter'}), 0.005279689901757669, [OrderedStatistic(items_base=frozenset({'frankfurter'}), items_add=frozenset({'whole milk'}), confidence=0.13982300884955753, lift=0.8853879311959075)]]\n",
      "Confidence 0.005279689901757669\n",
      "Statistics [OrderedStatistic(items_base=frozenset({'frankfurter'}), items_add=frozenset({'whole milk'}), confidence=0.13982300884955753, lift=0.8853879311959075)]\n",
      "Item [frozenset({'yogurt', 'frankfurter'}), 0.0025395976742631824, [OrderedStatistic(items_base=frozenset({'frankfurter'}), items_add=frozenset({'yogurt'}), confidence=0.06725663716814159, lift=0.783160359491753)]]\n",
      "Confidence 0.0025395976742631824\n",
      "Statistics [OrderedStatistic(items_base=frozenset({'frankfurter'}), items_add=frozenset({'yogurt'}), confidence=0.06725663716814159, lift=0.783160359491753)]\n",
      "Item [frozenset({'frozen dessert', 'newspapers'}), 0.00040098910646260775, [OrderedStatistic(items_base=frozenset({'frozen dessert'}), items_add=frozenset({'newspapers'}), confidence=0.06521739130434782, lift=1.67671447781264)]]\n",
      "Confidence 0.00040098910646260775\n",
      "Statistics [OrderedStatistic(items_base=frozenset({'frozen dessert'}), items_add=frozenset({'newspapers'}), confidence=0.06521739130434782, lift=1.67671447781264)]\n",
      "Item [frozenset({'frozen dessert', 'other vegetables'}), 0.00046782062420637575, [OrderedStatistic(items_base=frozenset({'frozen dessert'}), items_add=frozenset({'other vegetables'}), confidence=0.07608695652173914, lift=0.6231467599533567)]]\n",
      "Confidence 0.00046782062420637575\n",
      "Statistics [OrderedStatistic(items_base=frozenset({'frozen dessert'}), items_add=frozenset({'other vegetables'}), confidence=0.07608695652173914, lift=0.6231467599533567)]\n",
      "Item [frozenset({'frozen dessert', 'pork'}), 0.0003341575887188398, [OrderedStatistic(items_base=frozenset({'frozen dessert'}), items_add=frozenset({'pork'}), confidence=0.05434782608695652, lift=1.4652369761065414)]]\n",
      "Confidence 0.0003341575887188398\n",
      "Statistics [OrderedStatistic(items_base=frozenset({'frozen dessert'}), items_add=frozenset({'pork'}), confidence=0.05434782608695652, lift=1.4652369761065414)]\n",
      "Item [frozenset({'frozen dessert', 'rolls/buns'}), 0.0003341575887188398, [OrderedStatistic(items_base=frozenset({'frozen dessert'}), items_add=frozenset({'rolls/buns'}), confidence=0.05434782608695652, lift=0.494050134713931)]]\n",
      "Confidence 0.0003341575887188398\n",
      "Statistics [OrderedStatistic(items_base=frozenset({'frozen dessert'}), items_add=frozenset({'rolls/buns'}), confidence=0.05434782608695652, lift=0.494050134713931)]\n",
      "Item [frozenset({'frozen dessert', 'root vegetables'}), 0.0005346521419501437, [OrderedStatistic(items_base=frozenset({'frozen dessert'}), items_add=frozenset({'root vegetables'}), confidence=0.08695652173913045, lift=1.2498851438833898)]]\n",
      "Confidence 0.0005346521419501437\n",
      "Statistics [OrderedStatistic(items_base=frozenset({'frozen dessert'}), items_add=frozenset({'root vegetables'}), confidence=0.08695652173913045, lift=1.2498851438833898)]\n",
      "Item [frozenset({'frozen dessert', 'sausage'}), 0.0003341575887188398, [OrderedStatistic(items_base=frozenset({'frozen dessert'}), items_add=frozenset({'sausage'}), confidence=0.05434782608695652, lift=0.9005609321585054)]]\n",
      "Confidence 0.0003341575887188398\n",
      "Statistics [OrderedStatistic(items_base=frozenset({'frozen dessert'}), items_add=frozenset({'sausage'}), confidence=0.05434782608695652, lift=0.9005609321585054)]\n",
      "Item [frozenset({'frozen dessert', 'soda'}), 0.0006014836596939117, [OrderedStatistic(items_base=frozenset({'frozen dessert'}), items_add=frozenset({'soda'}), confidence=0.09782608695652174, lift=1.007413447440079)]]\n",
      "Confidence 0.0006014836596939117\n",
      "Statistics [OrderedStatistic(items_base=frozenset({'frozen dessert'}), items_add=frozenset({'soda'}), confidence=0.09782608695652174, lift=1.007413447440079)]\n",
      "Item [frozenset({'frozen dessert', 'tropical fruit'}), 0.00046782062420637575, [OrderedStatistic(items_base=frozenset({'frozen dessert'}), items_add=frozenset({'tropical fruit'}), confidence=0.07608695652173914, lift=1.1227703455964326)]]\n",
      "Confidence 0.00046782062420637575\n",
      "Statistics [OrderedStatistic(items_base=frozenset({'frozen dessert'}), items_add=frozenset({'tropical fruit'}), confidence=0.07608695652173914, lift=1.1227703455964326)]\n",
      "Item [frozenset({'frozen dessert', 'whole milk'}), 0.0009356412484127515, [OrderedStatistic(items_base=frozenset({'frozen dessert'}), items_add=frozenset({'whole milk'}), confidence=0.15217391304347827, lift=0.9635963863180557)]]\n",
      "Confidence 0.0009356412484127515\n",
      "Statistics [OrderedStatistic(items_base=frozenset({'frozen dessert'}), items_add=frozenset({'whole milk'}), confidence=0.15217391304347827, lift=0.9635963863180557)]\n",
      "Item [frozenset({'frozen dessert', 'yogurt'}), 0.00046782062420637575, [OrderedStatistic(items_base=frozenset({'frozen dessert'}), items_add=frozenset({'yogurt'}), confidence=0.07608695652173914, lift=0.8859837590932161)]]\n",
      "Confidence 0.00046782062420637575\n",
      "Statistics [OrderedStatistic(items_base=frozenset({'frozen dessert'}), items_add=frozenset({'yogurt'}), confidence=0.07608695652173914, lift=0.8859837590932161)]\n",
      "Item [frozenset({'frozen fish', 'pastry'}), 0.00040098910646260775, [OrderedStatistic(items_base=frozenset({'frozen fish'}), items_add=frozenset({'pastry'}), confidence=0.058823529411764705, lift=1.1371789025687795)]]\n",
      "Confidence 0.00040098910646260775\n",
      "Statistics [OrderedStatistic(items_base=frozenset({'frozen fish'}), items_add=frozenset({'pastry'}), confidence=0.058823529411764705, lift=1.1371789025687795)]\n",
      "Item [frozenset({'frozen fish', 'rolls/buns'}), 0.0006683151774376796, [OrderedStatistic(items_base=frozenset({'frozen fish'}), items_add=frozenset({'rolls/buns'}), confidence=0.09803921568627451, lift=0.8912276939937579)]]\n",
      "Confidence 0.0006683151774376796\n",
      "Statistics [OrderedStatistic(items_base=frozenset({'frozen fish'}), items_add=frozenset({'rolls/buns'}), confidence=0.09803921568627451, lift=0.8912276939937579)]\n",
      "Item [frozenset({'frozen fish', 'soda'}), 0.00040098910646260775, [OrderedStatistic(items_base=frozenset({'frozen fish'}), items_add=frozenset({'soda'}), confidence=0.058823529411764705, lift=0.6057649487874985)]]\n",
      "Confidence 0.00040098910646260775\n",
      "Statistics [OrderedStatistic(items_base=frozenset({'frozen fish'}), items_add=frozenset({'soda'}), confidence=0.058823529411764705, lift=0.6057649487874985)]\n",
      "Item [frozenset({'frozen fish', 'tropical fruit'}), 0.0007351466951814476, [OrderedStatistic(items_base=frozenset({'frozen fish'}), items_add=frozenset({'tropical fruit'}), confidence=0.10784313725490197, lift=1.5913775766716944)]]\n",
      "Confidence 0.0007351466951814476\n",
      "Statistics [OrderedStatistic(items_base=frozenset({'frozen fish'}), items_add=frozenset({'tropical fruit'}), confidence=0.10784313725490197, lift=1.5913775766716944)]\n",
      "Item [frozenset({'frozen fish', 'whole milk'}), 0.0010693042839002875, [OrderedStatistic(items_base=frozenset({'frozen fish'}), items_add=frozenset({'whole milk'}), confidence=0.15686274509803924, lift=0.9932870312746345)]]\n",
      "Confidence 0.0010693042839002875\n",
      "Statistics [OrderedStatistic(items_base=frozenset({'frozen fish'}), items_add=frozenset({'whole milk'}), confidence=0.15686274509803924, lift=0.9932870312746345)]\n",
      "Item [frozenset({'frozen meals', 'other vegetables'}), 0.002138608567800575, [OrderedStatistic(items_base=frozenset({'frozen meals'}), items_add=frozenset({'other vegetables'}), confidence=0.12749003984063748, lift=1.0441343547539457)]]\n",
      "Confidence 0.002138608567800575\n",
      "Statistics [OrderedStatistic(items_base=frozenset({'frozen meals'}), items_add=frozenset({'other vegetables'}), confidence=0.12749003984063748, lift=1.0441343547539457)]\n",
      "Item [frozenset({'rolls/buns', 'frozen meals'}), 0.0014702933903628951, [OrderedStatistic(items_base=frozenset({'frozen meals'}), items_add=frozenset({'rolls/buns'}), confidence=0.08764940239043825, lift=0.7967788626780848)]]\n",
      "Confidence 0.0014702933903628951\n",
      "Statistics [OrderedStatistic(items_base=frozenset({'frozen meals'}), items_add=frozenset({'rolls/buns'}), confidence=0.08764940239043825, lift=0.7967788626780848)]\n",
      "Item [frozenset({'sausage', 'frozen meals'}), 0.0012697988371315912, [OrderedStatistic(items_base=frozenset({'frozen meals'}), items_add=frozenset({'sausage'}), confidence=0.07569721115537849, lift=1.2543270991339184)]]\n",
      "Confidence 0.0012697988371315912\n",
      "Statistics [OrderedStatistic(items_base=frozenset({'frozen meals'}), items_add=frozenset({'sausage'}), confidence=0.07569721115537849, lift=1.2543270991339184)]\n",
      "Item [frozenset({'soda', 'frozen meals'}), 0.0015371249081066632, [OrderedStatistic(items_base=frozenset({'frozen meals'}), items_add=frozenset({'soda'}), confidence=0.09163346613545818, lift=0.9436418126530357)]]\n",
      "Confidence 0.0015371249081066632\n",
      "Statistics [OrderedStatistic(items_base=frozenset({'frozen meals'}), items_add=frozenset({'soda'}), confidence=0.09163346613545818, lift=0.9436418126530357)]\n",
      "Item [frozenset({'whole milk', 'frozen meals'}), 0.0019381140145692708, [OrderedStatistic(items_base=frozenset({'frozen meals'}), items_add=frozenset({'whole milk'}), confidence=0.1155378486055777, lift=0.7316093223382392)]]\n",
      "Confidence 0.0019381140145692708\n",
      "Statistics [OrderedStatistic(items_base=frozenset({'frozen meals'}), items_add=frozenset({'whole milk'}), confidence=0.1155378486055777, lift=0.7316093223382392)]\n",
      "Item [frozenset({'yogurt', 'frozen meals'}), 0.0013366303548753592, [OrderedStatistic(items_base=frozenset({'frozen meals'}), items_add=frozenset({'yogurt'}), confidence=0.07968127490039842, lift=0.9278372889763903)]]\n",
      "Confidence 0.0013366303548753592\n",
      "Statistics [OrderedStatistic(items_base=frozenset({'frozen meals'}), items_add=frozenset({'yogurt'}), confidence=0.07968127490039842, lift=0.9278372889763903)]\n",
      "Item [frozenset({'frozen potato products', 'rolls/buns'}), 0.00046782062420637575, [OrderedStatistic(items_base=frozenset({'frozen potato products'}), items_add=frozenset({'rolls/buns'}), confidence=0.09722222222222222, lift=0.8838007965438099)]]\n",
      "Confidence 0.00046782062420637575\n",
      "Statistics [OrderedStatistic(items_base=frozenset({'frozen potato products'}), items_add=frozenset({'rolls/buns'}), confidence=0.09722222222222222, lift=0.8838007965438099)]\n",
      "Item [frozenset({'frozen potato products', 'root vegetables'}), 0.00046782062420637575, [OrderedStatistic(items_base=frozenset({'frozen potato products'}), items_add=frozenset({'root vegetables'}), confidence=0.09722222222222222, lift=1.3974410289251786)]]\n",
      "Confidence 0.00046782062420637575\n",
      "Statistics [OrderedStatistic(items_base=frozenset({'frozen potato products'}), items_add=frozenset({'root vegetables'}), confidence=0.09722222222222222, lift=1.3974410289251786)]\n",
      "Item [frozenset({'frozen potato products', 'whole milk'}), 0.0006014836596939117, [OrderedStatistic(items_base=frozenset({'frozen potato products'}), items_add=frozenset({'whole milk'}), confidence=0.125, lift=0.7915256030469743)]]\n",
      "Confidence 0.0006014836596939117\n",
      "Statistics [OrderedStatistic(items_base=frozenset({'frozen potato products'}), items_add=frozenset({'whole milk'}), confidence=0.125, lift=0.7915256030469743)]\n",
      "Item [frozenset({'frozen vegetables', 'other vegetables'}), 0.003141081333957094, [OrderedStatistic(items_base=frozenset({'frozen vegetables'}), items_add=frozenset({'other vegetables'}), confidence=0.11217183770883055, lift=0.9186793692595684)]]\n",
      "Confidence 0.003141081333957094\n",
      "Statistics [OrderedStatistic(items_base=frozenset({'frozen vegetables'}), items_add=frozenset({'other vegetables'}), confidence=0.11217183770883055, lift=0.9186793692595684)]\n",
      "Item [frozenset({'rolls/buns', 'frozen vegetables'}), 0.0027400922274944863, [OrderedStatistic(items_base=frozenset({'frozen vegetables'}), items_add=frozenset({'rolls/buns'}), confidence=0.09785202863961813, lift=0.8895260659383999)]]\n",
      "Confidence 0.0027400922274944863\n",
      "Statistics [OrderedStatistic(items_base=frozenset({'frozen vegetables'}), items_add=frozenset({'rolls/buns'}), confidence=0.09785202863961813, lift=0.8895260659383999)]\n",
      "Item [frozenset({'frozen vegetables', 'root vegetables'}), 0.002138608567800575, [OrderedStatistic(items_base=frozenset({'frozen vegetables'}), items_add=frozenset({'root vegetables'}), confidence=0.07637231503579953, lift=1.0977511526231203)]]\n",
      "Confidence 0.002138608567800575\n",
      "Statistics [OrderedStatistic(items_base=frozenset({'frozen vegetables'}), items_add=frozenset({'root vegetables'}), confidence=0.07637231503579953, lift=1.0977511526231203)]\n",
      "Item [frozenset({'sausage', 'frozen vegetables'}), 0.0020717770500568067, [OrderedStatistic(items_base=frozenset({'frozen vegetables'}), items_add=frozenset({'sausage'}), confidence=0.07398568019093078, lift=1.2259664813919129)]]\n",
      "Confidence 0.0020717770500568067\n",
      "Statistics [OrderedStatistic(items_base=frozenset({'frozen vegetables'}), items_add=frozenset({'sausage'}), confidence=0.07398568019093078, lift=1.2259664813919129)]\n",
      "Item [frozenset({'soda', 'frozen vegetables'}), 0.002004945532313039, [OrderedStatistic(items_base=frozenset({'frozen vegetables'}), items_add=frozenset({'soda'}), confidence=0.07159904534606205, lift=0.7373272646339482)]]\n",
      "Confidence 0.002004945532313039\n",
      "Statistics [OrderedStatistic(items_base=frozenset({'frozen vegetables'}), items_add=frozenset({'soda'}), confidence=0.07159904534606205, lift=0.7373272646339482)]\n",
      "Item [frozenset({'whole milk', 'frozen vegetables'}), 0.003809396511394774, [OrderedStatistic(items_base=frozenset({'frozen vegetables'}), items_add=frozenset({'whole milk'}), confidence=0.1360381861575179, lift=0.8614216586859672)]]\n",
      "Confidence 0.003809396511394774\n",
      "Statistics [OrderedStatistic(items_base=frozenset({'frozen vegetables'}), items_add=frozenset({'whole milk'}), confidence=0.1360381861575179, lift=0.8614216586859672)]\n",
      "Item [frozenset({'yogurt', 'frozen vegetables'}), 0.0020717770500568067, [OrderedStatistic(items_base=frozenset({'frozen vegetables'}), items_add=frozenset({'yogurt'}), confidence=0.07398568019093078, lift=0.8615157452894142)]]\n",
      "Confidence 0.0020717770500568067\n",
      "Statistics [OrderedStatistic(items_base=frozenset({'frozen vegetables'}), items_add=frozenset({'yogurt'}), confidence=0.07398568019093078, lift=0.8615157452894142)]\n",
      "Item [frozenset({'fruit/vegetable juice', 'liver loaf'}), 0.00040098910646260775, [OrderedStatistic(items_base=frozenset({'liver loaf'}), items_add=frozenset({'fruit/vegetable juice'}), confidence=0.12, lift=3.5276227897838903)]]\n",
      "Confidence 0.00040098910646260775\n",
      "Statistics [OrderedStatistic(items_base=frozenset({'liver loaf'}), items_add=frozenset({'fruit/vegetable juice'}), confidence=0.12, lift=3.5276227897838903)]\n",
      "Item [frozenset({'fruit/vegetable juice', 'other vegetables'}), 0.0029405867807257902, [OrderedStatistic(items_base=frozenset({'fruit/vegetable juice'}), items_add=frozenset({'other vegetables'}), confidence=0.08644400785854618, lift=0.7079702734468672)]]\n",
      "Confidence 0.0029405867807257902\n",
      "Statistics [OrderedStatistic(items_base=frozenset({'fruit/vegetable juice'}), items_add=frozenset({'other vegetables'}), confidence=0.08644400785854618, lift=0.7079702734468672)]\n",
      "Item [frozenset({'fruit/vegetable juice', 'rolls/buns'}), 0.003742564993651006, [OrderedStatistic(items_base=frozenset({'fruit/vegetable juice'}), items_add=frozenset({'rolls/buns'}), confidence=0.11001964636542241, lift=1.0001360683874942)]]\n",
      "Confidence 0.003742564993651006\n",
      "Statistics [OrderedStatistic(items_base=frozenset({'fruit/vegetable juice'}), items_add=frozenset({'rolls/buns'}), confidence=0.11001964636542241, lift=1.0001360683874942)]\n",
      "Item [frozenset({'fruit/vegetable juice', 'root vegetables'}), 0.001804450979081735, [OrderedStatistic(items_base=frozenset({'fruit/vegetable juice'}), items_add=frozenset({'root vegetables'}), confidence=0.05304518664047152, lift=0.7624544934691405)]]\n",
      "Confidence 0.001804450979081735\n",
      "Statistics [OrderedStatistic(items_base=frozenset({'fruit/vegetable juice'}), items_add=frozenset({'root vegetables'}), confidence=0.05304518664047152, lift=0.7624544934691405)]\n",
      "Item [frozenset({'fruit/vegetable juice', 'sausage'}), 0.001804450979081735, [OrderedStatistic(items_base=frozenset({'fruit/vegetable juice'}), items_add=frozenset({'sausage'}), confidence=0.05304518664047152, lift=0.8789757781853547)]]\n",
      "Confidence 0.001804450979081735\n",
      "Statistics [OrderedStatistic(items_base=frozenset({'fruit/vegetable juice'}), items_add=frozenset({'sausage'}), confidence=0.05304518664047152, lift=0.8789757781853547)]\n",
      "Item [frozenset({'fruit/vegetable juice', 'soda'}), 0.002138608567800575, [OrderedStatistic(items_base=frozenset({'fruit/vegetable juice'}), items_add=frozenset({'soda'}), confidence=0.06286836935166995, lift=0.6474187271913541)]]\n",
      "Confidence 0.002138608567800575\n",
      "Statistics [OrderedStatistic(items_base=frozenset({'fruit/vegetable juice'}), items_add=frozenset({'soda'}), confidence=0.06286836935166995, lift=0.6474187271913541)]\n",
      "Item [frozenset({'fruit/vegetable juice', 'tropical fruit'}), 0.002138608567800575, [OrderedStatistic(items_base=frozenset({'fruit/vegetable juice'}), items_add=frozenset({'tropical fruit'}), confidence=0.06286836935166995, lift=0.9277114503047708)]]\n",
      "Confidence 0.002138608567800575\n",
      "Statistics [OrderedStatistic(items_base=frozenset({'fruit/vegetable juice'}), items_add=frozenset({'tropical fruit'}), confidence=0.06286836935166995, lift=0.9277114503047708)]\n",
      "Item [frozenset({'fruit/vegetable juice', 'whole milk'}), 0.004410880171088686, [OrderedStatistic(items_base=frozenset({'fruit/vegetable juice'}), items_add=frozenset({'whole milk'}), confidence=0.12966601178781928, lift=0.8210717454003978)]]\n",
      "Confidence 0.004410880171088686\n",
      "Statistics [OrderedStatistic(items_base=frozenset({'fruit/vegetable juice'}), items_add=frozenset({'whole milk'}), confidence=0.12966601178781928, lift=0.8210717454003978)]\n",
      "Item [frozenset({'fruit/vegetable juice', 'yogurt'}), 0.002205440085544343, [OrderedStatistic(items_base=frozenset({'fruit/vegetable juice'}), items_add=frozenset({'yogurt'}), confidence=0.06483300589390964, lift=0.7549387293311828)]]\n",
      "Confidence 0.002205440085544343\n",
      "Statistics [OrderedStatistic(items_base=frozenset({'fruit/vegetable juice'}), items_add=frozenset({'yogurt'}), confidence=0.06483300589390964, lift=0.7549387293311828)]\n",
      "Item [frozenset({'grapes', 'other vegetables'}), 0.001603956425850431, [OrderedStatistic(items_base=frozenset({'grapes'}), items_add=frozenset({'other vegetables'}), confidence=0.1111111111111111, lift=0.9099920939001398)]]\n",
      "Confidence 0.001603956425850431\n",
      "Statistics [OrderedStatistic(items_base=frozenset({'grapes'}), items_add=frozenset({'other vegetables'}), confidence=0.1111111111111111, lift=0.9099920939001398)]\n",
      "Item [frozenset({'rolls/buns', 'grapes'}), 0.0012029673193878234, [OrderedStatistic(items_base=frozenset({'grapes'}), items_add=frozenset({'rolls/buns'}), confidence=0.08333333333333334, lift=0.7575435398946944)]]\n",
      "Confidence 0.0012029673193878234\n",
      "Statistics [OrderedStatistic(items_base=frozenset({'grapes'}), items_add=frozenset({'rolls/buns'}), confidence=0.08333333333333334, lift=0.7575435398946944)]\n",
      "Item [frozenset({'grapes', 'root vegetables'}), 0.0010693042839002875, [OrderedStatistic(items_base=frozenset({'grapes'}), items_add=frozenset({'root vegetables'}), confidence=0.07407407407407408, lift=1.064716974419184)]]\n",
      "Confidence 0.0010693042839002875\n",
      "Statistics [OrderedStatistic(items_base=frozenset({'grapes'}), items_add=frozenset({'root vegetables'}), confidence=0.07407407407407408, lift=1.064716974419184)]\n",
      "Item [frozenset({'sausage', 'grapes'}), 0.0010693042839002875, [OrderedStatistic(items_base=frozenset({'grapes'}), items_add=frozenset({'sausage'}), confidence=0.07407407407407408, lift=1.2274311964234446)]]\n",
      "Confidence 0.0010693042839002875\n",
      "Statistics [OrderedStatistic(items_base=frozenset({'grapes'}), items_add=frozenset({'sausage'}), confidence=0.07407407407407408, lift=1.2274311964234446)]\n",
      "Item [frozenset({'soda', 'grapes'}), 0.001403461872619127, [OrderedStatistic(items_base=frozenset({'grapes'}), items_add=frozenset({'soda'}), confidence=0.09722222222222221, lift=1.001194845912671)]]\n",
      "Confidence 0.001403461872619127\n",
      "Statistics [OrderedStatistic(items_base=frozenset({'grapes'}), items_add=frozenset({'soda'}), confidence=0.09722222222222221, lift=1.001194845912671)]\n",
      "Item [frozenset({'grapes', 'tropical fruit'}), 0.0008688097306689834, [OrderedStatistic(items_base=frozenset({'grapes'}), items_add=frozenset({'tropical fruit'}), confidence=0.06018518518518518, lift=0.8881172839506173)]]\n",
      "Confidence 0.0008688097306689834\n",
      "Statistics [OrderedStatistic(items_base=frozenset({'grapes'}), items_add=frozenset({'tropical fruit'}), confidence=0.06018518518518518, lift=0.8881172839506173)]\n",
      "Item [frozenset({'whipped/sour cream', 'grapes'}), 0.0007351466951814476, [OrderedStatistic(items_base=frozenset({'grapes'}), items_add=frozenset({'whipped/sour cream'}), confidence=0.05092592592592592, lift=1.1651446936232868)]]\n",
      "Confidence 0.0007351466951814476\n",
      "Statistics [OrderedStatistic(items_base=frozenset({'grapes'}), items_add=frozenset({'whipped/sour cream'}), confidence=0.05092592592592592, lift=1.1651446936232868)]\n",
      "Item [frozenset({'whole milk', 'grapes'}), 0.0019381140145692708, [OrderedStatistic(items_base=frozenset({'grapes'}), items_add=frozenset({'whole milk'}), confidence=0.13425925925925924, lift=0.8501571291986019)]]\n",
      "Confidence 0.0019381140145692708\n",
      "Statistics [OrderedStatistic(items_base=frozenset({'grapes'}), items_add=frozenset({'whole milk'}), confidence=0.13425925925925924, lift=0.8501571291986019)]\n",
      "Item [frozenset({'yogurt', 'grapes'}), 0.0009356412484127515, [OrderedStatistic(items_base=frozenset({'grapes'}), items_add=frozenset({'yogurt'}), confidence=0.06481481481481481, lift=0.754726905894221)]]\n",
      "Confidence 0.0009356412484127515\n",
      "Statistics [OrderedStatistic(items_base=frozenset({'grapes'}), items_add=frozenset({'yogurt'}), confidence=0.06481481481481481, lift=0.754726905894221)]\n",
      "Item [frozenset({'ham', 'other vegetables'}), 0.001603956425850431, [OrderedStatistic(items_base=frozenset({'ham'}), items_add=frozenset({'other vegetables'}), confidence=0.09374999999999999, lift=0.7678058292282429)]]\n",
      "Confidence 0.001603956425850431\n",
      "Statistics [OrderedStatistic(items_base=frozenset({'ham'}), items_add=frozenset({'other vegetables'}), confidence=0.09374999999999999, lift=0.7678058292282429)]\n",
      "Item [frozenset({'ham', 'pickled vegetables'}), 0.0005346521419501437, [OrderedStatistic(items_base=frozenset({'pickled vegetables'}), items_add=frozenset({'ham'}), confidence=0.05970149253731344, lift=3.4895055970149254)]]\n",
      "Confidence 0.0005346521419501437\n",
      "Statistics [OrderedStatistic(items_base=frozenset({'pickled vegetables'}), items_add=frozenset({'ham'}), confidence=0.05970149253731344, lift=3.4895055970149254)]\n",
      "Item [frozenset({'ham', 'rolls/buns'}), 0.0012697988371315912, [OrderedStatistic(items_base=frozenset({'ham'}), items_add=frozenset({'rolls/buns'}), confidence=0.07421874999999999, lift=0.6746872152187119)]]\n",
      "Confidence 0.0012697988371315912\n",
      "Statistics [OrderedStatistic(items_base=frozenset({'ham'}), items_add=frozenset({'rolls/buns'}), confidence=0.07421874999999999, lift=0.6746872152187119)]\n",
      "Item [frozenset({'ham', 'soda'}), 0.0012029673193878234, [OrderedStatistic(items_base=frozenset({'ham'}), items_add=frozenset({'soda'}), confidence=0.0703125, lift=0.7240784153475568)]]\n",
      "Confidence 0.0012029673193878234\n",
      "Statistics [OrderedStatistic(items_base=frozenset({'ham'}), items_add=frozenset({'soda'}), confidence=0.0703125, lift=0.7240784153475568)]\n",
      "Item [frozenset({'ham', 'tropical fruit'}), 0.0011361358016440553, [OrderedStatistic(items_base=frozenset({'ham'}), items_add=frozenset({'tropical fruit'}), confidence=0.06640624999999999, lift=0.9799178685897435)]]\n",
      "Confidence 0.0011361358016440553\n",
      "Statistics [OrderedStatistic(items_base=frozenset({'ham'}), items_add=frozenset({'tropical fruit'}), confidence=0.06640624999999999, lift=0.9799178685897435)]\n",
      "Item [frozenset({'ham', 'whole milk'}), 0.0027400922274944863, [OrderedStatistic(items_base=frozenset({'ham'}), items_add=frozenset({'whole milk'}), confidence=0.16015624999999997, lift=1.0141421789039355)]]\n",
      "Confidence 0.0027400922274944863\n",
      "Statistics [OrderedStatistic(items_base=frozenset({'ham'}), items_add=frozenset({'whole milk'}), confidence=0.16015624999999997, lift=1.0141421789039355)]\n",
      "Item [frozenset({'ham', 'yogurt'}), 0.0012697988371315912, [OrderedStatistic(items_base=frozenset({'ham'}), items_add=frozenset({'yogurt'}), confidence=0.07421874999999999, lift=0.8642296935797663)]]\n",
      "Confidence 0.0012697988371315912\n",
      "Statistics [OrderedStatistic(items_base=frozenset({'ham'}), items_add=frozenset({'yogurt'}), confidence=0.07421874999999999, lift=0.8642296935797663)]\n",
      "Item [frozenset({'hamburger meat', 'other vegetables'}), 0.002205440085544343, [OrderedStatistic(items_base=frozenset({'hamburger meat'}), items_add=frozenset({'other vegetables'}), confidence=0.10091743119266056, lift=0.8265065806982922)]]\n",
      "Confidence 0.002205440085544343\n",
      "Statistics [OrderedStatistic(items_base=frozenset({'hamburger meat'}), items_add=frozenset({'other vegetables'}), confidence=0.10091743119266056, lift=0.8265065806982922)]\n",
      "Item [frozenset({'hamburger meat', 'pasta'}), 0.00046782062420637575, [OrderedStatistic(items_base=frozenset({'pasta'}), items_add=frozenset({'hamburger meat'}), confidence=0.05785123966942149, lift=2.6471807314175955)]]\n",
      "Confidence 0.00046782062420637575\n",
      "Statistics [OrderedStatistic(items_base=frozenset({'pasta'}), items_add=frozenset({'hamburger meat'}), confidence=0.05785123966942149, lift=2.6471807314175955)]\n",
      "Item [frozenset({'hamburger meat', 'rolls/buns'}), 0.0019381140145692708, [OrderedStatistic(items_base=frozenset({'hamburger meat'}), items_add=frozenset({'rolls/buns'}), confidence=0.08868501529051988, lift=0.8061931250255462)]]\n",
      "Confidence 0.0019381140145692708\n",
      "Statistics [OrderedStatistic(items_base=frozenset({'hamburger meat'}), items_add=frozenset({'rolls/buns'}), confidence=0.08868501529051988, lift=0.8061931250255462)]\n",
      "Item [frozenset({'hamburger meat', 'root vegetables'}), 0.0012697988371315912, [OrderedStatistic(items_base=frozenset({'hamburger meat'}), items_add=frozenset({'root vegetables'}), confidence=0.0581039755351682, lift=0.8351679019526626)]]\n",
      "Confidence 0.0012697988371315912\n",
      "Statistics [OrderedStatistic(items_base=frozenset({'hamburger meat'}), items_add=frozenset({'root vegetables'}), confidence=0.0581039755351682, lift=0.8351679019526626)]\n",
      "Item [frozenset({'hamburger meat', 'soda'}), 0.001670787943594199, [OrderedStatistic(items_base=frozenset({'hamburger meat'}), items_add=frozenset({'soda'}), confidence=0.07645259938837921, lift=0.7873091842039355)]]\n",
      "Confidence 0.001670787943594199\n",
      "Statistics [OrderedStatistic(items_base=frozenset({'hamburger meat'}), items_add=frozenset({'soda'}), confidence=0.07645259938837921, lift=0.7873091842039355)]\n",
      "Item [frozenset({'hamburger meat', 'soft cheese'}), 0.0006014836596939117, [OrderedStatistic(items_base=frozenset({'soft cheese'}), items_add=frozenset({'hamburger meat'}), confidence=0.060000000000000005, lift=2.745504587155964)]]\n",
      "Confidence 0.0006014836596939117\n",
      "Statistics [OrderedStatistic(items_base=frozenset({'soft cheese'}), items_add=frozenset({'hamburger meat'}), confidence=0.060000000000000005, lift=2.745504587155964)]\n",
      "Item [frozenset({'hamburger meat', 'spread cheese'}), 0.0003341575887188398, [OrderedStatistic(items_base=frozenset({'spread cheese'}), items_add=frozenset({'hamburger meat'}), confidence=0.05, lift=2.2879204892966363)]]\n",
      "Confidence 0.0003341575887188398\n",
      "Statistics [OrderedStatistic(items_base=frozenset({'spread cheese'}), items_add=frozenset({'hamburger meat'}), confidence=0.05, lift=2.2879204892966363)]\n",
      "Item [frozenset({'hamburger meat', 'tropical fruit'}), 0.0013366303548753592, [OrderedStatistic(items_base=frozenset({'hamburger meat'}), items_add=frozenset({'tropical fruit'}), confidence=0.06116207951070337, lift=0.9025327373951229)]]\n",
      "Confidence 0.0013366303548753592\n",
      "Statistics [OrderedStatistic(items_base=frozenset({'hamburger meat'}), items_add=frozenset({'tropical fruit'}), confidence=0.06116207951070337, lift=0.9025327373951229)]\n",
      "Item [frozenset({'hamburger meat', 'whole milk'}), 0.0030742498162133263, [OrderedStatistic(items_base=frozenset({'hamburger meat'}), items_add=frozenset({'whole milk'}), confidence=0.14067278287461774, lift=0.890768874377023)]]\n",
      "Confidence 0.0030742498162133263\n",
      "Statistics [OrderedStatistic(items_base=frozenset({'hamburger meat'}), items_add=frozenset({'whole milk'}), confidence=0.14067278287461774, lift=0.890768874377023)]\n",
      "Item [frozenset({'yogurt', 'hamburger meat'}), 0.001670787943594199, [OrderedStatistic(items_base=frozenset({'hamburger meat'}), items_add=frozenset({'yogurt'}), confidence=0.07645259938837921, lift=0.890241435523983)]]\n",
      "Confidence 0.001670787943594199\n",
      "Statistics [OrderedStatistic(items_base=frozenset({'hamburger meat'}), items_add=frozenset({'yogurt'}), confidence=0.07645259938837921, lift=0.890241435523983)]\n",
      "Item [frozenset({'hard cheese', 'other vegetables'}), 0.001670787943594199, [OrderedStatistic(items_base=frozenset({'hard cheese'}), items_add=frozenset({'other vegetables'}), confidence=0.11363636363636365, lift=0.9306737323978704)]]\n",
      "Confidence 0.001670787943594199\n",
      "Statistics [OrderedStatistic(items_base=frozenset({'hard cheese'}), items_add=frozenset({'other vegetables'}), confidence=0.11363636363636365, lift=0.9306737323978704)]\n",
      "Item [frozenset({'hard cheese', 'pip fruit'}), 0.0010693042839002875, [OrderedStatistic(items_base=frozenset({'hard cheese'}), items_add=frozenset({'pip fruit'}), confidence=0.07272727272727274, lift=1.482586078771365)]]\n",
      "Confidence 0.0010693042839002875\n",
      "Statistics [OrderedStatistic(items_base=frozenset({'hard cheese'}), items_add=frozenset({'pip fruit'}), confidence=0.07272727272727274, lift=1.482586078771365)]\n",
      "Item [frozenset({'hard cheese', 'rolls/buns'}), 0.001670787943594199, [OrderedStatistic(items_base=frozenset({'hard cheese'}), items_add=frozenset({'rolls/buns'}), confidence=0.11363636363636365, lift=1.0330139180382194)]]\n",
      "Confidence 0.001670787943594199\n",
      "Statistics [OrderedStatistic(items_base=frozenset({'hard cheese'}), items_add=frozenset({'rolls/buns'}), confidence=0.11363636363636365, lift=1.0330139180382194)]\n",
      "Item [frozenset({'hard cheese', 'root vegetables'}), 0.0010024727661565194, [OrderedStatistic(items_base=frozenset({'hard cheese'}), items_add=frozenset({'root vegetables'}), confidence=0.06818181818181819, lift=0.9800235787267488)]]\n",
      "Confidence 0.0010024727661565194\n",
      "Statistics [OrderedStatistic(items_base=frozenset({'hard cheese'}), items_add=frozenset({'root vegetables'}), confidence=0.06818181818181819, lift=0.9800235787267488)]\n",
      "Item [frozenset({'sausage', 'hard cheese'}), 0.0007351466951814476, [OrderedStatistic(items_base=frozenset({'hard cheese'}), items_add=frozenset({'sausage'}), confidence=0.05, lift=0.828516057585825)]]\n",
      "Confidence 0.0007351466951814476\n",
      "Statistics [OrderedStatistic(items_base=frozenset({'hard cheese'}), items_add=frozenset({'sausage'}), confidence=0.05, lift=0.828516057585825)]\n",
      "Item [frozenset({'hard cheese', 'shopping bags'}), 0.0008688097306689834, [OrderedStatistic(items_base=frozenset({'hard cheese'}), items_add=frozenset({'shopping bags'}), confidence=0.05909090909090909, lift=1.2418220122574055)]]\n",
      "Confidence 0.0008688097306689834\n",
      "Statistics [OrderedStatistic(items_base=frozenset({'hard cheese'}), items_add=frozenset({'shopping bags'}), confidence=0.05909090909090909, lift=1.2418220122574055)]\n",
      "Item [frozenset({'hard cheese', 'soda'}), 0.0009356412484127515, [OrderedStatistic(items_base=frozenset({'hard cheese'}), items_add=frozenset({'soda'}), confidence=0.06363636363636364, lift=0.6553275355064757)]]\n",
      "Confidence 0.0009356412484127515\n",
      "Statistics [OrderedStatistic(items_base=frozenset({'hard cheese'}), items_add=frozenset({'soda'}), confidence=0.06363636363636364, lift=0.6553275355064757)]\n",
      "Item [frozenset({'hard cheese', 'tropical fruit'}), 0.0008019782129252155, [OrderedStatistic(items_base=frozenset({'hard cheese'}), items_add=frozenset({'tropical fruit'}), confidence=0.05454545454545454, lift=0.804895104895105)]]\n",
      "Confidence 0.0008019782129252155\n",
      "Statistics [OrderedStatistic(items_base=frozenset({'hard cheese'}), items_add=frozenset({'tropical fruit'}), confidence=0.05454545454545454, lift=0.804895104895105)]\n",
      "Item [frozenset({'hard cheese', 'whole milk'}), 0.001871282496825503, [OrderedStatistic(items_base=frozenset({'hard cheese'}), items_add=frozenset({'whole milk'}), confidence=0.1272727272727273, lift=0.8059169776478284)]]\n",
      "Confidence 0.001871282496825503\n",
      "Statistics [OrderedStatistic(items_base=frozenset({'hard cheese'}), items_add=frozenset({'whole milk'}), confidence=0.1272727272727273, lift=0.8059169776478284)]\n",
      "Item [frozenset({'yogurt', 'hard cheese'}), 0.0012697988371315912, [OrderedStatistic(items_base=frozenset({'hard cheese'}), items_add=frozenset({'yogurt'}), confidence=0.08636363636363636, lift=1.0056490979837283)]]\n",
      "Confidence 0.0012697988371315912\n",
      "Statistics [OrderedStatistic(items_base=frozenset({'hard cheese'}), items_add=frozenset({'yogurt'}), confidence=0.08636363636363636, lift=1.0056490979837283)]\n",
      "Item [frozenset({'herbs', 'other vegetables'}), 0.0008688097306689834, [OrderedStatistic(items_base=frozenset({'herbs'}), items_add=frozenset({'other vegetables'}), confidence=0.08227848101265822, lift=0.6738549049766858)]]\n",
      "Confidence 0.0008688097306689834\n",
      "Statistics [OrderedStatistic(items_base=frozenset({'herbs'}), items_add=frozenset({'other vegetables'}), confidence=0.08227848101265822, lift=0.6738549049766858)]\n",
      "Item [frozenset({'rolls/buns', 'herbs'}), 0.0008688097306689834, [OrderedStatistic(items_base=frozenset({'herbs'}), items_add=frozenset({'rolls/buns'}), confidence=0.08227848101265822, lift=0.74795438116185)]]\n",
      "Confidence 0.0008688097306689834\n",
      "Statistics [OrderedStatistic(items_base=frozenset({'herbs'}), items_add=frozenset({'rolls/buns'}), confidence=0.08227848101265822, lift=0.74795438116185)]\n",
      "Item [frozenset({'herbs', 'root vegetables'}), 0.0005346521419501437, [OrderedStatistic(items_base=frozenset({'herbs'}), items_add=frozenset({'root vegetables'}), confidence=0.05063291139240507, lift=0.727781223020708)]]\n",
      "Confidence 0.0005346521419501437\n",
      "Statistics [OrderedStatistic(items_base=frozenset({'herbs'}), items_add=frozenset({'root vegetables'}), confidence=0.05063291139240507, lift=0.727781223020708)]\n",
      "Item [frozenset({'soda', 'herbs'}), 0.0005346521419501437, [OrderedStatistic(items_base=frozenset({'herbs'}), items_add=frozenset({'soda'}), confidence=0.05063291139240507, lift=0.5214179306018976)]]\n",
      "Confidence 0.0005346521419501437\n",
      "Statistics [OrderedStatistic(items_base=frozenset({'herbs'}), items_add=frozenset({'soda'}), confidence=0.05063291139240507, lift=0.5214179306018976)]\n",
      "Item [frozenset({'whole milk', 'herbs'}), 0.0011361358016440553, [OrderedStatistic(items_base=frozenset({'herbs'}), items_add=frozenset({'whole milk'}), confidence=0.10759493670886075, lift=0.6813131773062563)]]\n",
      "Confidence 0.0011361358016440553\n",
      "Statistics [OrderedStatistic(items_base=frozenset({'herbs'}), items_add=frozenset({'whole milk'}), confidence=0.10759493670886075, lift=0.6813131773062563)]\n",
      "Item [frozenset({'yogurt', 'herbs'}), 0.0011361358016440553, [OrderedStatistic(items_base=frozenset({'herbs'}), items_add=frozenset({'yogurt'}), confidence=0.10759493670886075, lift=1.2528739595133722)]]\n",
      "Confidence 0.0011361358016440553\n",
      "Statistics [OrderedStatistic(items_base=frozenset({'herbs'}), items_add=frozenset({'yogurt'}), confidence=0.10759493670886075, lift=1.2528739595133722)]\n",
      "Item [frozenset({'sausage', 'house keeping products'}), 0.0003341575887188398, [OrderedStatistic(items_base=frozenset({'house keeping products'}), items_add=frozenset({'sausage'}), confidence=0.11111111111111112, lift=1.8411467946351667)]]\n",
      "Confidence 0.0003341575887188398\n",
      "Statistics [OrderedStatistic(items_base=frozenset({'house keeping products'}), items_add=frozenset({'sausage'}), confidence=0.11111111111111112, lift=1.8411467946351667)]\n",
      "Item [frozenset({'whole milk', 'house keeping products'}), 0.0007351466951814476, [OrderedStatistic(items_base=frozenset({'house keeping products'}), items_add=frozenset({'whole milk'}), confidence=0.24444444444444446, lift=1.547872290402972)]]\n",
      "Confidence 0.0007351466951814476\n",
      "Statistics [OrderedStatistic(items_base=frozenset({'house keeping products'}), items_add=frozenset({'whole milk'}), confidence=0.24444444444444446, lift=1.547872290402972)]\n",
      "Item [frozenset({'hygiene articles', 'other vegetables'}), 0.001403461872619127, [OrderedStatistic(items_base=frozenset({'hygiene articles'}), items_add=frozenset({'other vegetables'}), confidence=0.1024390243902439, lift=0.8389683207176899)]]\n",
      "Confidence 0.001403461872619127\n",
      "Statistics [OrderedStatistic(items_base=frozenset({'hygiene articles'}), items_add=frozenset({'other vegetables'}), confidence=0.1024390243902439, lift=0.8389683207176899)]\n",
      "Item [frozenset({'hygiene articles', 'pastry'}), 0.0007351466951814476, [OrderedStatistic(items_base=frozenset({'hygiene articles'}), items_add=frozenset({'pastry'}), confidence=0.05365853658536585, lift=1.0373290477090817)]]\n",
      "Confidence 0.0007351466951814476\n",
      "Statistics [OrderedStatistic(items_base=frozenset({'hygiene articles'}), items_add=frozenset({'pastry'}), confidence=0.05365853658536585, lift=1.0373290477090817)]\n",
      "Item [frozenset({'hygiene articles', 'rolls/buns'}), 0.0013366303548753592, [OrderedStatistic(items_base=frozenset({'hygiene articles'}), items_add=frozenset({'rolls/buns'}), confidence=0.0975609756097561, lift=0.8868802418279348)]]\n",
      "Confidence 0.0013366303548753592\n",
      "Statistics [OrderedStatistic(items_base=frozenset({'hygiene articles'}), items_add=frozenset({'rolls/buns'}), confidence=0.0975609756097561, lift=0.8868802418279348)]\n",
      "Item [frozenset({'hygiene articles', 'root vegetables'}), 0.0010024727661565194, [OrderedStatistic(items_base=frozenset({'hygiene articles'}), items_add=frozenset({'root vegetables'}), confidence=0.07317073170731708, lift=1.0517326210726086)]]\n",
      "Confidence 0.0010024727661565194\n",
      "Statistics [OrderedStatistic(items_base=frozenset({'hygiene articles'}), items_add=frozenset({'root vegetables'}), confidence=0.07317073170731708, lift=1.0517326210726086)]\n",
      "Item [frozenset({'sausage', 'hygiene articles'}), 0.0008688097306689834, [OrderedStatistic(items_base=frozenset({'hygiene articles'}), items_add=frozenset({'sausage'}), confidence=0.06341463414634146, lift=1.0508008535234854)]]\n",
      "Confidence 0.0008688097306689834\n",
      "Statistics [OrderedStatistic(items_base=frozenset({'hygiene articles'}), items_add=frozenset({'sausage'}), confidence=0.06341463414634146, lift=1.0508008535234854)]\n",
      "Item [frozenset({'hygiene articles', 'soda'}), 0.0010693042839002875, [OrderedStatistic(items_base=frozenset({'hygiene articles'}), items_add=frozenset({'soda'}), confidence=0.07804878048780489, lift=0.8037466637570714)]]\n",
      "Confidence 0.0010693042839002875\n",
      "Statistics [OrderedStatistic(items_base=frozenset({'hygiene articles'}), items_add=frozenset({'soda'}), confidence=0.07804878048780489, lift=0.8037466637570714)]\n",
      "Item [frozenset({'hygiene articles', 'tropical fruit'}), 0.0008019782129252155, [OrderedStatistic(items_base=frozenset({'hygiene articles'}), items_add=frozenset({'tropical fruit'}), confidence=0.058536585365853655, lift=0.8637898686679175)]]\n",
      "Confidence 0.0008019782129252155\n",
      "Statistics [OrderedStatistic(items_base=frozenset({'hygiene articles'}), items_add=frozenset({'tropical fruit'}), confidence=0.058536585365853655, lift=0.8637898686679175)]\n",
      "Item [frozenset({'hygiene articles', 'whole milk'}), 0.0017376194613379669, [OrderedStatistic(items_base=frozenset({'hygiene articles'}), items_add=frozenset({'whole milk'}), confidence=0.12682926829268293, lift=0.8031089045549787)]]\n",
      "Confidence 0.0017376194613379669\n",
      "Statistics [OrderedStatistic(items_base=frozenset({'hygiene articles'}), items_add=frozenset({'whole milk'}), confidence=0.12682926829268293, lift=0.8031089045549787)]\n",
      "Item [frozenset({'yogurt', 'hygiene articles'}), 0.0009356412484127515, [OrderedStatistic(items_base=frozenset({'hygiene articles'}), items_add=frozenset({'yogurt'}), confidence=0.06829268292682927, lift=0.7952244471861062)]]\n",
      "Confidence 0.0009356412484127515\n",
      "Statistics [OrderedStatistic(items_base=frozenset({'hygiene articles'}), items_add=frozenset({'yogurt'}), confidence=0.06829268292682927, lift=0.7952244471861062)]\n",
      "Item [frozenset({'ice cream', 'other vegetables'}), 0.0012697988371315912, [OrderedStatistic(items_base=frozenset({'ice cream'}), items_add=frozenset({'other vegetables'}), confidence=0.08370044052863436, lift=0.685500652233145)]]\n",
      "Confidence 0.0012697988371315912\n",
      "Statistics [OrderedStatistic(items_base=frozenset({'ice cream'}), items_add=frozenset({'other vegetables'}), confidence=0.08370044052863436, lift=0.685500652233145)]\n",
      "Item [frozenset({'ice cream', 'rolls/buns'}), 0.0017376194613379669, [OrderedStatistic(items_base=frozenset({'ice cream'}), items_add=frozenset({'rolls/buns'}), confidence=0.11453744493392069, lift=1.0412052178288307)]]\n",
      "Confidence 0.0017376194613379669\n",
      "Statistics [OrderedStatistic(items_base=frozenset({'ice cream'}), items_add=frozenset({'rolls/buns'}), confidence=0.11453744493392069, lift=1.0412052178288307)]\n",
      "Item [frozenset({'ice cream', 'soda'}), 0.0012029673193878234, [OrderedStatistic(items_base=frozenset({'ice cream'}), items_add=frozenset({'soda'}), confidence=0.07929515418502203, lift=0.8165818252377735)]]\n",
      "Confidence 0.0012029673193878234\n",
      "Statistics [OrderedStatistic(items_base=frozenset({'ice cream'}), items_add=frozenset({'soda'}), confidence=0.07929515418502203, lift=0.8165818252377735)]\n",
      "Item [frozenset({'ice cream', 'whole milk'}), 0.0019381140145692708, [OrderedStatistic(items_base=frozenset({'ice cream'}), items_add=frozenset({'whole milk'}), confidence=0.1277533039647577, lift=0.808960087695586)]]\n",
      "Confidence 0.0019381140145692708\n",
      "Statistics [OrderedStatistic(items_base=frozenset({'ice cream'}), items_add=frozenset({'whole milk'}), confidence=0.1277533039647577, lift=0.808960087695586)]\n",
      "Item [frozenset({'yogurt', 'ice cream'}), 0.0009356412484127515, [OrderedStatistic(items_base=frozenset({'ice cream'}), items_add=frozenset({'yogurt'}), confidence=0.06167400881057269, lift=0.7181542364456024)]]\n",
      "Confidence 0.0009356412484127515\n",
      "Statistics [OrderedStatistic(items_base=frozenset({'ice cream'}), items_add=frozenset({'yogurt'}), confidence=0.06167400881057269, lift=0.7181542364456024)]\n",
      "Item [frozenset({'rolls/buns', 'instant coffee'}), 0.00040098910646260775, [OrderedStatistic(items_base=frozenset({'instant coffee'}), items_add=frozenset({'rolls/buns'}), confidence=0.10169491525423728, lift=0.9244599130918302)]]\n",
      "Confidence 0.00040098910646260775\n",
      "Statistics [OrderedStatistic(items_base=frozenset({'instant coffee'}), items_add=frozenset({'rolls/buns'}), confidence=0.10169491525423728, lift=0.9244599130918302)]\n",
      "Item [frozenset({'soda', 'instant coffee'}), 0.00040098910646260775, [OrderedStatistic(items_base=frozenset({'instant coffee'}), items_add=frozenset({'soda'}), confidence=0.10169491525423728, lift=1.0472546572258448)]]\n",
      "Confidence 0.00040098910646260775\n",
      "Statistics [OrderedStatistic(items_base=frozenset({'instant coffee'}), items_add=frozenset({'soda'}), confidence=0.10169491525423728, lift=1.0472546572258448)]\n",
      "Item [frozenset({'whole milk', 'instant coffee'}), 0.00046782062420637575, [OrderedStatistic(items_base=frozenset({'instant coffee'}), items_add=frozenset({'whole milk'}), confidence=0.11864406779661017, lift=0.7512785384852637)]]\n",
      "Confidence 0.00046782062420637575\n",
      "Statistics [OrderedStatistic(items_base=frozenset({'instant coffee'}), items_add=frozenset({'whole milk'}), confidence=0.11864406779661017, lift=0.7512785384852637)]\n",
      "Item [frozenset({'yogurt', 'instant coffee'}), 0.00040098910646260775, [OrderedStatistic(items_base=frozenset({'instant coffee'}), items_add=frozenset({'yogurt'}), confidence=0.10169491525423728, lift=1.1841719976257996)]]\n",
      "Confidence 0.00040098910646260775\n",
      "Statistics [OrderedStatistic(items_base=frozenset({'instant coffee'}), items_add=frozenset({'yogurt'}), confidence=0.10169491525423728, lift=1.1841719976257996)]\n",
      "Item [frozenset({'jam', 'whole milk'}), 0.0003341575887188398, [OrderedStatistic(items_base=frozenset({'jam'}), items_add=frozenset({'whole milk'}), confidence=0.14705882352941177, lift=0.9312065918199698)]]\n",
      "Confidence 0.0003341575887188398\n",
      "Statistics [OrderedStatistic(items_base=frozenset({'jam'}), items_add=frozenset({'whole milk'}), confidence=0.14705882352941177, lift=0.9312065918199698)]\n",
      "Item [frozenset({'whole milk', 'light bulbs'}), 0.00046782062420637575, [OrderedStatistic(items_base=frozenset({'light bulbs'}), items_add=frozenset({'whole milk'}), confidence=0.2413793103448276, lift=1.5284632334700192)]]\n",
      "Confidence 0.00046782062420637575\n",
      "Statistics [OrderedStatistic(items_base=frozenset({'light bulbs'}), items_add=frozenset({'whole milk'}), confidence=0.2413793103448276, lift=1.5284632334700192)]\n",
      "Item [frozenset({'liquor', 'other vegetables'}), 0.0008019782129252155, [OrderedStatistic(items_base=frozenset({'liquor'}), items_add=frozenset({'other vegetables'}), confidence=0.11650485436893204, lift=0.954166467390438)]]\n",
      "Confidence 0.0008019782129252155\n",
      "Statistics [OrderedStatistic(items_base=frozenset({'liquor'}), items_add=frozenset({'other vegetables'}), confidence=0.11650485436893204, lift=0.954166467390438)]\n",
      "Item [frozenset({'pastry', 'liquor'}), 0.00040098910646260775, [OrderedStatistic(items_base=frozenset({'liquor'}), items_add=frozenset({'pastry'}), confidence=0.05825242718446602, lift=1.1261383306991797)]]\n",
      "Confidence 0.00040098910646260775\n",
      "Statistics [OrderedStatistic(items_base=frozenset({'liquor'}), items_add=frozenset({'pastry'}), confidence=0.05825242718446602, lift=1.1261383306991797)]\n",
      "Item [frozenset({'rolls/buns', 'liquor'}), 0.0006014836596939117, [OrderedStatistic(items_base=frozenset({'liquor'}), items_add=frozenset({'rolls/buns'}), confidence=0.08737864077669903, lift=0.7943174981420095)]]\n",
      "Confidence 0.0006014836596939117\n",
      "Statistics [OrderedStatistic(items_base=frozenset({'liquor'}), items_add=frozenset({'rolls/buns'}), confidence=0.08737864077669903, lift=0.7943174981420095)]\n",
      "Item [frozenset({'tropical fruit', 'liquor'}), 0.0006014836596939117, [OrderedStatistic(items_base=frozenset({'liquor'}), items_add=frozenset({'tropical fruit'}), confidence=0.08737864077669903, lift=1.2893950709484692)]]\n",
      "Confidence 0.0006014836596939117\n",
      "Statistics [OrderedStatistic(items_base=frozenset({'liquor'}), items_add=frozenset({'tropical fruit'}), confidence=0.08737864077669903, lift=1.2893950709484692)]\n",
      "Item [frozenset({'whole milk', 'liquor'}), 0.0006683151774376796, [OrderedStatistic(items_base=frozenset({'liquor'}), items_add=frozenset({'whole milk'}), confidence=0.09708737864077671, lift=0.6147771674151257)]]\n",
      "Confidence 0.0006683151774376796\n",
      "Statistics [OrderedStatistic(items_base=frozenset({'liquor'}), items_add=frozenset({'whole milk'}), confidence=0.09708737864077671, lift=0.6147771674151257)]\n",
      "Item [frozenset({'rolls/buns', 'liquor (appetizer)'}), 0.0006014836596939117, [OrderedStatistic(items_base=frozenset({'liquor (appetizer)'}), items_add=frozenset({'rolls/buns'}), confidence=0.13432835820895522, lift=1.2211149598302533)]]\n",
      "Confidence 0.0006014836596939117\n",
      "Statistics [OrderedStatistic(items_base=frozenset({'liquor (appetizer)'}), items_add=frozenset({'rolls/buns'}), confidence=0.13432835820895522, lift=1.2211149598302533)]\n",
      "Item [frozenset({'soda', 'liquor (appetizer)'}), 0.0006683151774376796, [OrderedStatistic(items_base=frozenset({'liquor (appetizer)'}), items_add=frozenset({'soda'}), confidence=0.1492537313432836, lift=1.5370155416996232)]]\n",
      "Confidence 0.0006683151774376796\n",
      "Statistics [OrderedStatistic(items_base=frozenset({'liquor (appetizer)'}), items_add=frozenset({'soda'}), confidence=0.1492537313432836, lift=1.5370155416996232)]\n",
      "Item [frozenset({'tropical fruit', 'liquor (appetizer)'}), 0.00040098910646260775, [OrderedStatistic(items_base=frozenset({'liquor (appetizer)'}), items_add=frozenset({'tropical fruit'}), confidence=0.08955223880597014, lift=1.3214695752009185)]]\n",
      "Confidence 0.00040098910646260775\n",
      "Statistics [OrderedStatistic(items_base=frozenset({'liquor (appetizer)'}), items_add=frozenset({'tropical fruit'}), confidence=0.08955223880597014, lift=1.3214695752009185)]\n",
      "Item [frozenset({'whole milk', 'liquor (appetizer)'}), 0.0006683151774376796, [OrderedStatistic(items_base=frozenset({'liquor (appetizer)'}), items_add=frozenset({'whole milk'}), confidence=0.1492537313432836, lift=0.945105197668029)]]\n",
      "Confidence 0.0006683151774376796\n",
      "Statistics [OrderedStatistic(items_base=frozenset({'liquor (appetizer)'}), items_add=frozenset({'whole milk'}), confidence=0.1492537313432836, lift=0.945105197668029)]\n",
      "Item [frozenset({'yogurt', 'liquor (appetizer)'}), 0.00040098910646260775, [OrderedStatistic(items_base=frozenset({'liquor (appetizer)'}), items_add=frozenset({'yogurt'}), confidence=0.08955223880597014, lift=1.0427783262674952)]]\n",
      "Confidence 0.00040098910646260775\n",
      "Statistics [OrderedStatistic(items_base=frozenset({'liquor (appetizer)'}), items_add=frozenset({'yogurt'}), confidence=0.08955223880597014, lift=1.0427783262674952)]\n",
      "Item [frozenset({'liver loaf', 'other vegetables'}), 0.00046782062420637575, [OrderedStatistic(items_base=frozenset({'liver loaf'}), items_add=frozenset({'other vegetables'}), confidence=0.14, lift=1.1465900383141763)]]\n",
      "Confidence 0.00046782062420637575\n",
      "Statistics [OrderedStatistic(items_base=frozenset({'liver loaf'}), items_add=frozenset({'other vegetables'}), confidence=0.14, lift=1.1465900383141763)]\n",
      "Item [frozenset({'liver loaf', 'rolls/buns'}), 0.00040098910646260775, [OrderedStatistic(items_base=frozenset({'liver loaf'}), items_add=frozenset({'rolls/buns'}), confidence=0.12, lift=1.0908626974483597)]]\n",
      "Confidence 0.00040098910646260775\n",
      "Statistics [OrderedStatistic(items_base=frozenset({'liver loaf'}), items_add=frozenset({'rolls/buns'}), confidence=0.12, lift=1.0908626974483597)]\n",
      "Item [frozenset({'liver loaf', 'whole milk'}), 0.00046782062420637575, [OrderedStatistic(items_base=frozenset({'liver loaf'}), items_add=frozenset({'whole milk'}), confidence=0.14, lift=0.8865086754126112)]]\n",
      "Confidence 0.00046782062420637575\n",
      "Statistics [OrderedStatistic(items_base=frozenset({'liver loaf'}), items_add=frozenset({'whole milk'}), confidence=0.14, lift=0.8865086754126112)]\n",
      "Item [frozenset({'long life bakery product', 'other vegetables'}), 0.0011361358016440553, [OrderedStatistic(items_base=frozenset({'long life bakery product'}), items_add=frozenset({'other vegetables'}), confidence=0.06343283582089553, lift=0.5195104118161247)]]\n",
      "Confidence 0.0011361358016440553\n",
      "Statistics [OrderedStatistic(items_base=frozenset({'long life bakery product'}), items_add=frozenset({'other vegetables'}), confidence=0.06343283582089553, lift=0.5195104118161247)]\n",
      "Item [frozenset({'long life bakery product', 'rolls/buns'}), 0.001670787943594199, [OrderedStatistic(items_base=frozenset({'long life bakery product'}), items_add=frozenset({'rolls/buns'}), confidence=0.09328358208955224, lift=0.8479964998821204)]]\n",
      "Confidence 0.001670787943594199\n",
      "Statistics [OrderedStatistic(items_base=frozenset({'long life bakery product'}), items_add=frozenset({'rolls/buns'}), confidence=0.09328358208955224, lift=0.8479964998821204)]\n",
      "Item [frozenset({'sausage', 'long life bakery product'}), 0.0010693042839002875, [OrderedStatistic(items_base=frozenset({'long life bakery product'}), items_add=frozenset({'sausage'}), confidence=0.05970149253731344, lift=0.9892729045800897)]]\n",
      "Confidence 0.0010693042839002875\n",
      "Statistics [OrderedStatistic(items_base=frozenset({'long life bakery product'}), items_add=frozenset({'sausage'}), confidence=0.05970149253731344, lift=0.9892729045800897)]\n",
      "Item [frozenset({'long life bakery product', 'soda'}), 0.0013366303548753592, [OrderedStatistic(items_base=frozenset({'long life bakery product'}), items_add=frozenset({'soda'}), confidence=0.0746268656716418, lift=0.7685077708498116)]]\n",
      "Confidence 0.0013366303548753592\n",
      "Statistics [OrderedStatistic(items_base=frozenset({'long life bakery product'}), items_add=frozenset({'soda'}), confidence=0.0746268656716418, lift=0.7685077708498116)]\n",
      "Item [frozenset({'long life bakery product', 'tropical fruit'}), 0.0010693042839002875, [OrderedStatistic(items_base=frozenset({'long life bakery product'}), items_add=frozenset({'tropical fruit'}), confidence=0.05970149253731344, lift=0.8809797168006125)]]\n",
      "Confidence 0.0010693042839002875\n",
      "Statistics [OrderedStatistic(items_base=frozenset({'long life bakery product'}), items_add=frozenset({'tropical fruit'}), confidence=0.05970149253731344, lift=0.8809797168006125)]\n",
      "Item [frozenset({'long life bakery product', 'whole milk'}), 0.0024059346387756467, [OrderedStatistic(items_base=frozenset({'long life bakery product'}), items_add=frozenset({'whole milk'}), confidence=0.13432835820895522, lift=0.850594677901226)]]\n",
      "Confidence 0.0024059346387756467\n",
      "Statistics [OrderedStatistic(items_base=frozenset({'long life bakery product'}), items_add=frozenset({'whole milk'}), confidence=0.13432835820895522, lift=0.850594677901226)]\n",
      "Item [frozenset({'yogurt', 'long life bakery product'}), 0.0012029673193878234, [OrderedStatistic(items_base=frozenset({'long life bakery product'}), items_add=frozenset({'yogurt'}), confidence=0.06716417910447761, lift=0.7820837447006214)]]\n",
      "Confidence 0.0012029673193878234\n",
      "Statistics [OrderedStatistic(items_base=frozenset({'long life bakery product'}), items_add=frozenset({'yogurt'}), confidence=0.06716417910447761, lift=0.7820837447006214)]\n",
      "Item [frozenset({'margarine', 'other vegetables'}), 0.003207912851700862, [OrderedStatistic(items_base=frozenset({'margarine'}), items_add=frozenset({'other vegetables'}), confidence=0.0995850622406639, lift=0.8155945737860174)]]\n",
      "Confidence 0.003207912851700862\n",
      "Statistics [OrderedStatistic(items_base=frozenset({'margarine'}), items_add=frozenset({'other vegetables'}), confidence=0.0995850622406639, lift=0.8155945737860174)]\n",
      "Item [frozenset({'margarine', 'rolls/buns'}), 0.003007418298469558, [OrderedStatistic(items_base=frozenset({'margarine'}), items_add=frozenset({'rolls/buns'}), confidence=0.0933609958506224, lift=0.8487002314172922)]]\n",
      "Confidence 0.003007418298469558\n",
      "Statistics [OrderedStatistic(items_base=frozenset({'margarine'}), items_add=frozenset({'rolls/buns'}), confidence=0.0933609958506224, lift=0.8487002314172922)]\n",
      "Item [frozenset({'margarine', 'root vegetables'}), 0.0019381140145692708, [OrderedStatistic(items_base=frozenset({'margarine'}), items_add=frozenset({'root vegetables'}), confidence=0.060165975103734434, lift=0.8648064221682789)]]\n",
      "Confidence 0.0019381140145692708\n",
      "Statistics [OrderedStatistic(items_base=frozenset({'margarine'}), items_add=frozenset({'root vegetables'}), confidence=0.060165975103734434, lift=0.8648064221682789)]\n",
      "Item [frozenset({'sausage', 'margarine'}), 0.001871282496825503, [OrderedStatistic(items_base=frozenset({'margarine'}), items_add=frozenset({'sausage'}), confidence=0.058091286307053944, lift=0.9625912702241951)]]\n",
      "Confidence 0.001871282496825503\n",
      "Statistics [OrderedStatistic(items_base=frozenset({'margarine'}), items_add=frozenset({'sausage'}), confidence=0.058091286307053944, lift=0.9625912702241951)]\n",
      "Item [frozenset({'soda', 'margarine'}), 0.0026064291920069507, [OrderedStatistic(items_base=frozenset({'margarine'}), items_add=frozenset({'soda'}), confidence=0.08091286307053942, lift=0.8332409980209783)]]\n",
      "Confidence 0.0026064291920069507\n",
      "Statistics [OrderedStatistic(items_base=frozenset({'margarine'}), items_add=frozenset({'soda'}), confidence=0.08091286307053942, lift=0.8332409980209783)]\n",
      "Item [frozenset({'margarine', 'whole milk'}), 0.0040767225823698456, [OrderedStatistic(items_base=frozenset({'margarine'}), items_add=frozenset({'whole milk'}), confidence=0.12655601659751037, lift=0.8013786188525382)]]\n",
      "Confidence 0.0040767225823698456\n",
      "Statistics [OrderedStatistic(items_base=frozenset({'margarine'}), items_add=frozenset({'whole milk'}), confidence=0.12655601659751037, lift=0.8013786188525382)]\n",
      "Item [frozenset({'yogurt', 'margarine'}), 0.002138608567800575, [OrderedStatistic(items_base=frozenset({'margarine'}), items_add=frozenset({'yogurt'}), confidence=0.06639004149377593, lift=0.7730694092384197)]]\n",
      "Confidence 0.002138608567800575\n",
      "Statistics [OrderedStatistic(items_base=frozenset({'margarine'}), items_add=frozenset({'yogurt'}), confidence=0.06639004149377593, lift=0.7730694092384197)]\n",
      "Item [frozenset({'mayonnaise', 'other vegetables'}), 0.0006014836596939117, [OrderedStatistic(items_base=frozenset({'mayonnaise'}), items_add=frozenset({'other vegetables'}), confidence=0.12000000000000001, lift=0.9827914614121511)]]\n",
      "Confidence 0.0006014836596939117\n",
      "Statistics [OrderedStatistic(items_base=frozenset({'mayonnaise'}), items_add=frozenset({'other vegetables'}), confidence=0.12000000000000001, lift=0.9827914614121511)]\n",
      "Item [frozenset({'mayonnaise', 'rolls/buns'}), 0.0005346521419501437, [OrderedStatistic(items_base=frozenset({'mayonnaise'}), items_add=frozenset({'rolls/buns'}), confidence=0.10666666666666667, lift=0.9696557310652086)]]\n",
      "Confidence 0.0005346521419501437\n",
      "Statistics [OrderedStatistic(items_base=frozenset({'mayonnaise'}), items_add=frozenset({'rolls/buns'}), confidence=0.10666666666666667, lift=0.9696557310652086)]\n",
      "Item [frozenset({'mayonnaise', 'root vegetables'}), 0.00040098910646260775, [OrderedStatistic(items_base=frozenset({'mayonnaise'}), items_add=frozenset({'root vegetables'}), confidence=0.08, lift=1.1498943323727184)]]\n",
      "Confidence 0.00040098910646260775\n",
      "Statistics [OrderedStatistic(items_base=frozenset({'mayonnaise'}), items_add=frozenset({'root vegetables'}), confidence=0.08, lift=1.1498943323727184)]\n",
      "Item [frozenset({'sausage', 'mayonnaise'}), 0.0003341575887188398, [OrderedStatistic(items_base=frozenset({'mayonnaise'}), items_add=frozenset({'sausage'}), confidence=0.06666666666666667, lift=1.1046880767811)]]\n",
      "Confidence 0.0003341575887188398\n",
      "Statistics [OrderedStatistic(items_base=frozenset({'mayonnaise'}), items_add=frozenset({'sausage'}), confidence=0.06666666666666667, lift=1.1046880767811)]\n",
      "Item [frozenset({'mayonnaise', 'soda'}), 0.00040098910646260775, [OrderedStatistic(items_base=frozenset({'mayonnaise'}), items_add=frozenset({'soda'}), confidence=0.08, lift=0.823840330350998)]]\n",
      "Confidence 0.00040098910646260775\n",
      "Statistics [OrderedStatistic(items_base=frozenset({'mayonnaise'}), items_add=frozenset({'soda'}), confidence=0.08, lift=0.823840330350998)]\n",
      "Item [frozenset({'mayonnaise', 'tropical fruit'}), 0.0006014836596939117, [OrderedStatistic(items_base=frozenset({'mayonnaise'}), items_add=frozenset({'tropical fruit'}), confidence=0.12000000000000001, lift=1.770769230769231)]]\n",
      "Confidence 0.0006014836596939117\n",
      "Statistics [OrderedStatistic(items_base=frozenset({'mayonnaise'}), items_add=frozenset({'tropical fruit'}), confidence=0.12000000000000001, lift=1.770769230769231)]\n",
      "Item [frozenset({'meat', 'other vegetables'}), 0.002138608567800575, [OrderedStatistic(items_base=frozenset({'meat'}), items_add=frozenset({'other vegetables'}), confidence=0.126984126984127, lift=1.0399909644573029)]]\n",
      "Confidence 0.002138608567800575\n",
      "Statistics [OrderedStatistic(items_base=frozenset({'meat'}), items_add=frozenset({'other vegetables'}), confidence=0.126984126984127, lift=1.0399909644573029)]\n",
      "Item [frozenset({'meat', 'pip fruit'}), 0.0009356412484127515, [OrderedStatistic(items_base=frozenset({'meat'}), items_add=frozenset({'pip fruit'}), confidence=0.05555555555555556, lift=1.1325310323947926)]]\n",
      "Confidence 0.0009356412484127515\n",
      "Statistics [OrderedStatistic(items_base=frozenset({'meat'}), items_add=frozenset({'pip fruit'}), confidence=0.05555555555555556, lift=1.1325310323947926)]\n",
      "Item [frozenset({'roll products ', 'meat'}), 0.0003341575887188398, [OrderedStatistic(items_base=frozenset({'roll products '}), items_add=frozenset({'meat'}), confidence=0.06097560975609757, lift=3.620547812620984)]]\n",
      "Confidence 0.0003341575887188398\n",
      "Statistics [OrderedStatistic(items_base=frozenset({'roll products '}), items_add=frozenset({'meat'}), confidence=0.06097560975609757, lift=3.620547812620984)]\n",
      "Item [frozenset({'meat', 'rolls/buns'}), 0.0013366303548753592, [OrderedStatistic(items_base=frozenset({'meat'}), items_add=frozenset({'rolls/buns'}), confidence=0.07936507936507937, lift=0.721470037994947)]]\n",
      "Confidence 0.0013366303548753592\n",
      "Statistics [OrderedStatistic(items_base=frozenset({'meat'}), items_add=frozenset({'rolls/buns'}), confidence=0.07936507936507937, lift=0.721470037994947)]\n",
      "Item [frozenset({'meat', 'root vegetables'}), 0.0013366303548753592, [OrderedStatistic(items_base=frozenset({'meat'}), items_add=frozenset({'root vegetables'}), confidence=0.07936507936507937, lift=1.140768186877697)]]\n",
      "Confidence 0.0013366303548753592\n",
      "Statistics [OrderedStatistic(items_base=frozenset({'meat'}), items_add=frozenset({'root vegetables'}), confidence=0.07936507936507937, lift=1.140768186877697)]\n",
      "Item [frozenset({'soda', 'meat'}), 0.0010024727661565194, [OrderedStatistic(items_base=frozenset({'meat'}), items_add=frozenset({'soda'}), confidence=0.05952380952380953, lift=0.612976436273064)]]\n",
      "Confidence 0.0010024727661565194\n",
      "Statistics [OrderedStatistic(items_base=frozenset({'meat'}), items_add=frozenset({'soda'}), confidence=0.05952380952380953, lift=0.612976436273064)]\n",
      "Item [frozenset({'meat', 'tropical fruit'}), 0.0008688097306689834, [OrderedStatistic(items_base=frozenset({'meat'}), items_add=frozenset({'tropical fruit'}), confidence=0.05158730158730159, lift=0.7612433862433864)]]\n",
      "Confidence 0.0008688097306689834\n",
      "Statistics [OrderedStatistic(items_base=frozenset({'meat'}), items_add=frozenset({'tropical fruit'}), confidence=0.05158730158730159, lift=0.7612433862433864)]\n",
      "Item [frozenset({'meat', 'whole milk'}), 0.002205440085544343, [OrderedStatistic(items_base=frozenset({'meat'}), items_add=frozenset({'whole milk'}), confidence=0.13095238095238096, lift=0.8292172984301636)]]\n",
      "Confidence 0.002205440085544343\n",
      "Statistics [OrderedStatistic(items_base=frozenset({'meat'}), items_add=frozenset({'whole milk'}), confidence=0.13095238095238096, lift=0.8292172984301636)]\n",
      "Item [frozenset({'yogurt', 'meat'}), 0.0009356412484127515, [OrderedStatistic(items_base=frozenset({'meat'}), items_add=frozenset({'yogurt'}), confidence=0.05555555555555556, lift=0.646908776480761)]]\n",
      "Confidence 0.0009356412484127515\n",
      "Statistics [OrderedStatistic(items_base=frozenset({'meat'}), items_add=frozenset({'yogurt'}), confidence=0.05555555555555556, lift=0.646908776480761)]\n",
      "Item [frozenset({'meat spreads', 'sausage'}), 0.0003341575887188398, [OrderedStatistic(items_base=frozenset({'meat spreads'}), items_add=frozenset({'sausage'}), confidence=0.14285714285714288, lift=2.3671887359595005)]]\n",
      "Confidence 0.0003341575887188398\n",
      "Statistics [OrderedStatistic(items_base=frozenset({'meat spreads'}), items_add=frozenset({'sausage'}), confidence=0.14285714285714288, lift=2.3671887359595005)]\n",
      "Item [frozenset({'misc. beverages', 'other vegetables'}), 0.0012029673193878234, [OrderedStatistic(items_base=frozenset({'misc. beverages'}), items_add=frozenset({'other vegetables'}), confidence=0.07627118644067797, lift=0.6246555898806045)]]\n",
      "Confidence 0.0012029673193878234\n",
      "Statistics [OrderedStatistic(items_base=frozenset({'misc. beverages'}), items_add=frozenset({'other vegetables'}), confidence=0.07627118644067797, lift=0.6246555898806045)]\n",
      "Item [frozenset({'rolls/buns', 'misc. beverages'}), 0.0013366303548753592, [OrderedStatistic(items_base=frozenset({'misc. beverages'}), items_add=frozenset({'rolls/buns'}), confidence=0.0847457627118644, lift=0.7703832609098585)]]\n",
      "Confidence 0.0013366303548753592\n",
      "Statistics [OrderedStatistic(items_base=frozenset({'misc. beverages'}), items_add=frozenset({'rolls/buns'}), confidence=0.0847457627118644, lift=0.7703832609098585)]\n",
      "Item [frozenset({'misc. beverages', 'root vegetables'}), 0.0010024727661565194, [OrderedStatistic(items_base=frozenset({'misc. beverages'}), items_add=frozenset({'root vegetables'}), confidence=0.0635593220338983, lift=0.9135813022029012)]]\n",
      "Confidence 0.0010024727661565194\n",
      "Statistics [OrderedStatistic(items_base=frozenset({'misc. beverages'}), items_add=frozenset({'root vegetables'}), confidence=0.0635593220338983, lift=0.9135813022029012)]\n",
      "Item [frozenset({'salt', 'misc. beverages'}), 0.0003341575887188398, [OrderedStatistic(items_base=frozenset({'salt'}), items_add=frozenset({'misc. beverages'}), confidence=0.05617977528089888, lift=3.5619405827461437)]]\n",
      "Confidence 0.0003341575887188398\n",
      "Statistics [OrderedStatistic(items_base=frozenset({'salt'}), items_add=frozenset({'misc. beverages'}), confidence=0.05617977528089888, lift=3.5619405827461437)]\n",
      "Item [frozenset({'sausage', 'misc. beverages'}), 0.0010693042839002875, [OrderedStatistic(items_base=frozenset({'misc. beverages'}), items_add=frozenset({'sausage'}), confidence=0.06779661016949153, lift=1.1234116035062034)]]\n",
      "Confidence 0.0010693042839002875\n",
      "Statistics [OrderedStatistic(items_base=frozenset({'misc. beverages'}), items_add=frozenset({'sausage'}), confidence=0.06779661016949153, lift=1.1234116035062034)]\n",
      "Item [frozenset({'soda', 'misc. beverages'}), 0.0008019782129252155, [OrderedStatistic(items_base=frozenset({'misc. beverages'}), items_add=frozenset({'soda'}), confidence=0.05084745762711864, lift=0.5236273286129224)]]\n",
      "Confidence 0.0008019782129252155\n",
      "Statistics [OrderedStatistic(items_base=frozenset({'misc. beverages'}), items_add=frozenset({'soda'}), confidence=0.05084745762711864, lift=0.5236273286129224)]\n",
      "Item [frozenset({'misc. beverages', 'spread cheese'}), 0.0003341575887188398, [OrderedStatistic(items_base=frozenset({'spread cheese'}), items_add=frozenset({'misc. beverages'}), confidence=0.05, lift=3.170127118644068)]]\n",
      "Confidence 0.0003341575887188398\n",
      "Statistics [OrderedStatistic(items_base=frozenset({'spread cheese'}), items_add=frozenset({'misc. beverages'}), confidence=0.05, lift=3.170127118644068)]\n",
      "Item [frozenset({'whole milk', 'misc. beverages'}), 0.001403461872619127, [OrderedStatistic(items_base=frozenset({'misc. beverages'}), items_add=frozenset({'whole milk'}), confidence=0.08898305084745761, lift=0.5634589038639477)]]\n",
      "Confidence 0.001403461872619127\n",
      "Statistics [OrderedStatistic(items_base=frozenset({'misc. beverages'}), items_add=frozenset({'whole milk'}), confidence=0.08898305084745761, lift=0.5634589038639477)]\n",
      "Item [frozenset({'yogurt', 'misc. beverages'}), 0.0012697988371315912, [OrderedStatistic(items_base=frozenset({'misc. beverages'}), items_add=frozenset({'yogurt'}), confidence=0.08050847457627118, lift=0.9374694981204247)]]\n",
      "Confidence 0.0012697988371315912\n",
      "Statistics [OrderedStatistic(items_base=frozenset({'misc. beverages'}), items_add=frozenset({'yogurt'}), confidence=0.08050847457627118, lift=0.9374694981204247)]\n",
      "Item [frozenset({'mustard', 'other vegetables'}), 0.00040098910646260775, [OrderedStatistic(items_base=frozenset({'mustard'}), items_add=frozenset({'other vegetables'}), confidence=0.06521739130434782, lift=0.5341257942457343)]]\n",
      "Confidence 0.00040098910646260775\n",
      "Statistics [OrderedStatistic(items_base=frozenset({'mustard'}), items_add=frozenset({'other vegetables'}), confidence=0.06521739130434782, lift=0.5341257942457343)]\n",
      "Item [frozenset({'mustard', 'rolls/buns'}), 0.0006014836596939117, [OrderedStatistic(items_base=frozenset({'mustard'}), items_add=frozenset({'rolls/buns'}), confidence=0.09782608695652174, lift=0.8892902424850759)]]\n",
      "Confidence 0.0006014836596939117\n",
      "Statistics [OrderedStatistic(items_base=frozenset({'mustard'}), items_add=frozenset({'rolls/buns'}), confidence=0.09782608695652174, lift=0.8892902424850759)]\n",
      "Item [frozenset({'mustard', 'root vegetables'}), 0.0003341575887188398, [OrderedStatistic(items_base=frozenset({'mustard'}), items_add=frozenset({'root vegetables'}), confidence=0.05434782608695652, lift=0.7811782149271185)]]\n",
      "Confidence 0.0003341575887188398\n",
      "Statistics [OrderedStatistic(items_base=frozenset({'mustard'}), items_add=frozenset({'root vegetables'}), confidence=0.05434782608695652, lift=0.7811782149271185)]\n",
      "Item [frozenset({'mustard', 'sausage'}), 0.0003341575887188398, [OrderedStatistic(items_base=frozenset({'mustard'}), items_add=frozenset({'sausage'}), confidence=0.05434782608695652, lift=0.9005609321585054)]]\n",
      "Confidence 0.0003341575887188398\n",
      "Statistics [OrderedStatistic(items_base=frozenset({'mustard'}), items_add=frozenset({'sausage'}), confidence=0.05434782608695652, lift=0.9005609321585054)]\n",
      "Item [frozenset({'mustard', 'soda'}), 0.00040098910646260775, [OrderedStatistic(items_base=frozenset({'mustard'}), items_add=frozenset({'soda'}), confidence=0.06521739130434782, lift=0.6716089649600527)]]\n",
      "Confidence 0.00040098910646260775\n",
      "Statistics [OrderedStatistic(items_base=frozenset({'mustard'}), items_add=frozenset({'soda'}), confidence=0.06521739130434782, lift=0.6716089649600527)]\n",
      "Item [frozenset({'mustard', 'tropical fruit'}), 0.0005346521419501437, [OrderedStatistic(items_base=frozenset({'mustard'}), items_add=frozenset({'tropical fruit'}), confidence=0.08695652173913045, lift=1.283166109253066)]]\n",
      "Confidence 0.0005346521419501437\n",
      "Statistics [OrderedStatistic(items_base=frozenset({'mustard'}), items_add=frozenset({'tropical fruit'}), confidence=0.08695652173913045, lift=1.283166109253066)]\n",
      "Item [frozenset({'mustard', 'white bread'}), 0.0003341575887188398, [OrderedStatistic(items_base=frozenset({'mustard'}), items_add=frozenset({'white bread'}), confidence=0.05434782608695652, lift=2.2651992249000847)]]\n",
      "Confidence 0.0003341575887188398\n",
      "Statistics [OrderedStatistic(items_base=frozenset({'mustard'}), items_add=frozenset({'white bread'}), confidence=0.05434782608695652, lift=2.2651992249000847)]\n",
      "Item [frozenset({'mustard', 'whole milk'}), 0.0009356412484127515, [OrderedStatistic(items_base=frozenset({'mustard'}), items_add=frozenset({'whole milk'}), confidence=0.15217391304347827, lift=0.9635963863180557)]]\n",
      "Confidence 0.0009356412484127515\n",
      "Statistics [OrderedStatistic(items_base=frozenset({'mustard'}), items_add=frozenset({'whole milk'}), confidence=0.15217391304347827, lift=0.9635963863180557)]\n",
      "Item [frozenset({'mustard', 'yogurt'}), 0.0006683151774376796, [OrderedStatistic(items_base=frozenset({'mustard'}), items_add=frozenset({'yogurt'}), confidence=0.10869565217391304, lift=1.26569108441888)]]\n",
      "Confidence 0.0006683151774376796\n",
      "Statistics [OrderedStatistic(items_base=frozenset({'mustard'}), items_add=frozenset({'yogurt'}), confidence=0.10869565217391304, lift=1.26569108441888)]\n",
      "Item [frozenset({'napkins', 'other vegetables'}), 0.002138608567800575, [OrderedStatistic(items_base=frozenset({'napkins'}), items_add=frozenset({'other vegetables'}), confidence=0.09667673716012086, lift=0.7917755983179466)]]\n",
      "Confidence 0.002138608567800575\n",
      "Statistics [OrderedStatistic(items_base=frozenset({'napkins'}), items_add=frozenset({'other vegetables'}), confidence=0.09667673716012086, lift=0.7917755983179466)]\n",
      "Item [frozenset({'napkins', 'pastry'}), 0.0017376194613379669, [OrderedStatistic(items_base=frozenset({'napkins'}), items_add=frozenset({'pastry'}), confidence=0.07854984894259819, lift=1.5185289272972826)]]\n",
      "Confidence 0.0017376194613379669\n",
      "Statistics [OrderedStatistic(items_base=frozenset({'napkins'}), items_add=frozenset({'pastry'}), confidence=0.07854984894259819, lift=1.5185289272972826)]\n",
      "Item [frozenset({'napkins', 'rolls/buns'}), 0.0017376194613379669, [OrderedStatistic(items_base=frozenset({'napkins'}), items_add=frozenset({'rolls/buns'}), confidence=0.07854984894259819, lift=0.714059167514032)]]\n",
      "Confidence 0.0017376194613379669\n",
      "Statistics [OrderedStatistic(items_base=frozenset({'napkins'}), items_add=frozenset({'rolls/buns'}), confidence=0.07854984894259819, lift=0.714059167514032)]\n",
      "Item [frozenset({'napkins', 'soda'}), 0.0015371249081066632, [OrderedStatistic(items_base=frozenset({'napkins'}), items_add=frozenset({'soda'}), confidence=0.06948640483383686, lift=0.7155712839151418)]]\n",
      "Confidence 0.0015371249081066632\n",
      "Statistics [OrderedStatistic(items_base=frozenset({'napkins'}), items_add=frozenset({'soda'}), confidence=0.06948640483383686, lift=0.7155712839151418)]\n",
      "Item [frozenset({'napkins', 'tropical fruit'}), 0.0012697988371315912, [OrderedStatistic(items_base=frozenset({'napkins'}), items_add=frozenset({'tropical fruit'}), confidence=0.05740181268882175, lift=0.8470446974978698)]]\n",
      "Confidence 0.0012697988371315912\n",
      "Statistics [OrderedStatistic(items_base=frozenset({'napkins'}), items_add=frozenset({'tropical fruit'}), confidence=0.05740181268882175, lift=0.8470446974978698)]\n",
      "Item [frozenset({'napkins', 'whole milk'}), 0.0024059346387756467, [OrderedStatistic(items_base=frozenset({'napkins'}), items_add=frozenset({'whole milk'}), confidence=0.10876132930513596, lift=0.6886990141315064)]]\n",
      "Confidence 0.0024059346387756467\n",
      "Statistics [OrderedStatistic(items_base=frozenset({'napkins'}), items_add=frozenset({'whole milk'}), confidence=0.10876132930513596, lift=0.6886990141315064)]\n",
      "Item [frozenset({'napkins', 'yogurt'}), 0.0017376194613379669, [OrderedStatistic(items_base=frozenset({'napkins'}), items_add=frozenset({'yogurt'}), confidence=0.07854984894259819, lift=0.914662560099686)]]\n",
      "Confidence 0.0017376194613379669\n",
      "Statistics [OrderedStatistic(items_base=frozenset({'napkins'}), items_add=frozenset({'yogurt'}), confidence=0.07854984894259819, lift=0.914662560099686)]\n",
      "Item [frozenset({'newspapers', 'other vegetables'}), 0.0036757334759072377, [OrderedStatistic(items_base=frozenset({'newspapers'}), items_add=frozenset({'other vegetables'}), confidence=0.09450171821305842, lift=0.7739623479047582)]]\n",
      "Confidence 0.0036757334759072377\n",
      "Statistics [OrderedStatistic(items_base=frozenset({'newspapers'}), items_add=frozenset({'other vegetables'}), confidence=0.09450171821305842, lift=0.7739623479047582)]\n",
      "Item [frozenset({'newspapers', 'pastry'}), 0.002004945532313039, [OrderedStatistic(items_base=frozenset({'newspapers'}), items_add=frozenset({'pastry'}), confidence=0.05154639175257732, lift=0.9964969764777964)]]\n",
      "Confidence 0.002004945532313039\n",
      "Statistics [OrderedStatistic(items_base=frozenset({'newspapers'}), items_add=frozenset({'pastry'}), confidence=0.05154639175257732, lift=0.9964969764777964)]\n",
      "Item [frozenset({'newspapers', 'rolls/buns'}), 0.003007418298469558, [OrderedStatistic(items_base=frozenset({'newspapers'}), items_add=frozenset({'rolls/buns'}), confidence=0.07731958762886597, lift=0.7028754493868296)]]\n",
      "Confidence 0.003007418298469558\n",
      "Statistics [OrderedStatistic(items_base=frozenset({'newspapers'}), items_add=frozenset({'rolls/buns'}), confidence=0.07731958762886597, lift=0.7028754493868296)]\n",
      "Item [frozenset({'newspapers', 'root vegetables'}), 0.0025395976742631824, [OrderedStatistic(items_base=frozenset({'newspapers'}), items_add=frozenset({'root vegetables'}), confidence=0.06529209621993126, lift=0.9384876424004144)]]\n",
      "Confidence 0.0025395976742631824\n",
      "Statistics [OrderedStatistic(items_base=frozenset({'newspapers'}), items_add=frozenset({'root vegetables'}), confidence=0.06529209621993126, lift=0.9384876424004144)]\n",
      "Item [frozenset({'newspapers', 'soda'}), 0.0023391031210318785, [OrderedStatistic(items_base=frozenset({'newspapers'}), items_add=frozenset({'soda'}), confidence=0.060137457044673534, lift=0.61929578097691)]]\n",
      "Confidence 0.0023391031210318785\n",
      "Statistics [OrderedStatistic(items_base=frozenset({'newspapers'}), items_add=frozenset({'soda'}), confidence=0.060137457044673534, lift=0.61929578097691)]\n",
      "Item [frozenset({'newspapers', 'white wine'}), 0.0006014836596939117, [OrderedStatistic(items_base=frozenset({'white wine'}), items_add=frozenset({'newspapers'}), confidence=0.051428571428571435, lift=1.3222091310751105)]]\n",
      "Confidence 0.0006014836596939117\n",
      "Statistics [OrderedStatistic(items_base=frozenset({'white wine'}), items_add=frozenset({'newspapers'}), confidence=0.051428571428571435, lift=1.3222091310751105)]\n",
      "Item [frozenset({'newspapers', 'whole milk'}), 0.005613847490476508, [OrderedStatistic(items_base=frozenset({'newspapers'}), items_add=frozenset({'whole milk'}), confidence=0.14432989690721648, lift=0.9139264694975372)]]\n",
      "Confidence 0.005613847490476508\n",
      "Statistics [OrderedStatistic(items_base=frozenset({'newspapers'}), items_add=frozenset({'whole milk'}), confidence=0.14432989690721648, lift=0.9139264694975372)]\n",
      "Item [frozenset({'newspapers', 'yogurt'}), 0.0028737552629820224, [OrderedStatistic(items_base=frozenset({'newspapers'}), items_add=frozenset({'yogurt'}), confidence=0.07388316151202749, lift=0.8603219810929708)]]\n",
      "Confidence 0.0028737552629820224\n",
      "Statistics [OrderedStatistic(items_base=frozenset({'newspapers'}), items_add=frozenset({'yogurt'}), confidence=0.07388316151202749, lift=0.8603219810929708)]\n",
      "Item [frozenset({'nuts/prunes', 'rolls/buns'}), 0.0003341575887188398, [OrderedStatistic(items_base=frozenset({'nuts/prunes'}), items_add=frozenset({'rolls/buns'}), confidence=0.15151515151515152, lift=1.3773518907176259)]]\n",
      "Confidence 0.0003341575887188398\n",
      "Statistics [OrderedStatistic(items_base=frozenset({'nuts/prunes'}), items_add=frozenset({'rolls/buns'}), confidence=0.15151515151515152, lift=1.3773518907176259)]\n",
      "Item [frozenset({'nuts/prunes', 'whole milk'}), 0.00040098910646260775, [OrderedStatistic(items_base=frozenset({'nuts/prunes'}), items_add=frozenset({'whole milk'}), confidence=0.1818181818181818, lift=1.151309968068326)]]\n",
      "Confidence 0.00040098910646260775\n",
      "Statistics [OrderedStatistic(items_base=frozenset({'nuts/prunes'}), items_add=frozenset({'whole milk'}), confidence=0.1818181818181818, lift=1.151309968068326)]\n",
      "Item [frozenset({'other vegetables', 'oil'}), 0.001804450979081735, [OrderedStatistic(items_base=frozenset({'oil'}), items_add=frozenset({'other vegetables'}), confidence=0.12107623318385649, lift=0.9916057346086725)]]\n",
      "Confidence 0.001804450979081735\n",
      "Statistics [OrderedStatistic(items_base=frozenset({'oil'}), items_add=frozenset({'other vegetables'}), confidence=0.12107623318385649, lift=0.9916057346086725)]\n",
      "Item [frozenset({'pork', 'oil'}), 0.0008688097306689834, [OrderedStatistic(items_base=frozenset({'oil'}), items_add=frozenset({'pork'}), confidence=0.05829596412556053, lift=1.5716802003797519)]]\n",
      "Confidence 0.0008688097306689834\n",
      "Statistics [OrderedStatistic(items_base=frozenset({'oil'}), items_add=frozenset({'pork'}), confidence=0.05829596412556053, lift=1.5716802003797519)]\n",
      "Item [frozenset({'rolls/buns', 'oil'}), 0.0013366303548753592, [OrderedStatistic(items_base=frozenset({'oil'}), items_add=frozenset({'rolls/buns'}), confidence=0.08968609865470852, lift=0.8152934958507919)]]\n",
      "Confidence 0.0013366303548753592\n",
      "Statistics [OrderedStatistic(items_base=frozenset({'oil'}), items_add=frozenset({'rolls/buns'}), confidence=0.08968609865470852, lift=0.8152934958507919)]\n",
      "Item [frozenset({'soda', 'oil'}), 0.001804450979081735, [OrderedStatistic(items_base=frozenset({'oil'}), items_add=frozenset({'soda'}), confidence=0.12107623318385649, lift=1.246843549298035)]]\n",
      "Confidence 0.001804450979081735\n",
      "Statistics [OrderedStatistic(items_base=frozenset({'oil'}), items_add=frozenset({'soda'}), confidence=0.12107623318385649, lift=1.246843549298035)]\n",
      "Item [frozenset({'whole milk', 'oil'}), 0.0019381140145692708, [OrderedStatistic(items_base=frozenset({'oil'}), items_add=frozenset({'whole milk'}), confidence=0.13004484304932734, lift=0.8234705825421436)]]\n",
      "Confidence 0.0019381140145692708\n",
      "Statistics [OrderedStatistic(items_base=frozenset({'oil'}), items_add=frozenset({'whole milk'}), confidence=0.13004484304932734, lift=0.8234705825421436)]\n",
      "Item [frozenset({'yogurt', 'oil'}), 0.0010693042839002875, [OrderedStatistic(items_base=frozenset({'oil'}), items_add=frozenset({'yogurt'}), confidence=0.07174887892376682, lift=0.8354696306119244)]]\n",
      "Confidence 0.0010693042839002875\n",
      "Statistics [OrderedStatistic(items_base=frozenset({'oil'}), items_add=frozenset({'yogurt'}), confidence=0.07174887892376682, lift=0.8354696306119244)]\n",
      "Item [frozenset({'onions', 'other vegetables'}), 0.0015371249081066632, [OrderedStatistic(items_base=frozenset({'onions'}), items_add=frozenset({'other vegetables'}), confidence=0.07590759075907591, lift=0.6216777671198975)]]\n",
      "Confidence 0.0015371249081066632\n",
      "Statistics [OrderedStatistic(items_base=frozenset({'onions'}), items_add=frozenset({'other vegetables'}), confidence=0.07590759075907591, lift=0.6216777671198975)]\n",
      "Item [frozenset({'onions', 'rolls/buns'}), 0.0017376194613379669, [OrderedStatistic(items_base=frozenset({'onions'}), items_add=frozenset({'rolls/buns'}), confidence=0.0858085808580858, lift=0.7800448331588931)]]\n",
      "Confidence 0.0017376194613379669\n",
      "Statistics [OrderedStatistic(items_base=frozenset({'onions'}), items_add=frozenset({'rolls/buns'}), confidence=0.0858085808580858, lift=0.7800448331588931)]\n",
      "Item [frozenset({'onions', 'root vegetables'}), 0.0013366303548753592, [OrderedStatistic(items_base=frozenset({'onions'}), items_add=frozenset({'root vegetables'}), confidence=0.06600660066006601, lift=0.9487576999774906)]]\n",
      "Confidence 0.0013366303548753592\n",
      "Statistics [OrderedStatistic(items_base=frozenset({'onions'}), items_add=frozenset({'root vegetables'}), confidence=0.06600660066006601, lift=0.9487576999774906)]\n",
      "Item [frozenset({'onions', 'soda'}), 0.0014702933903628951, [OrderedStatistic(items_base=frozenset({'onions'}), items_add=frozenset({'soda'}), confidence=0.07260726072607261, lift=0.7477098707806088)]]\n",
      "Confidence 0.0014702933903628951\n",
      "Statistics [OrderedStatistic(items_base=frozenset({'onions'}), items_add=frozenset({'soda'}), confidence=0.07260726072607261, lift=0.7477098707806088)]\n",
      "Item [frozenset({'onions', 'tropical fruit'}), 0.0012029673193878234, [OrderedStatistic(items_base=frozenset({'onions'}), items_add=frozenset({'tropical fruit'}), confidence=0.05940594059405941, lift=0.8766184310738767)]]\n",
      "Confidence 0.0012029673193878234\n",
      "Statistics [OrderedStatistic(items_base=frozenset({'onions'}), items_add=frozenset({'tropical fruit'}), confidence=0.05940594059405941, lift=0.8766184310738767)]\n",
      "Item [frozenset({'onions', 'whipped/sour cream'}), 0.0010693042839002875, [OrderedStatistic(items_base=frozenset({'onions'}), items_add=frozenset({'whipped/sour cream'}), confidence=0.05280528052805281, lift=1.2081428326318873)]]\n",
      "Confidence 0.0010693042839002875\n",
      "Statistics [OrderedStatistic(items_base=frozenset({'onions'}), items_add=frozenset({'whipped/sour cream'}), confidence=0.05280528052805281, lift=1.2081428326318873)]\n",
      "Item [frozenset({'onions', 'whole milk'}), 0.0029405867807257902, [OrderedStatistic(items_base=frozenset({'onions'}), items_add=frozenset({'whole milk'}), confidence=0.14521452145214522, lift=0.9195280933086962)]]\n",
      "Confidence 0.0029405867807257902\n",
      "Statistics [OrderedStatistic(items_base=frozenset({'onions'}), items_add=frozenset({'whole milk'}), confidence=0.14521452145214522, lift=0.9195280933086962)]\n",
      "Item [frozenset({'yogurt', 'onions'}), 0.0012697988371315912, [OrderedStatistic(items_base=frozenset({'onions'}), items_add=frozenset({'yogurt'}), confidence=0.0627062706270627, lift=0.730174262562443)]]\n",
      "Confidence 0.0012697988371315912\n",
      "Statistics [OrderedStatistic(items_base=frozenset({'onions'}), items_add=frozenset({'yogurt'}), confidence=0.0627062706270627, lift=0.730174262562443)]\n",
      "Item [frozenset({'packaged fruit/vegetables', 'other vegetables'}), 0.0006014836596939117, [OrderedStatistic(items_base=frozenset({'packaged fruit/vegetables'}), items_add=frozenset({'other vegetables'}), confidence=0.07086614173228348, lift=0.5803886583142626)]]\n",
      "Confidence 0.0006014836596939117\n",
      "Statistics [OrderedStatistic(items_base=frozenset({'packaged fruit/vegetables'}), items_add=frozenset({'other vegetables'}), confidence=0.07086614173228348, lift=0.5803886583142626)]\n",
      "Item [frozenset({'pastry', 'other vegetables'}), 0.0036757334759072377, [OrderedStatistic(items_base=frozenset({'pastry'}), items_add=frozenset({'other vegetables'}), confidence=0.0710594315245478, lift=0.5819716879593918)]]\n",
      "Confidence 0.0036757334759072377\n",
      "Statistics [OrderedStatistic(items_base=frozenset({'pastry'}), items_add=frozenset({'other vegetables'}), confidence=0.0710594315245478, lift=0.5819716879593918)]\n",
      "Item [frozenset({'pet care', 'other vegetables'}), 0.0003341575887188398, [OrderedStatistic(items_base=frozenset({'pet care'}), items_add=frozenset({'other vegetables'}), confidence=0.058823529411764705, lift=0.48176052030007405)]]\n",
      "Confidence 0.0003341575887188398\n",
      "Statistics [OrderedStatistic(items_base=frozenset({'pet care'}), items_add=frozenset({'other vegetables'}), confidence=0.058823529411764705, lift=0.48176052030007405)]\n",
      "Item [frozenset({'photo/film', 'other vegetables'}), 0.00046782062420637575, [OrderedStatistic(items_base=frozenset({'photo/film'}), items_add=frozenset({'other vegetables'}), confidence=0.08860759493670886, lift=0.7256898976672002)]]\n",
      "Confidence 0.00046782062420637575\n",
      "Statistics [OrderedStatistic(items_base=frozenset({'photo/film'}), items_add=frozenset({'other vegetables'}), confidence=0.08860759493670886, lift=0.7256898976672002)]\n",
      "Item [frozenset({'pickled vegetables', 'other vegetables'}), 0.0005346521419501437, [OrderedStatistic(items_base=frozenset({'pickled vegetables'}), items_add=frozenset({'other vegetables'}), confidence=0.05970149253731344, lift=0.48895097582694086)]]\n",
      "Confidence 0.0005346521419501437\n",
      "Statistics [OrderedStatistic(items_base=frozenset({'pickled vegetables'}), items_add=frozenset({'other vegetables'}), confidence=0.05970149253731344, lift=0.48895097582694086)]\n",
      "Item [frozenset({'pip fruit', 'other vegetables'}), 0.004945532313038829, [OrderedStatistic(items_base=frozenset({'pip fruit'}), items_add=frozenset({'other vegetables'}), confidence=0.10081743869209808, lift=0.8256876492336418)]]\n",
      "Confidence 0.004945532313038829\n",
      "Statistics [OrderedStatistic(items_base=frozenset({'pip fruit'}), items_add=frozenset({'other vegetables'}), confidence=0.10081743869209808, lift=0.8256876492336418)]\n",
      "Item [frozenset({'popcorn', 'other vegetables'}), 0.00040098910646260775, [OrderedStatistic(items_base=frozenset({'popcorn'}), items_add=frozenset({'other vegetables'}), confidence=0.125, lift=1.0237411056376573)]]\n",
      "Confidence 0.00040098910646260775\n",
      "Statistics [OrderedStatistic(items_base=frozenset({'popcorn'}), items_add=frozenset({'other vegetables'}), confidence=0.125, lift=1.0237411056376573)]\n",
      "Item [frozenset({'pork', 'other vegetables'}), 0.00394305954688231, [OrderedStatistic(items_base=frozenset({'pork'}), items_add=frozenset({'other vegetables'}), confidence=0.10630630630630632, lift=0.870641084434188)]]\n",
      "Confidence 0.00394305954688231\n",
      "Statistics [OrderedStatistic(items_base=frozenset({'pork'}), items_add=frozenset({'other vegetables'}), confidence=0.10630630630630632, lift=0.870641084434188)]\n",
      "Item [frozenset({'pot plants', 'other vegetables'}), 0.0010024727661565194, [OrderedStatistic(items_base=frozenset({'pot plants'}), items_add=frozenset({'other vegetables'}), confidence=0.1282051282051282, lift=1.0499908775770843)]]\n",
      "Confidence 0.0010024727661565194\n",
      "Statistics [OrderedStatistic(items_base=frozenset({'pot plants'}), items_add=frozenset({'other vegetables'}), confidence=0.1282051282051282, lift=1.0499908775770843)]\n",
      "Item [frozenset({'processed cheese', 'other vegetables'}), 0.0006683151774376796, [OrderedStatistic(items_base=frozenset({'processed cheese'}), items_add=frozenset({'other vegetables'}), confidence=0.06578947368421054, lift=0.5388111082303461)]]\n",
      "Confidence 0.0006683151774376796\n",
      "Statistics [OrderedStatistic(items_base=frozenset({'processed cheese'}), items_add=frozenset({'other vegetables'}), confidence=0.06578947368421054, lift=0.5388111082303461)]\n",
      "Item [frozenset({'red/blush wine', 'other vegetables'}), 0.0011361358016440553, [OrderedStatistic(items_base=frozenset({'red/blush wine'}), items_add=frozenset({'other vegetables'}), confidence=0.10828025477707005, lift=0.8868075819536394)]]\n",
      "Confidence 0.0011361358016440553\n",
      "Statistics [OrderedStatistic(items_base=frozenset({'red/blush wine'}), items_add=frozenset({'other vegetables'}), confidence=0.10828025477707005, lift=0.8868075819536394)]\n",
      "Item [frozenset({'roll products ', 'other vegetables'}), 0.00046782062420637575, [OrderedStatistic(items_base=frozenset({'roll products '}), items_add=frozenset({'other vegetables'}), confidence=0.08536585365853659, lift=0.6991402672647417)]]\n",
      "Confidence 0.00046782062420637575\n",
      "Statistics [OrderedStatistic(items_base=frozenset({'roll products '}), items_add=frozenset({'other vegetables'}), confidence=0.08536585365853659, lift=0.6991402672647417)]\n",
      "Item [frozenset({'rolls/buns', 'other vegetables'}), 0.010559379803515338, [OrderedStatistic(items_base=frozenset({'other vegetables'}), items_add=frozenset({'rolls/buns'}), confidence=0.08648056923918994, lift=0.7861535586427698), OrderedStatistic(items_base=frozenset({'rolls/buns'}), items_add=frozenset({'other vegetables'}), confidence=0.0959902794653706, lift=0.7861535586427697)]]\n",
      "Confidence 0.010559379803515338\n",
      "Statistics [OrderedStatistic(items_base=frozenset({'other vegetables'}), items_add=frozenset({'rolls/buns'}), confidence=0.08648056923918994, lift=0.7861535586427698), OrderedStatistic(items_base=frozenset({'rolls/buns'}), items_add=frozenset({'other vegetables'}), confidence=0.0959902794653706, lift=0.7861535586427697)]\n",
      "Item [frozenset({'root vegetables', 'other vegetables'}), 0.005279689901757669, [OrderedStatistic(items_base=frozenset({'root vegetables'}), items_add=frozenset({'other vegetables'}), confidence=0.07588856868395773, lift=0.6215219776781935)]]\n",
      "Confidence 0.005279689901757669\n",
      "Statistics [OrderedStatistic(items_base=frozenset({'root vegetables'}), items_add=frozenset({'other vegetables'}), confidence=0.07588856868395773, lift=0.6215219776781935)]\n",
      "Item [frozenset({'salt', 'other vegetables'}), 0.00040098910646260775, [OrderedStatistic(items_base=frozenset({'salt'}), items_add=frozenset({'other vegetables'}), confidence=0.06741573033707865, lift=0.5521300345012085)]]\n",
      "Confidence 0.00040098910646260775\n",
      "Statistics [OrderedStatistic(items_base=frozenset({'salt'}), items_add=frozenset({'other vegetables'}), confidence=0.06741573033707865, lift=0.5521300345012085)]\n",
      "Item [frozenset({'salty snack', 'other vegetables'}), 0.002205440085544343, [OrderedStatistic(items_base=frozenset({'salty snack'}), items_add=frozenset({'other vegetables'}), confidence=0.11743772241992884, lift=0.96180659034997)]]\n",
      "Confidence 0.002205440085544343\n",
      "Statistics [OrderedStatistic(items_base=frozenset({'salty snack'}), items_add=frozenset({'other vegetables'}), confidence=0.11743772241992884, lift=0.96180659034997)]\n",
      "Item [frozenset({'sausage', 'other vegetables'}), 0.006014836596939116, [OrderedStatistic(items_base=frozenset({'sausage'}), items_add=frozenset({'other vegetables'}), confidence=0.09966777408637872, lift=0.8162719779170688)]]\n",
      "Confidence 0.006014836596939116\n",
      "Statistics [OrderedStatistic(items_base=frozenset({'sausage'}), items_add=frozenset({'other vegetables'}), confidence=0.09966777408637872, lift=0.8162719779170688)]\n",
      "Item [frozenset({'seasonal products', 'other vegetables'}), 0.00046782062420637575, [OrderedStatistic(items_base=frozenset({'seasonal products'}), items_add=frozenset({'other vegetables'}), confidence=0.0660377358490566, lift=0.5408443576953661)]]\n",
      "Confidence 0.00046782062420637575\n",
      "Statistics [OrderedStatistic(items_base=frozenset({'seasonal products'}), items_add=frozenset({'other vegetables'}), confidence=0.0660377358490566, lift=0.5408443576953661)]\n",
      "Item [frozenset({'semi-finished bread', 'other vegetables'}), 0.0010024727661565194, [OrderedStatistic(items_base=frozenset({'semi-finished bread'}), items_add=frozenset({'other vegetables'}), confidence=0.1056338028169014, lift=0.8651333287078794)]]\n",
      "Confidence 0.0010024727661565194\n",
      "Statistics [OrderedStatistic(items_base=frozenset({'semi-finished bread'}), items_add=frozenset({'other vegetables'}), confidence=0.1056338028169014, lift=0.8651333287078794)]\n",
      "Item [frozenset({'shopping bags', 'other vegetables'}), 0.004945532313038829, [OrderedStatistic(items_base=frozenset({'shopping bags'}), items_add=frozenset({'other vegetables'}), confidence=0.10393258426966293, lift=0.8512004698560297)]]\n",
      "Confidence 0.004945532313038829\n",
      "Statistics [OrderedStatistic(items_base=frozenset({'shopping bags'}), items_add=frozenset({'other vegetables'}), confidence=0.10393258426966293, lift=0.8512004698560297)]\n",
      "Item [frozenset({'sliced cheese', 'other vegetables'}), 0.001403461872619127, [OrderedStatistic(items_base=frozenset({'sliced cheese'}), items_add=frozenset({'other vegetables'}), confidence=0.09999999999999999, lift=0.8189928845101259)]]\n",
      "Confidence 0.001403461872619127\n",
      "Statistics [OrderedStatistic(items_base=frozenset({'sliced cheese'}), items_add=frozenset({'other vegetables'}), confidence=0.09999999999999999, lift=0.8189928845101259)]\n",
      "Item [frozenset({'soda', 'other vegetables'}), 0.009690570072846355, [OrderedStatistic(items_base=frozenset({'other vegetables'}), items_add=frozenset({'soda'}), confidence=0.07936507936507937, lift=0.8173019150307521), OrderedStatistic(items_base=frozenset({'soda'}), items_add=frozenset({'other vegetables'}), confidence=0.09979353062629044, lift=0.817301915030752)]]\n",
      "Confidence 0.009690570072846355\n",
      "Statistics [OrderedStatistic(items_base=frozenset({'other vegetables'}), items_add=frozenset({'soda'}), confidence=0.07936507936507937, lift=0.8173019150307521), OrderedStatistic(items_base=frozenset({'soda'}), items_add=frozenset({'other vegetables'}), confidence=0.09979353062629044, lift=0.817301915030752)]\n",
      "Item [frozenset({'soft cheese', 'other vegetables'}), 0.0012029673193878234, [OrderedStatistic(items_base=frozenset({'soft cheese'}), items_add=frozenset({'other vegetables'}), confidence=0.12000000000000001, lift=0.9827914614121511)]]\n",
      "Confidence 0.0012029673193878234\n",
      "Statistics [OrderedStatistic(items_base=frozenset({'soft cheese'}), items_add=frozenset({'other vegetables'}), confidence=0.12000000000000001, lift=0.9827914614121511)]\n",
      "Item [frozenset({'softener', 'other vegetables'}), 0.00040098910646260775, [OrderedStatistic(items_base=frozenset({'softener'}), items_add=frozenset({'other vegetables'}), confidence=0.14634146341463414, lift=1.1985261724538427)]]\n",
      "Confidence 0.00040098910646260775\n",
      "Statistics [OrderedStatistic(items_base=frozenset({'softener'}), items_add=frozenset({'other vegetables'}), confidence=0.14634146341463414, lift=1.1985261724538427)]\n",
      "Item [frozenset({'soups', 'other vegetables'}), 0.0003341575887188398, [OrderedStatistic(items_base=frozenset({'soups'}), items_add=frozenset({'other vegetables'}), confidence=0.10416666666666667, lift=0.8531175880313812)]]\n",
      "Confidence 0.0003341575887188398\n",
      "Statistics [OrderedStatistic(items_base=frozenset({'soups'}), items_add=frozenset({'other vegetables'}), confidence=0.10416666666666667, lift=0.8531175880313812)]\n",
      "Item [frozenset({'specialty bar', 'other vegetables'}), 0.001670787943594199, [OrderedStatistic(items_base=frozenset({'specialty bar'}), items_add=frozenset({'other vegetables'}), confidence=0.11961722488038277, lift=0.9796565604188109)]]\n",
      "Confidence 0.001670787943594199\n",
      "Statistics [OrderedStatistic(items_base=frozenset({'specialty bar'}), items_add=frozenset({'other vegetables'}), confidence=0.11961722488038277, lift=0.9796565604188109)]\n",
      "Item [frozenset({'specialty chocolate', 'other vegetables'}), 0.001670787943594199, [OrderedStatistic(items_base=frozenset({'specialty chocolate'}), items_add=frozenset({'other vegetables'}), confidence=0.10460251046025104, lift=0.8566871176884162)]]\n",
      "Confidence 0.001670787943594199\n",
      "Statistics [OrderedStatistic(items_base=frozenset({'specialty chocolate'}), items_add=frozenset({'other vegetables'}), confidence=0.10460251046025104, lift=0.8566871176884162)]\n",
      "Item [frozenset({'spread cheese', 'other vegetables'}), 0.0007351466951814476, [OrderedStatistic(items_base=frozenset({'spread cheese'}), items_add=frozenset({'other vegetables'}), confidence=0.11, lift=0.9008921729611384)]]\n",
      "Confidence 0.0007351466951814476\n",
      "Statistics [OrderedStatistic(items_base=frozenset({'spread cheese'}), items_add=frozenset({'other vegetables'}), confidence=0.11, lift=0.9008921729611384)]\n",
      "Item [frozenset({'sugar', 'other vegetables'}), 0.0012697988371315912, [OrderedStatistic(items_base=frozenset({'sugar'}), items_add=frozenset({'other vegetables'}), confidence=0.07169811320754717, lift=0.5872024454978261)]]\n",
      "Confidence 0.0012697988371315912\n",
      "Statistics [OrderedStatistic(items_base=frozenset({'sugar'}), items_add=frozenset({'other vegetables'}), confidence=0.07169811320754717, lift=0.5872024454978261)]\n",
      "Item [frozenset({'sweet spreads', 'other vegetables'}), 0.00046782062420637575, [OrderedStatistic(items_base=frozenset({'sweet spreads'}), items_add=frozenset({'other vegetables'}), confidence=0.10294117647058824, lift=0.8430809105251297)]]\n",
      "Confidence 0.00046782062420637575\n",
      "Statistics [OrderedStatistic(items_base=frozenset({'sweet spreads'}), items_add=frozenset({'other vegetables'}), confidence=0.10294117647058824, lift=0.8430809105251297)]\n",
      "Item [frozenset({'tropical fruit', 'other vegetables'}), 0.006282162667914188, [OrderedStatistic(items_base=frozenset({'other vegetables'}), items_add=frozenset({'tropical fruit'}), confidence=0.051450465243568694, lift=0.7592241730172765), OrderedStatistic(items_base=frozenset({'tropical fruit'}), items_add=frozenset({'other vegetables'}), confidence=0.09270216962524655, lift=0.7592241730172765)]]\n",
      "Confidence 0.006282162667914188\n",
      "Statistics [OrderedStatistic(items_base=frozenset({'other vegetables'}), items_add=frozenset({'tropical fruit'}), confidence=0.051450465243568694, lift=0.7592241730172765), OrderedStatistic(items_base=frozenset({'tropical fruit'}), items_add=frozenset({'other vegetables'}), confidence=0.09270216962524655, lift=0.7592241730172765)]\n",
      "Item [frozenset({'turkey', 'other vegetables'}), 0.00046782062420637575, [OrderedStatistic(items_base=frozenset({'turkey'}), items_add=frozenset({'other vegetables'}), confidence=0.08750000000000001, lift=0.7166187739463602)]]\n",
      "Confidence 0.00046782062420637575\n",
      "Statistics [OrderedStatistic(items_base=frozenset({'turkey'}), items_add=frozenset({'other vegetables'}), confidence=0.08750000000000001, lift=0.7166187739463602)]\n",
      "Item [frozenset({'vinegar', 'other vegetables'}), 0.00040098910646260775, [OrderedStatistic(items_base=frozenset({'vinegar'}), items_add=frozenset({'other vegetables'}), confidence=0.11764705882352941, lift=0.9635210406001481)]]\n",
      "Confidence 0.00040098910646260775\n",
      "Statistics [OrderedStatistic(items_base=frozenset({'vinegar'}), items_add=frozenset({'other vegetables'}), confidence=0.11764705882352941, lift=0.9635210406001481)]\n",
      "Item [frozenset({'waffles', 'other vegetables'}), 0.0017376194613379669, [OrderedStatistic(items_base=frozenset({'waffles'}), items_add=frozenset({'other vegetables'}), confidence=0.09386281588447654, lift=0.768729783294703)]]\n",
      "Confidence 0.0017376194613379669\n",
      "Statistics [OrderedStatistic(items_base=frozenset({'waffles'}), items_add=frozenset({'other vegetables'}), confidence=0.09386281588447654, lift=0.768729783294703)]\n",
      "Item [frozenset({'whipped/sour cream', 'other vegetables'}), 0.004143554100113613, [OrderedStatistic(items_base=frozenset({'whipped/sour cream'}), items_add=frozenset({'other vegetables'}), confidence=0.09480122324159021, lift=0.7764152727771836)]]\n",
      "Confidence 0.004143554100113613\n",
      "Statistics [OrderedStatistic(items_base=frozenset({'whipped/sour cream'}), items_add=frozenset({'other vegetables'}), confidence=0.09480122324159021, lift=0.7764152727771836)]\n",
      "Item [frozenset({'white bread', 'other vegetables'}), 0.0026064291920069507, [OrderedStatistic(items_base=frozenset({'white bread'}), items_add=frozenset({'other vegetables'}), confidence=0.10863509749303622, lift=0.8897137185486048)]]\n",
      "Confidence 0.0026064291920069507\n",
      "Statistics [OrderedStatistic(items_base=frozenset({'white bread'}), items_add=frozenset({'other vegetables'}), confidence=0.10863509749303622, lift=0.8897137185486048)]\n",
      "Item [frozenset({'white wine', 'other vegetables'}), 0.0006683151774376796, [OrderedStatistic(items_base=frozenset({'white wine'}), items_add=frozenset({'other vegetables'}), confidence=0.05714285714285714, lift=0.4679959340057862)]]\n",
      "Confidence 0.0006683151774376796\n",
      "Statistics [OrderedStatistic(items_base=frozenset({'white wine'}), items_add=frozenset({'other vegetables'}), confidence=0.05714285714285714, lift=0.4679959340057862)]\n",
      "Item [frozenset({'whole milk', 'other vegetables'}), 0.014836596939116486, [OrderedStatistic(items_base=frozenset({'other vegetables'}), items_add=frozenset({'whole milk'}), confidence=0.12151067323481116, lift=0.7694304712706219), OrderedStatistic(items_base=frozenset({'whole milk'}), items_add=frozenset({'other vegetables'}), confidence=0.09394837071519255, lift=0.7694304712706218)]]\n",
      "Confidence 0.014836596939116486\n",
      "Statistics [OrderedStatistic(items_base=frozenset({'other vegetables'}), items_add=frozenset({'whole milk'}), confidence=0.12151067323481116, lift=0.7694304712706219), OrderedStatistic(items_base=frozenset({'whole milk'}), items_add=frozenset({'other vegetables'}), confidence=0.09394837071519255, lift=0.7694304712706218)]\n",
      "Item [frozenset({'yogurt', 'other vegetables'}), 0.008086613646995923, [OrderedStatistic(items_base=frozenset({'other vegetables'}), items_add=frozenset({'yogurt'}), confidence=0.0662287903667214, lift=0.7711917433908578), OrderedStatistic(items_base=frozenset({'yogurt'}), items_add=frozenset({'other vegetables'}), confidence=0.09416342412451362, lift=0.7711917433908578)]]\n",
      "Confidence 0.008086613646995923\n",
      "Statistics [OrderedStatistic(items_base=frozenset({'other vegetables'}), items_add=frozenset({'yogurt'}), confidence=0.0662287903667214, lift=0.7711917433908578), OrderedStatistic(items_base=frozenset({'yogurt'}), items_add=frozenset({'other vegetables'}), confidence=0.09416342412451362, lift=0.7711917433908578)]\n",
      "Item [frozenset({'zwieback', 'other vegetables'}), 0.0006014836596939117, [OrderedStatistic(items_base=frozenset({'zwieback'}), items_add=frozenset({'other vegetables'}), confidence=0.15, lift=1.2284893267651888)]]\n",
      "Confidence 0.0006014836596939117\n",
      "Statistics [OrderedStatistic(items_base=frozenset({'zwieback'}), items_add=frozenset({'other vegetables'}), confidence=0.15, lift=1.2284893267651888)]\n",
      "Item [frozenset({'rolls/buns', 'packaged fruit/vegetables'}), 0.0012029673193878234, [OrderedStatistic(items_base=frozenset({'packaged fruit/vegetables'}), items_add=frozenset({'rolls/buns'}), confidence=0.14173228346456695, lift=1.2884205087972755)]]\n",
      "Confidence 0.0012029673193878234\n",
      "Statistics [OrderedStatistic(items_base=frozenset({'packaged fruit/vegetables'}), items_add=frozenset({'rolls/buns'}), confidence=0.14173228346456695, lift=1.2884205087972755)]\n",
      "Item [frozenset({'packaged fruit/vegetables', 'root vegetables'}), 0.0005346521419501437, [OrderedStatistic(items_base=frozenset({'packaged fruit/vegetables'}), items_add=frozenset({'root vegetables'}), confidence=0.06299212598425198, lift=0.905428608167495)]]\n",
      "Confidence 0.0005346521419501437\n",
      "Statistics [OrderedStatistic(items_base=frozenset({'packaged fruit/vegetables'}), items_add=frozenset({'root vegetables'}), confidence=0.06299212598425198, lift=0.905428608167495)]\n",
      "Item [frozenset({'sausage', 'packaged fruit/vegetables'}), 0.0005346521419501437, [OrderedStatistic(items_base=frozenset({'packaged fruit/vegetables'}), items_add=frozenset({'sausage'}), confidence=0.06299212598425198, lift=1.0437997575884412)]]\n",
      "Confidence 0.0005346521419501437\n",
      "Statistics [OrderedStatistic(items_base=frozenset({'packaged fruit/vegetables'}), items_add=frozenset({'sausage'}), confidence=0.06299212598425198, lift=1.0437997575884412)]\n",
      "Item [frozenset({'packaged fruit/vegetables', 'shopping bags'}), 0.0005346521419501437, [OrderedStatistic(items_base=frozenset({'packaged fruit/vegetables'}), items_add=frozenset({'shopping bags'}), confidence=0.06299212598425198, lift=1.3238078386269134)]]\n",
      "Confidence 0.0005346521419501437\n",
      "Statistics [OrderedStatistic(items_base=frozenset({'packaged fruit/vegetables'}), items_add=frozenset({'shopping bags'}), confidence=0.06299212598425198, lift=1.3238078386269134)]\n",
      "Item [frozenset({'whole milk', 'packaged fruit/vegetables'}), 0.0005346521419501437, [OrderedStatistic(items_base=frozenset({'packaged fruit/vegetables'}), items_add=frozenset({'whole milk'}), confidence=0.06299212598425198, lift=0.3988790440551682)]]\n",
      "Confidence 0.0005346521419501437\n",
      "Statistics [OrderedStatistic(items_base=frozenset({'packaged fruit/vegetables'}), items_add=frozenset({'whole milk'}), confidence=0.06299212598425198, lift=0.3988790440551682)]\n",
      "Item [frozenset({'yogurt', 'packaged fruit/vegetables'}), 0.00046782062420637575, [OrderedStatistic(items_base=frozenset({'packaged fruit/vegetables'}), items_add=frozenset({'yogurt'}), confidence=0.05511811023622048, lift=0.6418150065872117)]]\n",
      "Confidence 0.00046782062420637575\n",
      "Statistics [OrderedStatistic(items_base=frozenset({'packaged fruit/vegetables'}), items_add=frozenset({'yogurt'}), confidence=0.05511811023622048, lift=0.6418150065872117)]\n",
      "Item [frozenset({'pasta', 'pip fruit'}), 0.0006683151774376796, [OrderedStatistic(items_base=frozenset({'pasta'}), items_add=frozenset({'pip fruit'}), confidence=0.08264462809917356, lift=1.6847569076947329)]]\n",
      "Confidence 0.0006683151774376796\n",
      "Statistics [OrderedStatistic(items_base=frozenset({'pasta'}), items_add=frozenset({'pip fruit'}), confidence=0.08264462809917356, lift=1.6847569076947329)]\n",
      "Item [frozenset({'pasta', 'rolls/buns'}), 0.0007351466951814476, [OrderedStatistic(items_base=frozenset({'pasta'}), items_add=frozenset({'rolls/buns'}), confidence=0.09090909090909091, lift=0.8264111344305756)]]\n",
      "Confidence 0.0007351466951814476\n",
      "Statistics [OrderedStatistic(items_base=frozenset({'pasta'}), items_add=frozenset({'rolls/buns'}), confidence=0.09090909090909091, lift=0.8264111344305756)]\n",
      "Item [frozenset({'sausage', 'pasta'}), 0.0007351466951814476, [OrderedStatistic(items_base=frozenset({'pasta'}), items_add=frozenset({'sausage'}), confidence=0.09090909090909091, lift=1.5063928319742272)]]\n",
      "Confidence 0.0007351466951814476\n",
      "Statistics [OrderedStatistic(items_base=frozenset({'pasta'}), items_add=frozenset({'sausage'}), confidence=0.09090909090909091, lift=1.5063928319742272)]\n",
      "Item [frozenset({'pasta', 'shopping bags'}), 0.00046782062420637575, [OrderedStatistic(items_base=frozenset({'pasta'}), items_add=frozenset({'shopping bags'}), confidence=0.05785123966942149, lift=1.2157698022100474)]]\n",
      "Confidence 0.00046782062420637575\n",
      "Statistics [OrderedStatistic(items_base=frozenset({'pasta'}), items_add=frozenset({'shopping bags'}), confidence=0.05785123966942149, lift=1.2157698022100474)]\n",
      "Item [frozenset({'pasta', 'soda'}), 0.0008019782129252155, [OrderedStatistic(items_base=frozenset({'pasta'}), items_add=frozenset({'soda'}), confidence=0.09917355371900827, lift=1.0212896657243777)]]\n",
      "Confidence 0.0008019782129252155\n",
      "Statistics [OrderedStatistic(items_base=frozenset({'pasta'}), items_add=frozenset({'soda'}), confidence=0.09917355371900827, lift=1.0212896657243777)]\n",
      "Item [frozenset({'pasta', 'tropical fruit'}), 0.0006014836596939117, [OrderedStatistic(items_base=frozenset({'pasta'}), items_add=frozenset({'tropical fruit'}), confidence=0.0743801652892562, lift=1.0975842339478705)]]\n",
      "Confidence 0.0006014836596939117\n",
      "Statistics [OrderedStatistic(items_base=frozenset({'pasta'}), items_add=frozenset({'tropical fruit'}), confidence=0.0743801652892562, lift=1.0975842339478705)]\n",
      "Item [frozenset({'pasta', 'whole milk'}), 0.0010693042839002875, [OrderedStatistic(items_base=frozenset({'pasta'}), items_add=frozenset({'whole milk'}), confidence=0.1322314049586777, lift=0.8373163404133281)]]\n",
      "Confidence 0.0010693042839002875\n",
      "Statistics [OrderedStatistic(items_base=frozenset({'pasta'}), items_add=frozenset({'whole milk'}), confidence=0.1322314049586777, lift=0.8373163404133281)]\n",
      "Item [frozenset({'yogurt', 'pasta'}), 0.0009356412484127515, [OrderedStatistic(items_base=frozenset({'pasta'}), items_add=frozenset({'yogurt'}), confidence=0.11570247933884298, lift=1.3472810882078656)]]\n",
      "Confidence 0.0009356412484127515\n",
      "Statistics [OrderedStatistic(items_base=frozenset({'pasta'}), items_add=frozenset({'yogurt'}), confidence=0.11570247933884298, lift=1.3472810882078656)]\n",
      "Item [frozenset({'pastry', 'pet care'}), 0.00040098910646260775, [OrderedStatistic(items_base=frozenset({'pet care'}), items_add=frozenset({'pastry'}), confidence=0.07058823529411765, lift=1.3646146830825354)]]\n",
      "Confidence 0.00040098910646260775\n",
      "Statistics [OrderedStatistic(items_base=frozenset({'pet care'}), items_add=frozenset({'pastry'}), confidence=0.07058823529411765, lift=1.3646146830825354)]\n",
      "Item [frozenset({'pastry', 'pickled vegetables'}), 0.0005346521419501437, [OrderedStatistic(items_base=frozenset({'pickled vegetables'}), items_add=frozenset({'pastry'}), confidence=0.05970149253731344, lift=1.1541517220101047)]]\n",
      "Confidence 0.0005346521419501437\n",
      "Statistics [OrderedStatistic(items_base=frozenset({'pickled vegetables'}), items_add=frozenset({'pastry'}), confidence=0.05970149253731344, lift=1.1541517220101047)]\n",
      "Item [frozenset({'pastry', 'red/blush wine'}), 0.0006014836596939117, [OrderedStatistic(items_base=frozenset({'red/blush wine'}), items_add=frozenset({'pastry'}), confidence=0.05732484076433121, lift=1.1082061916753074)]]\n",
      "Confidence 0.0006014836596939117\n",
      "Statistics [OrderedStatistic(items_base=frozenset({'red/blush wine'}), items_add=frozenset({'pastry'}), confidence=0.05732484076433121, lift=1.1082061916753074)]\n",
      "Item [frozenset({'pastry', 'rolls/buns'}), 0.00394305954688231, [OrderedStatistic(items_base=frozenset({'pastry'}), items_add=frozenset({'rolls/buns'}), confidence=0.07622739018087855, lift=0.6929468039346816)]]\n",
      "Confidence 0.00394305954688231\n",
      "Statistics [OrderedStatistic(items_base=frozenset({'pastry'}), items_add=frozenset({'rolls/buns'}), confidence=0.07622739018087855, lift=0.6929468039346816)]\n",
      "Item [frozenset({'pastry', 'root vegetables'}), 0.0028737552629820224, [OrderedStatistic(items_base=frozenset({'pastry'}), items_add=frozenset({'root vegetables'}), confidence=0.05555555555555556, lift=0.7985377308143878)]]\n",
      "Confidence 0.0028737552629820224\n",
      "Statistics [OrderedStatistic(items_base=frozenset({'pastry'}), items_add=frozenset({'root vegetables'}), confidence=0.05555555555555556, lift=0.7985377308143878)]\n",
      "Item [frozenset({'sausage', 'pastry'}), 0.003207912851700862, [OrderedStatistic(items_base=frozenset({'pastry'}), items_add=frozenset({'sausage'}), confidence=0.06201550387596899, lift=1.0276168156103256), OrderedStatistic(items_base=frozenset({'sausage'}), items_add=frozenset({'pastry'}), confidence=0.05315614617940199, lift=1.0276168156103256)]]\n",
      "Confidence 0.003207912851700862\n",
      "Statistics [OrderedStatistic(items_base=frozenset({'pastry'}), items_add=frozenset({'sausage'}), confidence=0.06201550387596899, lift=1.0276168156103256), OrderedStatistic(items_base=frozenset({'sausage'}), items_add=frozenset({'pastry'}), confidence=0.05315614617940199, lift=1.0276168156103256)]\n",
      "Item [frozenset({'sliced cheese', 'pastry'}), 0.0009356412484127515, [OrderedStatistic(items_base=frozenset({'sliced cheese'}), items_add=frozenset({'pastry'}), confidence=0.06666666666666667, lift=1.2888027562446167)]]\n",
      "Confidence 0.0009356412484127515\n",
      "Statistics [OrderedStatistic(items_base=frozenset({'sliced cheese'}), items_add=frozenset({'pastry'}), confidence=0.06666666666666667, lift=1.2888027562446167)]\n",
      "Item [frozenset({'soda', 'pastry'}), 0.0040767225823698456, [OrderedStatistic(items_base=frozenset({'pastry'}), items_add=frozenset({'soda'}), confidence=0.07881136950904392, lift=0.8115998086468165)]]\n",
      "Confidence 0.0040767225823698456\n",
      "Statistics [OrderedStatistic(items_base=frozenset({'pastry'}), items_add=frozenset({'soda'}), confidence=0.07881136950904392, lift=0.8115998086468165)]\n",
      "Item [frozenset({'pastry', 'tropical fruit'}), 0.002806923745238254, [OrderedStatistic(items_base=frozenset({'pastry'}), items_add=frozenset({'tropical fruit'}), confidence=0.05426356589147287, lift=0.8007354402703241)]]\n",
      "Confidence 0.002806923745238254\n",
      "Statistics [OrderedStatistic(items_base=frozenset({'pastry'}), items_add=frozenset({'tropical fruit'}), confidence=0.05426356589147287, lift=0.8007354402703241)]\n",
      "Item [frozenset({'pastry', 'whole milk'}), 0.006482657221145492, [OrderedStatistic(items_base=frozenset({'pastry'}), items_add=frozenset({'whole milk'}), confidence=0.12532299741602068, lift=0.7935708888429613)]]\n",
      "Confidence 0.006482657221145492\n",
      "Statistics [OrderedStatistic(items_base=frozenset({'pastry'}), items_add=frozenset({'whole milk'}), confidence=0.12532299741602068, lift=0.7935708888429613)]\n",
      "Item [frozenset({'yogurt', 'pastry'}), 0.00360890195816347, [OrderedStatistic(items_base=frozenset({'pastry'}), items_add=frozenset({'yogurt'}), confidence=0.06976744186046512, lift=0.81239706813863)]]\n",
      "Confidence 0.00360890195816347\n",
      "Statistics [OrderedStatistic(items_base=frozenset({'pastry'}), items_add=frozenset({'yogurt'}), confidence=0.06976744186046512, lift=0.81239706813863)]\n",
      "Item [frozenset({'pet care', 'pip fruit'}), 0.0003341575887188398, [OrderedStatistic(items_base=frozenset({'pet care'}), items_add=frozenset({'pip fruit'}), confidence=0.058823529411764705, lift=1.199150504888604)]]\n",
      "Confidence 0.0003341575887188398\n",
      "Statistics [OrderedStatistic(items_base=frozenset({'pet care'}), items_add=frozenset({'pip fruit'}), confidence=0.058823529411764705, lift=1.199150504888604)]\n",
      "Item [frozenset({'pet care', 'root vegetables'}), 0.00040098910646260775, [OrderedStatistic(items_base=frozenset({'pet care'}), items_add=frozenset({'root vegetables'}), confidence=0.07058823529411765, lift=1.0146126462112222)]]\n",
      "Confidence 0.00040098910646260775\n",
      "Statistics [OrderedStatistic(items_base=frozenset({'pet care'}), items_add=frozenset({'root vegetables'}), confidence=0.07058823529411765, lift=1.0146126462112222)]\n",
      "Item [frozenset({'soda', 'pet care'}), 0.0005346521419501437, [OrderedStatistic(items_base=frozenset({'pet care'}), items_add=frozenset({'soda'}), confidence=0.09411764705882353, lift=0.9692239180599976)]]\n",
      "Confidence 0.0005346521419501437\n",
      "Statistics [OrderedStatistic(items_base=frozenset({'pet care'}), items_add=frozenset({'soda'}), confidence=0.09411764705882353, lift=0.9692239180599976)]\n",
      "Item [frozenset({'whole milk', 'pet care'}), 0.0007351466951814476, [OrderedStatistic(items_base=frozenset({'pet care'}), items_add=frozenset({'whole milk'}), confidence=0.12941176470588234, lift=0.8194618008015733)]]\n",
      "Confidence 0.0007351466951814476\n",
      "Statistics [OrderedStatistic(items_base=frozenset({'pet care'}), items_add=frozenset({'whole milk'}), confidence=0.12941176470588234, lift=0.8194618008015733)]\n",
      "Item [frozenset({'yogurt', 'pet care'}), 0.0005346521419501437, [OrderedStatistic(items_base=frozenset({'pet care'}), items_add=frozenset({'yogurt'}), confidence=0.09411764705882353, lift=1.0959395742732891)]]\n",
      "Confidence 0.0005346521419501437\n",
      "Statistics [OrderedStatistic(items_base=frozenset({'pet care'}), items_add=frozenset({'yogurt'}), confidence=0.09411764705882353, lift=1.0959395742732891)]\n",
      "Item [frozenset({'photo/film', 'soda'}), 0.0005346521419501437, [OrderedStatistic(items_base=frozenset({'photo/film'}), items_add=frozenset({'soda'}), confidence=0.10126582278481014, lift=1.0428358612037951)]]\n",
      "Confidence 0.0005346521419501437\n",
      "Statistics [OrderedStatistic(items_base=frozenset({'photo/film'}), items_add=frozenset({'soda'}), confidence=0.10126582278481014, lift=1.0428358612037951)]\n",
      "Item [frozenset({'photo/film', 'tropical fruit'}), 0.0003341575887188398, [OrderedStatistic(items_base=frozenset({'photo/film'}), items_add=frozenset({'tropical fruit'}), confidence=0.06329113924050633, lift=0.9339500162284974)]]\n",
      "Confidence 0.0003341575887188398\n",
      "Statistics [OrderedStatistic(items_base=frozenset({'photo/film'}), items_add=frozenset({'tropical fruit'}), confidence=0.06329113924050633, lift=0.9339500162284974)]\n",
      "Item [frozenset({'photo/film', 'whole milk'}), 0.0006014836596939117, [OrderedStatistic(items_base=frozenset({'photo/film'}), items_add=frozenset({'whole milk'}), confidence=0.11392405063291139, lift=0.7213904230301538)]]\n",
      "Confidence 0.0006014836596939117\n",
      "Statistics [OrderedStatistic(items_base=frozenset({'photo/film'}), items_add=frozenset({'whole milk'}), confidence=0.11392405063291139, lift=0.7213904230301538)]\n",
      "Item [frozenset({'rolls/buns', 'pickled vegetables'}), 0.0008019782129252155, [OrderedStatistic(items_base=frozenset({'pickled vegetables'}), items_add=frozenset({'rolls/buns'}), confidence=0.08955223880597014, lift=0.8140766398868355)]]\n",
      "Confidence 0.0008019782129252155\n",
      "Statistics [OrderedStatistic(items_base=frozenset({'pickled vegetables'}), items_add=frozenset({'rolls/buns'}), confidence=0.08955223880597014, lift=0.8140766398868355)]\n",
      "Item [frozenset({'pickled vegetables', 'root vegetables'}), 0.00046782062420637575, [OrderedStatistic(items_base=frozenset({'pickled vegetables'}), items_add=frozenset({'root vegetables'}), confidence=0.05223880597014926, lift=0.7508638364374095)]]\n",
      "Confidence 0.00046782062420637575\n",
      "Statistics [OrderedStatistic(items_base=frozenset({'pickled vegetables'}), items_add=frozenset({'root vegetables'}), confidence=0.05223880597014926, lift=0.7508638364374095)]\n",
      "Item [frozenset({'sausage', 'pickled vegetables'}), 0.00046782062420637575, [OrderedStatistic(items_base=frozenset({'pickled vegetables'}), items_add=frozenset({'sausage'}), confidence=0.05223880597014926, lift=0.8656137915075784)]]\n",
      "Confidence 0.00046782062420637575\n",
      "Statistics [OrderedStatistic(items_base=frozenset({'pickled vegetables'}), items_add=frozenset({'sausage'}), confidence=0.05223880597014926, lift=0.8656137915075784)]\n",
      "Item [frozenset({'soda', 'pickled vegetables'}), 0.0008019782129252155, [OrderedStatistic(items_base=frozenset({'pickled vegetables'}), items_add=frozenset({'soda'}), confidence=0.08955223880597014, lift=0.9222093250197738)]]\n",
      "Confidence 0.0008019782129252155\n",
      "Statistics [OrderedStatistic(items_base=frozenset({'pickled vegetables'}), items_add=frozenset({'soda'}), confidence=0.08955223880597014, lift=0.9222093250197738)]\n",
      "Item [frozenset({'whole milk', 'pickled vegetables'}), 0.0010024727661565194, [OrderedStatistic(items_base=frozenset({'pickled vegetables'}), items_add=frozenset({'whole milk'}), confidence=0.11194029850746269, lift=0.7088288982510217)]]\n",
      "Confidence 0.0010024727661565194\n",
      "Statistics [OrderedStatistic(items_base=frozenset({'pickled vegetables'}), items_add=frozenset({'whole milk'}), confidence=0.11194029850746269, lift=0.7088288982510217)]\n",
      "Item [frozenset({'yogurt', 'pickled vegetables'}), 0.00046782062420637575, [OrderedStatistic(items_base=frozenset({'pickled vegetables'}), items_add=frozenset({'yogurt'}), confidence=0.05223880597014926, lift=0.6082873569893723)]]\n",
      "Confidence 0.00046782062420637575\n",
      "Statistics [OrderedStatistic(items_base=frozenset({'pickled vegetables'}), items_add=frozenset({'yogurt'}), confidence=0.05223880597014926, lift=0.6082873569893723)]\n",
      "Item [frozenset({'pot plants', 'pip fruit'}), 0.00046782062420637575, [OrderedStatistic(items_base=frozenset({'pot plants'}), items_add=frozenset({'pip fruit'}), confidence=0.059829059829059825, lift=1.219648804117469)]]\n",
      "Confidence 0.00046782062420637575\n",
      "Statistics [OrderedStatistic(items_base=frozenset({'pot plants'}), items_add=frozenset({'pip fruit'}), confidence=0.059829059829059825, lift=1.219648804117469)]\n",
      "Item [frozenset({'rolls/buns', 'pip fruit'}), 0.004945532313038829, [OrderedStatistic(items_base=frozenset({'pip fruit'}), items_add=frozenset({'rolls/buns'}), confidence=0.10081743869209808, lift=0.9164831926791396)]]\n",
      "Confidence 0.004945532313038829\n",
      "Statistics [OrderedStatistic(items_base=frozenset({'pip fruit'}), items_add=frozenset({'rolls/buns'}), confidence=0.10081743869209808, lift=0.9164831926791396)]\n",
      "Item [frozenset({'pip fruit', 'root vegetables'}), 0.0026732607097507185, [OrderedStatistic(items_base=frozenset({'pip fruit'}), items_add=frozenset({'root vegetables'}), confidence=0.05449591280653951, lift=0.7833067659214703)]]\n",
      "Confidence 0.0026732607097507185\n",
      "Statistics [OrderedStatistic(items_base=frozenset({'pip fruit'}), items_add=frozenset({'root vegetables'}), confidence=0.05449591280653951, lift=0.7833067659214703)]\n",
      "Item [frozenset({'seasonal products', 'pip fruit'}), 0.00046782062420637575, [OrderedStatistic(items_base=frozenset({'seasonal products'}), items_add=frozenset({'pip fruit'}), confidence=0.0660377358490566, lift=1.3462161328466402)]]\n",
      "Confidence 0.00046782062420637575\n",
      "Statistics [OrderedStatistic(items_base=frozenset({'seasonal products'}), items_add=frozenset({'pip fruit'}), confidence=0.0660377358490566, lift=1.3462161328466402)]\n",
      "Item [frozenset({'soda', 'pip fruit'}), 0.00394305954688231, [OrderedStatistic(items_base=frozenset({'pip fruit'}), items_add=frozenset({'soda'}), confidence=0.08038147138964577, lift=0.8277687242968134)]]\n",
      "Confidence 0.00394305954688231\n",
      "Statistics [OrderedStatistic(items_base=frozenset({'pip fruit'}), items_add=frozenset({'soda'}), confidence=0.08038147138964577, lift=0.8277687242968134)]\n",
      "Item [frozenset({'soft cheese', 'pip fruit'}), 0.0006014836596939117, [OrderedStatistic(items_base=frozenset({'soft cheese'}), items_add=frozenset({'pip fruit'}), confidence=0.060000000000000005, lift=1.223133514986376)]]\n",
      "Confidence 0.0006014836596939117\n",
      "Statistics [OrderedStatistic(items_base=frozenset({'soft cheese'}), items_add=frozenset({'pip fruit'}), confidence=0.060000000000000005, lift=1.223133514986376)]\n",
      "Item [frozenset({'spread cheese', 'pip fruit'}), 0.0003341575887188398, [OrderedStatistic(items_base=frozenset({'spread cheese'}), items_add=frozenset({'pip fruit'}), confidence=0.05, lift=1.0192779291553133)]]\n",
      "Confidence 0.0003341575887188398\n",
      "Statistics [OrderedStatistic(items_base=frozenset({'spread cheese'}), items_add=frozenset({'pip fruit'}), confidence=0.05, lift=1.0192779291553133)]\n",
      "Item [frozenset({'pip fruit', 'sweet spreads'}), 0.0005346521419501437, [OrderedStatistic(items_base=frozenset({'sweet spreads'}), items_add=frozenset({'pip fruit'}), confidence=0.11764705882352942, lift=2.398301009777208)]]\n",
      "Confidence 0.0005346521419501437\n",
      "Statistics [OrderedStatistic(items_base=frozenset({'sweet spreads'}), items_add=frozenset({'pip fruit'}), confidence=0.11764705882352942, lift=2.398301009777208)]\n",
      "Item [frozenset({'pip fruit', 'white wine'}), 0.0008688097306689834, [OrderedStatistic(items_base=frozenset({'white wine'}), items_add=frozenset({'pip fruit'}), confidence=0.07428571428571429, lift=1.5143557804593226)]]\n",
      "Confidence 0.0008688097306689834\n",
      "Statistics [OrderedStatistic(items_base=frozenset({'white wine'}), items_add=frozenset({'pip fruit'}), confidence=0.07428571428571429, lift=1.5143557804593226)]\n",
      "Item [frozenset({'whole milk', 'pip fruit'}), 0.006616320256633028, [OrderedStatistic(items_base=frozenset({'pip fruit'}), items_add=frozenset({'whole milk'}), confidence=0.13487738419618528, lift=0.8540712229062719)]]\n",
      "Confidence 0.006616320256633028\n",
      "Statistics [OrderedStatistic(items_base=frozenset({'pip fruit'}), items_add=frozenset({'whole milk'}), confidence=0.13487738419618528, lift=0.8540712229062719)]\n",
      "Item [frozenset({'yogurt', 'pip fruit'}), 0.00360890195816347, [OrderedStatistic(items_base=frozenset({'pip fruit'}), items_add=frozenset({'yogurt'}), confidence=0.07356948228882833, lift=0.856669387928201)]]\n",
      "Confidence 0.00360890195816347\n",
      "Statistics [OrderedStatistic(items_base=frozenset({'pip fruit'}), items_add=frozenset({'yogurt'}), confidence=0.07356948228882833, lift=0.856669387928201)]\n",
      "Item [frozenset({'popcorn', 'pork'}), 0.0003341575887188398, [OrderedStatistic(items_base=frozenset({'popcorn'}), items_add=frozenset({'pork'}), confidence=0.10416666666666667, lift=2.808370870870871)]]\n",
      "Confidence 0.0003341575887188398\n",
      "Statistics [OrderedStatistic(items_base=frozenset({'popcorn'}), items_add=frozenset({'pork'}), confidence=0.10416666666666667, lift=2.808370870870871)]\n",
      "Item [frozenset({'rolls/buns', 'popcorn'}), 0.00046782062420637575, [OrderedStatistic(items_base=frozenset({'popcorn'}), items_add=frozenset({'rolls/buns'}), confidence=0.14583333333333334, lift=1.325701194815715)]]\n",
      "Confidence 0.00046782062420637575\n",
      "Statistics [OrderedStatistic(items_base=frozenset({'popcorn'}), items_add=frozenset({'rolls/buns'}), confidence=0.14583333333333334, lift=1.325701194815715)]\n",
      "Item [frozenset({'soda', 'popcorn'}), 0.0003341575887188398, [OrderedStatistic(items_base=frozenset({'popcorn'}), items_add=frozenset({'soda'}), confidence=0.10416666666666667, lift=1.072708763477862)]]\n",
      "Confidence 0.0003341575887188398\n",
      "Statistics [OrderedStatistic(items_base=frozenset({'popcorn'}), items_add=frozenset({'soda'}), confidence=0.10416666666666667, lift=1.072708763477862)]\n",
      "Item [frozenset({'whole milk', 'popcorn'}), 0.0005346521419501437, [OrderedStatistic(items_base=frozenset({'popcorn'}), items_add=frozenset({'whole milk'}), confidence=0.16666666666666669, lift=1.055367470729299)]]\n",
      "Confidence 0.0005346521419501437\n",
      "Statistics [OrderedStatistic(items_base=frozenset({'popcorn'}), items_add=frozenset({'whole milk'}), confidence=0.16666666666666669, lift=1.055367470729299)]\n",
      "Item [frozenset({'rolls/buns', 'pork'}), 0.003408407404932166, [OrderedStatistic(items_base=frozenset({'pork'}), items_add=frozenset({'rolls/buns'}), confidence=0.0918918918918919, lift=0.8353453088568521)]]\n",
      "Confidence 0.003408407404932166\n",
      "Statistics [OrderedStatistic(items_base=frozenset({'pork'}), items_add=frozenset({'rolls/buns'}), confidence=0.0918918918918919, lift=0.8353453088568521)]\n",
      "Item [frozenset({'soda', 'pork'}), 0.003007418298469558, [OrderedStatistic(items_base=frozenset({'pork'}), items_add=frozenset({'soda'}), confidence=0.08108108108108109, lift=0.8349733077881737)]]\n",
      "Confidence 0.003007418298469558\n",
      "Statistics [OrderedStatistic(items_base=frozenset({'pork'}), items_add=frozenset({'soda'}), confidence=0.08108108108108109, lift=0.8349733077881737)]\n",
      "Item [frozenset({'whole milk', 'pork'}), 0.005012363830782597, [OrderedStatistic(items_base=frozenset({'pork'}), items_add=frozenset({'whole milk'}), confidence=0.13513513513513514, lift=0.8557033546453776)]]\n",
      "Confidence 0.005012363830782597\n",
      "Statistics [OrderedStatistic(items_base=frozenset({'pork'}), items_add=frozenset({'whole milk'}), confidence=0.13513513513513514, lift=0.8557033546453776)]\n",
      "Item [frozenset({'yogurt', 'pork'}), 0.0030742498162133263, [OrderedStatistic(items_base=frozenset({'pork'}), items_add=frozenset({'yogurt'}), confidence=0.0828828828828829, lift=0.9651179584253515)]]\n",
      "Confidence 0.0030742498162133263\n",
      "Statistics [OrderedStatistic(items_base=frozenset({'pork'}), items_add=frozenset({'yogurt'}), confidence=0.0828828828828829, lift=0.9651179584253515)]\n",
      "Item [frozenset({'pot plants', 'rolls/buns'}), 0.0006683151774376796, [OrderedStatistic(items_base=frozenset({'pot plants'}), items_add=frozenset({'rolls/buns'}), confidence=0.08547008547008547, lift=0.7769677332253274)]]\n",
      "Confidence 0.0006683151774376796\n",
      "Statistics [OrderedStatistic(items_base=frozenset({'pot plants'}), items_add=frozenset({'rolls/buns'}), confidence=0.08547008547008547, lift=0.7769677332253274)]\n",
      "Item [frozenset({'pot plants', 'shopping bags'}), 0.00046782062420637575, [OrderedStatistic(items_base=frozenset({'pot plants'}), items_add=frozenset({'shopping bags'}), confidence=0.059829059829059825, lift=1.257334581772784)]]\n",
      "Confidence 0.00046782062420637575\n",
      "Statistics [OrderedStatistic(items_base=frozenset({'pot plants'}), items_add=frozenset({'shopping bags'}), confidence=0.059829059829059825, lift=1.257334581772784)]\n",
      "Item [frozenset({'pot plants', 'soda'}), 0.0006014836596939117, [OrderedStatistic(items_base=frozenset({'pot plants'}), items_add=frozenset({'soda'}), confidence=0.07692307692307693, lift=0.7921541637990366)]]\n",
      "Confidence 0.0006014836596939117\n",
      "Statistics [OrderedStatistic(items_base=frozenset({'pot plants'}), items_add=frozenset({'soda'}), confidence=0.07692307692307693, lift=0.7921541637990366)]\n",
      "Item [frozenset({'pot plants', 'tropical fruit'}), 0.0005346521419501437, [OrderedStatistic(items_base=frozenset({'pot plants'}), items_add=frozenset({'tropical fruit'}), confidence=0.06837606837606838, lift=1.0089853166776246)]]\n",
      "Confidence 0.0005346521419501437\n",
      "Statistics [OrderedStatistic(items_base=frozenset({'pot plants'}), items_add=frozenset({'tropical fruit'}), confidence=0.06837606837606838, lift=1.0089853166776246)]\n",
      "Item [frozenset({'pot plants', 'whipped/sour cream'}), 0.00040098910646260775, [OrderedStatistic(items_base=frozenset({'pot plants'}), items_add=frozenset({'whipped/sour cream'}), confidence=0.05128205128205127, lift=1.1732925586136593)]]\n",
      "Confidence 0.00040098910646260775\n",
      "Statistics [OrderedStatistic(items_base=frozenset({'pot plants'}), items_add=frozenset({'whipped/sour cream'}), confidence=0.05128205128205127, lift=1.1732925586136593)]\n",
      "Item [frozenset({'pot plants', 'whole milk'}), 0.0010024727661565194, [OrderedStatistic(items_base=frozenset({'pot plants'}), items_add=frozenset({'whole milk'}), confidence=0.1282051282051282, lift=0.8118211313302299)]]\n",
      "Confidence 0.0010024727661565194\n",
      "Statistics [OrderedStatistic(items_base=frozenset({'pot plants'}), items_add=frozenset({'whole milk'}), confidence=0.1282051282051282, lift=0.8118211313302299)]\n",
      "Item [frozenset({'yogurt', 'pot plants'}), 0.0008688097306689834, [OrderedStatistic(items_base=frozenset({'pot plants'}), items_add=frozenset({'yogurt'}), confidence=0.11111111111111109, lift=1.2938175529615217)]]\n",
      "Confidence 0.0008688097306689834\n",
      "Statistics [OrderedStatistic(items_base=frozenset({'pot plants'}), items_add=frozenset({'yogurt'}), confidence=0.11111111111111109, lift=1.2938175529615217)]\n",
      "Item [frozenset({'processed cheese', 'rolls/buns'}), 0.0014702933903628951, [OrderedStatistic(items_base=frozenset({'processed cheese'}), items_add=frozenset({'rolls/buns'}), confidence=0.14473684210526316, lift=1.315733516659206)]]\n",
      "Confidence 0.0014702933903628951\n",
      "Statistics [OrderedStatistic(items_base=frozenset({'processed cheese'}), items_add=frozenset({'rolls/buns'}), confidence=0.14473684210526316, lift=1.315733516659206)]\n",
      "Item [frozenset({'processed cheese', 'root vegetables'}), 0.0010693042839002875, [OrderedStatistic(items_base=frozenset({'processed cheese'}), items_add=frozenset({'root vegetables'}), confidence=0.10526315789473686, lift=1.5130188583851563)]]\n",
      "Confidence 0.0010693042839002875\n",
      "Statistics [OrderedStatistic(items_base=frozenset({'processed cheese'}), items_add=frozenset({'root vegetables'}), confidence=0.10526315789473686, lift=1.5130188583851563)]\n",
      "Item [frozenset({'sausage', 'processed cheese'}), 0.0005346521419501437, [OrderedStatistic(items_base=frozenset({'processed cheese'}), items_add=frozenset({'sausage'}), confidence=0.05263157894736843, lift=0.872122165879816)]]\n",
      "Confidence 0.0005346521419501437\n",
      "Statistics [OrderedStatistic(items_base=frozenset({'processed cheese'}), items_add=frozenset({'sausage'}), confidence=0.05263157894736843, lift=0.872122165879816)]\n",
      "Item [frozenset({'processed cheese', 'shopping bags'}), 0.0006014836596939117, [OrderedStatistic(items_base=frozenset({'processed cheese'}), items_add=frozenset({'shopping bags'}), confidence=0.05921052631578948, lift=1.2443358219988174)]]\n",
      "Confidence 0.0006014836596939117\n",
      "Statistics [OrderedStatistic(items_base=frozenset({'processed cheese'}), items_add=frozenset({'shopping bags'}), confidence=0.05921052631578948, lift=1.2443358219988174)]\n",
      "Item [frozenset({'processed cheese', 'soda'}), 0.0006014836596939117, [OrderedStatistic(items_base=frozenset({'processed cheese'}), items_add=frozenset({'soda'}), confidence=0.05921052631578948, lift=0.6097502445032058)]]\n",
      "Confidence 0.0006014836596939117\n",
      "Statistics [OrderedStatistic(items_base=frozenset({'processed cheese'}), items_add=frozenset({'soda'}), confidence=0.05921052631578948, lift=0.6097502445032058)]\n",
      "Item [frozenset({'processed cheese', 'whole milk'}), 0.0014702933903628951, [OrderedStatistic(items_base=frozenset({'processed cheese'}), items_add=frozenset({'whole milk'}), confidence=0.14473684210526316, lift=0.916503329843865)]]\n",
      "Confidence 0.0014702933903628951\n",
      "Statistics [OrderedStatistic(items_base=frozenset({'processed cheese'}), items_add=frozenset({'whole milk'}), confidence=0.14473684210526316, lift=0.916503329843865)]\n",
      "Item [frozenset({'yogurt', 'processed cheese'}), 0.0006683151774376796, [OrderedStatistic(items_base=frozenset({'processed cheese'}), items_add=frozenset({'yogurt'}), confidence=0.06578947368421054, lift=0.7660761826745854)]]\n",
      "Confidence 0.0006683151774376796\n",
      "Statistics [OrderedStatistic(items_base=frozenset({'processed cheese'}), items_add=frozenset({'yogurt'}), confidence=0.06578947368421054, lift=0.7660761826745854)]\n",
      "Item [frozenset({'rolls/buns', 'red/blush wine'}), 0.0013366303548753592, [OrderedStatistic(items_base=frozenset({'red/blush wine'}), items_add=frozenset({'rolls/buns'}), confidence=0.12738853503184713, lift=1.158028341240297)]]\n",
      "Confidence 0.0013366303548753592\n",
      "Statistics [OrderedStatistic(items_base=frozenset({'red/blush wine'}), items_add=frozenset({'rolls/buns'}), confidence=0.12738853503184713, lift=1.158028341240297)]\n",
      "Item [frozenset({'soda', 'red/blush wine'}), 0.0008688097306689834, [OrderedStatistic(items_base=frozenset({'red/blush wine'}), items_add=frozenset({'soda'}), confidence=0.08280254777070063, lift=0.8527009788664788)]]\n",
      "Confidence 0.0008688097306689834\n",
      "Statistics [OrderedStatistic(items_base=frozenset({'red/blush wine'}), items_add=frozenset({'soda'}), confidence=0.08280254777070063, lift=0.8527009788664788)]\n",
      "Item [frozenset({'tropical fruit', 'red/blush wine'}), 0.0006014836596939117, [OrderedStatistic(items_base=frozenset({'red/blush wine'}), items_add=frozenset({'tropical fruit'}), confidence=0.05732484076433121, lift=0.845908868201862)]]\n",
      "Confidence 0.0006014836596939117\n",
      "Statistics [OrderedStatistic(items_base=frozenset({'red/blush wine'}), items_add=frozenset({'tropical fruit'}), confidence=0.05732484076433121, lift=0.845908868201862)]\n",
      "Item [frozenset({'whole milk', 'red/blush wine'}), 0.0008688097306689834, [OrderedStatistic(items_base=frozenset({'red/blush wine'}), items_add=frozenset({'whole milk'}), confidence=0.08280254777070063, lift=0.5243226924642377)]]\n",
      "Confidence 0.0008688097306689834\n",
      "Statistics [OrderedStatistic(items_base=frozenset({'red/blush wine'}), items_add=frozenset({'whole milk'}), confidence=0.08280254777070063, lift=0.5243226924642377)]\n",
      "Item [frozenset({'yogurt', 'red/blush wine'}), 0.0006014836596939117, [OrderedStatistic(items_base=frozenset({'red/blush wine'}), items_add=frozenset({'yogurt'}), confidence=0.05732484076433121, lift=0.6675109668145431)]]\n",
      "Confidence 0.0006014836596939117\n",
      "Statistics [OrderedStatistic(items_base=frozenset({'red/blush wine'}), items_add=frozenset({'yogurt'}), confidence=0.05732484076433121, lift=0.6675109668145431)]\n",
      "Item [frozenset({'rolls/buns', 'rice'}), 0.0003341575887188398, [OrderedStatistic(items_base=frozenset({'rice'}), items_add=frozenset({'rolls/buns'}), confidence=0.10204081632653061, lift=0.9276043345649317)]]\n",
      "Confidence 0.0003341575887188398\n",
      "Statistics [OrderedStatistic(items_base=frozenset({'rice'}), items_add=frozenset({'rolls/buns'}), confidence=0.10204081632653061, lift=0.9276043345649317)]\n",
      "Item [frozenset({'whole milk', 'rice'}), 0.00040098910646260775, [OrderedStatistic(items_base=frozenset({'rice'}), items_add=frozenset({'whole milk'}), confidence=0.12244897959183672, lift=0.7753720193113216)]]\n",
      "Confidence 0.00040098910646260775\n",
      "Statistics [OrderedStatistic(items_base=frozenset({'rice'}), items_add=frozenset({'whole milk'}), confidence=0.12244897959183672, lift=0.7753720193113216)]\n",
      "Item [frozenset({'roll products ', 'rolls/buns'}), 0.0003341575887188398, [OrderedStatistic(items_base=frozenset({'roll products '}), items_add=frozenset({'rolls/buns'}), confidence=0.06097560975609757, lift=0.5543001511424592)]]\n",
      "Confidence 0.0003341575887188398\n",
      "Statistics [OrderedStatistic(items_base=frozenset({'roll products '}), items_add=frozenset({'rolls/buns'}), confidence=0.06097560975609757, lift=0.5543001511424592)]\n",
      "Item [frozenset({'roll products ', 'root vegetables'}), 0.0003341575887188398, [OrderedStatistic(items_base=frozenset({'roll products '}), items_add=frozenset({'root vegetables'}), confidence=0.06097560975609757, lift=0.8764438508938404)]]\n",
      "Confidence 0.0003341575887188398\n",
      "Statistics [OrderedStatistic(items_base=frozenset({'roll products '}), items_add=frozenset({'root vegetables'}), confidence=0.06097560975609757, lift=0.8764438508938404)]\n",
      "Item [frozenset({'roll products ', 'soda'}), 0.0006014836596939117, [OrderedStatistic(items_base=frozenset({'roll products '}), items_add=frozenset({'soda'}), confidence=0.10975609756097562, lift=1.1302687459083816)]]\n",
      "Confidence 0.0006014836596939117\n",
      "Statistics [OrderedStatistic(items_base=frozenset({'roll products '}), items_add=frozenset({'soda'}), confidence=0.10975609756097562, lift=1.1302687459083816)]\n",
      "Item [frozenset({'roll products ', 'whole milk'}), 0.0006683151774376796, [OrderedStatistic(items_base=frozenset({'roll products '}), items_add=frozenset({'whole milk'}), confidence=0.12195121951219513, lift=0.7722201005336334)]]\n",
      "Confidence 0.0006683151774376796\n",
      "Statistics [OrderedStatistic(items_base=frozenset({'roll products '}), items_add=frozenset({'whole milk'}), confidence=0.12195121951219513, lift=0.7722201005336334)]\n",
      "Item [frozenset({'rolls/buns', 'root vegetables'}), 0.005747510525964045, [OrderedStatistic(items_base=frozenset({'rolls/buns'}), items_add=frozenset({'root vegetables'}), confidence=0.05224787363304982, lift=0.7509941721146248), OrderedStatistic(items_base=frozenset({'root vegetables'}), items_add=frozenset({'rolls/buns'}), confidence=0.08261287223823247, lift=0.7509941721146248)]]\n",
      "Confidence 0.005747510525964045\n",
      "Statistics [OrderedStatistic(items_base=frozenset({'rolls/buns'}), items_add=frozenset({'root vegetables'}), confidence=0.05224787363304982, lift=0.7509941721146248), OrderedStatistic(items_base=frozenset({'root vegetables'}), items_add=frozenset({'rolls/buns'}), confidence=0.08261287223823247, lift=0.7509941721146248)]\n",
      "Item [frozenset({'salt', 'rolls/buns'}), 0.00046782062420637575, [OrderedStatistic(items_base=frozenset({'salt'}), items_add=frozenset({'rolls/buns'}), confidence=0.07865168539325844, lift=0.7149849140579138)]]\n",
      "Confidence 0.00046782062420637575\n",
      "Statistics [OrderedStatistic(items_base=frozenset({'salt'}), items_add=frozenset({'rolls/buns'}), confidence=0.07865168539325844, lift=0.7149849140579138)]\n",
      "Item [frozenset({'salty snack', 'rolls/buns'}), 0.0019381140145692708, [OrderedStatistic(items_base=frozenset({'salty snack'}), items_add=frozenset({'rolls/buns'}), confidence=0.10320284697508897, lift=0.938167800296632)]]\n",
      "Confidence 0.0019381140145692708\n",
      "Statistics [OrderedStatistic(items_base=frozenset({'salty snack'}), items_add=frozenset({'rolls/buns'}), confidence=0.10320284697508897, lift=0.938167800296632)]\n",
      "Item [frozenset({'sauces', 'rolls/buns'}), 0.00040098910646260775, [OrderedStatistic(items_base=frozenset({'sauces'}), items_add=frozenset({'rolls/buns'}), confidence=0.13636363636363635, lift=1.2396167016458632)]]\n",
      "Confidence 0.00040098910646260775\n",
      "Statistics [OrderedStatistic(items_base=frozenset({'sauces'}), items_add=frozenset({'rolls/buns'}), confidence=0.13636363636363635, lift=1.2396167016458632)]\n",
      "Item [frozenset({'sausage', 'rolls/buns'}), 0.005346521419501437, [OrderedStatistic(items_base=frozenset({'sausage'}), items_add=frozenset({'rolls/buns'}), confidence=0.08859357696566998, lift=0.8053619028780802)]]\n",
      "Confidence 0.005346521419501437\n",
      "Statistics [OrderedStatistic(items_base=frozenset({'sausage'}), items_add=frozenset({'rolls/buns'}), confidence=0.08859357696566998, lift=0.8053619028780802)]\n",
      "Item [frozenset({'seasonal products', 'rolls/buns'}), 0.0010024727661565194, [OrderedStatistic(items_base=frozenset({'seasonal products'}), items_add=frozenset({'rolls/buns'}), confidence=0.14150943396226415, lift=1.2863946903872165)]]\n",
      "Confidence 0.0010024727661565194\n",
      "Statistics [OrderedStatistic(items_base=frozenset({'seasonal products'}), items_add=frozenset({'rolls/buns'}), confidence=0.14150943396226415, lift=1.2863946903872165)]\n",
      "Item [frozenset({'rolls/buns', 'semi-finished bread'}), 0.0007351466951814476, [OrderedStatistic(items_base=frozenset({'semi-finished bread'}), items_add=frozenset({'rolls/buns'}), confidence=0.07746478873239436, lift=0.7041954032823917)]]\n",
      "Confidence 0.0007351466951814476\n",
      "Statistics [OrderedStatistic(items_base=frozenset({'semi-finished bread'}), items_add=frozenset({'rolls/buns'}), confidence=0.07746478873239436, lift=0.7041954032823917)]\n",
      "Item [frozenset({'rolls/buns', 'shopping bags'}), 0.004745037759807526, [OrderedStatistic(items_base=frozenset({'shopping bags'}), items_add=frozenset({'rolls/buns'}), confidence=0.09971910112359551, lift=0.9064987303234263)]]\n",
      "Confidence 0.004745037759807526\n",
      "Statistics [OrderedStatistic(items_base=frozenset({'shopping bags'}), items_add=frozenset({'rolls/buns'}), confidence=0.09971910112359551, lift=0.9064987303234263)]\n",
      "Item [frozenset({'sliced cheese', 'rolls/buns'}), 0.0009356412484127515, [OrderedStatistic(items_base=frozenset({'sliced cheese'}), items_add=frozenset({'rolls/buns'}), confidence=0.06666666666666667, lift=0.6060348319157554)]]\n",
      "Confidence 0.0009356412484127515\n",
      "Statistics [OrderedStatistic(items_base=frozenset({'sliced cheese'}), items_add=frozenset({'rolls/buns'}), confidence=0.06666666666666667, lift=0.6060348319157554)]\n",
      "Item [frozenset({'soda', 'rolls/buns'}), 0.008086613646995923, [OrderedStatistic(items_base=frozenset({'rolls/buns'}), items_add=frozenset({'soda'}), confidence=0.07351154313487242, lift=0.7570221747605617), OrderedStatistic(items_base=frozenset({'soda'}), items_add=frozenset({'rolls/buns'}), confidence=0.08327598072952512, lift=0.7570221747605617)]]\n",
      "Confidence 0.008086613646995923\n",
      "Statistics [OrderedStatistic(items_base=frozenset({'rolls/buns'}), items_add=frozenset({'soda'}), confidence=0.07351154313487242, lift=0.7570221747605617), OrderedStatistic(items_base=frozenset({'soda'}), items_add=frozenset({'rolls/buns'}), confidence=0.08327598072952512, lift=0.7570221747605617)]\n",
      "Item [frozenset({'rolls/buns', 'soft cheese'}), 0.0010024727661565194, [OrderedStatistic(items_base=frozenset({'soft cheese'}), items_add=frozenset({'rolls/buns'}), confidence=0.1, lift=0.9090522478736331)]]\n",
      "Confidence 0.0010024727661565194\n",
      "Statistics [OrderedStatistic(items_base=frozenset({'soft cheese'}), items_add=frozenset({'rolls/buns'}), confidence=0.1, lift=0.9090522478736331)]\n",
      "Item [frozenset({'rolls/buns', 'softener'}), 0.0003341575887188398, [OrderedStatistic(items_base=frozenset({'softener'}), items_add=frozenset({'rolls/buns'}), confidence=0.12195121951219513, lift=1.1086003022849185)]]\n",
      "Confidence 0.0003341575887188398\n",
      "Statistics [OrderedStatistic(items_base=frozenset({'softener'}), items_add=frozenset({'rolls/buns'}), confidence=0.12195121951219513, lift=1.1086003022849185)]\n",
      "Item [frozenset({'specialty bar', 'rolls/buns'}), 0.0012029673193878234, [OrderedStatistic(items_base=frozenset({'specialty bar'}), items_add=frozenset({'rolls/buns'}), confidence=0.0861244019138756, lift=0.7829158115658085)]]\n",
      "Confidence 0.0012029673193878234\n",
      "Statistics [OrderedStatistic(items_base=frozenset({'specialty bar'}), items_add=frozenset({'rolls/buns'}), confidence=0.0861244019138756, lift=0.7829158115658085)]\n",
      "Item [frozenset({'specialty chocolate', 'rolls/buns'}), 0.0012697988371315912, [OrderedStatistic(items_base=frozenset({'specialty chocolate'}), items_add=frozenset({'rolls/buns'}), confidence=0.0794979079497908, lift=0.7226775192300848)]]\n",
      "Confidence 0.0012697988371315912\n",
      "Statistics [OrderedStatistic(items_base=frozenset({'specialty chocolate'}), items_add=frozenset({'rolls/buns'}), confidence=0.0794979079497908, lift=0.7226775192300848)]\n",
      "Item [frozenset({'rolls/buns', 'spread cheese'}), 0.0005346521419501437, [OrderedStatistic(items_base=frozenset({'spread cheese'}), items_add=frozenset({'rolls/buns'}), confidence=0.08, lift=0.7272417982989064)]]\n",
      "Confidence 0.0005346521419501437\n",
      "Statistics [OrderedStatistic(items_base=frozenset({'spread cheese'}), items_add=frozenset({'rolls/buns'}), confidence=0.08, lift=0.7272417982989064)]\n",
      "Item [frozenset({'rolls/buns', 'tropical fruit'}), 0.006081668114682885, [OrderedStatistic(items_base=frozenset({'rolls/buns'}), items_add=frozenset({'tropical fruit'}), confidence=0.05528554070473877, lift=0.815816119886594), OrderedStatistic(items_base=frozenset({'tropical fruit'}), items_add=frozenset({'rolls/buns'}), confidence=0.08974358974358976, lift=0.815816119886594)]]\n",
      "Confidence 0.006081668114682885\n",
      "Statistics [OrderedStatistic(items_base=frozenset({'rolls/buns'}), items_add=frozenset({'tropical fruit'}), confidence=0.05528554070473877, lift=0.815816119886594), OrderedStatistic(items_base=frozenset({'tropical fruit'}), items_add=frozenset({'rolls/buns'}), confidence=0.08974358974358976, lift=0.815816119886594)]\n",
      "Item [frozenset({'turkey', 'rolls/buns'}), 0.0003341575887188398, [OrderedStatistic(items_base=frozenset({'turkey'}), items_add=frozenset({'rolls/buns'}), confidence=0.0625, lift=0.5681576549210207)]]\n",
      "Confidence 0.0003341575887188398\n",
      "Statistics [OrderedStatistic(items_base=frozenset({'turkey'}), items_add=frozenset({'rolls/buns'}), confidence=0.0625, lift=0.5681576549210207)]\n",
      "Item [frozenset({'rolls/buns', 'vinegar'}), 0.00046782062420637575, [OrderedStatistic(items_base=frozenset({'vinegar'}), items_add=frozenset({'rolls/buns'}), confidence=0.13725490196078433, lift=1.2477187715912612)]]\n",
      "Confidence 0.00046782062420637575\n",
      "Statistics [OrderedStatistic(items_base=frozenset({'vinegar'}), items_add=frozenset({'rolls/buns'}), confidence=0.13725490196078433, lift=1.2477187715912612)]\n",
      "Item [frozenset({'rolls/buns', 'waffles'}), 0.001603956425850431, [OrderedStatistic(items_base=frozenset({'waffles'}), items_add=frozenset({'rolls/buns'}), confidence=0.08664259927797834, lift=0.7876264963526063)]]\n",
      "Confidence 0.001603956425850431\n",
      "Statistics [OrderedStatistic(items_base=frozenset({'waffles'}), items_add=frozenset({'rolls/buns'}), confidence=0.08664259927797834, lift=0.7876264963526063)]\n",
      "Item [frozenset({'rolls/buns', 'whipped/sour cream'}), 0.0029405867807257902, [OrderedStatistic(items_base=frozenset({'whipped/sour cream'}), items_add=frozenset({'rolls/buns'}), confidence=0.0672782874617737, lift=0.6115947845021384)]]\n",
      "Confidence 0.0029405867807257902\n",
      "Statistics [OrderedStatistic(items_base=frozenset({'whipped/sour cream'}), items_add=frozenset({'rolls/buns'}), confidence=0.0672782874617737, lift=0.6115947845021384)]\n",
      "Item [frozenset({'rolls/buns', 'white bread'}), 0.002138608567800575, [OrderedStatistic(items_base=frozenset({'white bread'}), items_add=frozenset({'rolls/buns'}), confidence=0.08913649025069639, lift=0.8102972682996173)]]\n",
      "Confidence 0.002138608567800575\n",
      "Statistics [OrderedStatistic(items_base=frozenset({'white bread'}), items_add=frozenset({'rolls/buns'}), confidence=0.08913649025069639, lift=0.8102972682996173)]\n",
      "Item [frozenset({'rolls/buns', 'white wine'}), 0.0007351466951814476, [OrderedStatistic(items_base=frozenset({'white wine'}), items_add=frozenset({'rolls/buns'}), confidence=0.06285714285714286, lift=0.571404270091998)]]\n",
      "Confidence 0.0007351466951814476\n",
      "Statistics [OrderedStatistic(items_base=frozenset({'white wine'}), items_add=frozenset({'rolls/buns'}), confidence=0.06285714285714286, lift=0.571404270091998)]\n",
      "Item [frozenset({'rolls/buns', 'whole milk'}), 0.013967787208447505, [OrderedStatistic(items_base=frozenset({'rolls/buns'}), items_add=frozenset({'whole milk'}), confidence=0.12697448359659783, lift=0.8040284376030019), OrderedStatistic(items_base=frozenset({'whole milk'}), items_add=frozenset({'rolls/buns'}), confidence=0.0884468895471858, lift=0.8040284376030019)]]\n",
      "Confidence 0.013967787208447505\n",
      "Statistics [OrderedStatistic(items_base=frozenset({'rolls/buns'}), items_add=frozenset({'whole milk'}), confidence=0.12697448359659783, lift=0.8040284376030019), OrderedStatistic(items_base=frozenset({'whole milk'}), items_add=frozenset({'rolls/buns'}), confidence=0.0884468895471858, lift=0.8040284376030019)]\n",
      "Item [frozenset({'yogurt', 'rolls/buns'}), 0.007819287576020852, [OrderedStatistic(items_base=frozenset({'rolls/buns'}), items_add=frozenset({'yogurt'}), confidence=0.07108140947752127, lift=0.8276973774413625), OrderedStatistic(items_base=frozenset({'yogurt'}), items_add=frozenset({'rolls/buns'}), confidence=0.09105058365758756, lift=0.8276973774413625)]]\n",
      "Confidence 0.007819287576020852\n",
      "Statistics [OrderedStatistic(items_base=frozenset({'rolls/buns'}), items_add=frozenset({'yogurt'}), confidence=0.07108140947752127, lift=0.8276973774413625), OrderedStatistic(items_base=frozenset({'yogurt'}), items_add=frozenset({'rolls/buns'}), confidence=0.09105058365758756, lift=0.8276973774413625)]\n",
      "Item [frozenset({'salt', 'root vegetables'}), 0.0003341575887188398, [OrderedStatistic(items_base=frozenset({'salt'}), items_add=frozenset({'root vegetables'}), confidence=0.05617977528089888, lift=0.8075100648684821)]]\n",
      "Confidence 0.0003341575887188398\n",
      "Statistics [OrderedStatistic(items_base=frozenset({'salt'}), items_add=frozenset({'root vegetables'}), confidence=0.05617977528089888, lift=0.8075100648684821)]\n",
      "Item [frozenset({'salty snack', 'root vegetables'}), 0.0010693042839002875, [OrderedStatistic(items_base=frozenset({'salty snack'}), items_add=frozenset({'root vegetables'}), confidence=0.05693950177935944, lift=0.8184301298026467)]]\n",
      "Confidence 0.0010693042839002875\n",
      "Statistics [OrderedStatistic(items_base=frozenset({'salty snack'}), items_add=frozenset({'root vegetables'}), confidence=0.05693950177935944, lift=0.8184301298026467)]\n",
      "Item [frozenset({'sausage', 'root vegetables'}), 0.003341575887188398, [OrderedStatistic(items_base=frozenset({'sausage'}), items_add=frozenset({'root vegetables'}), confidence=0.05537098560354374, lift=0.7958847815425791)]]\n",
      "Confidence 0.003341575887188398\n",
      "Statistics [OrderedStatistic(items_base=frozenset({'sausage'}), items_add=frozenset({'root vegetables'}), confidence=0.05537098560354374, lift=0.7958847815425791)]\n",
      "Item [frozenset({'semi-finished bread', 'root vegetables'}), 0.0006683151774376796, [OrderedStatistic(items_base=frozenset({'semi-finished bread'}), items_add=frozenset({'root vegetables'}), confidence=0.0704225352112676, lift=1.0122309263844351)]]\n",
      "Confidence 0.0006683151774376796\n",
      "Statistics [OrderedStatistic(items_base=frozenset({'semi-finished bread'}), items_add=frozenset({'root vegetables'}), confidence=0.0704225352112676, lift=1.0122309263844351)]\n",
      "Item [frozenset({'shopping bags', 'root vegetables'}), 0.003341575887188398, [OrderedStatistic(items_base=frozenset({'shopping bags'}), items_add=frozenset({'root vegetables'}), confidence=0.0702247191011236, lift=1.0093875810856026)]]\n",
      "Confidence 0.003341575887188398\n",
      "Statistics [OrderedStatistic(items_base=frozenset({'shopping bags'}), items_add=frozenset({'root vegetables'}), confidence=0.0702247191011236, lift=1.0093875810856026)]\n",
      "Item [frozenset({'sliced cheese', 'root vegetables'}), 0.0012029673193878234, [OrderedStatistic(items_base=frozenset({'sliced cheese'}), items_add=frozenset({'root vegetables'}), confidence=0.08571428571428572, lift=1.2320296418279126)]]\n",
      "Confidence 0.0012029673193878234\n",
      "Statistics [OrderedStatistic(items_base=frozenset({'sliced cheese'}), items_add=frozenset({'root vegetables'}), confidence=0.08571428571428572, lift=1.2320296418279126)]\n",
      "Item [frozenset({'soda', 'root vegetables'}), 0.005279689901757669, [OrderedStatistic(items_base=frozenset({'root vegetables'}), items_add=frozenset({'soda'}), confidence=0.07588856868395773, lift=0.7815007936807017), OrderedStatistic(items_base=frozenset({'soda'}), items_add=frozenset({'root vegetables'}), confidence=0.05437026841018583, lift=0.7815007936807017)]]\n",
      "Confidence 0.005279689901757669\n",
      "Statistics [OrderedStatistic(items_base=frozenset({'root vegetables'}), items_add=frozenset({'soda'}), confidence=0.07588856868395773, lift=0.7815007936807017), OrderedStatistic(items_base=frozenset({'soda'}), items_add=frozenset({'root vegetables'}), confidence=0.05437026841018583, lift=0.7815007936807017)]\n",
      "Item [frozenset({'soft cheese', 'root vegetables'}), 0.0006014836596939117, [OrderedStatistic(items_base=frozenset({'soft cheese'}), items_add=frozenset({'root vegetables'}), confidence=0.060000000000000005, lift=0.8624207492795389)]]\n",
      "Confidence 0.0006014836596939117\n",
      "Statistics [OrderedStatistic(items_base=frozenset({'soft cheese'}), items_add=frozenset({'root vegetables'}), confidence=0.060000000000000005, lift=0.8624207492795389)]\n",
      "Item [frozenset({'soups', 'root vegetables'}), 0.0003341575887188398, [OrderedStatistic(items_base=frozenset({'soups'}), items_add=frozenset({'root vegetables'}), confidence=0.10416666666666667, lift=1.4972582452769772)]]\n",
      "Confidence 0.0003341575887188398\n",
      "Statistics [OrderedStatistic(items_base=frozenset({'soups'}), items_add=frozenset({'root vegetables'}), confidence=0.10416666666666667, lift=1.4972582452769772)]\n",
      "Item [frozenset({'specialty chocolate', 'root vegetables'}), 0.0009356412484127515, [OrderedStatistic(items_base=frozenset({'specialty chocolate'}), items_add=frozenset({'root vegetables'}), confidence=0.058577405857740586, lift=0.8419728375114047)]]\n",
      "Confidence 0.0009356412484127515\n",
      "Statistics [OrderedStatistic(items_base=frozenset({'specialty chocolate'}), items_add=frozenset({'root vegetables'}), confidence=0.058577405857740586, lift=0.8419728375114047)]\n",
      "Item [frozenset({'spread cheese', 'root vegetables'}), 0.0006014836596939117, [OrderedStatistic(items_base=frozenset({'spread cheese'}), items_add=frozenset({'root vegetables'}), confidence=0.09, lift=1.2936311239193081)]]\n",
      "Confidence 0.0006014836596939117\n",
      "Statistics [OrderedStatistic(items_base=frozenset({'spread cheese'}), items_add=frozenset({'root vegetables'}), confidence=0.09, lift=1.2936311239193081)]\n",
      "Item [frozenset({'sweet spreads', 'root vegetables'}), 0.00040098910646260775, [OrderedStatistic(items_base=frozenset({'sweet spreads'}), items_add=frozenset({'root vegetables'}), confidence=0.08823529411764705, lift=1.2682658077640276)]]\n",
      "Confidence 0.00040098910646260775\n",
      "Statistics [OrderedStatistic(items_base=frozenset({'sweet spreads'}), items_add=frozenset({'root vegetables'}), confidence=0.08823529411764705, lift=1.2682658077640276)]\n",
      "Item [frozenset({'tropical fruit', 'root vegetables'}), 0.0036757334759072377, [OrderedStatistic(items_base=frozenset({'root vegetables'}), items_add=frozenset({'tropical fruit'}), confidence=0.05283381364073006, lift=0.7796374294933373), OrderedStatistic(items_base=frozenset({'tropical fruit'}), items_add=frozenset({'root vegetables'}), confidence=0.054240631163708086, lift=0.7796374294933373)]]\n",
      "Confidence 0.0036757334759072377\n",
      "Statistics [OrderedStatistic(items_base=frozenset({'root vegetables'}), items_add=frozenset({'tropical fruit'}), confidence=0.05283381364073006, lift=0.7796374294933373), OrderedStatistic(items_base=frozenset({'tropical fruit'}), items_add=frozenset({'root vegetables'}), confidence=0.054240631163708086, lift=0.7796374294933373)]\n",
      "Item [frozenset({'turkey', 'root vegetables'}), 0.0006014836596939117, [OrderedStatistic(items_base=frozenset({'turkey'}), items_add=frozenset({'root vegetables'}), confidence=0.1125, lift=1.6170389048991354)]]\n",
      "Confidence 0.0006014836596939117\n",
      "Statistics [OrderedStatistic(items_base=frozenset({'turkey'}), items_add=frozenset({'root vegetables'}), confidence=0.1125, lift=1.6170389048991354)]\n",
      "Item [frozenset({'waffles', 'root vegetables'}), 0.0013366303548753592, [OrderedStatistic(items_base=frozenset({'waffles'}), items_add=frozenset({'root vegetables'}), confidence=0.07220216606498195, lift=1.0378107692894571)]]\n",
      "Confidence 0.0013366303548753592\n",
      "Statistics [OrderedStatistic(items_base=frozenset({'waffles'}), items_add=frozenset({'root vegetables'}), confidence=0.07220216606498195, lift=1.0378107692894571)]\n",
      "Item [frozenset({'whipped/sour cream', 'root vegetables'}), 0.0024727661565194146, [OrderedStatistic(items_base=frozenset({'whipped/sour cream'}), items_add=frozenset({'root vegetables'}), confidence=0.05657492354740061, lift=0.8131897992696977)]]\n",
      "Confidence 0.0024727661565194146\n",
      "Statistics [OrderedStatistic(items_base=frozenset({'whipped/sour cream'}), items_add=frozenset({'root vegetables'}), confidence=0.05657492354740061, lift=0.8131897992696977)]\n",
      "Item [frozenset({'white bread', 'root vegetables'}), 0.0012697988371315912, [OrderedStatistic(items_base=frozenset({'white bread'}), items_add=frozenset({'root vegetables'}), confidence=0.052924791086350974, lift=0.7607239664025645)]]\n",
      "Confidence 0.0012697988371315912\n",
      "Statistics [OrderedStatistic(items_base=frozenset({'white bread'}), items_add=frozenset({'root vegetables'}), confidence=0.052924791086350974, lift=0.7607239664025645)]\n",
      "Item [frozenset({'white wine', 'root vegetables'}), 0.0006683151774376796, [OrderedStatistic(items_base=frozenset({'white wine'}), items_add=frozenset({'root vegetables'}), confidence=0.05714285714285714, lift=0.8213530945519417)]]\n",
      "Confidence 0.0006683151774376796\n",
      "Statistics [OrderedStatistic(items_base=frozenset({'white wine'}), items_add=frozenset({'root vegetables'}), confidence=0.05714285714285714, lift=0.8213530945519417)]\n",
      "Item [frozenset({'whole milk', 'root vegetables'}), 0.00755196150504578, [OrderedStatistic(items_base=frozenset({'root vegetables'}), items_add=frozenset({'whole milk'}), confidence=0.10854947166186359, lift=0.6873574881406962)]]\n",
      "Confidence 0.00755196150504578\n",
      "Statistics [OrderedStatistic(items_base=frozenset({'root vegetables'}), items_add=frozenset({'whole milk'}), confidence=0.10854947166186359, lift=0.6873574881406962)]\n",
      "Item [frozenset({'yogurt', 'root vegetables'}), 0.00427721713560115, [OrderedStatistic(items_base=frozenset({'root vegetables'}), items_add=frozenset({'yogurt'}), confidence=0.06147934678194045, lift=0.715887522099747)]]\n",
      "Confidence 0.00427721713560115\n",
      "Statistics [OrderedStatistic(items_base=frozenset({'root vegetables'}), items_add=frozenset({'yogurt'}), confidence=0.06147934678194045, lift=0.715887522099747)]\n",
      "Item [frozenset({'sausage', 'rum'}), 0.0003341575887188398, [OrderedStatistic(items_base=frozenset({'rum'}), items_add=frozenset({'sausage'}), confidence=0.15625, lift=2.589112679955703)]]\n",
      "Confidence 0.0003341575887188398\n",
      "Statistics [OrderedStatistic(items_base=frozenset({'rum'}), items_add=frozenset({'sausage'}), confidence=0.15625, lift=2.589112679955703)]\n",
      "Item [frozenset({'sausage', 'salt'}), 0.00046782062420637575, [OrderedStatistic(items_base=frozenset({'salt'}), items_add=frozenset({'sausage'}), confidence=0.07865168539325844, lift=1.303283686090062)]]\n",
      "Confidence 0.00046782062420637575\n",
      "Statistics [OrderedStatistic(items_base=frozenset({'salt'}), items_add=frozenset({'sausage'}), confidence=0.07865168539325844, lift=1.303283686090062)]\n",
      "Item [frozenset({'salt', 'soda'}), 0.00046782062420637575, [OrderedStatistic(items_base=frozenset({'salt'}), items_add=frozenset({'soda'}), confidence=0.07865168539325844, lift=0.80995538096306)]]\n",
      "Confidence 0.00046782062420637575\n",
      "Statistics [OrderedStatistic(items_base=frozenset({'salt'}), items_add=frozenset({'soda'}), confidence=0.07865168539325844, lift=0.80995538096306)]\n",
      "Item [frozenset({'salt', 'tropical fruit'}), 0.0006014836596939117, [OrderedStatistic(items_base=frozenset({'salt'}), items_add=frozenset({'tropical fruit'}), confidence=0.10112359550561799, lift=1.4922212618841835)]]\n",
      "Confidence 0.0006014836596939117\n",
      "Statistics [OrderedStatistic(items_base=frozenset({'salt'}), items_add=frozenset({'tropical fruit'}), confidence=0.10112359550561799, lift=1.4922212618841835)]\n",
      "Item [frozenset({'salt', 'whole milk'}), 0.00046782062420637575, [OrderedStatistic(items_base=frozenset({'salt'}), items_add=frozenset({'whole milk'}), confidence=0.07865168539325844, lift=0.4980385816924783)]]\n",
      "Confidence 0.00046782062420637575\n",
      "Statistics [OrderedStatistic(items_base=frozenset({'salt'}), items_add=frozenset({'whole milk'}), confidence=0.07865168539325844, lift=0.4980385816924783)]\n",
      "Item [frozenset({'yogurt', 'salt'}), 0.00040098910646260775, [OrderedStatistic(items_base=frozenset({'salt'}), items_add=frozenset({'yogurt'}), confidence=0.06741573033707865, lift=0.7850128973024963)]]\n",
      "Confidence 0.00040098910646260775\n",
      "Statistics [OrderedStatistic(items_base=frozenset({'salt'}), items_add=frozenset({'yogurt'}), confidence=0.06741573033707865, lift=0.7850128973024963)]\n",
      "Item [frozenset({'salty snack', 'sausage'}), 0.0011361358016440553, [OrderedStatistic(items_base=frozenset({'salty snack'}), items_add=frozenset({'sausage'}), confidence=0.0604982206405694, lift=1.0024749451216388)]]\n",
      "Confidence 0.0011361358016440553\n",
      "Statistics [OrderedStatistic(items_base=frozenset({'salty snack'}), items_add=frozenset({'sausage'}), confidence=0.0604982206405694, lift=1.0024749451216388)]\n",
      "Item [frozenset({'salty snack', 'soda'}), 0.001403461872619127, [OrderedStatistic(items_base=frozenset({'salty snack'}), items_add=frozenset({'soda'}), confidence=0.07473309608540925, lift=0.7696017320894554)]]\n",
      "Confidence 0.001403461872619127\n",
      "Statistics [OrderedStatistic(items_base=frozenset({'salty snack'}), items_add=frozenset({'soda'}), confidence=0.07473309608540925, lift=0.7696017320894554)]\n",
      "Item [frozenset({'salty snack', 'tropical fruit'}), 0.0010024727661565194, [OrderedStatistic(items_base=frozenset({'salty snack'}), items_add=frozenset({'tropical fruit'}), confidence=0.053380782918149475, lift=0.7877087325485904)]]\n",
      "Confidence 0.0010024727661565194\n",
      "Statistics [OrderedStatistic(items_base=frozenset({'salty snack'}), items_add=frozenset({'tropical fruit'}), confidence=0.053380782918149475, lift=0.7877087325485904)]\n",
      "Item [frozenset({'salty snack', 'whole milk'}), 0.0019381140145692708, [OrderedStatistic(items_base=frozenset({'salty snack'}), items_add=frozenset({'whole milk'}), confidence=0.10320284697508897, lift=0.6535015655049752)]]\n",
      "Confidence 0.0019381140145692708\n",
      "Statistics [OrderedStatistic(items_base=frozenset({'salty snack'}), items_add=frozenset({'whole milk'}), confidence=0.10320284697508897, lift=0.6535015655049752)]\n",
      "Item [frozenset({'salty snack', 'yogurt'}), 0.0015371249081066632, [OrderedStatistic(items_base=frozenset({'salty snack'}), items_add=frozenset({'yogurt'}), confidence=0.0818505338078292, lift=0.953096916238559)]]\n",
      "Confidence 0.0015371249081066632\n",
      "Statistics [OrderedStatistic(items_base=frozenset({'salty snack'}), items_add=frozenset({'yogurt'}), confidence=0.0818505338078292, lift=0.953096916238559)]\n",
      "Item [frozenset({'sauces', 'whole milk'}), 0.00040098910646260775, [OrderedStatistic(items_base=frozenset({'sauces'}), items_add=frozenset({'whole milk'}), confidence=0.13636363636363635, lift=0.8634824760512446)]]\n",
      "Confidence 0.00040098910646260775\n",
      "Statistics [OrderedStatistic(items_base=frozenset({'sauces'}), items_add=frozenset({'whole milk'}), confidence=0.13636363636363635, lift=0.8634824760512446)]\n",
      "Item [frozenset({'sausage', 'semi-finished bread'}), 0.0006014836596939117, [OrderedStatistic(items_base=frozenset({'semi-finished bread'}), items_add=frozenset({'sausage'}), confidence=0.06338028169014084, lift=1.0502316222918908)]]\n",
      "Confidence 0.0006014836596939117\n",
      "Statistics [OrderedStatistic(items_base=frozenset({'semi-finished bread'}), items_add=frozenset({'sausage'}), confidence=0.06338028169014084, lift=1.0502316222918908)]\n",
      "Item [frozenset({'sausage', 'sliced cheese'}), 0.0011361358016440553, [OrderedStatistic(items_base=frozenset({'sliced cheese'}), items_add=frozenset({'sausage'}), confidence=0.08095238095238094, lift=1.3414069503770498)]]\n",
      "Confidence 0.0011361358016440553\n",
      "Statistics [OrderedStatistic(items_base=frozenset({'sliced cheese'}), items_add=frozenset({'sausage'}), confidence=0.08095238095238094, lift=1.3414069503770498)]\n",
      "Item [frozenset({'sausage', 'soda'}), 0.005948005079195348, [OrderedStatistic(items_base=frozenset({'sausage'}), items_add=frozenset({'soda'}), confidence=0.09856035437430785, lift=1.0149749363405152), OrderedStatistic(items_base=frozenset({'soda'}), items_add=frozenset({'sausage'}), confidence=0.06125258086717137, lift=1.0149749363405152)]]\n",
      "Confidence 0.005948005079195348\n",
      "Statistics [OrderedStatistic(items_base=frozenset({'sausage'}), items_add=frozenset({'soda'}), confidence=0.09856035437430785, lift=1.0149749363405152), OrderedStatistic(items_base=frozenset({'soda'}), items_add=frozenset({'sausage'}), confidence=0.06125258086717137, lift=1.0149749363405152)]\n",
      "Item [frozenset({'sausage', 'spices'}), 0.0003341575887188398, [OrderedStatistic(items_base=frozenset({'spices'}), items_add=frozenset({'sausage'}), confidence=0.125, lift=2.0712901439645623)]]\n",
      "Confidence 0.0003341575887188398\n",
      "Statistics [OrderedStatistic(items_base=frozenset({'spices'}), items_add=frozenset({'sausage'}), confidence=0.125, lift=2.0712901439645623)]\n",
      "Item [frozenset({'sausage', 'spread cheese'}), 0.0005346521419501437, [OrderedStatistic(items_base=frozenset({'spread cheese'}), items_add=frozenset({'sausage'}), confidence=0.08, lift=1.32562569213732)]]\n",
      "Confidence 0.0005346521419501437\n",
      "Statistics [OrderedStatistic(items_base=frozenset({'spread cheese'}), items_add=frozenset({'sausage'}), confidence=0.08, lift=1.32562569213732)]\n",
      "Item [frozenset({'sausage', 'tropical fruit'}), 0.0030742498162133263, [OrderedStatistic(items_base=frozenset({'sausage'}), items_add=frozenset({'tropical fruit'}), confidence=0.05094130675526024, lift=0.7517108214782634)]]\n",
      "Confidence 0.0030742498162133263\n",
      "Statistics [OrderedStatistic(items_base=frozenset({'sausage'}), items_add=frozenset({'tropical fruit'}), confidence=0.05094130675526024, lift=0.7517108214782634)]\n",
      "Item [frozenset({'sausage', 'white bread'}), 0.001403461872619127, [OrderedStatistic(items_base=frozenset({'white bread'}), items_add=frozenset({'sausage'}), confidence=0.0584958217270195, lift=0.9692945520502688)]]\n",
      "Confidence 0.001403461872619127\n",
      "Statistics [OrderedStatistic(items_base=frozenset({'white bread'}), items_add=frozenset({'sausage'}), confidence=0.0584958217270195, lift=0.9692945520502688)]\n",
      "Item [frozenset({'sausage', 'white wine'}), 0.0008019782129252155, [OrderedStatistic(items_base=frozenset({'white wine'}), items_add=frozenset({'sausage'}), confidence=0.06857142857142857, lift=1.13625059326056)]]\n",
      "Confidence 0.0008019782129252155\n",
      "Statistics [OrderedStatistic(items_base=frozenset({'white wine'}), items_add=frozenset({'sausage'}), confidence=0.06857142857142857, lift=1.13625059326056)]\n",
      "Item [frozenset({'sausage', 'whole milk'}), 0.008955423377664907, [OrderedStatistic(items_base=frozenset({'sausage'}), items_add=frozenset({'whole milk'}), confidence=0.14839424141749724, lift=0.9396627314134623), OrderedStatistic(items_base=frozenset({'whole milk'}), items_add=frozenset({'sausage'}), confidence=0.056707575116377494, lift=0.9396627314134622)]]\n",
      "Confidence 0.008955423377664907\n",
      "Statistics [OrderedStatistic(items_base=frozenset({'sausage'}), items_add=frozenset({'whole milk'}), confidence=0.14839424141749724, lift=0.9396627314134623), OrderedStatistic(items_base=frozenset({'whole milk'}), items_add=frozenset({'sausage'}), confidence=0.056707575116377494, lift=0.9396627314134622)]\n",
      "Item [frozenset({'yogurt', 'sausage'}), 0.005747510525964045, [OrderedStatistic(items_base=frozenset({'sausage'}), items_add=frozenset({'yogurt'}), confidence=0.09523809523809523, lift=1.1089864739670185), OrderedStatistic(items_base=frozenset({'yogurt'}), items_add=frozenset({'sausage'}), confidence=0.0669260700389105, lift=1.1089864739670185)]]\n",
      "Confidence 0.005747510525964045\n",
      "Statistics [OrderedStatistic(items_base=frozenset({'sausage'}), items_add=frozenset({'yogurt'}), confidence=0.09523809523809523, lift=1.1089864739670185), OrderedStatistic(items_base=frozenset({'yogurt'}), items_add=frozenset({'sausage'}), confidence=0.0669260700389105, lift=1.1089864739670185)]\n",
      "Item [frozenset({'sausage', 'zwieback'}), 0.0003341575887188398, [OrderedStatistic(items_base=frozenset({'zwieback'}), items_add=frozenset({'sausage'}), confidence=0.08333333333333333, lift=1.3808600959763748)]]\n",
      "Confidence 0.0003341575887188398\n",
      "Statistics [OrderedStatistic(items_base=frozenset({'zwieback'}), items_add=frozenset({'sausage'}), confidence=0.08333333333333333, lift=1.3808600959763748)]\n",
      "Item [frozenset({'seasonal products', 'soda'}), 0.0006683151774376796, [OrderedStatistic(items_base=frozenset({'seasonal products'}), items_add=frozenset({'soda'}), confidence=0.09433962264150943, lift=0.9715098235271202)]]\n",
      "Confidence 0.0006683151774376796\n",
      "Statistics [OrderedStatistic(items_base=frozenset({'seasonal products'}), items_add=frozenset({'soda'}), confidence=0.09433962264150943, lift=0.9715098235271202)]\n",
      "Item [frozenset({'soups', 'seasonal products'}), 0.0003341575887188398, [OrderedStatistic(items_base=frozenset({'soups'}), items_add=frozenset({'seasonal products'}), confidence=0.10416666666666667, lift=14.704205974842768)]]\n",
      "Confidence 0.0003341575887188398\n",
      "Statistics [OrderedStatistic(items_base=frozenset({'soups'}), items_add=frozenset({'seasonal products'}), confidence=0.10416666666666667, lift=14.704205974842768)]\n"
     ]
    },
    {
     "name": "stdout",
     "output_type": "stream",
     "text": [
      "Item [frozenset({'seasonal products', 'whole milk'}), 0.0006683151774376796, [OrderedStatistic(items_base=frozenset({'seasonal products'}), items_add=frozenset({'whole milk'}), confidence=0.09433962264150943, lift=0.5973778136203579)]]\n",
      "Confidence 0.0006683151774376796\n",
      "Statistics [OrderedStatistic(items_base=frozenset({'seasonal products'}), items_add=frozenset({'whole milk'}), confidence=0.09433962264150943, lift=0.5973778136203579)]\n",
      "Item [frozenset({'yogurt', 'seasonal products'}), 0.0005346521419501437, [OrderedStatistic(items_base=frozenset({'seasonal products'}), items_add=frozenset({'yogurt'}), confidence=0.07547169811320756, lift=0.8788194699361281)]]\n",
      "Confidence 0.0005346521419501437\n",
      "Statistics [OrderedStatistic(items_base=frozenset({'seasonal products'}), items_add=frozenset({'yogurt'}), confidence=0.07547169811320756, lift=0.8788194699361281)]\n",
      "Item [frozenset({'soda', 'semi-finished bread'}), 0.0008688097306689834, [OrderedStatistic(items_base=frozenset({'semi-finished bread'}), items_add=frozenset({'soda'}), confidence=0.09154929577464788, lift=0.9427750259298392)]]\n",
      "Confidence 0.0008688097306689834\n",
      "Statistics [OrderedStatistic(items_base=frozenset({'semi-finished bread'}), items_add=frozenset({'soda'}), confidence=0.09154929577464788, lift=0.9427750259298392)]\n",
      "Item [frozenset({'tropical fruit', 'semi-finished bread'}), 0.0007351466951814476, [OrderedStatistic(items_base=frozenset({'semi-finished bread'}), items_add=frozenset({'tropical fruit'}), confidence=0.07746478873239436, lift=1.143102202961358)]]\n",
      "Confidence 0.0007351466951814476\n",
      "Statistics [OrderedStatistic(items_base=frozenset({'semi-finished bread'}), items_add=frozenset({'tropical fruit'}), confidence=0.07746478873239436, lift=1.143102202961358)]\n",
      "Item [frozenset({'whole milk', 'semi-finished bread'}), 0.001670787943594199, [OrderedStatistic(items_base=frozenset({'semi-finished bread'}), items_add=frozenset({'whole milk'}), confidence=0.176056338028169, lift=1.1148247930239072)]]\n",
      "Confidence 0.001670787943594199\n",
      "Statistics [OrderedStatistic(items_base=frozenset({'semi-finished bread'}), items_add=frozenset({'whole milk'}), confidence=0.176056338028169, lift=1.1148247930239072)]\n",
      "Item [frozenset({'yogurt', 'semi-finished bread'}), 0.0008688097306689834, [OrderedStatistic(items_base=frozenset({'semi-finished bread'}), items_add=frozenset({'yogurt'}), confidence=0.09154929577464788, lift=1.0660327725105496)]]\n",
      "Confidence 0.0008688097306689834\n",
      "Statistics [OrderedStatistic(items_base=frozenset({'semi-finished bread'}), items_add=frozenset({'yogurt'}), confidence=0.09154929577464788, lift=1.0660327725105496)]\n",
      "Item [frozenset({'sliced cheese', 'shopping bags'}), 0.0007351466951814476, [OrderedStatistic(items_base=frozenset({'sliced cheese'}), items_add=frozenset({'shopping bags'}), confidence=0.052380952380952375, lift=1.1008092562867844)]]\n",
      "Confidence 0.0007351466951814476\n",
      "Statistics [OrderedStatistic(items_base=frozenset({'sliced cheese'}), items_add=frozenset({'shopping bags'}), confidence=0.052380952380952375, lift=1.1008092562867844)]\n",
      "Item [frozenset({'soda', 'shopping bags'}), 0.004410880171088686, [OrderedStatistic(items_base=frozenset({'shopping bags'}), items_add=frozenset({'soda'}), confidence=0.09269662921348315, lift=0.9545902704207492)]]\n",
      "Confidence 0.004410880171088686\n",
      "Statistics [OrderedStatistic(items_base=frozenset({'shopping bags'}), items_add=frozenset({'soda'}), confidence=0.09269662921348315, lift=0.9545902704207492)]\n",
      "Item [frozenset({'shopping bags', 'soft cheese'}), 0.0006014836596939117, [OrderedStatistic(items_base=frozenset({'soft cheese'}), items_add=frozenset({'shopping bags'}), confidence=0.060000000000000005, lift=1.260926966292135)]]\n",
      "Confidence 0.0006014836596939117\n",
      "Statistics [OrderedStatistic(items_base=frozenset({'soft cheese'}), items_add=frozenset({'shopping bags'}), confidence=0.060000000000000005, lift=1.260926966292135)]\n",
      "Item [frozenset({'shopping bags', 'spread cheese'}), 0.00040098910646260775, [OrderedStatistic(items_base=frozenset({'spread cheese'}), items_add=frozenset({'shopping bags'}), confidence=0.06, lift=1.2609269662921347)]]\n",
      "Confidence 0.00040098910646260775\n",
      "Statistics [OrderedStatistic(items_base=frozenset({'spread cheese'}), items_add=frozenset({'shopping bags'}), confidence=0.06, lift=1.2609269662921347)]\n",
      "Item [frozenset({'shopping bags', 'tropical fruit'}), 0.0027400922274944863, [OrderedStatistic(items_base=frozenset({'shopping bags'}), items_add=frozenset({'tropical fruit'}), confidence=0.05758426966292135, lift=0.8497371074618266)]]\n",
      "Confidence 0.0027400922274944863\n",
      "Statistics [OrderedStatistic(items_base=frozenset({'shopping bags'}), items_add=frozenset({'tropical fruit'}), confidence=0.05758426966292135, lift=0.8497371074618266)]\n",
      "Item [frozenset({'turkey', 'shopping bags'}), 0.00040098910646260775, [OrderedStatistic(items_base=frozenset({'turkey'}), items_add=frozenset({'shopping bags'}), confidence=0.075, lift=1.5761587078651684)]]\n",
      "Confidence 0.00040098910646260775\n",
      "Statistics [OrderedStatistic(items_base=frozenset({'turkey'}), items_add=frozenset({'shopping bags'}), confidence=0.075, lift=1.5761587078651684)]\n",
      "Item [frozenset({'shopping bags', 'waffles'}), 0.0009356412484127515, [OrderedStatistic(items_base=frozenset({'waffles'}), items_add=frozenset({'shopping bags'}), confidence=0.05054151624548737, lift=1.0621526791871172)]]\n",
      "Confidence 0.0009356412484127515\n",
      "Statistics [OrderedStatistic(items_base=frozenset({'waffles'}), items_add=frozenset({'shopping bags'}), confidence=0.05054151624548737, lift=1.0621526791871172)]\n",
      "Item [frozenset({'shopping bags', 'white wine'}), 0.0006683151774376796, [OrderedStatistic(items_base=frozenset({'white wine'}), items_add=frozenset({'shopping bags'}), confidence=0.05714285714285714, lift=1.2008828250401284)]]\n",
      "Confidence 0.0006683151774376796\n",
      "Statistics [OrderedStatistic(items_base=frozenset({'white wine'}), items_add=frozenset({'shopping bags'}), confidence=0.05714285714285714, lift=1.2008828250401284)]\n",
      "Item [frozenset({'whole milk', 'shopping bags'}), 0.006348994185657956, [OrderedStatistic(items_base=frozenset({'shopping bags'}), items_add=frozenset({'whole milk'}), confidence=0.13342696629213482, lift=0.8448868796568826)]]\n",
      "Confidence 0.006348994185657956\n",
      "Statistics [OrderedStatistic(items_base=frozenset({'shopping bags'}), items_add=frozenset({'whole milk'}), confidence=0.13342696629213482, lift=0.8448868796568826)]\n",
      "Item [frozenset({'yogurt', 'shopping bags'}), 0.003542070440419702, [OrderedStatistic(items_base=frozenset({'shopping bags'}), items_add=frozenset({'yogurt'}), confidence=0.07443820224719101, lift=0.8667850741048397)]]\n",
      "Confidence 0.003542070440419702\n",
      "Statistics [OrderedStatistic(items_base=frozenset({'shopping bags'}), items_add=frozenset({'yogurt'}), confidence=0.07443820224719101, lift=0.8667850741048397)]\n",
      "Item [frozenset({'sliced cheese', 'soda'}), 0.0011361358016440553, [OrderedStatistic(items_base=frozenset({'sliced cheese'}), items_add=frozenset({'soda'}), confidence=0.08095238095238094, lift=0.8336479533313669)]]\n",
      "Confidence 0.0011361358016440553\n",
      "Statistics [OrderedStatistic(items_base=frozenset({'sliced cheese'}), items_add=frozenset({'soda'}), confidence=0.08095238095238094, lift=0.8336479533313669)]\n",
      "Item [frozenset({'sliced cheese', 'whole milk'}), 0.0014702933903628951, [OrderedStatistic(items_base=frozenset({'sliced cheese'}), items_add=frozenset({'whole milk'}), confidence=0.10476190476190475, lift=0.6633738387441307)]]\n",
      "Confidence 0.0014702933903628951\n",
      "Statistics [OrderedStatistic(items_base=frozenset({'sliced cheese'}), items_add=frozenset({'whole milk'}), confidence=0.10476190476190475, lift=0.6633738387441307)]\n",
      "Item [frozenset({'yogurt', 'sliced cheese'}), 0.0009356412484127515, [OrderedStatistic(items_base=frozenset({'sliced cheese'}), items_add=frozenset({'yogurt'}), confidence=0.06666666666666667, lift=0.7762905317769131)]]\n",
      "Confidence 0.0009356412484127515\n",
      "Statistics [OrderedStatistic(items_base=frozenset({'sliced cheese'}), items_add=frozenset({'yogurt'}), confidence=0.06666666666666667, lift=0.7762905317769131)]\n",
      "Item [frozenset({'soda', 'snack products'}), 0.0003341575887188398, [OrderedStatistic(items_base=frozenset({'snack products'}), items_add=frozenset({'soda'}), confidence=0.1851851851851852, lift=1.9070378017384215)]]\n",
      "Confidence 0.0003341575887188398\n",
      "Statistics [OrderedStatistic(items_base=frozenset({'snack products'}), items_add=frozenset({'soda'}), confidence=0.1851851851851852, lift=1.9070378017384215)]\n",
      "Item [frozenset({'soda', 'soft cheese'}), 0.0008019782129252155, [OrderedStatistic(items_base=frozenset({'soft cheese'}), items_add=frozenset({'soda'}), confidence=0.08, lift=0.823840330350998)]]\n",
      "Confidence 0.0008019782129252155\n",
      "Statistics [OrderedStatistic(items_base=frozenset({'soft cheese'}), items_add=frozenset({'soda'}), confidence=0.08, lift=0.823840330350998)]\n",
      "Item [frozenset({'soda', 'softener'}), 0.00040098910646260775, [OrderedStatistic(items_base=frozenset({'softener'}), items_add=frozenset({'soda'}), confidence=0.14634146341463414, lift=1.5070249945445084)]]\n",
      "Confidence 0.00040098910646260775\n",
      "Statistics [OrderedStatistic(items_base=frozenset({'softener'}), items_add=frozenset({'soda'}), confidence=0.14634146341463414, lift=1.5070249945445084)]\n",
      "Item [frozenset({'specialty bar', 'soda'}), 0.0012697988371315912, [OrderedStatistic(items_base=frozenset({'specialty bar'}), items_add=frozenset({'soda'}), confidence=0.0909090909090909, lift=0.9361821935806794)]]\n",
      "Confidence 0.0012697988371315912\n",
      "Statistics [OrderedStatistic(items_base=frozenset({'specialty bar'}), items_add=frozenset({'soda'}), confidence=0.0909090909090909, lift=0.9361821935806794)]\n",
      "Item [frozenset({'specialty chocolate', 'soda'}), 0.001403461872619127, [OrderedStatistic(items_base=frozenset({'specialty chocolate'}), items_add=frozenset({'soda'}), confidence=0.08786610878661087, lift=0.9048455511177279)]]\n",
      "Confidence 0.001403461872619127\n",
      "Statistics [OrderedStatistic(items_base=frozenset({'specialty chocolate'}), items_add=frozenset({'soda'}), confidence=0.08786610878661087, lift=0.9048455511177279)]\n",
      "Item [frozenset({'soda', 'spices'}), 0.0006014836596939117, [OrderedStatistic(items_base=frozenset({'spices'}), items_add=frozenset({'soda'}), confidence=0.225, lift=2.317050929112182)]]\n",
      "Confidence 0.0006014836596939117\n",
      "Statistics [OrderedStatistic(items_base=frozenset({'spices'}), items_add=frozenset({'soda'}), confidence=0.225, lift=2.317050929112182)]\n",
      "Item [frozenset({'soda', 'spread cheese'}), 0.0006014836596939117, [OrderedStatistic(items_base=frozenset({'spread cheese'}), items_add=frozenset({'soda'}), confidence=0.09, lift=0.9268203716448727)]]\n",
      "Confidence 0.0006014836596939117\n",
      "Statistics [OrderedStatistic(items_base=frozenset({'spread cheese'}), items_add=frozenset({'soda'}), confidence=0.09, lift=0.9268203716448727)]\n",
      "Item [frozenset({'soda', 'sugar'}), 0.0012029673193878234, [OrderedStatistic(items_base=frozenset({'sugar'}), items_add=frozenset({'soda'}), confidence=0.06792452830188679, lift=0.6994870729395266)]]\n",
      "Confidence 0.0012029673193878234\n",
      "Statistics [OrderedStatistic(items_base=frozenset({'sugar'}), items_add=frozenset({'soda'}), confidence=0.06792452830188679, lift=0.6994870729395266)]\n",
      "Item [frozenset({'soda', 'sweet spreads'}), 0.00040098910646260775, [OrderedStatistic(items_base=frozenset({'sweet spreads'}), items_add=frozenset({'soda'}), confidence=0.08823529411764705, lift=0.9086474231812477)]]\n",
      "Confidence 0.00040098910646260775\n",
      "Statistics [OrderedStatistic(items_base=frozenset({'sweet spreads'}), items_add=frozenset({'soda'}), confidence=0.08823529411764705, lift=0.9086474231812477)]\n",
      "Item [frozenset({'soda', 'tropical fruit'}), 0.005413352937245205, [OrderedStatistic(items_base=frozenset({'soda'}), items_add=frozenset({'tropical fruit'}), confidence=0.055746730901582935, lift=0.822621631637461), OrderedStatistic(items_base=frozenset({'tropical fruit'}), items_add=frozenset({'soda'}), confidence=0.07988165680473373, lift=0.822621631637461)]]\n",
      "Confidence 0.005413352937245205\n",
      "Statistics [OrderedStatistic(items_base=frozenset({'soda'}), items_add=frozenset({'tropical fruit'}), confidence=0.055746730901582935, lift=0.822621631637461), OrderedStatistic(items_base=frozenset({'tropical fruit'}), items_add=frozenset({'soda'}), confidence=0.07988165680473373, lift=0.822621631637461)]\n",
      "Item [frozenset({'soda', 'turkey'}), 0.0005346521419501437, [OrderedStatistic(items_base=frozenset({'turkey'}), items_add=frozenset({'soda'}), confidence=0.1, lift=1.0298004129387475)]]\n",
      "Confidence 0.0005346521419501437\n",
      "Statistics [OrderedStatistic(items_base=frozenset({'turkey'}), items_add=frozenset({'soda'}), confidence=0.1, lift=1.0298004129387475)]\n",
      "Item [frozenset({'soda', 'vinegar'}), 0.00040098910646260775, [OrderedStatistic(items_base=frozenset({'vinegar'}), items_add=frozenset({'soda'}), confidence=0.11764705882352941, lift=1.211529897574997)]]\n",
      "Confidence 0.00040098910646260775\n",
      "Statistics [OrderedStatistic(items_base=frozenset({'vinegar'}), items_add=frozenset({'soda'}), confidence=0.11764705882352941, lift=1.211529897574997)]\n",
      "Item [frozenset({'soda', 'waffles'}), 0.0009356412484127515, [OrderedStatistic(items_base=frozenset({'waffles'}), items_add=frozenset({'soda'}), confidence=0.05054151624548737, lift=0.520476743001533)]]\n",
      "Confidence 0.0009356412484127515\n",
      "Statistics [OrderedStatistic(items_base=frozenset({'waffles'}), items_add=frozenset({'soda'}), confidence=0.05054151624548737, lift=0.520476743001533)]\n",
      "Item [frozenset({'soda', 'whipped/sour cream'}), 0.003408407404932166, [OrderedStatistic(items_base=frozenset({'whipped/sour cream'}), items_add=frozenset({'soda'}), confidence=0.0779816513761468, lift=0.8030553678880141)]]\n",
      "Confidence 0.003408407404932166\n",
      "Statistics [OrderedStatistic(items_base=frozenset({'whipped/sour cream'}), items_add=frozenset({'soda'}), confidence=0.0779816513761468, lift=0.8030553678880141)]\n",
      "Item [frozenset({'soda', 'white bread'}), 0.0015371249081066632, [OrderedStatistic(items_base=frozenset({'white bread'}), items_add=frozenset({'soda'}), confidence=0.06406685236768803, lift=0.659760710239309)]]\n",
      "Confidence 0.0015371249081066632\n",
      "Statistics [OrderedStatistic(items_base=frozenset({'white bread'}), items_add=frozenset({'soda'}), confidence=0.06406685236768803, lift=0.659760710239309)]\n",
      "Item [frozenset({'soda', 'white wine'}), 0.0009356412484127515, [OrderedStatistic(items_base=frozenset({'white wine'}), items_add=frozenset({'soda'}), confidence=0.08, lift=0.823840330350998)]]\n",
      "Confidence 0.0009356412484127515\n",
      "Statistics [OrderedStatistic(items_base=frozenset({'white wine'}), items_add=frozenset({'soda'}), confidence=0.08, lift=0.823840330350998)]\n",
      "Item [frozenset({'soda', 'whole milk'}), 0.011628684087415625, [OrderedStatistic(items_base=frozenset({'soda'}), items_add=frozenset({'whole milk'}), confidence=0.11975223675154853, lift=0.7582956912879478), OrderedStatistic(items_base=frozenset({'whole milk'}), items_add=frozenset({'soda'}), confidence=0.07363520947947524, lift=0.7582956912879478)]]\n",
      "Confidence 0.011628684087415625\n",
      "Statistics [OrderedStatistic(items_base=frozenset({'soda'}), items_add=frozenset({'whole milk'}), confidence=0.11975223675154853, lift=0.7582956912879478), OrderedStatistic(items_base=frozenset({'whole milk'}), items_add=frozenset({'soda'}), confidence=0.07363520947947524, lift=0.7582956912879478)]\n",
      "Item [frozenset({'yogurt', 'soda'}), 0.005814342043707813, [OrderedStatistic(items_base=frozenset({'soda'}), items_add=frozenset({'yogurt'}), confidence=0.059876118375774265, lift=0.697218956620008), OrderedStatistic(items_base=frozenset({'yogurt'}), items_add=frozenset({'soda'}), confidence=0.06770428015564202, lift=0.697218956620008)]]\n",
      "Confidence 0.005814342043707813\n",
      "Statistics [OrderedStatistic(items_base=frozenset({'soda'}), items_add=frozenset({'yogurt'}), confidence=0.059876118375774265, lift=0.697218956620008), OrderedStatistic(items_base=frozenset({'yogurt'}), items_add=frozenset({'soda'}), confidence=0.06770428015564202, lift=0.697218956620008)]\n",
      "Item [frozenset({'soda', 'zwieback'}), 0.0003341575887188398, [OrderedStatistic(items_base=frozenset({'zwieback'}), items_add=frozenset({'soda'}), confidence=0.08333333333333333, lift=0.8581670107822895)]]\n",
      "Confidence 0.0003341575887188398\n",
      "Statistics [OrderedStatistic(items_base=frozenset({'zwieback'}), items_add=frozenset({'soda'}), confidence=0.08333333333333333, lift=0.8581670107822895)]\n",
      "Item [frozenset({'tropical fruit', 'soft cheese'}), 0.0005346521419501437, [OrderedStatistic(items_base=frozenset({'soft cheese'}), items_add=frozenset({'tropical fruit'}), confidence=0.05333333333333334, lift=0.7870085470085472)]]\n",
      "Confidence 0.0005346521419501437\n",
      "Statistics [OrderedStatistic(items_base=frozenset({'soft cheese'}), items_add=frozenset({'tropical fruit'}), confidence=0.05333333333333334, lift=0.7870085470085472)]\n",
      "Item [frozenset({'whole milk', 'soft cheese'}), 0.0012029673193878234, [OrderedStatistic(items_base=frozenset({'soft cheese'}), items_add=frozenset({'whole milk'}), confidence=0.12000000000000001, lift=0.7598645789250953)]]\n",
      "Confidence 0.0012029673193878234\n",
      "Statistics [OrderedStatistic(items_base=frozenset({'soft cheese'}), items_add=frozenset({'whole milk'}), confidence=0.12000000000000001, lift=0.7598645789250953)]\n",
      "Item [frozenset({'yogurt', 'soft cheese'}), 0.0012697988371315912, [OrderedStatistic(items_base=frozenset({'soft cheese'}), items_add=frozenset({'yogurt'}), confidence=0.12666666666666665, lift=1.4749520103761347)]]\n",
      "Confidence 0.0012697988371315912\n",
      "Statistics [OrderedStatistic(items_base=frozenset({'soft cheese'}), items_add=frozenset({'yogurt'}), confidence=0.12666666666666665, lift=1.4749520103761347)]\n",
      "Item [frozenset({'whole milk', 'softener'}), 0.0008019782129252155, [OrderedStatistic(items_base=frozenset({'softener'}), items_add=frozenset({'whole milk'}), confidence=0.2926829268292683, lift=1.8533282412807202)]]\n",
      "Confidence 0.0008019782129252155\n",
      "Statistics [OrderedStatistic(items_base=frozenset({'softener'}), items_add=frozenset({'whole milk'}), confidence=0.2926829268292683, lift=1.8533282412807202)]\n",
      "Item [frozenset({'soups', 'whole milk'}), 0.00046782062420637575, [OrderedStatistic(items_base=frozenset({'soups'}), items_add=frozenset({'whole milk'}), confidence=0.14583333333333334, lift=0.9234465368881367)]]\n",
      "Confidence 0.00046782062420637575\n",
      "Statistics [OrderedStatistic(items_base=frozenset({'soups'}), items_add=frozenset({'whole milk'}), confidence=0.14583333333333334, lift=0.9234465368881367)]\n",
      "Item [frozenset({'specialty bar', 'tropical fruit'}), 0.0008688097306689834, [OrderedStatistic(items_base=frozenset({'specialty bar'}), items_add=frozenset({'tropical fruit'}), confidence=0.062200956937799035, lift=0.9178628389154705)]]\n",
      "Confidence 0.0008688097306689834\n",
      "Statistics [OrderedStatistic(items_base=frozenset({'specialty bar'}), items_add=frozenset({'tropical fruit'}), confidence=0.062200956937799035, lift=0.9178628389154705)]\n",
      "Item [frozenset({'specialty bar', 'whole milk'}), 0.001670787943594199, [OrderedStatistic(items_base=frozenset({'specialty bar'}), items_add=frozenset({'whole milk'}), confidence=0.11961722488038277, lift=0.757440768466004)]]\n",
      "Confidence 0.001670787943594199\n",
      "Statistics [OrderedStatistic(items_base=frozenset({'specialty bar'}), items_add=frozenset({'whole milk'}), confidence=0.11961722488038277, lift=0.757440768466004)]\n",
      "Item [frozenset({'specialty bar', 'yogurt'}), 0.0012029673193878234, [OrderedStatistic(items_base=frozenset({'specialty bar'}), items_add=frozenset({'yogurt'}), confidence=0.0861244019138756, lift=1.0028633664103663)]]\n",
      "Confidence 0.0012029673193878234\n",
      "Statistics [OrderedStatistic(items_base=frozenset({'specialty bar'}), items_add=frozenset({'yogurt'}), confidence=0.0861244019138756, lift=1.0028633664103663)]\n",
      "Item [frozenset({'specialty cheese', 'whole milk'}), 0.0005346521419501437, [OrderedStatistic(items_base=frozenset({'specialty cheese'}), items_add=frozenset({'whole milk'}), confidence=0.11111111111111112, lift=0.7035783138195327)]]\n",
      "Confidence 0.0005346521419501437\n",
      "Statistics [OrderedStatistic(items_base=frozenset({'specialty cheese'}), items_add=frozenset({'whole milk'}), confidence=0.11111111111111112, lift=0.7035783138195327)]\n",
      "Item [frozenset({'specialty chocolate', 'tropical fruit'}), 0.0013366303548753592, [OrderedStatistic(items_base=frozenset({'specialty chocolate'}), items_add=frozenset({'tropical fruit'}), confidence=0.08368200836820083, lift=1.2348460465615279)]]\n",
      "Confidence 0.0013366303548753592\n",
      "Statistics [OrderedStatistic(items_base=frozenset({'specialty chocolate'}), items_add=frozenset({'tropical fruit'}), confidence=0.08368200836820083, lift=1.2348460465615279)]\n",
      "Item [frozenset({'specialty chocolate', 'whole milk'}), 0.0013366303548753592, [OrderedStatistic(items_base=frozenset({'specialty chocolate'}), items_add=frozenset({'whole milk'}), confidence=0.08368200836820083, lift=0.5298916171025769)]]\n",
      "Confidence 0.0013366303548753592\n",
      "Statistics [OrderedStatistic(items_base=frozenset({'specialty chocolate'}), items_add=frozenset({'whole milk'}), confidence=0.08368200836820083, lift=0.5298916171025769)]\n",
      "Item [frozenset({'yogurt', 'specialty chocolate'}), 0.0009356412484127515, [OrderedStatistic(items_base=frozenset({'specialty chocolate'}), items_add=frozenset({'yogurt'}), confidence=0.058577405857740586, lift=0.6820962831512626)]]\n",
      "Confidence 0.0009356412484127515\n",
      "Statistics [OrderedStatistic(items_base=frozenset({'specialty chocolate'}), items_add=frozenset({'yogurt'}), confidence=0.058577405857740586, lift=0.6820962831512626)]\n",
      "Item [frozenset({'yogurt', 'spices'}), 0.0003341575887188398, [OrderedStatistic(items_base=frozenset({'spices'}), items_add=frozenset({'yogurt'}), confidence=0.125, lift=1.455544747081712)]]\n",
      "Confidence 0.0003341575887188398\n",
      "Statistics [OrderedStatistic(items_base=frozenset({'spices'}), items_add=frozenset({'yogurt'}), confidence=0.125, lift=1.455544747081712)]\n",
      "Item [frozenset({'spread cheese', 'sugar'}), 0.00040098910646260775, [OrderedStatistic(items_base=frozenset({'spread cheese'}), items_add=frozenset({'sugar'}), confidence=0.06, lift=3.3878490566037733)]]\n",
      "Confidence 0.00040098910646260775\n",
      "Statistics [OrderedStatistic(items_base=frozenset({'spread cheese'}), items_add=frozenset({'sugar'}), confidence=0.06, lift=3.3878490566037733)]\n",
      "Item [frozenset({'tropical fruit', 'spread cheese'}), 0.00040098910646260775, [OrderedStatistic(items_base=frozenset({'spread cheese'}), items_add=frozenset({'tropical fruit'}), confidence=0.06, lift=0.8853846153846154)]]\n",
      "Confidence 0.00040098910646260775\n",
      "Statistics [OrderedStatistic(items_base=frozenset({'spread cheese'}), items_add=frozenset({'tropical fruit'}), confidence=0.06, lift=0.8853846153846154)]\n",
      "Item [frozenset({'whole milk', 'spread cheese'}), 0.0009356412484127515, [OrderedStatistic(items_base=frozenset({'spread cheese'}), items_add=frozenset({'whole milk'}), confidence=0.14, lift=0.8865086754126112)]]\n",
      "Confidence 0.0009356412484127515\n",
      "Statistics [OrderedStatistic(items_base=frozenset({'spread cheese'}), items_add=frozenset({'whole milk'}), confidence=0.14, lift=0.8865086754126112)]\n",
      "Item [frozenset({'yogurt', 'spread cheese'}), 0.00046782062420637575, [OrderedStatistic(items_base=frozenset({'spread cheese'}), items_add=frozenset({'yogurt'}), confidence=0.07, lift=0.8151050583657589)]]\n",
      "Confidence 0.00046782062420637575\n",
      "Statistics [OrderedStatistic(items_base=frozenset({'spread cheese'}), items_add=frozenset({'yogurt'}), confidence=0.07, lift=0.8151050583657589)]\n",
      "Item [frozenset({'tropical fruit', 'sugar'}), 0.0010024727661565194, [OrderedStatistic(items_base=frozenset({'sugar'}), items_add=frozenset({'tropical fruit'}), confidence=0.05660377358490566, lift=0.835268505079826)]]\n",
      "Confidence 0.0010024727661565194\n",
      "Statistics [OrderedStatistic(items_base=frozenset({'sugar'}), items_add=frozenset({'tropical fruit'}), confidence=0.05660377358490566, lift=0.835268505079826)]\n",
      "Item [frozenset({'whole milk', 'sugar'}), 0.0024727661565194146, [OrderedStatistic(items_base=frozenset({'sugar'}), items_add=frozenset({'whole milk'}), confidence=0.13962264150943396, lift=0.8841191641581297)]]\n",
      "Confidence 0.0024727661565194146\n",
      "Statistics [OrderedStatistic(items_base=frozenset({'sugar'}), items_add=frozenset({'whole milk'}), confidence=0.13962264150943396, lift=0.8841191641581297)]\n",
      "Item [frozenset({'tropical fruit', 'sweet spreads'}), 0.0007351466951814476, [OrderedStatistic(items_base=frozenset({'sweet spreads'}), items_add=frozenset({'tropical fruit'}), confidence=0.16176470588235295, lift=2.387066365007542)]]\n",
      "Confidence 0.0007351466951814476\n",
      "Statistics [OrderedStatistic(items_base=frozenset({'sweet spreads'}), items_add=frozenset({'tropical fruit'}), confidence=0.16176470588235295, lift=2.387066365007542)]\n",
      "Item [frozenset({'whole milk', 'sweet spreads'}), 0.0006683151774376796, [OrderedStatistic(items_base=frozenset({'sweet spreads'}), items_add=frozenset({'whole milk'}), confidence=0.14705882352941177, lift=0.9312065918199698)]]\n",
      "Confidence 0.0006683151774376796\n",
      "Statistics [OrderedStatistic(items_base=frozenset({'sweet spreads'}), items_add=frozenset({'whole milk'}), confidence=0.14705882352941177, lift=0.9312065918199698)]\n",
      "Item [frozenset({'yogurt', 'sweet spreads'}), 0.0003341575887188398, [OrderedStatistic(items_base=frozenset({'sweet spreads'}), items_add=frozenset({'yogurt'}), confidence=0.07352941176470588, lift=0.8562027924010072)]]\n",
      "Confidence 0.0003341575887188398\n",
      "Statistics [OrderedStatistic(items_base=frozenset({'sweet spreads'}), items_add=frozenset({'yogurt'}), confidence=0.07352941176470588, lift=0.8562027924010072)]\n",
      "Item [frozenset({'whole milk', 'syrup'}), 0.00040098910646260775, [OrderedStatistic(items_base=frozenset({'syrup'}), items_add=frozenset({'whole milk'}), confidence=0.2857142857142857, lift=1.8092013783930838)]]\n",
      "Confidence 0.00040098910646260775\n",
      "Statistics [OrderedStatistic(items_base=frozenset({'syrup'}), items_add=frozenset({'whole milk'}), confidence=0.2857142857142857, lift=1.8092013783930838)]\n",
      "Item [frozenset({'waffles', 'tropical fruit'}), 0.0011361358016440553, [OrderedStatistic(items_base=frozenset({'waffles'}), items_add=frozenset({'tropical fruit'}), confidence=0.06137184115523466, lift=0.905628066277886)]]\n",
      "Confidence 0.0011361358016440553\n",
      "Statistics [OrderedStatistic(items_base=frozenset({'waffles'}), items_add=frozenset({'tropical fruit'}), confidence=0.06137184115523466, lift=0.905628066277886)]\n",
      "Item [frozenset({'whipped/sour cream', 'tropical fruit'}), 0.0024727661565194146, [OrderedStatistic(items_base=frozenset({'whipped/sour cream'}), items_add=frozenset({'tropical fruit'}), confidence=0.05657492354740061, lift=0.8348427820904886)]]\n",
      "Confidence 0.0024727661565194146\n",
      "Statistics [OrderedStatistic(items_base=frozenset({'whipped/sour cream'}), items_add=frozenset({'tropical fruit'}), confidence=0.05657492354740061, lift=0.8348427820904886)]\n",
      "Item [frozenset({'tropical fruit', 'white wine'}), 0.0006014836596939117, [OrderedStatistic(items_base=frozenset({'white wine'}), items_add=frozenset({'tropical fruit'}), confidence=0.051428571428571435, lift=0.758901098901099)]]\n",
      "Confidence 0.0006014836596939117\n",
      "Statistics [OrderedStatistic(items_base=frozenset({'white wine'}), items_add=frozenset({'tropical fruit'}), confidence=0.051428571428571435, lift=0.758901098901099)]\n",
      "Item [frozenset({'whole milk', 'tropical fruit'}), 0.008220276682483459, [OrderedStatistic(items_base=frozenset({'tropical fruit'}), items_add=frozenset({'whole milk'}), confidence=0.121301775147929, lift=0.7681076857970638), OrderedStatistic(items_base=frozenset({'whole milk'}), items_add=frozenset({'tropical fruit'}), confidence=0.052052475666525606, lift=0.7681076857970638)]]\n",
      "Confidence 0.008220276682483459\n",
      "Statistics [OrderedStatistic(items_base=frozenset({'tropical fruit'}), items_add=frozenset({'whole milk'}), confidence=0.121301775147929, lift=0.7681076857970638), OrderedStatistic(items_base=frozenset({'whole milk'}), items_add=frozenset({'tropical fruit'}), confidence=0.052052475666525606, lift=0.7681076857970638)]\n",
      "Item [frozenset({'yogurt', 'tropical fruit'}), 0.005212858384013901, [OrderedStatistic(items_base=frozenset({'tropical fruit'}), items_add=frozenset({'yogurt'}), confidence=0.07692307692307694, lift=0.8957198443579768), OrderedStatistic(items_base=frozenset({'yogurt'}), items_add=frozenset({'tropical fruit'}), confidence=0.06070038910505837, lift=0.8957198443579768)]]\n",
      "Confidence 0.005212858384013901\n",
      "Statistics [OrderedStatistic(items_base=frozenset({'tropical fruit'}), items_add=frozenset({'yogurt'}), confidence=0.07692307692307694, lift=0.8957198443579768), OrderedStatistic(items_base=frozenset({'yogurt'}), items_add=frozenset({'tropical fruit'}), confidence=0.06070038910505837, lift=0.8957198443579768)]\n",
      "Item [frozenset({'turkey', 'whole milk'}), 0.0007351466951814476, [OrderedStatistic(items_base=frozenset({'turkey'}), items_add=frozenset({'whole milk'}), confidence=0.13749999999999998, lift=0.8706781633516716)]]\n",
      "Confidence 0.0007351466951814476\n",
      "Statistics [OrderedStatistic(items_base=frozenset({'turkey'}), items_add=frozenset({'whole milk'}), confidence=0.13749999999999998, lift=0.8706781633516716)]\n",
      "Item [frozenset({'whole milk', 'vinegar'}), 0.0005346521419501437, [OrderedStatistic(items_base=frozenset({'vinegar'}), items_add=frozenset({'whole milk'}), confidence=0.15686274509803924, lift=0.9932870312746345)]]\n",
      "Confidence 0.0005346521419501437\n",
      "Statistics [OrderedStatistic(items_base=frozenset({'vinegar'}), items_add=frozenset({'whole milk'}), confidence=0.15686274509803924, lift=0.9932870312746345)]\n",
      "Item [frozenset({'whole milk', 'waffles'}), 0.0026064291920069507, [OrderedStatistic(items_base=frozenset({'waffles'}), items_add=frozenset({'whole milk'}), confidence=0.14079422382671483, lift=0.891537863359769)]]\n",
      "Confidence 0.0026064291920069507\n",
      "Statistics [OrderedStatistic(items_base=frozenset({'waffles'}), items_add=frozenset({'whole milk'}), confidence=0.14079422382671483, lift=0.891537863359769)]\n",
      "Item [frozenset({'yogurt', 'waffles'}), 0.0011361358016440553, [OrderedStatistic(items_base=frozenset({'waffles'}), items_add=frozenset({'yogurt'}), confidence=0.06137184115523466, lift=0.7146356880978804)]]\n",
      "Confidence 0.0011361358016440553\n",
      "Statistics [OrderedStatistic(items_base=frozenset({'waffles'}), items_add=frozenset({'yogurt'}), confidence=0.06137184115523466, lift=0.7146356880978804)]\n",
      "Item [frozenset({'whole milk', 'whipped/sour cream'}), 0.004611374724319989, [OrderedStatistic(items_base=frozenset({'whipped/sour cream'}), items_add=frozenset({'whole milk'}), confidence=0.1055045871559633, lift=0.6680766557827672)]]\n",
      "Confidence 0.004611374724319989\n",
      "Statistics [OrderedStatistic(items_base=frozenset({'whipped/sour cream'}), items_add=frozenset({'whole milk'}), confidence=0.1055045871559633, lift=0.6680766557827672)]\n",
      "Item [frozenset({'yogurt', 'whipped/sour cream'}), 0.0029405867807257902, [OrderedStatistic(items_base=frozenset({'whipped/sour cream'}), items_add=frozenset({'yogurt'}), confidence=0.0672782874617737, lift=0.7834124632611049)]]\n",
      "Confidence 0.0029405867807257902\n",
      "Statistics [OrderedStatistic(items_base=frozenset({'whipped/sour cream'}), items_add=frozenset({'yogurt'}), confidence=0.0672782874617737, lift=0.7834124632611049)]\n",
      "Item [frozenset({'whole milk', 'white bread'}), 0.003141081333957094, [OrderedStatistic(items_base=frozenset({'white bread'}), items_add=frozenset({'whole milk'}), confidence=0.1309192200557103, lift=0.829007316840285)]]\n",
      "Confidence 0.003141081333957094\n",
      "Statistics [OrderedStatistic(items_base=frozenset({'white bread'}), items_add=frozenset({'whole milk'}), confidence=0.1309192200557103, lift=0.829007316840285)]\n",
      "Item [frozenset({'whole milk', 'white wine'}), 0.0012697988371315912, [OrderedStatistic(items_base=frozenset({'white wine'}), items_add=frozenset({'whole milk'}), confidence=0.10857142857142857, lift=0.6874965237893719)]]\n",
      "Confidence 0.0012697988371315912\n",
      "Statistics [OrderedStatistic(items_base=frozenset({'white wine'}), items_add=frozenset({'whole milk'}), confidence=0.10857142857142857, lift=0.6874965237893719)]\n",
      "Item [frozenset({'yogurt', 'whole milk'}), 0.011160863463209249, [OrderedStatistic(items_base=frozenset({'whole milk'}), items_add=frozenset({'yogurt'}), confidence=0.07067287346593314, lift=0.8229402378760758), OrderedStatistic(items_base=frozenset({'yogurt'}), items_add=frozenset({'whole milk'}), confidence=0.1299610894941634, lift=0.8229402378760758)]]\n",
      "Confidence 0.011160863463209249\n",
      "Statistics [OrderedStatistic(items_base=frozenset({'whole milk'}), items_add=frozenset({'yogurt'}), confidence=0.07067287346593314, lift=0.8229402378760758), OrderedStatistic(items_base=frozenset({'yogurt'}), items_add=frozenset({'whole milk'}), confidence=0.1299610894941634, lift=0.8229402378760758)]\n",
      "Item [frozenset({'whole milk', 'zwieback'}), 0.00046782062420637575, [OrderedStatistic(items_base=frozenset({'zwieback'}), items_add=frozenset({'whole milk'}), confidence=0.11666666666666667, lift=0.7387572295105093)]]\n",
      "Confidence 0.00046782062420637575\n",
      "Statistics [OrderedStatistic(items_base=frozenset({'zwieback'}), items_add=frozenset({'whole milk'}), confidence=0.11666666666666667, lift=0.7387572295105093)]\n"
     ]
    }
   ],
   "source": [
    "for item in association_result:\n",
    "    items = list(item)\n",
    "    print('Item', items)\n",
    "    \n",
    "    confidence = list(item)\n",
    "    print('Confidence', item[1])\n",
    "    \n",
    "    stats = list(item)\n",
    "    print('Statistics', item[2])\n",
    "    \n",
    "\n",
    "    d = {\n",
    "        'Items' : items,\n",
    "        'Confidence' : confidence,\n",
    "        'Statistics' : stats\n",
    "    }\n",
    "\n",
    "    df = pd.DataFrame(d)\n",
    "\n",
    "    df.head()\n",
    "    "
   ]
  },
  {
   "cell_type": "code",
   "execution_count": null,
   "id": "1ee1ea34",
   "metadata": {},
   "outputs": [],
   "source": []
  },
  {
   "cell_type": "code",
   "execution_count": null,
   "id": "b63e4053",
   "metadata": {},
   "outputs": [],
   "source": []
  }
 ],
 "metadata": {
  "kernelspec": {
   "display_name": "Python 3 (ipykernel)",
   "language": "python",
   "name": "python3"
  },
  "language_info": {
   "codemirror_mode": {
    "name": "ipython",
    "version": 3
   },
   "file_extension": ".py",
   "mimetype": "text/x-python",
   "name": "python",
   "nbconvert_exporter": "python",
   "pygments_lexer": "ipython3",
   "version": "3.9.13"
  }
 },
 "nbformat": 4,
 "nbformat_minor": 5
}
